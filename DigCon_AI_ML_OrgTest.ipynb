{
 "cells": [
  {
   "cell_type": "code",
   "execution_count": 1,
   "id": "54897330-11bc-402a-a4dc-6ecba774999a",
   "metadata": {},
   "outputs": [
    {
     "name": "stdout",
     "output_type": "stream",
     "text": [
      "Done!\n"
     ]
    }
   ],
   "source": [
    "# Terms: [\"artificial intelligence\", \"AI\", \"machine learning\"]\n",
    "\n",
    "project = \"AI_ML\"\n",
    "\n",
    "import pandas\n",
    "\n",
    "from web_observatory import start_project\n",
    "start_project(project)"
   ]
  },
  {
   "cell_type": "code",
   "execution_count": 2,
   "id": "13e4e849-5b36-47a3-b950-737f6966d56e",
   "metadata": {},
   "outputs": [
    {
     "name": "stdout",
     "output_type": "stream",
     "text": [
      "{'query': 'conservation \"machine learning\" has:links', 'tweet.fields': 'created_at,entities,public_metrics', 'max_results': 100, 'start_time': '2006-03-21T00:00:00.00Z', 'end_time': '2022-01-01T00:00:00.00Z'}\n",
      "Done!\n",
      "{'query': 'conservation (\"artificial intellligence\" OR AI) has:links', 'tweet.fields': 'created_at,entities,public_metrics', 'max_results': 100, 'start_time': '2006-03-21T00:00:00.00Z', 'end_time': '2022-01-01T00:00:00.00Z'}\n",
      "Done!\n"
     ]
    }
   ],
   "source": [
    "# Get tweets about AI/ML in nature conservation (Historical focus)\n",
    "from web_observatory import search_twitter\n",
    "ml_nc_twitter = search_twitter(q = 'conservation \"machine learning\" has:links', project=project)\n",
    "ai_nc_twitter = search_twitter(q = 'conservation (\"artificial intellligence\" OR AI) has:links', project=project)"
   ]
  },
  {
   "cell_type": "code",
   "execution_count": 2,
   "id": "ef98ca88-4658-4447-92a0-73615dc105db",
   "metadata": {},
   "outputs": [
    {
     "name": "stdout",
     "output_type": "stream",
     "text": [
      "Done\n",
      "Done\n",
      "Done\n"
     ]
    }
   ],
   "source": [
    "# Get Google results about AI/ML in nature conservation (Relevance)\n",
    "from web_observatory import search_google\n",
    "ml_nc_google = search_google(q = '\"machine learning\" conservation', project = project)\n",
    "ai_full_nc_google = search_google(q = '\"artificial intelligence\" conservation', project = project)\n",
    "ai_nc_google = search_google(q = 'ai nature conservation', project = project)"
   ]
  },
  {
   "cell_type": "code",
   "execution_count": 2,
   "id": "5bdeec06-82c8-4c9d-958e-c15df0e58984",
   "metadata": {},
   "outputs": [],
   "source": [
    "# Compile results\n",
    "from web_observatory import twitter_process \n",
    "twitter = twitter_process(project=project)\n",
    "from web_observatory import google_process\n",
    "google = google_process(datatype = \"CSV\", project=project)"
   ]
  },
  {
   "cell_type": "code",
   "execution_count": 3,
   "id": "f0ef2456-3f1f-436c-8f74-91f40e64ad6c",
   "metadata": {},
   "outputs": [],
   "source": [
    "# Extract organizations from Twitter/Google results\n",
    "from web_observatory import get_domains\n",
    "twitter = get_domains(twitter)\n",
    "google = get_domains(google)\n",
    "#twitter.groupby(by=\"domain\").count().sort_values(by=\"link\", ascending=False).head(20)\n",
    "#google.groupby(by=\"domain\").count().sort_values(by=\"link\", ascending=False).head(20)"
   ]
  },
  {
   "cell_type": "code",
   "execution_count": 5,
   "id": "712a37b9-c821-42fc-a9db-64a7a1ce9c9e",
   "metadata": {},
   "outputs": [],
   "source": [
    "# Crawl organizational pages\n",
    "## Set up\n",
    "orgs = [\"https://natureconservancy.ca/\", \"https://wwf.ca/\", \"https://davidsuzuki.org/\", \"https://ecotrust.ca/\", \"https://www.grandriver.ca/en/index.aspx\", \"https://raresites.org/\"]\n",
    "org_domains = [\"natureconservancy.ca\", \"wwf.ca\", \"davidsuzuki.org\", \"ecotrust.ca\", \"grandriver.ca\", \"raresites.org\"]\n",
    "from web_observatory import initialize_crawl\n",
    "initialize_crawl(sites = orgs, domains = org_domains, project = project)"
   ]
  },
  {
   "cell_type": "code",
   "execution_count": 8,
   "id": "d7aea814-3fbd-4f33-95fe-154c134e761a",
   "metadata": {},
   "outputs": [],
   "source": [
    "## Crawl\n",
    "#%cd digcon_crawler/digcon_crawler\n",
    "!scrapy crawl digcon_crawler -O crawl_eco_gr.json --nolog # can use subprocess to make this pure python"
   ]
  },
  {
   "cell_type": "code",
   "execution_count": 2,
   "id": "d2410dd4-4be2-49be-afbd-ffd303620906",
   "metadata": {},
   "outputs": [
    {
     "data": {
      "text/html": [
       "<div>\n",
       "<style scoped>\n",
       "    .dataframe tbody tr th:only-of-type {\n",
       "        vertical-align: middle;\n",
       "    }\n",
       "\n",
       "    .dataframe tbody tr th {\n",
       "        vertical-align: top;\n",
       "    }\n",
       "\n",
       "    .dataframe thead th {\n",
       "        text-align: right;\n",
       "    }\n",
       "</style>\n",
       "<table border=\"1\" class=\"dataframe\">\n",
       "  <thead>\n",
       "    <tr style=\"text-align: right;\">\n",
       "      <th></th>\n",
       "      <th>link</th>\n",
       "      <th>source</th>\n",
       "    </tr>\n",
       "    <tr>\n",
       "      <th>query</th>\n",
       "      <th></th>\n",
       "      <th></th>\n",
       "    </tr>\n",
       "  </thead>\n",
       "  <tbody>\n",
       "    <tr>\n",
       "      <th>conservationgateway</th>\n",
       "      <td>2</td>\n",
       "      <td>2</td>\n",
       "    </tr>\n",
       "    <tr>\n",
       "      <th>davidsuzuki</th>\n",
       "      <td>6461</td>\n",
       "      <td>6461</td>\n",
       "    </tr>\n",
       "    <tr>\n",
       "      <th>e2rm</th>\n",
       "      <td>2</td>\n",
       "      <td>2</td>\n",
       "    </tr>\n",
       "    <tr>\n",
       "      <th>ecapelin</th>\n",
       "      <td>1</td>\n",
       "      <td>1</td>\n",
       "    </tr>\n",
       "    <tr>\n",
       "      <th>ecotrust</th>\n",
       "      <td>488</td>\n",
       "      <td>488</td>\n",
       "    </tr>\n",
       "    <tr>\n",
       "      <th>facebook</th>\n",
       "      <td>1</td>\n",
       "      <td>1</td>\n",
       "    </tr>\n",
       "    <tr>\n",
       "      <th>giftsofnature</th>\n",
       "      <td>1</td>\n",
       "      <td>1</td>\n",
       "    </tr>\n",
       "    <tr>\n",
       "      <th>grandriver</th>\n",
       "      <td>637</td>\n",
       "      <td>637</td>\n",
       "    </tr>\n",
       "    <tr>\n",
       "      <th>natureconservancy</th>\n",
       "      <td>10483</td>\n",
       "      <td>10483</td>\n",
       "    </tr>\n",
       "    <tr>\n",
       "      <th>oceanwealth</th>\n",
       "      <td>1</td>\n",
       "      <td>1</td>\n",
       "    </tr>\n",
       "    <tr>\n",
       "      <th>panda</th>\n",
       "      <td>1</td>\n",
       "      <td>1</td>\n",
       "    </tr>\n",
       "    <tr>\n",
       "      <th>raresites</th>\n",
       "      <td>570</td>\n",
       "      <td>570</td>\n",
       "    </tr>\n",
       "    <tr>\n",
       "      <th>wwf</th>\n",
       "      <td>40410</td>\n",
       "      <td>40410</td>\n",
       "    </tr>\n",
       "  </tbody>\n",
       "</table>\n",
       "</div>"
      ],
      "text/plain": [
       "                      link  source\n",
       "query                             \n",
       "conservationgateway      2       2\n",
       "davidsuzuki           6461    6461\n",
       "e2rm                     2       2\n",
       "ecapelin                 1       1\n",
       "ecotrust               488     488\n",
       "facebook                 1       1\n",
       "giftsofnature            1       1\n",
       "grandriver             637     637\n",
       "natureconservancy    10483   10483\n",
       "oceanwealth              1       1\n",
       "panda                    1       1\n",
       "raresites              570     570\n",
       "wwf                  40410   40410"
      ]
     },
     "execution_count": 2,
     "metadata": {},
     "output_type": "execute_result"
    }
   ],
   "source": [
    "## View crawl results\n",
    "from web_observatory import crawl_process\n",
    "crawl = crawl_process(\"digcon_crawler/digcon_crawler/crawl.json\")\n",
    "crawl.groupby(by=\"query\").count()"
   ]
  },
  {
   "cell_type": "code",
   "execution_count": 5,
   "id": "2a31952a-9dae-46d4-b0bd-8e255bcb2367",
   "metadata": {},
   "outputs": [
    {
     "data": {
      "text/html": [
       "<div>\n",
       "<style scoped>\n",
       "    .dataframe tbody tr th:only-of-type {\n",
       "        vertical-align: middle;\n",
       "    }\n",
       "\n",
       "    .dataframe tbody tr th {\n",
       "        vertical-align: top;\n",
       "    }\n",
       "\n",
       "    .dataframe thead th {\n",
       "        text-align: right;\n",
       "    }\n",
       "</style>\n",
       "<table border=\"1\" class=\"dataframe\">\n",
       "  <thead>\n",
       "    <tr style=\"text-align: right;\">\n",
       "      <th></th>\n",
       "      <th>Unnamed: 0</th>\n",
       "      <th>date</th>\n",
       "      <th>link</th>\n",
       "      <th>metrics</th>\n",
       "      <th>source</th>\n",
       "      <th>query</th>\n",
       "    </tr>\n",
       "  </thead>\n",
       "  <tbody>\n",
       "    <tr>\n",
       "      <th>0</th>\n",
       "      <td>0.0</td>\n",
       "      <td>2011-06-21T19:23:45.000Z</td>\n",
       "      <td>http://lowf.net/x/Ai</td>\n",
       "      <td>0.0</td>\n",
       "      <td>Twitter</td>\n",
       "      <td>conservation (\"artificial intellligence\" OR AI...</td>\n",
       "    </tr>\n",
       "    <tr>\n",
       "      <th>1</th>\n",
       "      <td>1.0</td>\n",
       "      <td>2011-06-27T15:31:12.000Z</td>\n",
       "      <td>http://prevedtest.blogspot.com/2011/06/ferrari...</td>\n",
       "      <td>0.0</td>\n",
       "      <td>Twitter</td>\n",
       "      <td>conservation (\"artificial intellligence\" OR AI...</td>\n",
       "    </tr>\n",
       "    <tr>\n",
       "      <th>2</th>\n",
       "      <td>2.0</td>\n",
       "      <td>2011-08-19T07:01:18.000Z</td>\n",
       "      <td>http://kwa.ai/ruveEi</td>\n",
       "      <td>1.0</td>\n",
       "      <td>Twitter</td>\n",
       "      <td>conservation (\"artificial intellligence\" OR AI...</td>\n",
       "    </tr>\n",
       "    <tr>\n",
       "      <th>3</th>\n",
       "      <td>3.0</td>\n",
       "      <td>2011-08-19T08:07:12.000Z</td>\n",
       "      <td>http://kwa.ai/tkECTU</td>\n",
       "      <td>0.0</td>\n",
       "      <td>Twitter</td>\n",
       "      <td>conservation (\"artificial intellligence\" OR AI...</td>\n",
       "    </tr>\n",
       "    <tr>\n",
       "      <th>4</th>\n",
       "      <td>4.0</td>\n",
       "      <td>2011-08-23T06:57:36.000Z</td>\n",
       "      <td>http://kwa.ai/OHZWHp</td>\n",
       "      <td>0.0</td>\n",
       "      <td>Twitter</td>\n",
       "      <td>conservation (\"artificial intellligence\" OR AI...</td>\n",
       "    </tr>\n",
       "    <tr>\n",
       "      <th>...</th>\n",
       "      <td>...</td>\n",
       "      <td>...</td>\n",
       "      <td>...</td>\n",
       "      <td>...</td>\n",
       "      <td>...</td>\n",
       "      <td>...</td>\n",
       "    </tr>\n",
       "    <tr>\n",
       "      <th>1120</th>\n",
       "      <td>NaN</td>\n",
       "      <td>NaN</td>\n",
       "      <td>https://www.grandriver.ca/en/our-watershed/Riv...</td>\n",
       "      <td>NaN</td>\n",
       "      <td>Crawl</td>\n",
       "      <td>grandriver</td>\n",
       "    </tr>\n",
       "    <tr>\n",
       "      <th>1121</th>\n",
       "      <td>NaN</td>\n",
       "      <td>NaN</td>\n",
       "      <td>https://ecotrust.ca/team/ashli-akins/</td>\n",
       "      <td>NaN</td>\n",
       "      <td>Crawl</td>\n",
       "      <td>ecotrust</td>\n",
       "    </tr>\n",
       "    <tr>\n",
       "      <th>1122</th>\n",
       "      <td>NaN</td>\n",
       "      <td>NaN</td>\n",
       "      <td>https://ecotrust.ca/latest/annual-reports/2020...</td>\n",
       "      <td>NaN</td>\n",
       "      <td>Crawl</td>\n",
       "      <td>ecotrust</td>\n",
       "    </tr>\n",
       "    <tr>\n",
       "      <th>1123</th>\n",
       "      <td>NaN</td>\n",
       "      <td>NaN</td>\n",
       "      <td>https://ecotrust.ca/latest/blog/introducing-th...</td>\n",
       "      <td>NaN</td>\n",
       "      <td>Crawl</td>\n",
       "      <td>ecotrust</td>\n",
       "    </tr>\n",
       "    <tr>\n",
       "      <th>1124</th>\n",
       "      <td>NaN</td>\n",
       "      <td>NaN</td>\n",
       "      <td>https://ecotrust.ca/team/phil-climie/#main</td>\n",
       "      <td>NaN</td>\n",
       "      <td>Crawl</td>\n",
       "      <td>ecotrust</td>\n",
       "    </tr>\n",
       "  </tbody>\n",
       "</table>\n",
       "<p>67590 rows × 6 columns</p>\n",
       "</div>"
      ],
      "text/plain": [
       "      Unnamed: 0                      date  \\\n",
       "0            0.0  2011-06-21T19:23:45.000Z   \n",
       "1            1.0  2011-06-27T15:31:12.000Z   \n",
       "2            2.0  2011-08-19T07:01:18.000Z   \n",
       "3            3.0  2011-08-19T08:07:12.000Z   \n",
       "4            4.0  2011-08-23T06:57:36.000Z   \n",
       "...          ...                       ...   \n",
       "1120         NaN                       NaN   \n",
       "1121         NaN                       NaN   \n",
       "1122         NaN                       NaN   \n",
       "1123         NaN                       NaN   \n",
       "1124         NaN                       NaN   \n",
       "\n",
       "                                                   link  metrics   source  \\\n",
       "0                                  http://lowf.net/x/Ai      0.0  Twitter   \n",
       "1     http://prevedtest.blogspot.com/2011/06/ferrari...      0.0  Twitter   \n",
       "2                                  http://kwa.ai/ruveEi      1.0  Twitter   \n",
       "3                                  http://kwa.ai/tkECTU      0.0  Twitter   \n",
       "4                                  http://kwa.ai/OHZWHp      0.0  Twitter   \n",
       "...                                                 ...      ...      ...   \n",
       "1120  https://www.grandriver.ca/en/our-watershed/Riv...      NaN    Crawl   \n",
       "1121              https://ecotrust.ca/team/ashli-akins/      NaN    Crawl   \n",
       "1122  https://ecotrust.ca/latest/annual-reports/2020...      NaN    Crawl   \n",
       "1123  https://ecotrust.ca/latest/blog/introducing-th...      NaN    Crawl   \n",
       "1124         https://ecotrust.ca/team/phil-climie/#main      NaN    Crawl   \n",
       "\n",
       "                                                  query  \n",
       "0     conservation (\"artificial intellligence\" OR AI...  \n",
       "1     conservation (\"artificial intellligence\" OR AI...  \n",
       "2     conservation (\"artificial intellligence\" OR AI...  \n",
       "3     conservation (\"artificial intellligence\" OR AI...  \n",
       "4     conservation (\"artificial intellligence\" OR AI...  \n",
       "...                                                 ...  \n",
       "1120                                         grandriver  \n",
       "1121                                           ecotrust  \n",
       "1122                                           ecotrust  \n",
       "1123                                           ecotrust  \n",
       "1124                                           ecotrust  \n",
       "\n",
       "[67590 rows x 6 columns]"
      ]
     },
     "execution_count": 5,
     "metadata": {},
     "output_type": "execute_result"
    }
   ],
   "source": [
    "# Process all crawl data together\n",
    "from web_observatory import search_merge\n",
    "pages = search_merge(twitter = twitter, google = google, crawl = crawl, project = project)\n",
    "pages"
   ]
  },
  {
   "cell_type": "code",
   "execution_count": null,
   "id": "fc992c28-427b-46d5-88d4-f342c5b3c88b",
   "metadata": {},
   "outputs": [],
   "source": [
    "# Get Twitter archives\n",
    "#pages = pandas.read_csv(\"AI_ML/all_search_results.csv\")\n",
    "from web_observatory import get_versions\n",
    "results = get_versions(pages, project = project)\n",
    "results"
   ]
  },
  {
   "cell_type": "code",
   "execution_count": 2,
   "id": "401fdf37-0a0b-417c-ab1d-967404c2df18",
   "metadata": {},
   "outputs": [
    {
     "name": "stderr",
     "output_type": "stream",
     "text": [
      "/Users/enost/opt/anaconda3/lib/python3.9/site-packages/IPython/core/interactiveshell.py:3444: DtypeWarning: Columns (3,9,10) have mixed types.Specify dtype option on import or set low_memory=False.\n",
      "  exec(code_obj, self.user_global_ns, self.user_ns)\n"
     ]
    },
    {
     "name": "stdout",
     "output_type": "stream",
     "text": [
      "Done!\n"
     ]
    }
   ],
   "source": [
    "# Scrape pages\n",
    "## Initialize / De-duplicate full urls\n",
    "results = pandas.read_csv(project+\"/page_versions_full.csv\")\n",
    "from web_observatory import initialize_scrape\n",
    "urls = initialize_scrape(versions = results, project = project)"
   ]
  },
  {
   "cell_type": "code",
   "execution_count": 3,
   "id": "1fa6e5c3-5ed1-4d76-887a-607ee7b5af46",
   "metadata": {},
   "outputs": [
    {
     "name": "stdout",
     "output_type": "stream",
     "text": [
      "/Users/enost/Downloads/digcon_scraper/digcon_scraper\n"
     ]
    },
    {
     "name": "stderr",
     "output_type": "stream",
     "text": [
      "2022-05-04 12:26:43 [py.warnings] WARNING: /Users/enost/opt/anaconda3/lib/python3.9/site-packages/scrapy/extensions/feedexport.py:289: ScrapyDeprecationWarning: The `FEED_URI` and `FEED_FORMAT` settings have been deprecated in favor of the `FEEDS` setting. Please see the `FEEDS` setting docs for more details\n",
      "  exporter = cls(crawler)\n",
      "\n"
     ]
    },
    {
     "name": "stdout",
     "output_type": "stream",
     "text": [
      "inserting: 118\r"
     ]
    },
    {
     "name": "stderr",
     "output_type": "stream",
     "text": [
      "2022-05-04 12:26:53 [scrapy.core.scraper] ERROR: Error downloading <GET http://electric_supply.sharedby.co/links/3f6gzg>\n",
      "Traceback (most recent call last):\n",
      "  File \"/Users/enost/opt/anaconda3/lib/python3.9/site-packages/scrapy/core/downloader/middleware.py\", line 49, in process_request\n",
      "    return (yield download_func(request=request, spider=spider))\n",
      "ValueError: invalid hostname: electric_supply.sharedby.co\n"
     ]
    },
    {
     "name": "stdout",
     "output_type": "stream",
     "text": [
      "inserting: 102\r"
     ]
    },
    {
     "name": "stderr",
     "output_type": "stream",
     "text": [
      "2022-05-04 12:26:54 [scrapy.core.scraper] ERROR: Error downloading <GET http://electric_supply.sharedby.co/links/wwhmlm>\n",
      "Traceback (most recent call last):\n",
      "  File \"/Users/enost/opt/anaconda3/lib/python3.9/site-packages/scrapy/core/downloader/middleware.py\", line 49, in process_request\n",
      "    return (yield download_func(request=request, spider=spider))\n",
      "ValueError: invalid hostname: electric_supply.sharedby.co\n"
     ]
    },
    {
     "name": "stdout",
     "output_type": "stream",
     "text": [
      "inserting: 707\r"
     ]
    },
    {
     "name": "stderr",
     "output_type": "stream",
     "text": [
      "2022-05-04 12:26:55 [scrapy.downloadermiddlewares.retry] ERROR: Gave up retrying <GET http://nrc-prod.literatumonline.com/doi/abs/10.1139/cjfas-2012-0449> (failed 3 times): 503 Service Unavailable\n"
     ]
    },
    {
     "name": "stdout",
     "output_type": "stream",
     "text": [
      "inserting: 433\r"
     ]
    },
    {
     "name": "stderr",
     "output_type": "stream",
     "text": [
      "2022-05-04 12:27:50 [scrapy.downloadermiddlewares.retry] ERROR: Gave up retrying <GET http://web.archive.org/web/20210417032416id_/https://news.nationalgeographic.com/news/2014/09/140922-pristine-seas-expansion-ocean-marine-conservation/> (failed 3 times): 503 Service Unavailable\n"
     ]
    },
    {
     "name": "stdout",
     "output_type": "stream",
     "text": [
      "inserting: 523\r"
     ]
    },
    {
     "name": "stderr",
     "output_type": "stream",
     "text": [
      "2022-05-04 12:28:14 [scrapy.downloadermiddlewares.retry] ERROR: Gave up retrying <GET https://news.nationalgeographic.com/content/news/en_us/2015/05/150507-rhinos-without-borders-airlift-botswana-south-africa-conservation.html> (failed 3 times): 503 Service Unavailable\n"
     ]
    },
    {
     "name": "stdout",
     "output_type": "stream",
     "text": [
      "inserting: 1121\r"
     ]
    },
    {
     "name": "stderr",
     "output_type": "stream",
     "text": [
      "2022-05-04 12:30:20 [scrapy.downloadermiddlewares.retry] ERROR: Gave up retrying <GET https://iot-for-all.com/how-iot-is-used-to-stop-poaching-e2467ef0b9a5> (failed 3 times): 503 Service Unavailable\n"
     ]
    },
    {
     "name": "stdout",
     "output_type": "stream",
     "text": [
      "inserting: 1590\r"
     ]
    },
    {
     "name": "stderr",
     "output_type": "stream",
     "text": [
      "2022-05-04 12:31:34 [scrapy.downloadermiddlewares.retry] ERROR: Gave up retrying <GET https://www.cambridge.org/core/journals/oryx/article/fostering-adoption-of-conservation-technologies-a-case-study-with-wildlife-law-enforcement-rangers/d8a301faf5eccb2a42c6bfdeacf777de> (failed 3 times): 500 Internal Server Error\n"
     ]
    },
    {
     "name": "stdout",
     "output_type": "stream",
     "text": [
      "inserting: 1700\r"
     ]
    },
    {
     "name": "stderr",
     "output_type": "stream",
     "text": [
      "2022-05-04 12:31:46 [scrapy.downloadermiddlewares.retry] ERROR: Gave up retrying <GET https://joptimisemonsiteinternet.com/machine-a-broyer-spams/> (failed 3 times): Connection was refused by other side: 61: Connection refused.\n",
      "2022-05-04 12:31:46 [scrapy.core.scraper] ERROR: Error downloading <GET https://joptimisemonsiteinternet.com/machine-a-broyer-spams/>\n",
      "Traceback (most recent call last):\n",
      "  File \"/Users/enost/opt/anaconda3/lib/python3.9/site-packages/scrapy/core/downloader/middleware.py\", line 49, in process_request\n",
      "    return (yield download_func(request=request, spider=spider))\n",
      "twisted.internet.error.ConnectionRefusedError: Connection was refused by other side: 61: Connection refused.\n"
     ]
    },
    {
     "name": "stdout",
     "output_type": "stream",
     "text": [
      "inserting: 1762\r"
     ]
    },
    {
     "name": "stderr",
     "output_type": "stream",
     "text": [
      "2022-05-04 12:31:53 [scrapy.downloadermiddlewares.retry] ERROR: Gave up retrying <GET https://onlinelibrary.wiley.com/doi/abs/10.1111/cobi.13117> (failed 3 times): 503 Service Unavailable\n"
     ]
    },
    {
     "name": "stdout",
     "output_type": "stream",
     "text": [
      "inserting: 1865\r"
     ]
    },
    {
     "name": "stderr",
     "output_type": "stream",
     "text": [
      "2022-05-04 12:32:15 [scrapy.downloadermiddlewares.retry] ERROR: Gave up retrying <GET https://www.pnas.org/doi/10.1073/pnas.1719367115> (failed 3 times): 503 Service Unavailable\n"
     ]
    },
    {
     "name": "stdout",
     "output_type": "stream",
     "text": [
      "inserting: 1970\r"
     ]
    },
    {
     "name": "stderr",
     "output_type": "stream",
     "text": [
      "2022-05-04 12:32:19 [scrapy.downloadermiddlewares.retry] ERROR: Gave up retrying <GET https://www.pnas.org/doi/pdf/10.1073/pnas.1719367115> (failed 3 times): 503 Service Unavailable\n"
     ]
    },
    {
     "name": "stdout",
     "output_type": "stream",
     "text": [
      "inserting: 2131\r"
     ]
    },
    {
     "name": "stderr",
     "output_type": "stream",
     "text": [
      "2022-05-04 12:32:44 [scrapy.downloadermiddlewares.retry] ERROR: Gave up retrying <GET https://onlinelibrary.wiley.com/doi/full/10.1111/cobi.13117> (failed 3 times): 503 Service Unavailable\n"
     ]
    },
    {
     "name": "stdout",
     "output_type": "stream",
     "text": [
      "inserting: 2281\r"
     ]
    },
    {
     "name": "stderr",
     "output_type": "stream",
     "text": [
      "2022-05-04 12:33:06 [scrapy.downloadermiddlewares.retry] ERROR: Gave up retrying <GET https://www.lebanonews.net/en/2018/09/17/ai-to-strengthen-environmental-conservation-in-abu-dhabi/> (failed 3 times): 503 Service Unavailable\n"
     ]
    },
    {
     "name": "stdout",
     "output_type": "stream",
     "text": [
      "inserting: 2316\r"
     ]
    },
    {
     "name": "stderr",
     "output_type": "stream",
     "text": [
      "2022-05-04 12:33:09 [scrapy.downloadermiddlewares.retry] ERROR: Gave up retrying <GET https://onlinelibrary.wiley.com/doi/10.1111/cobi.13226> (failed 3 times): 503 Service Unavailable\n"
     ]
    },
    {
     "name": "stdout",
     "output_type": "stream",
     "text": [
      "inserting: 2453\r"
     ]
    },
    {
     "name": "stderr",
     "output_type": "stream",
     "text": [
      "2022-05-04 12:33:28 [scrapy.downloadermiddlewares.retry] ERROR: Gave up retrying <GET https://onlinelibrary.wiley.com/doi/full/10.1111/cobi.13104> (failed 3 times): 503 Service Unavailable\n"
     ]
    },
    {
     "name": "stdout",
     "output_type": "stream",
     "text": [
      "inserting: 2442\r"
     ]
    },
    {
     "name": "stderr",
     "output_type": "stream",
     "text": [
      "2022-05-04 12:33:30 [scrapy.downloadermiddlewares.retry] ERROR: Gave up retrying <GET http://web.archive.org/web/20181016071641id_/http://newsintweets.com/> (failed 3 times): 503 Service Unavailable\n"
     ]
    },
    {
     "name": "stdout",
     "output_type": "stream",
     "text": [
      "inserting: 2528\r"
     ]
    },
    {
     "name": "stderr",
     "output_type": "stream",
     "text": [
      "2022-05-04 12:33:38 [scrapy.downloadermiddlewares.retry] ERROR: Gave up retrying <GET https://www.pnas.org/doi/10.1073/pnas.1804098115> (failed 3 times): 503 Service Unavailable\n"
     ]
    },
    {
     "name": "stdout",
     "output_type": "stream",
     "text": [
      "inserting: 2518\r"
     ]
    },
    {
     "name": "stderr",
     "output_type": "stream",
     "text": [
      "2022-05-04 12:33:38 [scrapy.downloadermiddlewares.retry] ERROR: Gave up retrying <GET http://www.pubniche.com/papyrus/zg9pojoxmc4xmdczl3buyxmumtgwnda5odexnq/> (failed 3 times): 503 Service Unavailable\n"
     ]
    },
    {
     "name": "stdout",
     "output_type": "stream",
     "text": [
      "inserting: 2521\r"
     ]
    },
    {
     "name": "stderr",
     "output_type": "stream",
     "text": [
      "2022-05-04 12:33:38 [scrapy.downloadermiddlewares.retry] ERROR: Gave up retrying <GET https://www.pnas.org/doi/full/10.1073/pnas.1804098115> (failed 3 times): 503 Service Unavailable\n"
     ]
    },
    {
     "name": "stdout",
     "output_type": "stream",
     "text": [
      "inserting: 2485\r"
     ]
    },
    {
     "name": "stderr",
     "output_type": "stream",
     "text": [
      "2022-05-04 12:33:40 [scrapy.downloadermiddlewares.retry] ERROR: Gave up retrying <GET https://www.quora.com/How-can-affordable-and-reliable-AI-change-the-scene-of-wildlife-conservation/answer/Praveen-Kumar-12704> (failed 3 times): 429 Unknown Status\n"
     ]
    },
    {
     "name": "stdout",
     "output_type": "stream",
     "text": [
      "inserting: 2587\r"
     ]
    },
    {
     "name": "stderr",
     "output_type": "stream",
     "text": [
      "2022-05-04 12:33:44 [scrapy.downloadermiddlewares.retry] ERROR: Gave up retrying <GET http://reviews.me/facebook_post> (failed 3 times): 500 Internal Server Error\n"
     ]
    },
    {
     "name": "stdout",
     "output_type": "stream",
     "text": [
      "inserting: 2887\r"
     ]
    },
    {
     "name": "stderr",
     "output_type": "stream",
     "text": [
      "2022-05-04 12:34:20 [scrapy.downloadermiddlewares.retry] ERROR: Gave up retrying <GET https://journals.sagepub.com/doi/10.1177/2399654419835828> (failed 3 times): 503 Service Unavailable\n"
     ]
    },
    {
     "name": "stdout",
     "output_type": "stream",
     "text": [
      "inserting: 3331\r"
     ]
    },
    {
     "name": "stderr",
     "output_type": "stream",
     "text": [
      "2022-05-04 12:35:28 [scrapy.downloadermiddlewares.retry] ERROR: Gave up retrying <GET https://journals.sagepub.com/doi/abs/10.1177/1940082919873268> (failed 3 times): 503 Service Unavailable\n",
      "2022-05-04 12:35:29 [scrapy.downloadermiddlewares.retry] ERROR: Gave up retrying <GET https://journals.sagepub.com/doi/abs/10.1177/1940082919872923> (failed 3 times): 503 Service Unavailable\n",
      "2022-05-04 12:35:29 [scrapy.downloadermiddlewares.retry] ERROR: Gave up retrying <GET https://zslpublications.onlinelibrary.wiley.com/doi/abs/10.1002/rse2.125> (failed 3 times): 503 Service Unavailable\n"
     ]
    },
    {
     "name": "stdout",
     "output_type": "stream",
     "text": [
      "inserting: 3355\r"
     ]
    },
    {
     "name": "stderr",
     "output_type": "stream",
     "text": [
      "2022-05-04 12:35:29 [scrapy.downloadermiddlewares.retry] ERROR: Gave up retrying <GET https://journals.sagepub.com/doi/abs/10.1177/1940082919870054> (failed 3 times): 503 Service Unavailable\n"
     ]
    },
    {
     "name": "stdout",
     "output_type": "stream",
     "text": [
      "inserting: 3373\r"
     ]
    },
    {
     "name": "stderr",
     "output_type": "stream",
     "text": [
      "2022-05-04 12:35:32 [scrapy.downloadermiddlewares.retry] ERROR: Gave up retrying <GET https://journals.sagepub.com/doi/abs/10.1177/1940082919872137> (failed 3 times): 503 Service Unavailable\n",
      "2022-05-04 12:35:33 [scrapy.downloadermiddlewares.retry] ERROR: Gave up retrying <GET https://journals.sagepub.com/doi/abs/10.1177/1940082919875446> (failed 3 times): 503 Service Unavailable\n"
     ]
    },
    {
     "name": "stdout",
     "output_type": "stream",
     "text": [
      "inserting: 3389\r"
     ]
    },
    {
     "name": "stderr",
     "output_type": "stream",
     "text": [
      "2022-05-04 12:35:34 [scrapy.downloadermiddlewares.retry] ERROR: Gave up retrying <GET https://journals.sagepub.com/doi/abs/10.1177/1940082919872637> (failed 3 times): 503 Service Unavailable\n"
     ]
    },
    {
     "name": "stdout",
     "output_type": "stream",
     "text": [
      "inserting: 3356\r"
     ]
    },
    {
     "name": "stderr",
     "output_type": "stream",
     "text": [
      "2022-05-04 12:35:35 [scrapy.downloadermiddlewares.retry] ERROR: Gave up retrying <GET https://journals.sagepub.com/doi/abs/10.1177/1940082919864267> (failed 3 times): 503 Service Unavailable\n"
     ]
    },
    {
     "name": "stdout",
     "output_type": "stream",
     "text": [
      "inserting: 3398\r"
     ]
    },
    {
     "name": "stderr",
     "output_type": "stream",
     "text": [
      "2022-05-04 12:35:35 [scrapy.downloadermiddlewares.retry] ERROR: Gave up retrying <GET https://journals.sagepub.com/doi/abs/10.1177/1940082919872634> (failed 3 times): 503 Service Unavailable\n",
      "2022-05-04 12:35:35 [scrapy.downloadermiddlewares.retry] ERROR: Gave up retrying <GET https://journals.sagepub.com/doi/abs/10.1177/1940082919876072> (failed 3 times): 503 Service Unavailable\n"
     ]
    },
    {
     "name": "stdout",
     "output_type": "stream",
     "text": [
      "inserting: 3432\r"
     ]
    },
    {
     "name": "stderr",
     "output_type": "stream",
     "text": [
      "2022-05-04 12:35:37 [scrapy.downloadermiddlewares.retry] ERROR: Gave up retrying <GET https://journals.sagepub.com/doi/abs/10.1177/1940082919878960> (failed 3 times): 503 Service Unavailable\n"
     ]
    },
    {
     "name": "stdout",
     "output_type": "stream",
     "text": [
      "inserting: 3425\r"
     ]
    },
    {
     "name": "stderr",
     "output_type": "stream",
     "text": [
      "2022-05-04 12:35:37 [scrapy.downloadermiddlewares.retry] ERROR: Gave up retrying <GET https://journals.sagepub.com/doi/abs/10.1177/1940082919878827> (failed 3 times): 503 Service Unavailable\n",
      "2022-05-04 12:35:37 [scrapy.downloadermiddlewares.retry] ERROR: Gave up retrying <GET https://journals.sagepub.com/doi/abs/10.1177/1940082919879318> (failed 3 times): 503 Service Unavailable\n"
     ]
    },
    {
     "name": "stdout",
     "output_type": "stream",
     "text": [
      "inserting: 3439\r"
     ]
    },
    {
     "name": "stderr",
     "output_type": "stream",
     "text": [
      "2022-05-04 12:35:39 [scrapy.downloadermiddlewares.retry] ERROR: Gave up retrying <GET https://journals.sagepub.com/doi/abs/10.1177/1940082919878961> (failed 3 times): 503 Service Unavailable\n"
     ]
    },
    {
     "name": "stdout",
     "output_type": "stream",
     "text": [
      "inserting: 3457\r"
     ]
    },
    {
     "name": "stderr",
     "output_type": "stream",
     "text": [
      "2022-05-04 12:35:42 [scrapy.downloadermiddlewares.retry] ERROR: Gave up retrying <GET https://www.linkedin.com/leap/r> (failed 3 times): 502 Bad Gateway\n"
     ]
    },
    {
     "name": "stdout",
     "output_type": "stream",
     "text": [
      "inserting: 3461\r"
     ]
    },
    {
     "name": "stderr",
     "output_type": "stream",
     "text": [
      "2022-05-04 12:35:43 [scrapy.downloadermiddlewares.retry] ERROR: Gave up retrying <GET https://journals.sagepub.com/doi/abs/10.1177/1940082919882885> (failed 3 times): 503 Service Unavailable\n"
     ]
    },
    {
     "name": "stdout",
     "output_type": "stream",
     "text": [
      "inserting: 3507\r"
     ]
    },
    {
     "name": "stderr",
     "output_type": "stream",
     "text": [
      "2022-05-04 12:35:50 [scrapy.downloadermiddlewares.retry] ERROR: Gave up retrying <GET https://ps.is.mpg.de/events/computational-ecology-and-ai-for-conservation> (failed 3 times): [<twisted.python.failure.Failure twisted.internet.error.ConnectionDone: Connection was closed cleanly.>]\n",
      "2022-05-04 12:35:51 [scrapy.core.scraper] ERROR: Error downloading <GET https://ps.is.mpg.de/events/computational-ecology-and-ai-for-conservation>\n",
      "Traceback (most recent call last):\n",
      "  File \"/Users/enost/opt/anaconda3/lib/python3.9/site-packages/scrapy/core/downloader/middleware.py\", line 49, in process_request\n",
      "    return (yield download_func(request=request, spider=spider))\n",
      "twisted.web._newclient.ResponseNeverReceived: [<twisted.python.failure.Failure twisted.internet.error.ConnectionDone: Connection was closed cleanly.>]\n"
     ]
    },
    {
     "name": "stdout",
     "output_type": "stream",
     "text": [
      "inserting: 3499\r"
     ]
    },
    {
     "name": "stderr",
     "output_type": "stream",
     "text": [
      "2022-05-04 12:35:54 [scrapy.downloadermiddlewares.retry] ERROR: Gave up retrying <GET https://ps.is.mpg.de/talks/computational-ecology-and-ai-for-conservation> (failed 3 times): [<twisted.python.failure.Failure twisted.internet.error.ConnectionDone: Connection was closed cleanly.>]\n",
      "2022-05-04 12:35:54 [scrapy.core.scraper] ERROR: Error downloading <GET https://ps.is.mpg.de/talks/computational-ecology-and-ai-for-conservation>\n",
      "Traceback (most recent call last):\n",
      "  File \"/Users/enost/opt/anaconda3/lib/python3.9/site-packages/scrapy/core/downloader/middleware.py\", line 49, in process_request\n",
      "    return (yield download_func(request=request, spider=spider))\n",
      "twisted.web._newclient.ResponseNeverReceived: [<twisted.python.failure.Failure twisted.internet.error.ConnectionDone: Connection was closed cleanly.>]\n"
     ]
    },
    {
     "name": "stdout",
     "output_type": "stream",
     "text": [
      "inserting: 3546\r"
     ]
    },
    {
     "name": "stderr",
     "output_type": "stream",
     "text": [
      "2022-05-04 12:35:59 [scrapy.downloadermiddlewares.retry] ERROR: Gave up retrying <GET https://conbio.onlinelibrary.wiley.com/doi/pdf/10.1111/cobi.13435> (failed 3 times): 503 Service Unavailable\n"
     ]
    },
    {
     "name": "stdout",
     "output_type": "stream",
     "text": [
      "inserting: 3674\r"
     ]
    },
    {
     "name": "stderr",
     "output_type": "stream",
     "text": [
      "2022-05-04 12:36:30 [scrapy.downloadermiddlewares.retry] ERROR: Gave up retrying <GET https://insights.globalspec.com/article/13196/watch-ai-app-aids-wildlife-conservation-efforts> (failed 3 times): 503 Service Unavailable\n"
     ]
    },
    {
     "name": "stdout",
     "output_type": "stream",
     "text": [
      "inserting: 3838\r"
     ]
    },
    {
     "name": "stderr",
     "output_type": "stream",
     "text": [
      "2022-05-04 12:36:56 [scrapy.downloadermiddlewares.retry] ERROR: Gave up retrying <GET https://chu.tbe.taleo.net/chu04/ats/careers/v2/viewrequisition> (failed 3 times): 500 Internal Server Error\n"
     ]
    },
    {
     "name": "stdout",
     "output_type": "stream",
     "text": [
      "inserting: 3863\r"
     ]
    },
    {
     "name": "stderr",
     "output_type": "stream",
     "text": [
      "2022-05-04 12:37:05 [scrapy.downloadermiddlewares.retry] ERROR: Gave up retrying <GET https://newsprofixpro.com/news204/2020/03/21/ai-analyzes-biology-studies-to-find-out-were-getting-better-at-wildlife-conservation/> (failed 3 times): 500 Internal Server Error\n"
     ]
    },
    {
     "name": "stdout",
     "output_type": "stream",
     "text": [
      "inserting: 4004\r"
     ]
    },
    {
     "name": "stderr",
     "output_type": "stream",
     "text": [
      "2022-05-04 12:37:16 [scrapy.downloadermiddlewares.retry] ERROR: Gave up retrying <GET https://aifortheplanet.com/flag-deforested-regions-to-help-the-amazon-rainforest/> (failed 3 times): 502 Bad Gateway\n"
     ]
    },
    {
     "name": "stdout",
     "output_type": "stream",
     "text": [
      "inserting: 4449\r"
     ]
    },
    {
     "name": "stderr",
     "output_type": "stream",
     "text": [
      "2022-05-04 12:38:19 [scrapy.downloadermiddlewares.retry] ERROR: Gave up retrying <GET https://www.isprambiente.gov.it/en/archive/ispra-events/2020/10/natural-capital-accounting-to-integrate-biodiversity-conservation-into-sustainable-development-policies> (failed 3 times): [<twisted.python.failure.Failure twisted.internet.error.ConnectionLost: Connection to the other side was lost in a non-clean fashion: Connection lost.>]\n",
      "2022-05-04 12:38:19 [scrapy.core.scraper] ERROR: Error downloading <GET https://www.isprambiente.gov.it/en/archive/ispra-events/2020/10/natural-capital-accounting-to-integrate-biodiversity-conservation-into-sustainable-development-policies>\n",
      "Traceback (most recent call last):\n",
      "  File \"/Users/enost/opt/anaconda3/lib/python3.9/site-packages/scrapy/core/downloader/middleware.py\", line 49, in process_request\n",
      "    return (yield download_func(request=request, spider=spider))\n",
      "twisted.web._newclient.ResponseNeverReceived: [<twisted.python.failure.Failure twisted.internet.error.ConnectionLost: Connection to the other side was lost in a non-clean fashion: Connection lost.>]\n"
     ]
    },
    {
     "name": "stdout",
     "output_type": "stream",
     "text": [
      "inserting: 4465\r"
     ]
    },
    {
     "name": "stderr",
     "output_type": "stream",
     "text": [
      "2022-05-04 12:38:23 [scrapy.downloadermiddlewares.retry] ERROR: Gave up retrying <GET https://onlinelibrary.wiley.com/doi/abs/10.1111/jfb.14589> (failed 3 times): 503 Service Unavailable\n"
     ]
    },
    {
     "name": "stdout",
     "output_type": "stream",
     "text": [
      "inserting: 4480\r"
     ]
    },
    {
     "name": "stderr",
     "output_type": "stream",
     "text": [
      "2022-05-04 12:38:25 [scrapy.downloadermiddlewares.retry] ERROR: Gave up retrying <GET https://www.amazon.ca/-/fr/foodsaver-fm5200-033-syst%c3%a8me-conservation-aliments/dp/b06xh7gtfv> (failed 3 times): 503 Service Unavailable\n"
     ]
    },
    {
     "name": "stdout",
     "output_type": "stream",
     "text": [
      "inserting: 4484\r"
     ]
    },
    {
     "name": "stderr",
     "output_type": "stream",
     "text": [
      "2022-05-04 12:38:27 [scrapy.downloadermiddlewares.retry] ERROR: Gave up retrying <GET https://besjournals.onlinelibrary.wiley.com/doi/10.1111/2041-210x.13501> (failed 3 times): 503 Service Unavailable\n"
     ]
    },
    {
     "name": "stdout",
     "output_type": "stream",
     "text": [
      "inserting: 4538\r"
     ]
    },
    {
     "name": "stderr",
     "output_type": "stream",
     "text": [
      "2022-05-04 12:38:36 [scrapy.downloadermiddlewares.retry] ERROR: Gave up retrying <GET https://onlinelibrary.wiley.com/doi/10.1002/ece3.6840> (failed 3 times): 503 Service Unavailable\n"
     ]
    },
    {
     "name": "stdout",
     "output_type": "stream",
     "text": [
      "inserting: 4569\r"
     ]
    },
    {
     "name": "stderr",
     "output_type": "stream",
     "text": [
      "2022-05-04 12:38:38 [scrapy.downloadermiddlewares.retry] ERROR: Gave up retrying <GET https://onlinelibrary.wiley.com/doi/10.1111/jfb.14589> (failed 3 times): 503 Service Unavailable\n"
     ]
    },
    {
     "name": "stdout",
     "output_type": "stream",
     "text": [
      "inserting: 4764\r"
     ]
    },
    {
     "name": "stderr",
     "output_type": "stream",
     "text": [
      "2022-05-04 12:39:16 [scrapy.downloadermiddlewares.retry] ERROR: Gave up retrying <GET https://zslpublications.onlinelibrary.wiley.com/doi/10.1002/rse2.195> (failed 3 times): 503 Service Unavailable\n"
     ]
    },
    {
     "name": "stdout",
     "output_type": "stream",
     "text": [
      "inserting: 4800\r"
     ]
    },
    {
     "name": "stderr",
     "output_type": "stream",
     "text": [
      "2022-05-04 12:39:22 [scrapy.downloadermiddlewares.retry] ERROR: Gave up retrying <GET https://onlinelibrary.wiley.com/doi/10.1002/rse2.195> (failed 3 times): 503 Service Unavailable\n"
     ]
    },
    {
     "name": "stdout",
     "output_type": "stream",
     "text": [
      "inserting: 4864\r"
     ]
    },
    {
     "name": "stderr",
     "output_type": "stream",
     "text": [
      "2022-05-04 12:39:33 [scrapy.downloadermiddlewares.retry] ERROR: Gave up retrying <GET https://faculty-mentors/> (failed 3 times): DNS lookup failed: no results for hostname lookup: faculty-mentors.\n"
     ]
    },
    {
     "name": "stdout",
     "output_type": "stream",
     "text": [
      "inserting: 4865\r"
     ]
    },
    {
     "name": "stderr",
     "output_type": "stream",
     "text": [
      "2022-05-04 12:39:33 [scrapy.core.scraper] ERROR: Error downloading <GET https://faculty-mentors/>\n",
      "Traceback (most recent call last):\n",
      "  File \"/Users/enost/opt/anaconda3/lib/python3.9/site-packages/twisted/internet/defer.py\", line 1656, in _inlineCallbacks\n",
      "    result = current_context.run(\n",
      "  File \"/Users/enost/opt/anaconda3/lib/python3.9/site-packages/twisted/python/failure.py\", line 489, in throwExceptionIntoGenerator\n",
      "    return g.throw(self.type, self.value, self.tb)\n",
      "  File \"/Users/enost/opt/anaconda3/lib/python3.9/site-packages/scrapy/core/downloader/middleware.py\", line 49, in process_request\n",
      "    return (yield download_func(request=request, spider=spider))\n",
      "  File \"/Users/enost/opt/anaconda3/lib/python3.9/site-packages/twisted/internet/defer.py\", line 857, in _runCallbacks\n",
      "    current.result = callback(  # type: ignore[misc]\n",
      "  File \"/Users/enost/opt/anaconda3/lib/python3.9/site-packages/twisted/internet/endpoints.py\", line 1020, in startConnectionAttempts\n",
      "    raise error.DNSLookupError(\n",
      "twisted.internet.error.DNSLookupError: DNS lookup failed: no results for hostname lookup: faculty-mentors.\n"
     ]
    },
    {
     "name": "stdout",
     "output_type": "stream",
     "text": [
      "inserting: 4977\r"
     ]
    },
    {
     "name": "stderr",
     "output_type": "stream",
     "text": [
      "2022-05-04 12:39:49 [scrapy.downloadermiddlewares.retry] ERROR: Gave up retrying <GET http://jornades/udg4sdg/presentation/tabid/24985/language/ca-es/default.aspx> (failed 3 times): DNS lookup failed: no results for hostname lookup: jornades.\n"
     ]
    },
    {
     "name": "stdout",
     "output_type": "stream",
     "text": [
      "inserting: 4979\r"
     ]
    },
    {
     "name": "stderr",
     "output_type": "stream",
     "text": [
      "2022-05-04 12:39:49 [scrapy.core.scraper] ERROR: Error downloading <GET http://jornades/udg4sdg/presentation/tabid/24985/language/ca-es/default.aspx>\n",
      "Traceback (most recent call last):\n",
      "  File \"/Users/enost/opt/anaconda3/lib/python3.9/site-packages/twisted/internet/defer.py\", line 1656, in _inlineCallbacks\n",
      "    result = current_context.run(\n",
      "  File \"/Users/enost/opt/anaconda3/lib/python3.9/site-packages/twisted/python/failure.py\", line 489, in throwExceptionIntoGenerator\n",
      "    return g.throw(self.type, self.value, self.tb)\n",
      "  File \"/Users/enost/opt/anaconda3/lib/python3.9/site-packages/scrapy/core/downloader/middleware.py\", line 49, in process_request\n",
      "    return (yield download_func(request=request, spider=spider))\n",
      "  File \"/Users/enost/opt/anaconda3/lib/python3.9/site-packages/twisted/internet/defer.py\", line 857, in _runCallbacks\n",
      "    current.result = callback(  # type: ignore[misc]\n",
      "  File \"/Users/enost/opt/anaconda3/lib/python3.9/site-packages/twisted/internet/endpoints.py\", line 1020, in startConnectionAttempts\n",
      "    raise error.DNSLookupError(\n",
      "twisted.internet.error.DNSLookupError: DNS lookup failed: no results for hostname lookup: jornades.\n"
     ]
    },
    {
     "name": "stdout",
     "output_type": "stream",
     "text": [
      "inserting: 5034\r"
     ]
    },
    {
     "name": "stderr",
     "output_type": "stream",
     "text": [
      "2022-05-04 12:39:54 [scrapy.downloadermiddlewares.retry] ERROR: Gave up retrying <GET http://luvs.hi.is/vidburdir/whales_sea_turtles_ai_biological_conservation> (failed 3 times): 500 Internal Server Error\n"
     ]
    },
    {
     "name": "stdout",
     "output_type": "stream",
     "text": [
      "inserting: 5250\r"
     ]
    },
    {
     "name": "stderr",
     "output_type": "stream",
     "text": [
      "2022-05-04 12:40:34 [scrapy.downloadermiddlewares.retry] ERROR: Gave up retrying <GET https://besjournals.onlinelibrary.wiley.com/doi/10.1111/2041-210x.13608> (failed 3 times): 503 Service Unavailable\n"
     ]
    },
    {
     "name": "stdout",
     "output_type": "stream",
     "text": [
      "inserting: 5254\r"
     ]
    },
    {
     "name": "stderr",
     "output_type": "stream",
     "text": [
      "2022-05-04 12:40:35 [scrapy.downloadermiddlewares.retry] ERROR: Gave up retrying <GET https://journals.sagepub.com/doi/abs/10.1177/19400829211014740> (failed 3 times): 503 Service Unavailable\n"
     ]
    },
    {
     "name": "stdout",
     "output_type": "stream",
     "text": [
      "inserting: 5619\r"
     ]
    },
    {
     "name": "stderr",
     "output_type": "stream",
     "text": [
      "2022-05-04 12:41:28 [scrapy.downloadermiddlewares.retry] ERROR: Gave up retrying <GET https://zslpublications.onlinelibrary.wiley.com/doi/10.1002/rse2.200> (failed 3 times): 503 Service Unavailable\n"
     ]
    },
    {
     "name": "stdout",
     "output_type": "stream",
     "text": [
      "inserting: 5713\r"
     ]
    },
    {
     "name": "stderr",
     "output_type": "stream",
     "text": [
      "2022-05-04 12:41:50 [scrapy.downloadermiddlewares.retry] ERROR: Gave up retrying <GET http://web.archive.org/web/20220331031242id_/https://rainbowhost.co.uk/> (failed 3 times): 429 Unknown Status\n"
     ]
    },
    {
     "name": "stdout",
     "output_type": "stream",
     "text": [
      "inserting: 5723\r"
     ]
    },
    {
     "name": "stderr",
     "output_type": "stream",
     "text": [
      "2022-05-04 12:41:58 [scrapy.downloadermiddlewares.retry] ERROR: Gave up retrying <GET https://www.camerounweb.com/validate_user.php> (failed 3 times): 503 Service Unavailable\n"
     ]
    },
    {
     "name": "stdout",
     "output_type": "stream",
     "text": [
      "inserting: 5944\r"
     ]
    },
    {
     "name": "stderr",
     "output_type": "stream",
     "text": [
      "2022-05-04 12:42:28 [scrapy.downloadermiddlewares.retry] ERROR: Gave up retrying <GET https://www.cambridge.org/core/books/artificial-intelligence-and-conservation/17c33af856648b208e47a10813cec6df> (failed 3 times): 500 Internal Server Error\n"
     ]
    },
    {
     "name": "stdout",
     "output_type": "stream",
     "text": [
      "inserting: 5953\r"
     ]
    },
    {
     "name": "stderr",
     "output_type": "stream",
     "text": [
      "2022-05-04 12:42:29 [scrapy.downloadermiddlewares.retry] ERROR: Gave up retrying <GET https://journals.sagepub.com/doi/10.1177/19400829211014740> (failed 3 times): 503 Service Unavailable\n"
     ]
    },
    {
     "name": "stdout",
     "output_type": "stream",
     "text": [
      "inserting: 5979\r"
     ]
    },
    {
     "name": "stderr",
     "output_type": "stream",
     "text": [
      "2022-05-04 12:42:30 [scrapy.downloadermiddlewares.retry] ERROR: Gave up retrying <GET https://conbio.onlinelibrary.wiley.com/doi/abs/10.1111/cobi.13117> (failed 3 times): 503 Service Unavailable\n"
     ]
    },
    {
     "name": "stdout",
     "output_type": "stream",
     "text": [
      "inserting: 5989\r"
     ]
    },
    {
     "name": "stderr",
     "output_type": "stream",
     "text": [
      "2022-05-04 12:42:31 [scrapy.downloadermiddlewares.retry] ERROR: Gave up retrying <GET https://zslpublications.onlinelibrary.wiley.com/doi/full/10.1002/rse2.134> (failed 3 times): 503 Service Unavailable\n"
     ]
    },
    {
     "name": "stdout",
     "output_type": "stream",
     "text": [
      "inserting: 18030\r"
     ]
    },
    {
     "name": "stderr",
     "output_type": "stream",
     "text": [
      "2022-05-04 18:01:16 [scrapy.downloadermiddlewares.retry] ERROR: Gave up retrying <GET https://conservationbygeography/northamerica/unitedstates/edc/reportsdata/climate/coastalresilience/pages/default.aspx> (failed 3 times): DNS lookup failed: no results for hostname lookup: conservationbygeography.\n",
      "2022-05-04 18:01:16 [scrapy.core.scraper] ERROR: Error downloading <GET https://conservationbygeography/northamerica/unitedstates/edc/reportsdata/climate/coastalresilience/pages/default.aspx>\n",
      "Traceback (most recent call last):\n",
      "  File \"/Users/enost/opt/anaconda3/lib/python3.9/site-packages/twisted/internet/defer.py\", line 1656, in _inlineCallbacks\n",
      "    result = current_context.run(\n",
      "  File \"/Users/enost/opt/anaconda3/lib/python3.9/site-packages/twisted/python/failure.py\", line 489, in throwExceptionIntoGenerator\n",
      "    return g.throw(self.type, self.value, self.tb)\n",
      "  File \"/Users/enost/opt/anaconda3/lib/python3.9/site-packages/scrapy/core/downloader/middleware.py\", line 49, in process_request\n",
      "    return (yield download_func(request=request, spider=spider))\n",
      "  File \"/Users/enost/opt/anaconda3/lib/python3.9/site-packages/twisted/internet/defer.py\", line 857, in _runCallbacks\n",
      "    current.result = callback(  # type: ignore[misc]\n",
      "  File \"/Users/enost/opt/anaconda3/lib/python3.9/site-packages/twisted/internet/endpoints.py\", line 1020, in startConnectionAttempts\n",
      "    raise error.DNSLookupError(\n",
      "twisted.internet.error.DNSLookupError: DNS lookup failed: no results for hostname lookup: conservationbygeography.\n"
     ]
    },
    {
     "name": "stdout",
     "output_type": "stream",
     "text": [
      "inserting: 22381\r"
     ]
    },
    {
     "name": "stderr",
     "output_type": "stream",
     "text": [
      "2022-05-04 20:05:10 [scrapy.downloadermiddlewares.retry] ERROR: Gave up retrying <GET https://conservationbygeography/northamerica/unitedstates/edc/reportsdata/terrestrial/resilience/pages/default.aspx> (failed 3 times): DNS lookup failed: no results for hostname lookup: conservationbygeography.\n",
      "2022-05-04 20:05:10 [scrapy.core.scraper] ERROR: Error downloading <GET https://conservationbygeography/northamerica/unitedstates/edc/reportsdata/terrestrial/resilience/pages/default.aspx>\n",
      "Traceback (most recent call last):\n",
      "  File \"/Users/enost/opt/anaconda3/lib/python3.9/site-packages/twisted/internet/defer.py\", line 1656, in _inlineCallbacks\n",
      "    result = current_context.run(\n",
      "  File \"/Users/enost/opt/anaconda3/lib/python3.9/site-packages/twisted/python/failure.py\", line 489, in throwExceptionIntoGenerator\n",
      "    return g.throw(self.type, self.value, self.tb)\n",
      "  File \"/Users/enost/opt/anaconda3/lib/python3.9/site-packages/scrapy/core/downloader/middleware.py\", line 49, in process_request\n",
      "    return (yield download_func(request=request, spider=spider))\n",
      "  File \"/Users/enost/opt/anaconda3/lib/python3.9/site-packages/twisted/internet/defer.py\", line 857, in _runCallbacks\n",
      "    current.result = callback(  # type: ignore[misc]\n",
      "  File \"/Users/enost/opt/anaconda3/lib/python3.9/site-packages/twisted/internet/endpoints.py\", line 1020, in startConnectionAttempts\n",
      "    raise error.DNSLookupError(\n",
      "twisted.internet.error.DNSLookupError: DNS lookup failed: no results for hostname lookup: conservationbygeography.\n"
     ]
    },
    {
     "name": "stdout",
     "output_type": "stream",
     "text": [
      "inserting: 27631\r"
     ]
    },
    {
     "name": "stderr",
     "output_type": "stream",
     "text": [
      "2022-05-04 22:46:42 [scrapy.downloadermiddlewares.retry] ERROR: Gave up retrying <GET https://en/outdoor-recreation/visitor-safety.aspx> (failed 3 times): DNS lookup failed: no results for hostname lookup: en.\n",
      "2022-05-04 22:46:42 [scrapy.core.scraper] ERROR: Error downloading <GET https://en/outdoor-recreation/visitor-safety.aspx>\n",
      "Traceback (most recent call last):\n",
      "  File \"/Users/enost/opt/anaconda3/lib/python3.9/site-packages/twisted/internet/defer.py\", line 1656, in _inlineCallbacks\n",
      "    result = current_context.run(\n",
      "  File \"/Users/enost/opt/anaconda3/lib/python3.9/site-packages/twisted/python/failure.py\", line 489, in throwExceptionIntoGenerator\n",
      "    return g.throw(self.type, self.value, self.tb)\n",
      "  File \"/Users/enost/opt/anaconda3/lib/python3.9/site-packages/scrapy/core/downloader/middleware.py\", line 49, in process_request\n",
      "    return (yield download_func(request=request, spider=spider))\n",
      "  File \"/Users/enost/opt/anaconda3/lib/python3.9/site-packages/twisted/internet/defer.py\", line 857, in _runCallbacks\n",
      "    current.result = callback(  # type: ignore[misc]\n",
      "  File \"/Users/enost/opt/anaconda3/lib/python3.9/site-packages/twisted/internet/endpoints.py\", line 1020, in startConnectionAttempts\n",
      "    raise error.DNSLookupError(\n",
      "twisted.internet.error.DNSLookupError: DNS lookup failed: no results for hostname lookup: en.\n"
     ]
    },
    {
     "name": "stdout",
     "output_type": "stream",
     "text": [
      "inserting: 27604\r"
     ]
    },
    {
     "name": "stderr",
     "output_type": "stream",
     "text": [
      "2022-05-04 22:46:44 [scrapy.downloadermiddlewares.retry] ERROR: Gave up retrying <GET https://en/who-we-are/accessibility.aspx> (failed 3 times): DNS lookup failed: no results for hostname lookup: en.\n"
     ]
    },
    {
     "name": "stdout",
     "output_type": "stream",
     "text": [
      "inserting: 27638\r"
     ]
    },
    {
     "name": "stderr",
     "output_type": "stream",
     "text": [
      "2022-05-04 22:46:44 [scrapy.core.scraper] ERROR: Error downloading <GET https://en/who-we-are/accessibility.aspx>\n",
      "Traceback (most recent call last):\n",
      "  File \"/Users/enost/opt/anaconda3/lib/python3.9/site-packages/twisted/internet/defer.py\", line 1656, in _inlineCallbacks\n",
      "    result = current_context.run(\n",
      "  File \"/Users/enost/opt/anaconda3/lib/python3.9/site-packages/twisted/python/failure.py\", line 489, in throwExceptionIntoGenerator\n",
      "    return g.throw(self.type, self.value, self.tb)\n",
      "  File \"/Users/enost/opt/anaconda3/lib/python3.9/site-packages/scrapy/core/downloader/middleware.py\", line 49, in process_request\n",
      "    return (yield download_func(request=request, spider=spider))\n",
      "  File \"/Users/enost/opt/anaconda3/lib/python3.9/site-packages/twisted/internet/defer.py\", line 857, in _runCallbacks\n",
      "    current.result = callback(  # type: ignore[misc]\n",
      "  File \"/Users/enost/opt/anaconda3/lib/python3.9/site-packages/twisted/internet/endpoints.py\", line 1020, in startConnectionAttempts\n",
      "    raise error.DNSLookupError(\n",
      "twisted.internet.error.DNSLookupError: DNS lookup failed: no results for hostname lookup: en.\n",
      "2022-05-04 22:46:44 [scrapy.downloadermiddlewares.retry] ERROR: Gave up retrying <GET https://en/our-watershed/flooding.aspx> (failed 3 times): DNS lookup failed: no results for hostname lookup: en.\n",
      "2022-05-04 22:46:44 [scrapy.downloadermiddlewares.retry] ERROR: Gave up retrying <GET https://en/outdoor-recreation/camping.aspx> (failed 3 times): DNS lookup failed: no results for hostname lookup: en.\n",
      "2022-05-04 22:46:44 [scrapy.downloadermiddlewares.retry] ERROR: Gave up retrying <GET https://en/our-watershed/natural-heritage.aspx> (failed 3 times): DNS lookup failed: no results for hostname lookup: en.\n",
      "2022-05-04 22:46:44 [scrapy.core.scraper] ERROR: Error downloading <GET https://en/our-watershed/flooding.aspx>\n",
      "Traceback (most recent call last):\n",
      "  File \"/Users/enost/opt/anaconda3/lib/python3.9/site-packages/twisted/internet/defer.py\", line 1656, in _inlineCallbacks\n",
      "    result = current_context.run(\n",
      "  File \"/Users/enost/opt/anaconda3/lib/python3.9/site-packages/twisted/python/failure.py\", line 489, in throwExceptionIntoGenerator\n",
      "    return g.throw(self.type, self.value, self.tb)\n",
      "  File \"/Users/enost/opt/anaconda3/lib/python3.9/site-packages/scrapy/core/downloader/middleware.py\", line 49, in process_request\n",
      "    return (yield download_func(request=request, spider=spider))\n",
      "  File \"/Users/enost/opt/anaconda3/lib/python3.9/site-packages/twisted/internet/defer.py\", line 857, in _runCallbacks\n",
      "    current.result = callback(  # type: ignore[misc]\n",
      "  File \"/Users/enost/opt/anaconda3/lib/python3.9/site-packages/twisted/internet/endpoints.py\", line 1020, in startConnectionAttempts\n",
      "    raise error.DNSLookupError(\n",
      "twisted.internet.error.DNSLookupError: DNS lookup failed: no results for hostname lookup: en.\n",
      "2022-05-04 22:46:44 [scrapy.core.scraper] ERROR: Error downloading <GET https://en/outdoor-recreation/camping.aspx>\n",
      "Traceback (most recent call last):\n",
      "  File \"/Users/enost/opt/anaconda3/lib/python3.9/site-packages/twisted/internet/defer.py\", line 1656, in _inlineCallbacks\n",
      "    result = current_context.run(\n",
      "  File \"/Users/enost/opt/anaconda3/lib/python3.9/site-packages/twisted/python/failure.py\", line 489, in throwExceptionIntoGenerator\n",
      "    return g.throw(self.type, self.value, self.tb)\n",
      "  File \"/Users/enost/opt/anaconda3/lib/python3.9/site-packages/scrapy/core/downloader/middleware.py\", line 49, in process_request\n",
      "    return (yield download_func(request=request, spider=spider))\n",
      "  File \"/Users/enost/opt/anaconda3/lib/python3.9/site-packages/twisted/internet/defer.py\", line 857, in _runCallbacks\n",
      "    current.result = callback(  # type: ignore[misc]\n",
      "  File \"/Users/enost/opt/anaconda3/lib/python3.9/site-packages/twisted/internet/endpoints.py\", line 1020, in startConnectionAttempts\n",
      "    raise error.DNSLookupError(\n",
      "twisted.internet.error.DNSLookupError: DNS lookup failed: no results for hostname lookup: en.\n",
      "2022-05-04 22:46:44 [scrapy.core.scraper] ERROR: Error downloading <GET https://en/our-watershed/natural-heritage.aspx>\n",
      "Traceback (most recent call last):\n",
      "  File \"/Users/enost/opt/anaconda3/lib/python3.9/site-packages/twisted/internet/defer.py\", line 1656, in _inlineCallbacks\n",
      "    result = current_context.run(\n",
      "  File \"/Users/enost/opt/anaconda3/lib/python3.9/site-packages/twisted/python/failure.py\", line 489, in throwExceptionIntoGenerator\n",
      "    return g.throw(self.type, self.value, self.tb)\n",
      "  File \"/Users/enost/opt/anaconda3/lib/python3.9/site-packages/scrapy/core/downloader/middleware.py\", line 49, in process_request\n",
      "    return (yield download_func(request=request, spider=spider))\n",
      "  File \"/Users/enost/opt/anaconda3/lib/python3.9/site-packages/twisted/internet/defer.py\", line 857, in _runCallbacks\n",
      "    current.result = callback(  # type: ignore[misc]\n",
      "  File \"/Users/enost/opt/anaconda3/lib/python3.9/site-packages/twisted/internet/endpoints.py\", line 1020, in startConnectionAttempts\n",
      "    raise error.DNSLookupError(\n",
      "twisted.internet.error.DNSLookupError: DNS lookup failed: no results for hostname lookup: en.\n"
     ]
    },
    {
     "name": "stdout",
     "output_type": "stream",
     "text": [
      "inserting: 27650\r"
     ]
    },
    {
     "name": "stderr",
     "output_type": "stream",
     "text": [
      "2022-05-04 22:46:45 [scrapy.downloadermiddlewares.retry] ERROR: Gave up retrying <GET https://en/outdoor-recreation/park-services-and-info.aspx> (failed 3 times): DNS lookup failed: no results for hostname lookup: en.\n",
      "2022-05-04 22:46:45 [scrapy.core.scraper] ERROR: Error downloading <GET https://en/outdoor-recreation/park-services-and-info.aspx>\n",
      "Traceback (most recent call last):\n",
      "  File \"/Users/enost/opt/anaconda3/lib/python3.9/site-packages/twisted/internet/defer.py\", line 1656, in _inlineCallbacks\n",
      "    result = current_context.run(\n",
      "  File \"/Users/enost/opt/anaconda3/lib/python3.9/site-packages/twisted/python/failure.py\", line 489, in throwExceptionIntoGenerator\n",
      "    return g.throw(self.type, self.value, self.tb)\n",
      "  File \"/Users/enost/opt/anaconda3/lib/python3.9/site-packages/scrapy/core/downloader/middleware.py\", line 49, in process_request\n",
      "    return (yield download_func(request=request, spider=spider))\n",
      "  File \"/Users/enost/opt/anaconda3/lib/python3.9/site-packages/twisted/internet/defer.py\", line 857, in _runCallbacks\n",
      "    current.result = callback(  # type: ignore[misc]\n",
      "  File \"/Users/enost/opt/anaconda3/lib/python3.9/site-packages/twisted/internet/endpoints.py\", line 1020, in startConnectionAttempts\n",
      "    raise error.DNSLookupError(\n",
      "twisted.internet.error.DNSLookupError: DNS lookup failed: no results for hostname lookup: en.\n"
     ]
    },
    {
     "name": "stdout",
     "output_type": "stream",
     "text": [
      "inserting: 27651\r"
     ]
    },
    {
     "name": "stderr",
     "output_type": "stream",
     "text": [
      "2022-05-04 22:46:45 [scrapy.downloadermiddlewares.retry] ERROR: Gave up retrying <GET https://en/index.aspx> (failed 3 times): DNS lookup failed: no results for hostname lookup: en.\n",
      "2022-05-04 22:46:45 [scrapy.core.scraper] ERROR: Error downloading <GET https://en/index.aspx>\n",
      "Traceback (most recent call last):\n",
      "  File \"/Users/enost/opt/anaconda3/lib/python3.9/site-packages/twisted/internet/defer.py\", line 1656, in _inlineCallbacks\n",
      "    result = current_context.run(\n",
      "  File \"/Users/enost/opt/anaconda3/lib/python3.9/site-packages/twisted/python/failure.py\", line 489, in throwExceptionIntoGenerator\n",
      "    return g.throw(self.type, self.value, self.tb)\n",
      "  File \"/Users/enost/opt/anaconda3/lib/python3.9/site-packages/scrapy/core/downloader/middleware.py\", line 49, in process_request\n",
      "    return (yield download_func(request=request, spider=spider))\n",
      "  File \"/Users/enost/opt/anaconda3/lib/python3.9/site-packages/twisted/internet/defer.py\", line 857, in _runCallbacks\n",
      "    current.result = callback(  # type: ignore[misc]\n",
      "  File \"/Users/enost/opt/anaconda3/lib/python3.9/site-packages/twisted/internet/endpoints.py\", line 1020, in startConnectionAttempts\n",
      "    raise error.DNSLookupError(\n",
      "twisted.internet.error.DNSLookupError: DNS lookup failed: no results for hostname lookup: en.\n"
     ]
    },
    {
     "name": "stdout",
     "output_type": "stream",
     "text": [
      "inserting: 27664\r"
     ]
    },
    {
     "name": "stderr",
     "output_type": "stream",
     "text": [
      "2022-05-04 22:46:46 [scrapy.downloadermiddlewares.retry] ERROR: Gave up retrying <GET https://en/our-watershed/landowner-grants-and-resources.aspx> (failed 3 times): DNS lookup failed: no results for hostname lookup: en.\n",
      "2022-05-04 22:46:47 [scrapy.core.scraper] ERROR: Error downloading <GET https://en/our-watershed/landowner-grants-and-resources.aspx>\n",
      "Traceback (most recent call last):\n",
      "  File \"/Users/enost/opt/anaconda3/lib/python3.9/site-packages/twisted/internet/defer.py\", line 1656, in _inlineCallbacks\n",
      "    result = current_context.run(\n",
      "  File \"/Users/enost/opt/anaconda3/lib/python3.9/site-packages/twisted/python/failure.py\", line 489, in throwExceptionIntoGenerator\n",
      "    return g.throw(self.type, self.value, self.tb)\n",
      "  File \"/Users/enost/opt/anaconda3/lib/python3.9/site-packages/scrapy/core/downloader/middleware.py\", line 49, in process_request\n",
      "    return (yield download_func(request=request, spider=spider))\n",
      "  File \"/Users/enost/opt/anaconda3/lib/python3.9/site-packages/twisted/internet/defer.py\", line 857, in _runCallbacks\n",
      "    current.result = callback(  # type: ignore[misc]\n",
      "  File \"/Users/enost/opt/anaconda3/lib/python3.9/site-packages/twisted/internet/endpoints.py\", line 1020, in startConnectionAttempts\n",
      "    raise error.DNSLookupError(\n",
      "twisted.internet.error.DNSLookupError: DNS lookup failed: no results for hostname lookup: en.\n",
      "2022-05-04 22:46:47 [scrapy.downloadermiddlewares.retry] ERROR: Gave up retrying <GET https://en/who-we-are/grca-properties.aspx> (failed 3 times): DNS lookup failed: no results for hostname lookup: en.\n"
     ]
    },
    {
     "name": "stdout",
     "output_type": "stream",
     "text": [
      "inserting: 27666\r"
     ]
    },
    {
     "name": "stderr",
     "output_type": "stream",
     "text": [
      "2022-05-04 22:46:47 [scrapy.core.scraper] ERROR: Error downloading <GET https://en/who-we-are/grca-properties.aspx>\n",
      "Traceback (most recent call last):\n",
      "  File \"/Users/enost/opt/anaconda3/lib/python3.9/site-packages/twisted/internet/defer.py\", line 1656, in _inlineCallbacks\n",
      "    result = current_context.run(\n",
      "  File \"/Users/enost/opt/anaconda3/lib/python3.9/site-packages/twisted/python/failure.py\", line 489, in throwExceptionIntoGenerator\n",
      "    return g.throw(self.type, self.value, self.tb)\n",
      "  File \"/Users/enost/opt/anaconda3/lib/python3.9/site-packages/scrapy/core/downloader/middleware.py\", line 49, in process_request\n",
      "    return (yield download_func(request=request, spider=spider))\n",
      "  File \"/Users/enost/opt/anaconda3/lib/python3.9/site-packages/twisted/internet/defer.py\", line 857, in _runCallbacks\n",
      "    current.result = callback(  # type: ignore[misc]\n",
      "  File \"/Users/enost/opt/anaconda3/lib/python3.9/site-packages/twisted/internet/endpoints.py\", line 1020, in startConnectionAttempts\n",
      "    raise error.DNSLookupError(\n",
      "twisted.internet.error.DNSLookupError: DNS lookup failed: no results for hostname lookup: en.\n"
     ]
    },
    {
     "name": "stdout",
     "output_type": "stream",
     "text": [
      "inserting: 27674\r"
     ]
    },
    {
     "name": "stderr",
     "output_type": "stream",
     "text": [
      "2022-05-04 22:46:48 [scrapy.downloadermiddlewares.retry] ERROR: Gave up retrying <GET https://en/learn-get-involved/connect-with-nature-at-home.aspx> (failed 3 times): DNS lookup failed: no results for hostname lookup: en.\n",
      "2022-05-04 22:46:48 [scrapy.downloadermiddlewares.retry] ERROR: Gave up retrying <GET https://en/terms-of-use.aspx> (failed 3 times): DNS lookup failed: no results for hostname lookup: en.\n"
     ]
    },
    {
     "name": "stdout",
     "output_type": "stream",
     "text": [
      "inserting: 27676\r"
     ]
    },
    {
     "name": "stderr",
     "output_type": "stream",
     "text": [
      "2022-05-04 22:46:48 [scrapy.core.scraper] ERROR: Error downloading <GET https://en/learn-get-involved/connect-with-nature-at-home.aspx>\n",
      "Traceback (most recent call last):\n",
      "  File \"/Users/enost/opt/anaconda3/lib/python3.9/site-packages/twisted/internet/defer.py\", line 1656, in _inlineCallbacks\n",
      "    result = current_context.run(\n",
      "  File \"/Users/enost/opt/anaconda3/lib/python3.9/site-packages/twisted/python/failure.py\", line 489, in throwExceptionIntoGenerator\n",
      "    return g.throw(self.type, self.value, self.tb)\n",
      "  File \"/Users/enost/opt/anaconda3/lib/python3.9/site-packages/scrapy/core/downloader/middleware.py\", line 49, in process_request\n",
      "    return (yield download_func(request=request, spider=spider))\n",
      "  File \"/Users/enost/opt/anaconda3/lib/python3.9/site-packages/twisted/internet/defer.py\", line 857, in _runCallbacks\n",
      "    current.result = callback(  # type: ignore[misc]\n",
      "  File \"/Users/enost/opt/anaconda3/lib/python3.9/site-packages/twisted/internet/endpoints.py\", line 1020, in startConnectionAttempts\n",
      "    raise error.DNSLookupError(\n",
      "twisted.internet.error.DNSLookupError: DNS lookup failed: no results for hostname lookup: en.\n",
      "2022-05-04 22:46:48 [scrapy.core.scraper] ERROR: Error downloading <GET https://en/terms-of-use.aspx>\n",
      "Traceback (most recent call last):\n",
      "  File \"/Users/enost/opt/anaconda3/lib/python3.9/site-packages/twisted/internet/defer.py\", line 1656, in _inlineCallbacks\n",
      "    result = current_context.run(\n",
      "  File \"/Users/enost/opt/anaconda3/lib/python3.9/site-packages/twisted/python/failure.py\", line 489, in throwExceptionIntoGenerator\n",
      "    return g.throw(self.type, self.value, self.tb)\n",
      "  File \"/Users/enost/opt/anaconda3/lib/python3.9/site-packages/scrapy/core/downloader/middleware.py\", line 49, in process_request\n",
      "    return (yield download_func(request=request, spider=spider))\n",
      "  File \"/Users/enost/opt/anaconda3/lib/python3.9/site-packages/twisted/internet/defer.py\", line 857, in _runCallbacks\n",
      "    current.result = callback(  # type: ignore[misc]\n",
      "  File \"/Users/enost/opt/anaconda3/lib/python3.9/site-packages/twisted/internet/endpoints.py\", line 1020, in startConnectionAttempts\n",
      "    raise error.DNSLookupError(\n",
      "twisted.internet.error.DNSLookupError: DNS lookup failed: no results for hostname lookup: en.\n"
     ]
    },
    {
     "name": "stdout",
     "output_type": "stream",
     "text": [
      "inserting: 27687\r"
     ]
    },
    {
     "name": "stderr",
     "output_type": "stream",
     "text": [
      "2022-05-04 22:46:50 [scrapy.downloadermiddlewares.retry] ERROR: Gave up retrying <GET https://en/outdoor-recreation/trails.aspx> (failed 3 times): DNS lookup failed: no results for hostname lookup: en.\n",
      "2022-05-04 22:46:50 [scrapy.downloadermiddlewares.retry] ERROR: Gave up retrying <GET https://en/who-we-are/conservation-authorities-act-regulation-687-21.aspx> (failed 3 times): DNS lookup failed: no results for hostname lookup: en.\n",
      "2022-05-04 22:46:50 [scrapy.core.scraper] ERROR: Error downloading <GET https://en/outdoor-recreation/trails.aspx>\n",
      "Traceback (most recent call last):\n",
      "  File \"/Users/enost/opt/anaconda3/lib/python3.9/site-packages/twisted/internet/defer.py\", line 1656, in _inlineCallbacks\n",
      "    result = current_context.run(\n",
      "  File \"/Users/enost/opt/anaconda3/lib/python3.9/site-packages/twisted/python/failure.py\", line 489, in throwExceptionIntoGenerator\n",
      "    return g.throw(self.type, self.value, self.tb)\n",
      "  File \"/Users/enost/opt/anaconda3/lib/python3.9/site-packages/scrapy/core/downloader/middleware.py\", line 49, in process_request\n",
      "    return (yield download_func(request=request, spider=spider))\n",
      "  File \"/Users/enost/opt/anaconda3/lib/python3.9/site-packages/twisted/internet/defer.py\", line 857, in _runCallbacks\n",
      "    current.result = callback(  # type: ignore[misc]\n",
      "  File \"/Users/enost/opt/anaconda3/lib/python3.9/site-packages/twisted/internet/endpoints.py\", line 1020, in startConnectionAttempts\n",
      "    raise error.DNSLookupError(\n",
      "twisted.internet.error.DNSLookupError: DNS lookup failed: no results for hostname lookup: en.\n",
      "2022-05-04 22:46:50 [scrapy.core.scraper] ERROR: Error downloading <GET https://en/who-we-are/conservation-authorities-act-regulation-687-21.aspx>\n",
      "Traceback (most recent call last):\n",
      "  File \"/Users/enost/opt/anaconda3/lib/python3.9/site-packages/twisted/internet/defer.py\", line 1656, in _inlineCallbacks\n",
      "    result = current_context.run(\n",
      "  File \"/Users/enost/opt/anaconda3/lib/python3.9/site-packages/twisted/python/failure.py\", line 489, in throwExceptionIntoGenerator\n",
      "    return g.throw(self.type, self.value, self.tb)\n",
      "  File \"/Users/enost/opt/anaconda3/lib/python3.9/site-packages/scrapy/core/downloader/middleware.py\", line 49, in process_request\n",
      "    return (yield download_func(request=request, spider=spider))\n",
      "  File \"/Users/enost/opt/anaconda3/lib/python3.9/site-packages/twisted/internet/defer.py\", line 857, in _runCallbacks\n",
      "    current.result = callback(  # type: ignore[misc]\n",
      "  File \"/Users/enost/opt/anaconda3/lib/python3.9/site-packages/twisted/internet/endpoints.py\", line 1020, in startConnectionAttempts\n",
      "    raise error.DNSLookupError(\n",
      "twisted.internet.error.DNSLookupError: DNS lookup failed: no results for hostname lookup: en.\n"
     ]
    },
    {
     "name": "stdout",
     "output_type": "stream",
     "text": [
      "inserting: 27689\r"
     ]
    },
    {
     "name": "stderr",
     "output_type": "stream",
     "text": [
      "2022-05-04 22:46:50 [scrapy.downloadermiddlewares.retry] ERROR: Gave up retrying <GET https://en/who-we-are/grca-partners.aspx> (failed 3 times): DNS lookup failed: no results for hostname lookup: en.\n",
      "2022-05-04 22:46:50 [scrapy.downloadermiddlewares.retry] ERROR: Gave up retrying <GET https://en/learn-get-involved/day-camps.aspx> (failed 3 times): DNS lookup failed: no results for hostname lookup: en.\n",
      "2022-05-04 22:46:50 [scrapy.core.scraper] ERROR: Error downloading <GET https://en/who-we-are/grca-partners.aspx>\n",
      "Traceback (most recent call last):\n",
      "  File \"/Users/enost/opt/anaconda3/lib/python3.9/site-packages/twisted/internet/defer.py\", line 1656, in _inlineCallbacks\n",
      "    result = current_context.run(\n",
      "  File \"/Users/enost/opt/anaconda3/lib/python3.9/site-packages/twisted/python/failure.py\", line 489, in throwExceptionIntoGenerator\n",
      "    return g.throw(self.type, self.value, self.tb)\n",
      "  File \"/Users/enost/opt/anaconda3/lib/python3.9/site-packages/scrapy/core/downloader/middleware.py\", line 49, in process_request\n",
      "    return (yield download_func(request=request, spider=spider))\n",
      "  File \"/Users/enost/opt/anaconda3/lib/python3.9/site-packages/twisted/internet/defer.py\", line 857, in _runCallbacks\n",
      "    current.result = callback(  # type: ignore[misc]\n",
      "  File \"/Users/enost/opt/anaconda3/lib/python3.9/site-packages/twisted/internet/endpoints.py\", line 1020, in startConnectionAttempts\n",
      "    raise error.DNSLookupError(\n",
      "twisted.internet.error.DNSLookupError: DNS lookup failed: no results for hostname lookup: en.\n",
      "2022-05-04 22:46:50 [scrapy.core.scraper] ERROR: Error downloading <GET https://en/learn-get-involved/day-camps.aspx>\n",
      "Traceback (most recent call last):\n",
      "  File \"/Users/enost/opt/anaconda3/lib/python3.9/site-packages/twisted/internet/defer.py\", line 1656, in _inlineCallbacks\n",
      "    result = current_context.run(\n",
      "  File \"/Users/enost/opt/anaconda3/lib/python3.9/site-packages/twisted/python/failure.py\", line 489, in throwExceptionIntoGenerator\n",
      "    return g.throw(self.type, self.value, self.tb)\n",
      "  File \"/Users/enost/opt/anaconda3/lib/python3.9/site-packages/scrapy/core/downloader/middleware.py\", line 49, in process_request\n",
      "    return (yield download_func(request=request, spider=spider))\n",
      "  File \"/Users/enost/opt/anaconda3/lib/python3.9/site-packages/twisted/internet/defer.py\", line 857, in _runCallbacks\n",
      "    current.result = callback(  # type: ignore[misc]\n",
      "  File \"/Users/enost/opt/anaconda3/lib/python3.9/site-packages/twisted/internet/endpoints.py\", line 1020, in startConnectionAttempts\n",
      "    raise error.DNSLookupError(\n",
      "twisted.internet.error.DNSLookupError: DNS lookup failed: no results for hostname lookup: en.\n"
     ]
    },
    {
     "name": "stdout",
     "output_type": "stream",
     "text": [
      "inserting: 27699\r"
     ]
    },
    {
     "name": "stderr",
     "output_type": "stream",
     "text": [
      "2022-05-04 22:46:51 [scrapy.downloadermiddlewares.retry] ERROR: Gave up retrying <GET https://en/outdoor-recreation/hunting.aspx> (failed 3 times): DNS lookup failed: no results for hostname lookup: en.\n"
     ]
    },
    {
     "name": "stdout",
     "output_type": "stream",
     "text": [
      "inserting: 27701\r"
     ]
    },
    {
     "name": "stderr",
     "output_type": "stream",
     "text": [
      "2022-05-04 22:46:51 [scrapy.core.scraper] ERROR: Error downloading <GET https://en/outdoor-recreation/hunting.aspx>\n",
      "Traceback (most recent call last):\n",
      "  File \"/Users/enost/opt/anaconda3/lib/python3.9/site-packages/twisted/internet/defer.py\", line 1656, in _inlineCallbacks\n",
      "    result = current_context.run(\n",
      "  File \"/Users/enost/opt/anaconda3/lib/python3.9/site-packages/twisted/python/failure.py\", line 489, in throwExceptionIntoGenerator\n",
      "    return g.throw(self.type, self.value, self.tb)\n",
      "  File \"/Users/enost/opt/anaconda3/lib/python3.9/site-packages/scrapy/core/downloader/middleware.py\", line 49, in process_request\n",
      "    return (yield download_func(request=request, spider=spider))\n",
      "  File \"/Users/enost/opt/anaconda3/lib/python3.9/site-packages/twisted/internet/defer.py\", line 857, in _runCallbacks\n",
      "    current.result = callback(  # type: ignore[misc]\n",
      "  File \"/Users/enost/opt/anaconda3/lib/python3.9/site-packages/twisted/internet/endpoints.py\", line 1020, in startConnectionAttempts\n",
      "    raise error.DNSLookupError(\n",
      "twisted.internet.error.DNSLookupError: DNS lookup failed: no results for hostname lookup: en.\n"
     ]
    },
    {
     "name": "stdout",
     "output_type": "stream",
     "text": [
      "inserting: 27705\r"
     ]
    },
    {
     "name": "stderr",
     "output_type": "stream",
     "text": [
      "2022-05-04 22:46:52 [scrapy.downloadermiddlewares.retry] ERROR: Gave up retrying <GET https://en/planning-development/planning-and-development.aspx> (failed 3 times): DNS lookup failed: no results for hostname lookup: en.\n",
      "2022-05-04 22:46:52 [scrapy.core.scraper] ERROR: Error downloading <GET https://en/planning-development/planning-and-development.aspx>\n",
      "Traceback (most recent call last):\n",
      "  File \"/Users/enost/opt/anaconda3/lib/python3.9/site-packages/twisted/internet/defer.py\", line 1656, in _inlineCallbacks\n",
      "    result = current_context.run(\n",
      "  File \"/Users/enost/opt/anaconda3/lib/python3.9/site-packages/twisted/python/failure.py\", line 489, in throwExceptionIntoGenerator\n",
      "    return g.throw(self.type, self.value, self.tb)\n",
      "  File \"/Users/enost/opt/anaconda3/lib/python3.9/site-packages/scrapy/core/downloader/middleware.py\", line 49, in process_request\n",
      "    return (yield download_func(request=request, spider=spider))\n",
      "  File \"/Users/enost/opt/anaconda3/lib/python3.9/site-packages/twisted/internet/defer.py\", line 857, in _runCallbacks\n",
      "    current.result = callback(  # type: ignore[misc]\n",
      "  File \"/Users/enost/opt/anaconda3/lib/python3.9/site-packages/twisted/internet/endpoints.py\", line 1020, in startConnectionAttempts\n",
      "    raise error.DNSLookupError(\n",
      "twisted.internet.error.DNSLookupError: DNS lookup failed: no results for hostname lookup: en.\n"
     ]
    },
    {
     "name": "stdout",
     "output_type": "stream",
     "text": [
      "inserting: 27708\r"
     ]
    },
    {
     "name": "stderr",
     "output_type": "stream",
     "text": [
      "2022-05-04 22:46:52 [scrapy.downloadermiddlewares.retry] ERROR: Gave up retrying <GET https://en/our-watershed/heritage-river-designation.aspx> (failed 3 times): DNS lookup failed: no results for hostname lookup: en.\n",
      "2022-05-04 22:46:52 [scrapy.downloadermiddlewares.retry] ERROR: Gave up retrying <GET https://en/learn-get-involved/watershed-awards.aspx> (failed 3 times): DNS lookup failed: no results for hostname lookup: en.\n",
      "2022-05-04 22:46:52 [scrapy.core.scraper] ERROR: Error downloading <GET https://en/our-watershed/heritage-river-designation.aspx>\n",
      "Traceback (most recent call last):\n",
      "  File \"/Users/enost/opt/anaconda3/lib/python3.9/site-packages/twisted/internet/defer.py\", line 1656, in _inlineCallbacks\n",
      "    result = current_context.run(\n",
      "  File \"/Users/enost/opt/anaconda3/lib/python3.9/site-packages/twisted/python/failure.py\", line 489, in throwExceptionIntoGenerator\n",
      "    return g.throw(self.type, self.value, self.tb)\n",
      "  File \"/Users/enost/opt/anaconda3/lib/python3.9/site-packages/scrapy/core/downloader/middleware.py\", line 49, in process_request\n",
      "    return (yield download_func(request=request, spider=spider))\n",
      "  File \"/Users/enost/opt/anaconda3/lib/python3.9/site-packages/twisted/internet/defer.py\", line 857, in _runCallbacks\n",
      "    current.result = callback(  # type: ignore[misc]\n",
      "  File \"/Users/enost/opt/anaconda3/lib/python3.9/site-packages/twisted/internet/endpoints.py\", line 1020, in startConnectionAttempts\n",
      "    raise error.DNSLookupError(\n",
      "twisted.internet.error.DNSLookupError: DNS lookup failed: no results for hostname lookup: en.\n",
      "2022-05-04 22:46:52 [scrapy.core.scraper] ERROR: Error downloading <GET https://en/learn-get-involved/watershed-awards.aspx>\n",
      "Traceback (most recent call last):\n",
      "  File \"/Users/enost/opt/anaconda3/lib/python3.9/site-packages/twisted/internet/defer.py\", line 1656, in _inlineCallbacks\n",
      "    result = current_context.run(\n",
      "  File \"/Users/enost/opt/anaconda3/lib/python3.9/site-packages/twisted/python/failure.py\", line 489, in throwExceptionIntoGenerator\n",
      "    return g.throw(self.type, self.value, self.tb)\n",
      "  File \"/Users/enost/opt/anaconda3/lib/python3.9/site-packages/scrapy/core/downloader/middleware.py\", line 49, in process_request\n",
      "    return (yield download_func(request=request, spider=spider))\n",
      "  File \"/Users/enost/opt/anaconda3/lib/python3.9/site-packages/twisted/internet/defer.py\", line 857, in _runCallbacks\n",
      "    current.result = callback(  # type: ignore[misc]\n",
      "  File \"/Users/enost/opt/anaconda3/lib/python3.9/site-packages/twisted/internet/endpoints.py\", line 1020, in startConnectionAttempts\n",
      "    raise error.DNSLookupError(\n",
      "twisted.internet.error.DNSLookupError: DNS lookup failed: no results for hostname lookup: en.\n",
      "2022-05-04 22:46:52 [scrapy.downloadermiddlewares.retry] ERROR: Gave up retrying <GET https://en/our-watershed/low-water-response.aspx> (failed 3 times): DNS lookup failed: no results for hostname lookup: en.\n",
      "2022-05-04 22:46:52 [scrapy.downloadermiddlewares.retry] ERROR: Gave up retrying <GET https://en/grand-river-conservation-foundation.aspx> (failed 3 times): DNS lookup failed: no results for hostname lookup: en.\n"
     ]
    },
    {
     "name": "stdout",
     "output_type": "stream",
     "text": [
      "inserting: 27711\r"
     ]
    },
    {
     "name": "stderr",
     "output_type": "stream",
     "text": [
      "2022-05-04 22:46:52 [scrapy.core.scraper] ERROR: Error downloading <GET https://en/our-watershed/low-water-response.aspx>\n",
      "Traceback (most recent call last):\n",
      "  File \"/Users/enost/opt/anaconda3/lib/python3.9/site-packages/twisted/internet/defer.py\", line 1656, in _inlineCallbacks\n",
      "    result = current_context.run(\n",
      "  File \"/Users/enost/opt/anaconda3/lib/python3.9/site-packages/twisted/python/failure.py\", line 489, in throwExceptionIntoGenerator\n",
      "    return g.throw(self.type, self.value, self.tb)\n",
      "  File \"/Users/enost/opt/anaconda3/lib/python3.9/site-packages/scrapy/core/downloader/middleware.py\", line 49, in process_request\n",
      "    return (yield download_func(request=request, spider=spider))\n",
      "  File \"/Users/enost/opt/anaconda3/lib/python3.9/site-packages/twisted/internet/defer.py\", line 857, in _runCallbacks\n",
      "    current.result = callback(  # type: ignore[misc]\n",
      "  File \"/Users/enost/opt/anaconda3/lib/python3.9/site-packages/twisted/internet/endpoints.py\", line 1020, in startConnectionAttempts\n",
      "    raise error.DNSLookupError(\n",
      "twisted.internet.error.DNSLookupError: DNS lookup failed: no results for hostname lookup: en.\n",
      "2022-05-04 22:46:52 [scrapy.core.scraper] ERROR: Error downloading <GET https://en/grand-river-conservation-foundation.aspx>\n",
      "Traceback (most recent call last):\n",
      "  File \"/Users/enost/opt/anaconda3/lib/python3.9/site-packages/twisted/internet/defer.py\", line 1656, in _inlineCallbacks\n",
      "    result = current_context.run(\n",
      "  File \"/Users/enost/opt/anaconda3/lib/python3.9/site-packages/twisted/python/failure.py\", line 489, in throwExceptionIntoGenerator\n",
      "    return g.throw(self.type, self.value, self.tb)\n",
      "  File \"/Users/enost/opt/anaconda3/lib/python3.9/site-packages/scrapy/core/downloader/middleware.py\", line 49, in process_request\n",
      "    return (yield download_func(request=request, spider=spider))\n",
      "  File \"/Users/enost/opt/anaconda3/lib/python3.9/site-packages/twisted/internet/defer.py\", line 857, in _runCallbacks\n",
      "    current.result = callback(  # type: ignore[misc]\n",
      "  File \"/Users/enost/opt/anaconda3/lib/python3.9/site-packages/twisted/internet/endpoints.py\", line 1020, in startConnectionAttempts\n",
      "    raise error.DNSLookupError(\n",
      "twisted.internet.error.DNSLookupError: DNS lookup failed: no results for hostname lookup: en.\n"
     ]
    },
    {
     "name": "stdout",
     "output_type": "stream",
     "text": [
      "inserting: 27737\r"
     ]
    },
    {
     "name": "stderr",
     "output_type": "stream",
     "text": [
      "2022-05-04 22:46:55 [scrapy.downloadermiddlewares.retry] ERROR: Gave up retrying <GET https://en/our-watershed/watershed-planning.aspx> (failed 3 times): DNS lookup failed: no results for hostname lookup: en.\n",
      "2022-05-04 22:46:55 [scrapy.core.scraper] ERROR: Error downloading <GET https://en/our-watershed/watershed-planning.aspx>\n",
      "Traceback (most recent call last):\n",
      "  File \"/Users/enost/opt/anaconda3/lib/python3.9/site-packages/twisted/internet/defer.py\", line 1656, in _inlineCallbacks\n",
      "    result = current_context.run(\n",
      "  File \"/Users/enost/opt/anaconda3/lib/python3.9/site-packages/twisted/python/failure.py\", line 489, in throwExceptionIntoGenerator\n",
      "    return g.throw(self.type, self.value, self.tb)\n",
      "  File \"/Users/enost/opt/anaconda3/lib/python3.9/site-packages/scrapy/core/downloader/middleware.py\", line 49, in process_request\n",
      "    return (yield download_func(request=request, spider=spider))\n",
      "  File \"/Users/enost/opt/anaconda3/lib/python3.9/site-packages/twisted/internet/defer.py\", line 857, in _runCallbacks\n",
      "    current.result = callback(  # type: ignore[misc]\n",
      "  File \"/Users/enost/opt/anaconda3/lib/python3.9/site-packages/twisted/internet/endpoints.py\", line 1020, in startConnectionAttempts\n",
      "    raise error.DNSLookupError(\n",
      "twisted.internet.error.DNSLookupError: DNS lookup failed: no results for hostname lookup: en.\n"
     ]
    },
    {
     "name": "stdout",
     "output_type": "stream",
     "text": [
      "inserting: 27609\r"
     ]
    },
    {
     "name": "stderr",
     "output_type": "stream",
     "text": [
      "2022-05-04 22:46:58 [scrapy.downloadermiddlewares.retry] ERROR: Gave up retrying <GET https://en/who-we-are/grca-strategic-plan.aspx> (failed 3 times): DNS lookup failed: no results for hostname lookup: en.\n",
      "2022-05-04 22:46:58 [scrapy.downloadermiddlewares.retry] ERROR: Gave up retrying <GET https://en/outdoor-recreation/winter-activity-conditions.aspx> (failed 3 times): DNS lookup failed: no results for hostname lookup: en.\n",
      "2022-05-04 22:46:58 [scrapy.core.scraper] ERROR: Error downloading <GET https://en/who-we-are/grca-strategic-plan.aspx>\n",
      "Traceback (most recent call last):\n",
      "  File \"/Users/enost/opt/anaconda3/lib/python3.9/site-packages/twisted/internet/defer.py\", line 1656, in _inlineCallbacks\n",
      "    result = current_context.run(\n",
      "  File \"/Users/enost/opt/anaconda3/lib/python3.9/site-packages/twisted/python/failure.py\", line 489, in throwExceptionIntoGenerator\n",
      "    return g.throw(self.type, self.value, self.tb)\n",
      "  File \"/Users/enost/opt/anaconda3/lib/python3.9/site-packages/scrapy/core/downloader/middleware.py\", line 49, in process_request\n",
      "    return (yield download_func(request=request, spider=spider))\n",
      "  File \"/Users/enost/opt/anaconda3/lib/python3.9/site-packages/twisted/internet/defer.py\", line 857, in _runCallbacks\n",
      "    current.result = callback(  # type: ignore[misc]\n",
      "  File \"/Users/enost/opt/anaconda3/lib/python3.9/site-packages/twisted/internet/endpoints.py\", line 1020, in startConnectionAttempts\n",
      "    raise error.DNSLookupError(\n",
      "twisted.internet.error.DNSLookupError: DNS lookup failed: no results for hostname lookup: en.\n",
      "2022-05-04 22:46:58 [scrapy.core.scraper] ERROR: Error downloading <GET https://en/outdoor-recreation/winter-activity-conditions.aspx>\n",
      "Traceback (most recent call last):\n",
      "  File \"/Users/enost/opt/anaconda3/lib/python3.9/site-packages/twisted/internet/defer.py\", line 1656, in _inlineCallbacks\n",
      "    result = current_context.run(\n",
      "  File \"/Users/enost/opt/anaconda3/lib/python3.9/site-packages/twisted/python/failure.py\", line 489, in throwExceptionIntoGenerator\n",
      "    return g.throw(self.type, self.value, self.tb)\n",
      "  File \"/Users/enost/opt/anaconda3/lib/python3.9/site-packages/scrapy/core/downloader/middleware.py\", line 49, in process_request\n",
      "    return (yield download_func(request=request, spider=spider))\n",
      "  File \"/Users/enost/opt/anaconda3/lib/python3.9/site-packages/twisted/internet/defer.py\", line 857, in _runCallbacks\n",
      "    current.result = callback(  # type: ignore[misc]\n",
      "  File \"/Users/enost/opt/anaconda3/lib/python3.9/site-packages/twisted/internet/endpoints.py\", line 1020, in startConnectionAttempts\n",
      "    raise error.DNSLookupError(\n",
      "twisted.internet.error.DNSLookupError: DNS lookup failed: no results for hostname lookup: en.\n"
     ]
    },
    {
     "name": "stdout",
     "output_type": "stream",
     "text": [
      "inserting: 27611\r"
     ]
    },
    {
     "name": "stderr",
     "output_type": "stream",
     "text": [
      "2022-05-04 22:46:58 [scrapy.downloadermiddlewares.retry] ERROR: Gave up retrying <GET https://en/who-we-are/vision-mission-values.aspx> (failed 3 times): DNS lookup failed: no results for hostname lookup: en.\n",
      "2022-05-04 22:46:58 [scrapy.core.scraper] ERROR: Error downloading <GET https://en/who-we-are/vision-mission-values.aspx>\n",
      "Traceback (most recent call last):\n",
      "  File \"/Users/enost/opt/anaconda3/lib/python3.9/site-packages/twisted/internet/defer.py\", line 1656, in _inlineCallbacks\n",
      "    result = current_context.run(\n",
      "  File \"/Users/enost/opt/anaconda3/lib/python3.9/site-packages/twisted/python/failure.py\", line 489, in throwExceptionIntoGenerator\n",
      "    return g.throw(self.type, self.value, self.tb)\n",
      "  File \"/Users/enost/opt/anaconda3/lib/python3.9/site-packages/scrapy/core/downloader/middleware.py\", line 49, in process_request\n",
      "    return (yield download_func(request=request, spider=spider))\n",
      "  File \"/Users/enost/opt/anaconda3/lib/python3.9/site-packages/twisted/internet/defer.py\", line 857, in _runCallbacks\n",
      "    current.result = callback(  # type: ignore[misc]\n",
      "  File \"/Users/enost/opt/anaconda3/lib/python3.9/site-packages/twisted/internet/endpoints.py\", line 1020, in startConnectionAttempts\n",
      "    raise error.DNSLookupError(\n",
      "twisted.internet.error.DNSLookupError: DNS lookup failed: no results for hostname lookup: en.\n",
      "2022-05-04 22:46:58 [scrapy.downloadermiddlewares.retry] ERROR: Gave up retrying <GET https://en/outdoor-recreation/geocaching.aspx> (failed 3 times): DNS lookup failed: no results for hostname lookup: en.\n",
      "2022-05-04 22:46:58 [scrapy.downloadermiddlewares.retry] ERROR: Gave up retrying <GET https://en/who-we-are/bids-and-tenders.aspx> (failed 3 times): DNS lookup failed: no results for hostname lookup: en.\n"
     ]
    },
    {
     "name": "stdout",
     "output_type": "stream",
     "text": [
      "inserting: 27767\r"
     ]
    },
    {
     "name": "stderr",
     "output_type": "stream",
     "text": [
      "2022-05-04 22:46:59 [scrapy.core.scraper] ERROR: Error downloading <GET https://en/outdoor-recreation/geocaching.aspx>\n",
      "Traceback (most recent call last):\n",
      "  File \"/Users/enost/opt/anaconda3/lib/python3.9/site-packages/twisted/internet/defer.py\", line 1656, in _inlineCallbacks\n",
      "    result = current_context.run(\n",
      "  File \"/Users/enost/opt/anaconda3/lib/python3.9/site-packages/twisted/python/failure.py\", line 489, in throwExceptionIntoGenerator\n",
      "    return g.throw(self.type, self.value, self.tb)\n",
      "  File \"/Users/enost/opt/anaconda3/lib/python3.9/site-packages/scrapy/core/downloader/middleware.py\", line 49, in process_request\n",
      "    return (yield download_func(request=request, spider=spider))\n",
      "  File \"/Users/enost/opt/anaconda3/lib/python3.9/site-packages/twisted/internet/defer.py\", line 857, in _runCallbacks\n",
      "    current.result = callback(  # type: ignore[misc]\n",
      "  File \"/Users/enost/opt/anaconda3/lib/python3.9/site-packages/twisted/internet/endpoints.py\", line 1020, in startConnectionAttempts\n",
      "    raise error.DNSLookupError(\n",
      "twisted.internet.error.DNSLookupError: DNS lookup failed: no results for hostname lookup: en.\n",
      "2022-05-04 22:46:59 [scrapy.core.scraper] ERROR: Error downloading <GET https://en/who-we-are/bids-and-tenders.aspx>\n",
      "Traceback (most recent call last):\n",
      "  File \"/Users/enost/opt/anaconda3/lib/python3.9/site-packages/twisted/internet/defer.py\", line 1656, in _inlineCallbacks\n",
      "    result = current_context.run(\n",
      "  File \"/Users/enost/opt/anaconda3/lib/python3.9/site-packages/twisted/python/failure.py\", line 489, in throwExceptionIntoGenerator\n",
      "    return g.throw(self.type, self.value, self.tb)\n",
      "  File \"/Users/enost/opt/anaconda3/lib/python3.9/site-packages/scrapy/core/downloader/middleware.py\", line 49, in process_request\n",
      "    return (yield download_func(request=request, spider=spider))\n",
      "  File \"/Users/enost/opt/anaconda3/lib/python3.9/site-packages/twisted/internet/defer.py\", line 857, in _runCallbacks\n",
      "    current.result = callback(  # type: ignore[misc]\n",
      "  File \"/Users/enost/opt/anaconda3/lib/python3.9/site-packages/twisted/internet/endpoints.py\", line 1020, in startConnectionAttempts\n",
      "    raise error.DNSLookupError(\n",
      "twisted.internet.error.DNSLookupError: DNS lookup failed: no results for hostname lookup: en.\n"
     ]
    },
    {
     "name": "stdout",
     "output_type": "stream",
     "text": [
      "inserting: 27771\r"
     ]
    },
    {
     "name": "stderr",
     "output_type": "stream",
     "text": [
      "2022-05-04 22:46:59 [scrapy.downloadermiddlewares.retry] ERROR: Gave up retrying <GET https://en/learn-get-involved/nature-centres.aspx> (failed 3 times): DNS lookup failed: no results for hostname lookup: en.\n",
      "2022-05-04 22:46:59 [scrapy.downloadermiddlewares.retry] ERROR: Gave up retrying <GET https://en/our-watershed/flood-warning-system.aspx> (failed 3 times): DNS lookup failed: no results for hostname lookup: en.\n"
     ]
    },
    {
     "name": "stdout",
     "output_type": "stream",
     "text": [
      "inserting: 27775\r"
     ]
    },
    {
     "name": "stderr",
     "output_type": "stream",
     "text": [
      "2022-05-04 22:46:59 [scrapy.core.scraper] ERROR: Error downloading <GET https://en/learn-get-involved/nature-centres.aspx>\n",
      "Traceback (most recent call last):\n",
      "  File \"/Users/enost/opt/anaconda3/lib/python3.9/site-packages/twisted/internet/defer.py\", line 1656, in _inlineCallbacks\n",
      "    result = current_context.run(\n",
      "  File \"/Users/enost/opt/anaconda3/lib/python3.9/site-packages/twisted/python/failure.py\", line 489, in throwExceptionIntoGenerator\n",
      "    return g.throw(self.type, self.value, self.tb)\n",
      "  File \"/Users/enost/opt/anaconda3/lib/python3.9/site-packages/scrapy/core/downloader/middleware.py\", line 49, in process_request\n",
      "    return (yield download_func(request=request, spider=spider))\n",
      "  File \"/Users/enost/opt/anaconda3/lib/python3.9/site-packages/twisted/internet/defer.py\", line 857, in _runCallbacks\n",
      "    current.result = callback(  # type: ignore[misc]\n",
      "  File \"/Users/enost/opt/anaconda3/lib/python3.9/site-packages/twisted/internet/endpoints.py\", line 1020, in startConnectionAttempts\n",
      "    raise error.DNSLookupError(\n",
      "twisted.internet.error.DNSLookupError: DNS lookup failed: no results for hostname lookup: en.\n",
      "2022-05-04 22:46:59 [scrapy.downloadermiddlewares.retry] ERROR: Gave up retrying <GET https://en/planning-development/policies-and-guidelines.aspx> (failed 3 times): DNS lookup failed: no results for hostname lookup: en.\n",
      "2022-05-04 22:46:59 [scrapy.core.scraper] ERROR: Error downloading <GET https://en/our-watershed/flood-warning-system.aspx>\n",
      "Traceback (most recent call last):\n",
      "  File \"/Users/enost/opt/anaconda3/lib/python3.9/site-packages/twisted/internet/defer.py\", line 1656, in _inlineCallbacks\n",
      "    result = current_context.run(\n",
      "  File \"/Users/enost/opt/anaconda3/lib/python3.9/site-packages/twisted/python/failure.py\", line 489, in throwExceptionIntoGenerator\n",
      "    return g.throw(self.type, self.value, self.tb)\n",
      "  File \"/Users/enost/opt/anaconda3/lib/python3.9/site-packages/scrapy/core/downloader/middleware.py\", line 49, in process_request\n",
      "    return (yield download_func(request=request, spider=spider))\n",
      "  File \"/Users/enost/opt/anaconda3/lib/python3.9/site-packages/twisted/internet/defer.py\", line 857, in _runCallbacks\n",
      "    current.result = callback(  # type: ignore[misc]\n",
      "  File \"/Users/enost/opt/anaconda3/lib/python3.9/site-packages/twisted/internet/endpoints.py\", line 1020, in startConnectionAttempts\n",
      "    raise error.DNSLookupError(\n",
      "twisted.internet.error.DNSLookupError: DNS lookup failed: no results for hostname lookup: en.\n",
      "2022-05-04 22:46:59 [scrapy.core.scraper] ERROR: Error downloading <GET https://en/planning-development/policies-and-guidelines.aspx>\n",
      "Traceback (most recent call last):\n",
      "  File \"/Users/enost/opt/anaconda3/lib/python3.9/site-packages/twisted/internet/defer.py\", line 1656, in _inlineCallbacks\n",
      "    result = current_context.run(\n",
      "  File \"/Users/enost/opt/anaconda3/lib/python3.9/site-packages/twisted/python/failure.py\", line 489, in throwExceptionIntoGenerator\n",
      "    return g.throw(self.type, self.value, self.tb)\n",
      "  File \"/Users/enost/opt/anaconda3/lib/python3.9/site-packages/scrapy/core/downloader/middleware.py\", line 49, in process_request\n",
      "    return (yield download_func(request=request, spider=spider))\n",
      "  File \"/Users/enost/opt/anaconda3/lib/python3.9/site-packages/twisted/internet/defer.py\", line 857, in _runCallbacks\n",
      "    current.result = callback(  # type: ignore[misc]\n",
      "  File \"/Users/enost/opt/anaconda3/lib/python3.9/site-packages/twisted/internet/endpoints.py\", line 1020, in startConnectionAttempts\n",
      "    raise error.DNSLookupError(\n",
      "twisted.internet.error.DNSLookupError: DNS lookup failed: no results for hostname lookup: en.\n"
     ]
    },
    {
     "name": "stdout",
     "output_type": "stream",
     "text": [
      "inserting: 27787\r"
     ]
    },
    {
     "name": "stderr",
     "output_type": "stream",
     "text": [
      "2022-05-04 22:47:00 [scrapy.downloadermiddlewares.retry] ERROR: Gave up retrying <GET https://www.grandriver.ca/Common/error.aspx?aspxerrorpath=/modules/contact/search.aspx> (failed 3 times): 500 Internal Server Error\n",
      "2022-05-04 22:47:00 [scrapy.downloadermiddlewares.retry] ERROR: Gave up retrying <GET https://en/learn-get-involved/school-programs.aspx> (failed 3 times): DNS lookup failed: no results for hostname lookup: en.\n",
      "2022-05-04 22:47:00 [scrapy.downloadermiddlewares.retry] ERROR: Gave up retrying <GET https://en/outdoor-recreation/conservation-areas.aspx> (failed 3 times): DNS lookup failed: no results for hostname lookup: en.\n",
      "2022-05-04 22:47:00 [scrapy.core.scraper] ERROR: Error downloading <GET https://en/learn-get-involved/school-programs.aspx>\n",
      "Traceback (most recent call last):\n",
      "  File \"/Users/enost/opt/anaconda3/lib/python3.9/site-packages/twisted/internet/defer.py\", line 1656, in _inlineCallbacks\n",
      "    result = current_context.run(\n",
      "  File \"/Users/enost/opt/anaconda3/lib/python3.9/site-packages/twisted/python/failure.py\", line 489, in throwExceptionIntoGenerator\n",
      "    return g.throw(self.type, self.value, self.tb)\n",
      "  File \"/Users/enost/opt/anaconda3/lib/python3.9/site-packages/scrapy/core/downloader/middleware.py\", line 49, in process_request\n",
      "    return (yield download_func(request=request, spider=spider))\n",
      "  File \"/Users/enost/opt/anaconda3/lib/python3.9/site-packages/twisted/internet/defer.py\", line 857, in _runCallbacks\n",
      "    current.result = callback(  # type: ignore[misc]\n",
      "  File \"/Users/enost/opt/anaconda3/lib/python3.9/site-packages/twisted/internet/endpoints.py\", line 1020, in startConnectionAttempts\n",
      "    raise error.DNSLookupError(\n",
      "twisted.internet.error.DNSLookupError: DNS lookup failed: no results for hostname lookup: en.\n",
      "2022-05-04 22:47:00 [scrapy.core.scraper] ERROR: Error downloading <GET https://en/outdoor-recreation/conservation-areas.aspx>\n",
      "Traceback (most recent call last):\n",
      "  File \"/Users/enost/opt/anaconda3/lib/python3.9/site-packages/twisted/internet/defer.py\", line 1656, in _inlineCallbacks\n",
      "    result = current_context.run(\n",
      "  File \"/Users/enost/opt/anaconda3/lib/python3.9/site-packages/twisted/python/failure.py\", line 489, in throwExceptionIntoGenerator\n",
      "    return g.throw(self.type, self.value, self.tb)\n",
      "  File \"/Users/enost/opt/anaconda3/lib/python3.9/site-packages/scrapy/core/downloader/middleware.py\", line 49, in process_request\n",
      "    return (yield download_func(request=request, spider=spider))\n",
      "  File \"/Users/enost/opt/anaconda3/lib/python3.9/site-packages/twisted/internet/defer.py\", line 857, in _runCallbacks\n",
      "    current.result = callback(  # type: ignore[misc]\n",
      "  File \"/Users/enost/opt/anaconda3/lib/python3.9/site-packages/twisted/internet/endpoints.py\", line 1020, in startConnectionAttempts\n",
      "    raise error.DNSLookupError(\n",
      "twisted.internet.error.DNSLookupError: DNS lookup failed: no results for hostname lookup: en.\n"
     ]
    },
    {
     "name": "stdout",
     "output_type": "stream",
     "text": [
      "inserting: 27802\r"
     ]
    },
    {
     "name": "stderr",
     "output_type": "stream",
     "text": [
      "2022-05-04 22:47:04 [scrapy.downloadermiddlewares.retry] ERROR: Gave up retrying <GET https://en/who-we-are/frequently-asked-questions-faq.aspx> (failed 3 times): DNS lookup failed: no results for hostname lookup: en.\n"
     ]
    },
    {
     "name": "stdout",
     "output_type": "stream",
     "text": [
      "inserting: 27823\r"
     ]
    },
    {
     "name": "stderr",
     "output_type": "stream",
     "text": [
      "2022-05-04 22:47:04 [scrapy.core.scraper] ERROR: Error downloading <GET https://en/who-we-are/frequently-asked-questions-faq.aspx>\n",
      "Traceback (most recent call last):\n",
      "  File \"/Users/enost/opt/anaconda3/lib/python3.9/site-packages/twisted/internet/defer.py\", line 1656, in _inlineCallbacks\n",
      "    result = current_context.run(\n",
      "  File \"/Users/enost/opt/anaconda3/lib/python3.9/site-packages/twisted/python/failure.py\", line 489, in throwExceptionIntoGenerator\n",
      "    return g.throw(self.type, self.value, self.tb)\n",
      "  File \"/Users/enost/opt/anaconda3/lib/python3.9/site-packages/scrapy/core/downloader/middleware.py\", line 49, in process_request\n",
      "    return (yield download_func(request=request, spider=spider))\n",
      "  File \"/Users/enost/opt/anaconda3/lib/python3.9/site-packages/twisted/internet/defer.py\", line 857, in _runCallbacks\n",
      "    current.result = callback(  # type: ignore[misc]\n",
      "  File \"/Users/enost/opt/anaconda3/lib/python3.9/site-packages/twisted/internet/endpoints.py\", line 1020, in startConnectionAttempts\n",
      "    raise error.DNSLookupError(\n",
      "twisted.internet.error.DNSLookupError: DNS lookup failed: no results for hostname lookup: en.\n"
     ]
    },
    {
     "name": "stdout",
     "output_type": "stream",
     "text": [
      "inserting: 27803\r"
     ]
    },
    {
     "name": "stderr",
     "output_type": "stream",
     "text": [
      "2022-05-04 22:47:05 [scrapy.downloadermiddlewares.retry] ERROR: Gave up retrying <GET https://en/outdoor-recreation/skiing-and-snowshoeing.aspx> (failed 3 times): DNS lookup failed: no results for hostname lookup: en.\n",
      "2022-05-04 22:47:05 [scrapy.downloadermiddlewares.retry] ERROR: Gave up retrying <GET https://en/who-we-are/student-jobs.aspx> (failed 3 times): DNS lookup failed: no results for hostname lookup: en.\n",
      "2022-05-04 22:47:05 [scrapy.core.scraper] ERROR: Error downloading <GET https://en/outdoor-recreation/skiing-and-snowshoeing.aspx>\n",
      "Traceback (most recent call last):\n",
      "  File \"/Users/enost/opt/anaconda3/lib/python3.9/site-packages/twisted/internet/defer.py\", line 1656, in _inlineCallbacks\n",
      "    result = current_context.run(\n",
      "  File \"/Users/enost/opt/anaconda3/lib/python3.9/site-packages/twisted/python/failure.py\", line 489, in throwExceptionIntoGenerator\n",
      "    return g.throw(self.type, self.value, self.tb)\n",
      "  File \"/Users/enost/opt/anaconda3/lib/python3.9/site-packages/scrapy/core/downloader/middleware.py\", line 49, in process_request\n",
      "    return (yield download_func(request=request, spider=spider))\n",
      "  File \"/Users/enost/opt/anaconda3/lib/python3.9/site-packages/twisted/internet/defer.py\", line 857, in _runCallbacks\n",
      "    current.result = callback(  # type: ignore[misc]\n",
      "  File \"/Users/enost/opt/anaconda3/lib/python3.9/site-packages/twisted/internet/endpoints.py\", line 1020, in startConnectionAttempts\n",
      "    raise error.DNSLookupError(\n",
      "twisted.internet.error.DNSLookupError: DNS lookup failed: no results for hostname lookup: en.\n"
     ]
    },
    {
     "name": "stdout",
     "output_type": "stream",
     "text": [
      "inserting: 27835\r"
     ]
    },
    {
     "name": "stderr",
     "output_type": "stream",
     "text": [
      "2022-05-04 22:47:05 [scrapy.core.scraper] ERROR: Error downloading <GET https://en/who-we-are/student-jobs.aspx>\n",
      "Traceback (most recent call last):\n",
      "  File \"/Users/enost/opt/anaconda3/lib/python3.9/site-packages/twisted/internet/defer.py\", line 1656, in _inlineCallbacks\n",
      "    result = current_context.run(\n",
      "  File \"/Users/enost/opt/anaconda3/lib/python3.9/site-packages/twisted/python/failure.py\", line 489, in throwExceptionIntoGenerator\n",
      "    return g.throw(self.type, self.value, self.tb)\n",
      "  File \"/Users/enost/opt/anaconda3/lib/python3.9/site-packages/scrapy/core/downloader/middleware.py\", line 49, in process_request\n",
      "    return (yield download_func(request=request, spider=spider))\n",
      "  File \"/Users/enost/opt/anaconda3/lib/python3.9/site-packages/twisted/internet/defer.py\", line 857, in _runCallbacks\n",
      "    current.result = callback(  # type: ignore[misc]\n",
      "  File \"/Users/enost/opt/anaconda3/lib/python3.9/site-packages/twisted/internet/endpoints.py\", line 1020, in startConnectionAttempts\n",
      "    raise error.DNSLookupError(\n",
      "twisted.internet.error.DNSLookupError: DNS lookup failed: no results for hostname lookup: en.\n"
     ]
    },
    {
     "name": "stdout",
     "output_type": "stream",
     "text": [
      "inserting: 27853\r"
     ]
    },
    {
     "name": "stderr",
     "output_type": "stream",
     "text": [
      "2022-05-04 22:47:07 [scrapy.downloadermiddlewares.retry] ERROR: Gave up retrying <GET https://en/outdoor-recreation/birding.aspx> (failed 3 times): DNS lookup failed: no results for hostname lookup: en.\n"
     ]
    },
    {
     "name": "stdout",
     "output_type": "stream",
     "text": [
      "inserting: 27819\r"
     ]
    },
    {
     "name": "stderr",
     "output_type": "stream",
     "text": [
      "2022-05-04 22:47:07 [scrapy.core.scraper] ERROR: Error downloading <GET https://en/outdoor-recreation/birding.aspx>\n",
      "Traceback (most recent call last):\n",
      "  File \"/Users/enost/opt/anaconda3/lib/python3.9/site-packages/twisted/internet/defer.py\", line 1656, in _inlineCallbacks\n",
      "    result = current_context.run(\n",
      "  File \"/Users/enost/opt/anaconda3/lib/python3.9/site-packages/twisted/python/failure.py\", line 489, in throwExceptionIntoGenerator\n",
      "    return g.throw(self.type, self.value, self.tb)\n",
      "  File \"/Users/enost/opt/anaconda3/lib/python3.9/site-packages/scrapy/core/downloader/middleware.py\", line 49, in process_request\n",
      "    return (yield download_func(request=request, spider=spider))\n",
      "  File \"/Users/enost/opt/anaconda3/lib/python3.9/site-packages/twisted/internet/defer.py\", line 857, in _runCallbacks\n",
      "    current.result = callback(  # type: ignore[misc]\n",
      "  File \"/Users/enost/opt/anaconda3/lib/python3.9/site-packages/twisted/internet/endpoints.py\", line 1020, in startConnectionAttempts\n",
      "    raise error.DNSLookupError(\n",
      "twisted.internet.error.DNSLookupError: DNS lookup failed: no results for hostname lookup: en.\n"
     ]
    },
    {
     "name": "stdout",
     "output_type": "stream",
     "text": [
      "inserting: 27827\r"
     ]
    },
    {
     "name": "stderr",
     "output_type": "stream",
     "text": [
      "2022-05-04 22:47:08 [scrapy.downloadermiddlewares.retry] ERROR: Gave up retrying <GET https://en/who-we-are/covid-19.aspx> (failed 3 times): DNS lookup failed: no results for hostname lookup: en.\n",
      "2022-05-04 22:47:08 [scrapy.core.scraper] ERROR: Error downloading <GET https://en/who-we-are/covid-19.aspx>\n",
      "Traceback (most recent call last):\n",
      "  File \"/Users/enost/opt/anaconda3/lib/python3.9/site-packages/twisted/internet/defer.py\", line 1656, in _inlineCallbacks\n",
      "    result = current_context.run(\n",
      "  File \"/Users/enost/opt/anaconda3/lib/python3.9/site-packages/twisted/python/failure.py\", line 489, in throwExceptionIntoGenerator\n",
      "    return g.throw(self.type, self.value, self.tb)\n",
      "  File \"/Users/enost/opt/anaconda3/lib/python3.9/site-packages/scrapy/core/downloader/middleware.py\", line 49, in process_request\n",
      "    return (yield download_func(request=request, spider=spider))\n",
      "  File \"/Users/enost/opt/anaconda3/lib/python3.9/site-packages/twisted/internet/defer.py\", line 857, in _runCallbacks\n",
      "    current.result = callback(  # type: ignore[misc]\n",
      "  File \"/Users/enost/opt/anaconda3/lib/python3.9/site-packages/twisted/internet/endpoints.py\", line 1020, in startConnectionAttempts\n",
      "    raise error.DNSLookupError(\n",
      "twisted.internet.error.DNSLookupError: DNS lookup failed: no results for hostname lookup: en.\n"
     ]
    },
    {
     "name": "stdout",
     "output_type": "stream",
     "text": [
      "inserting: 27880\r"
     ]
    },
    {
     "name": "stderr",
     "output_type": "stream",
     "text": [
      "2022-05-04 22:47:10 [scrapy.downloadermiddlewares.retry] ERROR: Gave up retrying <GET https://en/outdoor-recreation/fishing.aspx> (failed 3 times): DNS lookup failed: no results for hostname lookup: en.\n",
      "2022-05-04 22:47:10 [scrapy.core.scraper] ERROR: Error downloading <GET https://en/outdoor-recreation/fishing.aspx>\n",
      "Traceback (most recent call last):\n",
      "  File \"/Users/enost/opt/anaconda3/lib/python3.9/site-packages/twisted/internet/defer.py\", line 1656, in _inlineCallbacks\n",
      "    result = current_context.run(\n",
      "  File \"/Users/enost/opt/anaconda3/lib/python3.9/site-packages/twisted/python/failure.py\", line 489, in throwExceptionIntoGenerator\n",
      "    return g.throw(self.type, self.value, self.tb)\n",
      "  File \"/Users/enost/opt/anaconda3/lib/python3.9/site-packages/scrapy/core/downloader/middleware.py\", line 49, in process_request\n",
      "    return (yield download_func(request=request, spider=spider))\n",
      "  File \"/Users/enost/opt/anaconda3/lib/python3.9/site-packages/twisted/internet/defer.py\", line 857, in _runCallbacks\n",
      "    current.result = callback(  # type: ignore[misc]\n",
      "  File \"/Users/enost/opt/anaconda3/lib/python3.9/site-packages/twisted/internet/endpoints.py\", line 1020, in startConnectionAttempts\n",
      "    raise error.DNSLookupError(\n",
      "twisted.internet.error.DNSLookupError: DNS lookup failed: no results for hostname lookup: en.\n"
     ]
    },
    {
     "name": "stdout",
     "output_type": "stream",
     "text": [
      "inserting: 27892\r"
     ]
    },
    {
     "name": "stderr",
     "output_type": "stream",
     "text": [
      "2022-05-04 22:47:11 [scrapy.downloadermiddlewares.retry] ERROR: Gave up retrying <GET https://en/learn-get-involved/children_s-water-festivals.aspx> (failed 3 times): DNS lookup failed: no results for hostname lookup: en.\n",
      "2022-05-04 22:47:11 [scrapy.downloadermiddlewares.retry] ERROR: Gave up retrying <GET https://en/our-watershed/dams-and-reservoirs.aspx> (failed 3 times): DNS lookup failed: no results for hostname lookup: en.\n",
      "2022-05-04 22:47:11 [scrapy.core.scraper] ERROR: Error downloading <GET https://en/learn-get-involved/children_s-water-festivals.aspx>\n",
      "Traceback (most recent call last):\n",
      "  File \"/Users/enost/opt/anaconda3/lib/python3.9/site-packages/twisted/internet/defer.py\", line 1656, in _inlineCallbacks\n",
      "    result = current_context.run(\n",
      "  File \"/Users/enost/opt/anaconda3/lib/python3.9/site-packages/twisted/python/failure.py\", line 489, in throwExceptionIntoGenerator\n",
      "    return g.throw(self.type, self.value, self.tb)\n",
      "  File \"/Users/enost/opt/anaconda3/lib/python3.9/site-packages/scrapy/core/downloader/middleware.py\", line 49, in process_request\n",
      "    return (yield download_func(request=request, spider=spider))\n",
      "  File \"/Users/enost/opt/anaconda3/lib/python3.9/site-packages/twisted/internet/defer.py\", line 857, in _runCallbacks\n",
      "    current.result = callback(  # type: ignore[misc]\n",
      "  File \"/Users/enost/opt/anaconda3/lib/python3.9/site-packages/twisted/internet/endpoints.py\", line 1020, in startConnectionAttempts\n",
      "    raise error.DNSLookupError(\n",
      "twisted.internet.error.DNSLookupError: DNS lookup failed: no results for hostname lookup: en.\n"
     ]
    },
    {
     "name": "stdout",
     "output_type": "stream",
     "text": [
      "inserting: 27895\r"
     ]
    },
    {
     "name": "stderr",
     "output_type": "stream",
     "text": [
      "2022-05-04 22:47:11 [scrapy.core.scraper] ERROR: Error downloading <GET https://en/our-watershed/dams-and-reservoirs.aspx>\n",
      "Traceback (most recent call last):\n",
      "  File \"/Users/enost/opt/anaconda3/lib/python3.9/site-packages/twisted/internet/defer.py\", line 1656, in _inlineCallbacks\n",
      "    result = current_context.run(\n",
      "  File \"/Users/enost/opt/anaconda3/lib/python3.9/site-packages/twisted/python/failure.py\", line 489, in throwExceptionIntoGenerator\n",
      "    return g.throw(self.type, self.value, self.tb)\n",
      "  File \"/Users/enost/opt/anaconda3/lib/python3.9/site-packages/scrapy/core/downloader/middleware.py\", line 49, in process_request\n",
      "    return (yield download_func(request=request, spider=spider))\n",
      "  File \"/Users/enost/opt/anaconda3/lib/python3.9/site-packages/twisted/internet/defer.py\", line 857, in _runCallbacks\n",
      "    current.result = callback(  # type: ignore[misc]\n",
      "  File \"/Users/enost/opt/anaconda3/lib/python3.9/site-packages/twisted/internet/endpoints.py\", line 1020, in startConnectionAttempts\n",
      "    raise error.DNSLookupError(\n",
      "twisted.internet.error.DNSLookupError: DNS lookup failed: no results for hostname lookup: en.\n"
     ]
    },
    {
     "name": "stdout",
     "output_type": "stream",
     "text": [
      "inserting: 27897\r"
     ]
    },
    {
     "name": "stderr",
     "output_type": "stream",
     "text": [
      "2022-05-04 22:47:11 [scrapy.downloadermiddlewares.retry] ERROR: Gave up retrying <GET https://en/our-watershed/river-and-stream-flows.aspx> (failed 3 times): DNS lookup failed: no results for hostname lookup: en.\n",
      "2022-05-04 22:47:11 [scrapy.core.scraper] ERROR: Error downloading <GET https://en/our-watershed/river-and-stream-flows.aspx>\n",
      "Traceback (most recent call last):\n",
      "  File \"/Users/enost/opt/anaconda3/lib/python3.9/site-packages/twisted/internet/defer.py\", line 1656, in _inlineCallbacks\n",
      "    result = current_context.run(\n",
      "  File \"/Users/enost/opt/anaconda3/lib/python3.9/site-packages/twisted/python/failure.py\", line 489, in throwExceptionIntoGenerator\n",
      "    return g.throw(self.type, self.value, self.tb)\n",
      "  File \"/Users/enost/opt/anaconda3/lib/python3.9/site-packages/scrapy/core/downloader/middleware.py\", line 49, in process_request\n",
      "    return (yield download_func(request=request, spider=spider))\n",
      "  File \"/Users/enost/opt/anaconda3/lib/python3.9/site-packages/twisted/internet/defer.py\", line 857, in _runCallbacks\n",
      "    current.result = callback(  # type: ignore[misc]\n",
      "  File \"/Users/enost/opt/anaconda3/lib/python3.9/site-packages/twisted/internet/endpoints.py\", line 1020, in startConnectionAttempts\n",
      "    raise error.DNSLookupError(\n",
      "twisted.internet.error.DNSLookupError: DNS lookup failed: no results for hostname lookup: en.\n"
     ]
    },
    {
     "name": "stdout",
     "output_type": "stream",
     "text": [
      "inserting: 27625\r"
     ]
    },
    {
     "name": "stderr",
     "output_type": "stream",
     "text": [
      "2022-05-04 22:47:14 [scrapy.downloadermiddlewares.retry] ERROR: Gave up retrying <GET https://common/sitemap.aspx> (failed 3 times): DNS lookup failed: no results for hostname lookup: common.\n",
      "2022-05-04 22:47:14 [scrapy.downloadermiddlewares.retry] ERROR: Gave up retrying <GET https://en/our-watershed/maps-and-data.aspx> (failed 3 times): DNS lookup failed: no results for hostname lookup: en.\n",
      "2022-05-04 22:47:14 [scrapy.downloadermiddlewares.retry] ERROR: Gave up retrying <GET https://en/our-watershed/research.aspx> (failed 3 times): DNS lookup failed: no results for hostname lookup: en.\n",
      "2022-05-04 22:47:14 [scrapy.downloadermiddlewares.retry] ERROR: Gave up retrying <GET https://en/copyright.aspx> (failed 3 times): DNS lookup failed: no results for hostname lookup: en.\n",
      "2022-05-04 22:47:14 [scrapy.downloadermiddlewares.retry] ERROR: Gave up retrying <GET https://en/outdoor-recreation/group-facilities.aspx> (failed 3 times): DNS lookup failed: no results for hostname lookup: en.\n",
      "2022-05-04 22:47:14 [scrapy.core.scraper] ERROR: Error downloading <GET https://common/sitemap.aspx>\n",
      "Traceback (most recent call last):\n",
      "  File \"/Users/enost/opt/anaconda3/lib/python3.9/site-packages/twisted/internet/defer.py\", line 1656, in _inlineCallbacks\n",
      "    result = current_context.run(\n",
      "  File \"/Users/enost/opt/anaconda3/lib/python3.9/site-packages/twisted/python/failure.py\", line 489, in throwExceptionIntoGenerator\n",
      "    return g.throw(self.type, self.value, self.tb)\n",
      "  File \"/Users/enost/opt/anaconda3/lib/python3.9/site-packages/scrapy/core/downloader/middleware.py\", line 49, in process_request\n",
      "    return (yield download_func(request=request, spider=spider))\n",
      "  File \"/Users/enost/opt/anaconda3/lib/python3.9/site-packages/twisted/internet/defer.py\", line 857, in _runCallbacks\n",
      "    current.result = callback(  # type: ignore[misc]\n",
      "  File \"/Users/enost/opt/anaconda3/lib/python3.9/site-packages/twisted/internet/endpoints.py\", line 1020, in startConnectionAttempts\n",
      "    raise error.DNSLookupError(\n",
      "twisted.internet.error.DNSLookupError: DNS lookup failed: no results for hostname lookup: common.\n"
     ]
    },
    {
     "name": "stdout",
     "output_type": "stream",
     "text": [
      "inserting: 27928\r"
     ]
    },
    {
     "name": "stderr",
     "output_type": "stream",
     "text": [
      "2022-05-04 22:47:14 [scrapy.core.scraper] ERROR: Error downloading <GET https://en/our-watershed/maps-and-data.aspx>\n",
      "Traceback (most recent call last):\n",
      "  File \"/Users/enost/opt/anaconda3/lib/python3.9/site-packages/twisted/internet/defer.py\", line 1656, in _inlineCallbacks\n",
      "    result = current_context.run(\n",
      "  File \"/Users/enost/opt/anaconda3/lib/python3.9/site-packages/twisted/python/failure.py\", line 489, in throwExceptionIntoGenerator\n",
      "    return g.throw(self.type, self.value, self.tb)\n",
      "  File \"/Users/enost/opt/anaconda3/lib/python3.9/site-packages/scrapy/core/downloader/middleware.py\", line 49, in process_request\n",
      "    return (yield download_func(request=request, spider=spider))\n",
      "  File \"/Users/enost/opt/anaconda3/lib/python3.9/site-packages/twisted/internet/defer.py\", line 857, in _runCallbacks\n",
      "    current.result = callback(  # type: ignore[misc]\n",
      "  File \"/Users/enost/opt/anaconda3/lib/python3.9/site-packages/twisted/internet/endpoints.py\", line 1020, in startConnectionAttempts\n",
      "    raise error.DNSLookupError(\n",
      "twisted.internet.error.DNSLookupError: DNS lookup failed: no results for hostname lookup: en.\n",
      "2022-05-04 22:47:14 [scrapy.core.scraper] ERROR: Error downloading <GET https://en/our-watershed/research.aspx>\n",
      "Traceback (most recent call last):\n",
      "  File \"/Users/enost/opt/anaconda3/lib/python3.9/site-packages/twisted/internet/defer.py\", line 1656, in _inlineCallbacks\n",
      "    result = current_context.run(\n",
      "  File \"/Users/enost/opt/anaconda3/lib/python3.9/site-packages/twisted/python/failure.py\", line 489, in throwExceptionIntoGenerator\n",
      "    return g.throw(self.type, self.value, self.tb)\n",
      "  File \"/Users/enost/opt/anaconda3/lib/python3.9/site-packages/scrapy/core/downloader/middleware.py\", line 49, in process_request\n",
      "    return (yield download_func(request=request, spider=spider))\n",
      "  File \"/Users/enost/opt/anaconda3/lib/python3.9/site-packages/twisted/internet/defer.py\", line 857, in _runCallbacks\n",
      "    current.result = callback(  # type: ignore[misc]\n",
      "  File \"/Users/enost/opt/anaconda3/lib/python3.9/site-packages/twisted/internet/endpoints.py\", line 1020, in startConnectionAttempts\n",
      "    raise error.DNSLookupError(\n",
      "twisted.internet.error.DNSLookupError: DNS lookup failed: no results for hostname lookup: en.\n",
      "2022-05-04 22:47:14 [scrapy.core.scraper] ERROR: Error downloading <GET https://en/copyright.aspx>\n",
      "Traceback (most recent call last):\n",
      "  File \"/Users/enost/opt/anaconda3/lib/python3.9/site-packages/twisted/internet/defer.py\", line 1656, in _inlineCallbacks\n",
      "    result = current_context.run(\n",
      "  File \"/Users/enost/opt/anaconda3/lib/python3.9/site-packages/twisted/python/failure.py\", line 489, in throwExceptionIntoGenerator\n",
      "    return g.throw(self.type, self.value, self.tb)\n",
      "  File \"/Users/enost/opt/anaconda3/lib/python3.9/site-packages/scrapy/core/downloader/middleware.py\", line 49, in process_request\n",
      "    return (yield download_func(request=request, spider=spider))\n",
      "  File \"/Users/enost/opt/anaconda3/lib/python3.9/site-packages/twisted/internet/defer.py\", line 857, in _runCallbacks\n",
      "    current.result = callback(  # type: ignore[misc]\n",
      "  File \"/Users/enost/opt/anaconda3/lib/python3.9/site-packages/twisted/internet/endpoints.py\", line 1020, in startConnectionAttempts\n",
      "    raise error.DNSLookupError(\n",
      "twisted.internet.error.DNSLookupError: DNS lookup failed: no results for hostname lookup: en.\n",
      "2022-05-04 22:47:14 [scrapy.core.scraper] ERROR: Error downloading <GET https://en/outdoor-recreation/group-facilities.aspx>\n",
      "Traceback (most recent call last):\n",
      "  File \"/Users/enost/opt/anaconda3/lib/python3.9/site-packages/twisted/internet/defer.py\", line 1656, in _inlineCallbacks\n",
      "    result = current_context.run(\n",
      "  File \"/Users/enost/opt/anaconda3/lib/python3.9/site-packages/twisted/python/failure.py\", line 489, in throwExceptionIntoGenerator\n",
      "    return g.throw(self.type, self.value, self.tb)\n",
      "  File \"/Users/enost/opt/anaconda3/lib/python3.9/site-packages/scrapy/core/downloader/middleware.py\", line 49, in process_request\n",
      "    return (yield download_func(request=request, spider=spider))\n",
      "  File \"/Users/enost/opt/anaconda3/lib/python3.9/site-packages/twisted/internet/defer.py\", line 857, in _runCallbacks\n",
      "    current.result = callback(  # type: ignore[misc]\n",
      "  File \"/Users/enost/opt/anaconda3/lib/python3.9/site-packages/twisted/internet/endpoints.py\", line 1020, in startConnectionAttempts\n",
      "    raise error.DNSLookupError(\n",
      "twisted.internet.error.DNSLookupError: DNS lookup failed: no results for hostname lookup: en.\n"
     ]
    },
    {
     "name": "stdout",
     "output_type": "stream",
     "text": [
      "inserting: 27900\r"
     ]
    },
    {
     "name": "stderr",
     "output_type": "stream",
     "text": [
      "2022-05-04 22:47:14 [scrapy.downloadermiddlewares.retry] ERROR: Gave up retrying <GET https://en/our-watershed/fisheries-management.aspx> (failed 3 times): DNS lookup failed: no results for hostname lookup: en.\n",
      "2022-05-04 22:47:15 [scrapy.core.scraper] ERROR: Error downloading <GET https://en/our-watershed/fisheries-management.aspx>\n",
      "Traceback (most recent call last):\n",
      "  File \"/Users/enost/opt/anaconda3/lib/python3.9/site-packages/twisted/internet/defer.py\", line 1656, in _inlineCallbacks\n",
      "    result = current_context.run(\n",
      "  File \"/Users/enost/opt/anaconda3/lib/python3.9/site-packages/twisted/python/failure.py\", line 489, in throwExceptionIntoGenerator\n",
      "    return g.throw(self.type, self.value, self.tb)\n",
      "  File \"/Users/enost/opt/anaconda3/lib/python3.9/site-packages/scrapy/core/downloader/middleware.py\", line 49, in process_request\n",
      "    return (yield download_func(request=request, spider=spider))\n",
      "  File \"/Users/enost/opt/anaconda3/lib/python3.9/site-packages/twisted/internet/defer.py\", line 857, in _runCallbacks\n",
      "    current.result = callback(  # type: ignore[misc]\n",
      "  File \"/Users/enost/opt/anaconda3/lib/python3.9/site-packages/twisted/internet/endpoints.py\", line 1020, in startConnectionAttempts\n",
      "    raise error.DNSLookupError(\n",
      "twisted.internet.error.DNSLookupError: DNS lookup failed: no results for hostname lookup: en.\n"
     ]
    },
    {
     "name": "stdout",
     "output_type": "stream",
     "text": [
      "inserting: 27905\r"
     ]
    },
    {
     "name": "stderr",
     "output_type": "stream",
     "text": [
      "2022-05-04 22:47:17 [scrapy.downloadermiddlewares.retry] ERROR: Gave up retrying <GET https://en/who-we-are/freedom-of-information.aspx> (failed 3 times): DNS lookup failed: no results for hostname lookup: en.\n",
      "2022-05-04 22:47:17 [scrapy.core.scraper] ERROR: Error downloading <GET https://en/who-we-are/freedom-of-information.aspx>\n",
      "Traceback (most recent call last):\n",
      "  File \"/Users/enost/opt/anaconda3/lib/python3.9/site-packages/twisted/internet/defer.py\", line 1656, in _inlineCallbacks\n",
      "    result = current_context.run(\n",
      "  File \"/Users/enost/opt/anaconda3/lib/python3.9/site-packages/twisted/python/failure.py\", line 489, in throwExceptionIntoGenerator\n",
      "    return g.throw(self.type, self.value, self.tb)\n",
      "  File \"/Users/enost/opt/anaconda3/lib/python3.9/site-packages/scrapy/core/downloader/middleware.py\", line 49, in process_request\n",
      "    return (yield download_func(request=request, spider=spider))\n",
      "  File \"/Users/enost/opt/anaconda3/lib/python3.9/site-packages/twisted/internet/defer.py\", line 857, in _runCallbacks\n",
      "    current.result = callback(  # type: ignore[misc]\n",
      "  File \"/Users/enost/opt/anaconda3/lib/python3.9/site-packages/twisted/internet/endpoints.py\", line 1020, in startConnectionAttempts\n",
      "    raise error.DNSLookupError(\n",
      "twisted.internet.error.DNSLookupError: DNS lookup failed: no results for hostname lookup: en.\n"
     ]
    },
    {
     "name": "stdout",
     "output_type": "stream",
     "text": [
      "inserting: 27967\r"
     ]
    },
    {
     "name": "stderr",
     "output_type": "stream",
     "text": [
      "2022-05-04 22:47:20 [scrapy.downloadermiddlewares.retry] ERROR: Gave up retrying <GET https://en/outdoor-recreation/boating.aspx> (failed 3 times): DNS lookup failed: no results for hostname lookup: en.\n",
      "2022-05-04 22:47:20 [scrapy.core.scraper] ERROR: Error downloading <GET https://en/outdoor-recreation/boating.aspx>\n",
      "Traceback (most recent call last):\n",
      "  File \"/Users/enost/opt/anaconda3/lib/python3.9/site-packages/twisted/internet/defer.py\", line 1656, in _inlineCallbacks\n",
      "    result = current_context.run(\n",
      "  File \"/Users/enost/opt/anaconda3/lib/python3.9/site-packages/twisted/python/failure.py\", line 489, in throwExceptionIntoGenerator\n",
      "    return g.throw(self.type, self.value, self.tb)\n",
      "  File \"/Users/enost/opt/anaconda3/lib/python3.9/site-packages/scrapy/core/downloader/middleware.py\", line 49, in process_request\n",
      "    return (yield download_func(request=request, spider=spider))\n",
      "  File \"/Users/enost/opt/anaconda3/lib/python3.9/site-packages/twisted/internet/defer.py\", line 857, in _runCallbacks\n",
      "    current.result = callback(  # type: ignore[misc]\n",
      "  File \"/Users/enost/opt/anaconda3/lib/python3.9/site-packages/twisted/internet/endpoints.py\", line 1020, in startConnectionAttempts\n",
      "    raise error.DNSLookupError(\n",
      "twisted.internet.error.DNSLookupError: DNS lookup failed: no results for hostname lookup: en.\n"
     ]
    },
    {
     "name": "stdout",
     "output_type": "stream",
     "text": [
      "inserting: 27937\r"
     ]
    },
    {
     "name": "stderr",
     "output_type": "stream",
     "text": [
      "2022-05-04 22:47:21 [scrapy.downloadermiddlewares.retry] ERROR: Gave up retrying <GET https://en/who-we-are/board-meetings.aspx> (failed 3 times): DNS lookup failed: no results for hostname lookup: en.\n"
     ]
    },
    {
     "name": "stdout",
     "output_type": "stream",
     "text": [
      "inserting: 27954\r"
     ]
    },
    {
     "name": "stderr",
     "output_type": "stream",
     "text": [
      "2022-05-04 22:47:21 [scrapy.core.scraper] ERROR: Error downloading <GET https://en/who-we-are/board-meetings.aspx>\n",
      "Traceback (most recent call last):\n",
      "  File \"/Users/enost/opt/anaconda3/lib/python3.9/site-packages/twisted/internet/defer.py\", line 1656, in _inlineCallbacks\n",
      "    result = current_context.run(\n",
      "  File \"/Users/enost/opt/anaconda3/lib/python3.9/site-packages/twisted/python/failure.py\", line 489, in throwExceptionIntoGenerator\n",
      "    return g.throw(self.type, self.value, self.tb)\n",
      "  File \"/Users/enost/opt/anaconda3/lib/python3.9/site-packages/scrapy/core/downloader/middleware.py\", line 49, in process_request\n",
      "    return (yield download_func(request=request, spider=spider))\n",
      "  File \"/Users/enost/opt/anaconda3/lib/python3.9/site-packages/twisted/internet/defer.py\", line 857, in _runCallbacks\n",
      "    current.result = callback(  # type: ignore[misc]\n",
      "  File \"/Users/enost/opt/anaconda3/lib/python3.9/site-packages/twisted/internet/endpoints.py\", line 1020, in startConnectionAttempts\n",
      "    raise error.DNSLookupError(\n",
      "twisted.internet.error.DNSLookupError: DNS lookup failed: no results for hostname lookup: en.\n"
     ]
    },
    {
     "name": "stdout",
     "output_type": "stream",
     "text": [
      "inserting: 27955\r"
     ]
    },
    {
     "name": "stderr",
     "output_type": "stream",
     "text": [
      "2022-05-04 22:47:23 [scrapy.downloadermiddlewares.retry] ERROR: Gave up retrying <GET https://en/outdoor-recreation/outdoor-recreation.aspx> (failed 3 times): DNS lookup failed: no results for hostname lookup: en.\n",
      "2022-05-04 22:47:23 [scrapy.core.scraper] ERROR: Error downloading <GET https://en/outdoor-recreation/outdoor-recreation.aspx>\n",
      "Traceback (most recent call last):\n",
      "  File \"/Users/enost/opt/anaconda3/lib/python3.9/site-packages/twisted/internet/defer.py\", line 1656, in _inlineCallbacks\n",
      "    result = current_context.run(\n",
      "  File \"/Users/enost/opt/anaconda3/lib/python3.9/site-packages/twisted/python/failure.py\", line 489, in throwExceptionIntoGenerator\n",
      "    return g.throw(self.type, self.value, self.tb)\n",
      "  File \"/Users/enost/opt/anaconda3/lib/python3.9/site-packages/scrapy/core/downloader/middleware.py\", line 49, in process_request\n",
      "    return (yield download_func(request=request, spider=spider))\n",
      "  File \"/Users/enost/opt/anaconda3/lib/python3.9/site-packages/twisted/internet/defer.py\", line 857, in _runCallbacks\n",
      "    current.result = callback(  # type: ignore[misc]\n",
      "  File \"/Users/enost/opt/anaconda3/lib/python3.9/site-packages/twisted/internet/endpoints.py\", line 1020, in startConnectionAttempts\n",
      "    raise error.DNSLookupError(\n",
      "twisted.internet.error.DNSLookupError: DNS lookup failed: no results for hostname lookup: en.\n"
     ]
    },
    {
     "name": "stdout",
     "output_type": "stream",
     "text": [
      "inserting: 27968\r"
     ]
    },
    {
     "name": "stderr",
     "output_type": "stream",
     "text": [
      "2022-05-04 22:47:27 [scrapy.downloadermiddlewares.retry] ERROR: Gave up retrying <GET https://subscribe> (failed 3 times): DNS lookup failed: no results for hostname lookup: subscribe.\n",
      "2022-05-04 22:47:27 [scrapy.core.scraper] ERROR: Error downloading <GET https://subscribe>\n",
      "Traceback (most recent call last):\n",
      "  File \"/Users/enost/opt/anaconda3/lib/python3.9/site-packages/twisted/internet/defer.py\", line 1656, in _inlineCallbacks\n",
      "    result = current_context.run(\n",
      "  File \"/Users/enost/opt/anaconda3/lib/python3.9/site-packages/twisted/python/failure.py\", line 489, in throwExceptionIntoGenerator\n",
      "    return g.throw(self.type, self.value, self.tb)\n",
      "  File \"/Users/enost/opt/anaconda3/lib/python3.9/site-packages/scrapy/core/downloader/middleware.py\", line 49, in process_request\n",
      "    return (yield download_func(request=request, spider=spider))\n",
      "  File \"/Users/enost/opt/anaconda3/lib/python3.9/site-packages/twisted/internet/defer.py\", line 857, in _runCallbacks\n",
      "    current.result = callback(  # type: ignore[misc]\n",
      "  File \"/Users/enost/opt/anaconda3/lib/python3.9/site-packages/twisted/internet/endpoints.py\", line 1020, in startConnectionAttempts\n",
      "    raise error.DNSLookupError(\n",
      "twisted.internet.error.DNSLookupError: DNS lookup failed: no results for hostname lookup: subscribe.\n"
     ]
    },
    {
     "name": "stdout",
     "output_type": "stream",
     "text": [
      "inserting: 28014\r"
     ]
    },
    {
     "name": "stderr",
     "output_type": "stream",
     "text": [
      "2022-05-04 22:47:28 [scrapy.downloadermiddlewares.retry] ERROR: Gave up retrying <GET https://en/outdoor-recreation/park-status.aspx> (failed 3 times): DNS lookup failed: no results for hostname lookup: en.\n",
      "2022-05-04 22:47:28 [scrapy.core.scraper] ERROR: Error downloading <GET https://en/outdoor-recreation/park-status.aspx>\n",
      "Traceback (most recent call last):\n",
      "  File \"/Users/enost/opt/anaconda3/lib/python3.9/site-packages/twisted/internet/defer.py\", line 1656, in _inlineCallbacks\n",
      "    result = current_context.run(\n",
      "  File \"/Users/enost/opt/anaconda3/lib/python3.9/site-packages/twisted/python/failure.py\", line 489, in throwExceptionIntoGenerator\n",
      "    return g.throw(self.type, self.value, self.tb)\n",
      "  File \"/Users/enost/opt/anaconda3/lib/python3.9/site-packages/scrapy/core/downloader/middleware.py\", line 49, in process_request\n",
      "    return (yield download_func(request=request, spider=spider))\n",
      "  File \"/Users/enost/opt/anaconda3/lib/python3.9/site-packages/twisted/internet/defer.py\", line 857, in _runCallbacks\n",
      "    current.result = callback(  # type: ignore[misc]\n",
      "  File \"/Users/enost/opt/anaconda3/lib/python3.9/site-packages/twisted/internet/endpoints.py\", line 1020, in startConnectionAttempts\n",
      "    raise error.DNSLookupError(\n",
      "twisted.internet.error.DNSLookupError: DNS lookup failed: no results for hostname lookup: en.\n"
     ]
    },
    {
     "name": "stdout",
     "output_type": "stream",
     "text": [
      "inserting: 27981\r"
     ]
    },
    {
     "name": "stderr",
     "output_type": "stream",
     "text": [
      "2022-05-04 22:47:28 [scrapy.downloadermiddlewares.retry] ERROR: Gave up retrying <GET https://en/our-watershed/water.aspx> (failed 3 times): DNS lookup failed: no results for hostname lookup: en.\n"
     ]
    },
    {
     "name": "stdout",
     "output_type": "stream",
     "text": [
      "inserting: 27984\r"
     ]
    },
    {
     "name": "stderr",
     "output_type": "stream",
     "text": [
      "2022-05-04 22:47:29 [scrapy.core.scraper] ERROR: Error downloading <GET https://en/our-watershed/water.aspx>\n",
      "Traceback (most recent call last):\n",
      "  File \"/Users/enost/opt/anaconda3/lib/python3.9/site-packages/twisted/internet/defer.py\", line 1656, in _inlineCallbacks\n",
      "    result = current_context.run(\n",
      "  File \"/Users/enost/opt/anaconda3/lib/python3.9/site-packages/twisted/python/failure.py\", line 489, in throwExceptionIntoGenerator\n",
      "    return g.throw(self.type, self.value, self.tb)\n",
      "  File \"/Users/enost/opt/anaconda3/lib/python3.9/site-packages/scrapy/core/downloader/middleware.py\", line 49, in process_request\n",
      "    return (yield download_func(request=request, spider=spider))\n",
      "  File \"/Users/enost/opt/anaconda3/lib/python3.9/site-packages/twisted/internet/defer.py\", line 857, in _runCallbacks\n",
      "    current.result = callback(  # type: ignore[misc]\n",
      "  File \"/Users/enost/opt/anaconda3/lib/python3.9/site-packages/twisted/internet/endpoints.py\", line 1020, in startConnectionAttempts\n",
      "    raise error.DNSLookupError(\n",
      "twisted.internet.error.DNSLookupError: DNS lookup failed: no results for hostname lookup: en.\n",
      "2022-05-04 22:47:29 [scrapy.downloadermiddlewares.retry] ERROR: Gave up retrying <GET https://en/outdoor-recreation/swimming.aspx> (failed 3 times): DNS lookup failed: no results for hostname lookup: en.\n"
     ]
    },
    {
     "name": "stdout",
     "output_type": "stream",
     "text": [
      "inserting: 28018\r"
     ]
    },
    {
     "name": "stderr",
     "output_type": "stream",
     "text": [
      "2022-05-04 22:47:29 [scrapy.core.scraper] ERROR: Error downloading <GET https://en/outdoor-recreation/swimming.aspx>\n",
      "Traceback (most recent call last):\n",
      "  File \"/Users/enost/opt/anaconda3/lib/python3.9/site-packages/twisted/internet/defer.py\", line 1656, in _inlineCallbacks\n",
      "    result = current_context.run(\n",
      "  File \"/Users/enost/opt/anaconda3/lib/python3.9/site-packages/twisted/python/failure.py\", line 489, in throwExceptionIntoGenerator\n",
      "    return g.throw(self.type, self.value, self.tb)\n",
      "  File \"/Users/enost/opt/anaconda3/lib/python3.9/site-packages/scrapy/core/downloader/middleware.py\", line 49, in process_request\n",
      "    return (yield download_func(request=request, spider=spider))\n",
      "  File \"/Users/enost/opt/anaconda3/lib/python3.9/site-packages/twisted/internet/defer.py\", line 857, in _runCallbacks\n",
      "    current.result = callback(  # type: ignore[misc]\n",
      "  File \"/Users/enost/opt/anaconda3/lib/python3.9/site-packages/twisted/internet/endpoints.py\", line 1020, in startConnectionAttempts\n",
      "    raise error.DNSLookupError(\n",
      "twisted.internet.error.DNSLookupError: DNS lookup failed: no results for hostname lookup: en.\n"
     ]
    },
    {
     "name": "stdout",
     "output_type": "stream",
     "text": [
      "inserting: 28011\r"
     ]
    },
    {
     "name": "stderr",
     "output_type": "stream",
     "text": [
      "2022-05-04 22:47:29 [scrapy.downloadermiddlewares.retry] ERROR: Gave up retrying <GET https://en/learn-get-involved/learn-and-get-involved.aspx> (failed 3 times): DNS lookup failed: no results for hostname lookup: en.\n",
      "2022-05-04 22:47:29 [scrapy.core.scraper] ERROR: Error downloading <GET https://en/learn-get-involved/learn-and-get-involved.aspx>\n",
      "Traceback (most recent call last):\n",
      "  File \"/Users/enost/opt/anaconda3/lib/python3.9/site-packages/twisted/internet/defer.py\", line 1656, in _inlineCallbacks\n",
      "    result = current_context.run(\n",
      "  File \"/Users/enost/opt/anaconda3/lib/python3.9/site-packages/twisted/python/failure.py\", line 489, in throwExceptionIntoGenerator\n",
      "    return g.throw(self.type, self.value, self.tb)\n",
      "  File \"/Users/enost/opt/anaconda3/lib/python3.9/site-packages/scrapy/core/downloader/middleware.py\", line 49, in process_request\n",
      "    return (yield download_func(request=request, spider=spider))\n",
      "  File \"/Users/enost/opt/anaconda3/lib/python3.9/site-packages/twisted/internet/defer.py\", line 857, in _runCallbacks\n",
      "    current.result = callback(  # type: ignore[misc]\n",
      "  File \"/Users/enost/opt/anaconda3/lib/python3.9/site-packages/twisted/internet/endpoints.py\", line 1020, in startConnectionAttempts\n",
      "    raise error.DNSLookupError(\n",
      "twisted.internet.error.DNSLookupError: DNS lookup failed: no results for hostname lookup: en.\n"
     ]
    },
    {
     "name": "stdout",
     "output_type": "stream",
     "text": [
      "inserting: 28034\r"
     ]
    },
    {
     "name": "stderr",
     "output_type": "stream",
     "text": [
      "2022-05-04 22:47:30 [scrapy.downloadermiddlewares.retry] ERROR: Gave up retrying <GET https://en/outdoor-recreation/park-status-and-more.aspx> (failed 3 times): DNS lookup failed: no results for hostname lookup: en.\n",
      "2022-05-04 22:47:30 [scrapy.core.scraper] ERROR: Error downloading <GET https://en/outdoor-recreation/park-status-and-more.aspx>\n",
      "Traceback (most recent call last):\n",
      "  File \"/Users/enost/opt/anaconda3/lib/python3.9/site-packages/twisted/internet/defer.py\", line 1656, in _inlineCallbacks\n",
      "    result = current_context.run(\n",
      "  File \"/Users/enost/opt/anaconda3/lib/python3.9/site-packages/twisted/python/failure.py\", line 489, in throwExceptionIntoGenerator\n",
      "    return g.throw(self.type, self.value, self.tb)\n",
      "  File \"/Users/enost/opt/anaconda3/lib/python3.9/site-packages/scrapy/core/downloader/middleware.py\", line 49, in process_request\n",
      "    return (yield download_func(request=request, spider=spider))\n",
      "  File \"/Users/enost/opt/anaconda3/lib/python3.9/site-packages/twisted/internet/defer.py\", line 857, in _runCallbacks\n",
      "    current.result = callback(  # type: ignore[misc]\n",
      "  File \"/Users/enost/opt/anaconda3/lib/python3.9/site-packages/twisted/internet/endpoints.py\", line 1020, in startConnectionAttempts\n",
      "    raise error.DNSLookupError(\n",
      "twisted.internet.error.DNSLookupError: DNS lookup failed: no results for hostname lookup: en.\n"
     ]
    },
    {
     "name": "stdout",
     "output_type": "stream",
     "text": [
      "inserting: 27990\r"
     ]
    },
    {
     "name": "stderr",
     "output_type": "stream",
     "text": [
      "2022-05-04 22:47:31 [scrapy.downloadermiddlewares.retry] ERROR: Gave up retrying <GET https://en/who-we-are/connect.aspx> (failed 3 times): DNS lookup failed: no results for hostname lookup: en.\n"
     ]
    },
    {
     "name": "stdout",
     "output_type": "stream",
     "text": [
      "inserting: 27999\r"
     ]
    },
    {
     "name": "stderr",
     "output_type": "stream",
     "text": [
      "2022-05-04 22:47:31 [scrapy.core.scraper] ERROR: Error downloading <GET https://en/who-we-are/connect.aspx>\n",
      "Traceback (most recent call last):\n",
      "  File \"/Users/enost/opt/anaconda3/lib/python3.9/site-packages/twisted/internet/defer.py\", line 1656, in _inlineCallbacks\n",
      "    result = current_context.run(\n",
      "  File \"/Users/enost/opt/anaconda3/lib/python3.9/site-packages/twisted/python/failure.py\", line 489, in throwExceptionIntoGenerator\n",
      "    return g.throw(self.type, self.value, self.tb)\n",
      "  File \"/Users/enost/opt/anaconda3/lib/python3.9/site-packages/scrapy/core/downloader/middleware.py\", line 49, in process_request\n",
      "    return (yield download_func(request=request, spider=spider))\n",
      "  File \"/Users/enost/opt/anaconda3/lib/python3.9/site-packages/twisted/internet/defer.py\", line 857, in _runCallbacks\n",
      "    current.result = callback(  # type: ignore[misc]\n",
      "  File \"/Users/enost/opt/anaconda3/lib/python3.9/site-packages/twisted/internet/endpoints.py\", line 1020, in startConnectionAttempts\n",
      "    raise error.DNSLookupError(\n",
      "twisted.internet.error.DNSLookupError: DNS lookup failed: no results for hostname lookup: en.\n"
     ]
    },
    {
     "name": "stdout",
     "output_type": "stream",
     "text": [
      "inserting: 28020\r"
     ]
    },
    {
     "name": "stderr",
     "output_type": "stream",
     "text": [
      "2022-05-04 22:47:34 [scrapy.downloadermiddlewares.retry] ERROR: Gave up retrying <GET https://en/learn-get-involved/volunteer.aspx> (failed 3 times): DNS lookup failed: no results for hostname lookup: en.\n",
      "2022-05-04 22:47:34 [scrapy.core.scraper] ERROR: Error downloading <GET https://en/learn-get-involved/volunteer.aspx>\n",
      "Traceback (most recent call last):\n",
      "  File \"/Users/enost/opt/anaconda3/lib/python3.9/site-packages/twisted/internet/defer.py\", line 1656, in _inlineCallbacks\n",
      "    result = current_context.run(\n",
      "  File \"/Users/enost/opt/anaconda3/lib/python3.9/site-packages/twisted/python/failure.py\", line 489, in throwExceptionIntoGenerator\n",
      "    return g.throw(self.type, self.value, self.tb)\n",
      "  File \"/Users/enost/opt/anaconda3/lib/python3.9/site-packages/scrapy/core/downloader/middleware.py\", line 49, in process_request\n",
      "    return (yield download_func(request=request, spider=spider))\n",
      "  File \"/Users/enost/opt/anaconda3/lib/python3.9/site-packages/twisted/internet/defer.py\", line 857, in _runCallbacks\n",
      "    current.result = callback(  # type: ignore[misc]\n",
      "  File \"/Users/enost/opt/anaconda3/lib/python3.9/site-packages/twisted/internet/endpoints.py\", line 1020, in startConnectionAttempts\n",
      "    raise error.DNSLookupError(\n",
      "twisted.internet.error.DNSLookupError: DNS lookup failed: no results for hostname lookup: en.\n"
     ]
    },
    {
     "name": "stdout",
     "output_type": "stream",
     "text": [
      "inserting: 28087\r"
     ]
    },
    {
     "name": "stderr",
     "output_type": "stream",
     "text": [
      "2022-05-04 22:47:38 [scrapy.downloadermiddlewares.retry] ERROR: Gave up retrying <GET https://en/planning-development/permits.aspx> (failed 3 times): DNS lookup failed: no results for hostname lookup: en.\n",
      "2022-05-04 22:47:38 [scrapy.core.scraper] ERROR: Error downloading <GET https://en/planning-development/permits.aspx>\n",
      "Traceback (most recent call last):\n",
      "  File \"/Users/enost/opt/anaconda3/lib/python3.9/site-packages/twisted/internet/defer.py\", line 1656, in _inlineCallbacks\n",
      "    result = current_context.run(\n",
      "  File \"/Users/enost/opt/anaconda3/lib/python3.9/site-packages/twisted/python/failure.py\", line 489, in throwExceptionIntoGenerator\n",
      "    return g.throw(self.type, self.value, self.tb)\n",
      "  File \"/Users/enost/opt/anaconda3/lib/python3.9/site-packages/scrapy/core/downloader/middleware.py\", line 49, in process_request\n",
      "    return (yield download_func(request=request, spider=spider))\n",
      "  File \"/Users/enost/opt/anaconda3/lib/python3.9/site-packages/twisted/internet/defer.py\", line 857, in _runCallbacks\n",
      "    current.result = callback(  # type: ignore[misc]\n",
      "  File \"/Users/enost/opt/anaconda3/lib/python3.9/site-packages/twisted/internet/endpoints.py\", line 1020, in startConnectionAttempts\n",
      "    raise error.DNSLookupError(\n",
      "twisted.internet.error.DNSLookupError: DNS lookup failed: no results for hostname lookup: en.\n"
     ]
    },
    {
     "name": "stdout",
     "output_type": "stream",
     "text": [
      "inserting: 28055\r"
     ]
    },
    {
     "name": "stderr",
     "output_type": "stream",
     "text": [
      "2022-05-04 22:47:39 [scrapy.downloadermiddlewares.retry] ERROR: Gave up retrying <GET https://en/learn-get-involved/river-safety.aspx> (failed 3 times): DNS lookup failed: no results for hostname lookup: en.\n",
      "2022-05-04 22:47:39 [scrapy.core.scraper] ERROR: Error downloading <GET https://en/learn-get-involved/river-safety.aspx>\n",
      "Traceback (most recent call last):\n",
      "  File \"/Users/enost/opt/anaconda3/lib/python3.9/site-packages/twisted/internet/defer.py\", line 1656, in _inlineCallbacks\n",
      "    result = current_context.run(\n",
      "  File \"/Users/enost/opt/anaconda3/lib/python3.9/site-packages/twisted/python/failure.py\", line 489, in throwExceptionIntoGenerator\n",
      "    return g.throw(self.type, self.value, self.tb)\n",
      "  File \"/Users/enost/opt/anaconda3/lib/python3.9/site-packages/scrapy/core/downloader/middleware.py\", line 49, in process_request\n",
      "    return (yield download_func(request=request, spider=spider))\n",
      "  File \"/Users/enost/opt/anaconda3/lib/python3.9/site-packages/twisted/internet/defer.py\", line 857, in _runCallbacks\n",
      "    current.result = callback(  # type: ignore[misc]\n",
      "  File \"/Users/enost/opt/anaconda3/lib/python3.9/site-packages/twisted/internet/endpoints.py\", line 1020, in startConnectionAttempts\n",
      "    raise error.DNSLookupError(\n",
      "twisted.internet.error.DNSLookupError: DNS lookup failed: no results for hostname lookup: en.\n"
     ]
    },
    {
     "name": "stdout",
     "output_type": "stream",
     "text": [
      "inserting: 28060\r"
     ]
    },
    {
     "name": "stderr",
     "output_type": "stream",
     "text": [
      "2022-05-04 22:47:40 [scrapy.downloadermiddlewares.retry] ERROR: Gave up retrying <GET https://common/idliketo.aspx> (failed 3 times): DNS lookup failed: no results for hostname lookup: common.\n"
     ]
    },
    {
     "name": "stdout",
     "output_type": "stream",
     "text": [
      "inserting: 28064\r"
     ]
    },
    {
     "name": "stderr",
     "output_type": "stream",
     "text": [
      "2022-05-04 22:47:40 [scrapy.core.scraper] ERROR: Error downloading <GET https://common/idliketo.aspx>\n",
      "Traceback (most recent call last):\n",
      "  File \"/Users/enost/opt/anaconda3/lib/python3.9/site-packages/twisted/internet/defer.py\", line 1656, in _inlineCallbacks\n",
      "    result = current_context.run(\n",
      "  File \"/Users/enost/opt/anaconda3/lib/python3.9/site-packages/twisted/python/failure.py\", line 489, in throwExceptionIntoGenerator\n",
      "    return g.throw(self.type, self.value, self.tb)\n",
      "  File \"/Users/enost/opt/anaconda3/lib/python3.9/site-packages/scrapy/core/downloader/middleware.py\", line 49, in process_request\n",
      "    return (yield download_func(request=request, spider=spider))\n",
      "  File \"/Users/enost/opt/anaconda3/lib/python3.9/site-packages/twisted/internet/defer.py\", line 857, in _runCallbacks\n",
      "    current.result = callback(  # type: ignore[misc]\n",
      "  File \"/Users/enost/opt/anaconda3/lib/python3.9/site-packages/twisted/internet/endpoints.py\", line 1020, in startConnectionAttempts\n",
      "    raise error.DNSLookupError(\n",
      "twisted.internet.error.DNSLookupError: DNS lookup failed: no results for hostname lookup: common.\n"
     ]
    },
    {
     "name": "stdout",
     "output_type": "stream",
     "text": [
      "inserting: 28080\r"
     ]
    },
    {
     "name": "stderr",
     "output_type": "stream",
     "text": [
      "2022-05-04 22:47:42 [scrapy.downloadermiddlewares.retry] ERROR: Gave up retrying <GET https://en/who-we-are/job-opportunities.aspx> (failed 3 times): DNS lookup failed: no results for hostname lookup: en.\n",
      "2022-05-04 22:47:42 [scrapy.core.scraper] ERROR: Error downloading <GET https://en/who-we-are/job-opportunities.aspx>\n",
      "Traceback (most recent call last):\n",
      "  File \"/Users/enost/opt/anaconda3/lib/python3.9/site-packages/twisted/internet/defer.py\", line 1656, in _inlineCallbacks\n",
      "    result = current_context.run(\n",
      "  File \"/Users/enost/opt/anaconda3/lib/python3.9/site-packages/twisted/python/failure.py\", line 489, in throwExceptionIntoGenerator\n",
      "    return g.throw(self.type, self.value, self.tb)\n",
      "  File \"/Users/enost/opt/anaconda3/lib/python3.9/site-packages/scrapy/core/downloader/middleware.py\", line 49, in process_request\n",
      "    return (yield download_func(request=request, spider=spider))\n",
      "  File \"/Users/enost/opt/anaconda3/lib/python3.9/site-packages/twisted/internet/defer.py\", line 857, in _runCallbacks\n",
      "    current.result = callback(  # type: ignore[misc]\n",
      "  File \"/Users/enost/opt/anaconda3/lib/python3.9/site-packages/twisted/internet/endpoints.py\", line 1020, in startConnectionAttempts\n",
      "    raise error.DNSLookupError(\n",
      "twisted.internet.error.DNSLookupError: DNS lookup failed: no results for hostname lookup: en.\n"
     ]
    },
    {
     "name": "stdout",
     "output_type": "stream",
     "text": [
      "inserting: 28117\r"
     ]
    },
    {
     "name": "stderr",
     "output_type": "stream",
     "text": [
      "2022-05-04 22:47:43 [scrapy.downloadermiddlewares.retry] ERROR: Gave up retrying <GET https://en/who-we-are/grca-history.aspx> (failed 3 times): DNS lookup failed: no results for hostname lookup: en.\n"
     ]
    },
    {
     "name": "stdout",
     "output_type": "stream",
     "text": [
      "inserting: 28120\r"
     ]
    },
    {
     "name": "stderr",
     "output_type": "stream",
     "text": [
      "2022-05-04 22:47:43 [scrapy.core.scraper] ERROR: Error downloading <GET https://en/who-we-are/grca-history.aspx>\n",
      "Traceback (most recent call last):\n",
      "  File \"/Users/enost/opt/anaconda3/lib/python3.9/site-packages/twisted/internet/defer.py\", line 1656, in _inlineCallbacks\n",
      "    result = current_context.run(\n",
      "  File \"/Users/enost/opt/anaconda3/lib/python3.9/site-packages/twisted/python/failure.py\", line 489, in throwExceptionIntoGenerator\n",
      "    return g.throw(self.type, self.value, self.tb)\n",
      "  File \"/Users/enost/opt/anaconda3/lib/python3.9/site-packages/scrapy/core/downloader/middleware.py\", line 49, in process_request\n",
      "    return (yield download_func(request=request, spider=spider))\n",
      "  File \"/Users/enost/opt/anaconda3/lib/python3.9/site-packages/twisted/internet/defer.py\", line 857, in _runCallbacks\n",
      "    current.result = callback(  # type: ignore[misc]\n",
      "  File \"/Users/enost/opt/anaconda3/lib/python3.9/site-packages/twisted/internet/endpoints.py\", line 1020, in startConnectionAttempts\n",
      "    raise error.DNSLookupError(\n",
      "twisted.internet.error.DNSLookupError: DNS lookup failed: no results for hostname lookup: en.\n"
     ]
    },
    {
     "name": "stdout",
     "output_type": "stream",
     "text": [
      "inserting: 28133\r"
     ]
    },
    {
     "name": "stderr",
     "output_type": "stream",
     "text": [
      "2022-05-04 22:47:45 [scrapy.downloadermiddlewares.retry] ERROR: Gave up retrying <GET https://en/who-we-are/who-we-are.aspx> (failed 3 times): DNS lookup failed: no results for hostname lookup: en.\n",
      "2022-05-04 22:47:45 [scrapy.core.scraper] ERROR: Error downloading <GET https://en/who-we-are/who-we-are.aspx>\n",
      "Traceback (most recent call last):\n",
      "  File \"/Users/enost/opt/anaconda3/lib/python3.9/site-packages/twisted/internet/defer.py\", line 1656, in _inlineCallbacks\n",
      "    result = current_context.run(\n",
      "  File \"/Users/enost/opt/anaconda3/lib/python3.9/site-packages/twisted/python/failure.py\", line 489, in throwExceptionIntoGenerator\n",
      "    return g.throw(self.type, self.value, self.tb)\n",
      "  File \"/Users/enost/opt/anaconda3/lib/python3.9/site-packages/scrapy/core/downloader/middleware.py\", line 49, in process_request\n",
      "    return (yield download_func(request=request, spider=spider))\n",
      "  File \"/Users/enost/opt/anaconda3/lib/python3.9/site-packages/twisted/internet/defer.py\", line 857, in _runCallbacks\n",
      "    current.result = callback(  # type: ignore[misc]\n",
      "  File \"/Users/enost/opt/anaconda3/lib/python3.9/site-packages/twisted/internet/endpoints.py\", line 1020, in startConnectionAttempts\n",
      "    raise error.DNSLookupError(\n",
      "twisted.internet.error.DNSLookupError: DNS lookup failed: no results for hostname lookup: en.\n"
     ]
    },
    {
     "name": "stdout",
     "output_type": "stream",
     "text": [
      "inserting: 28145\r"
     ]
    },
    {
     "name": "stderr",
     "output_type": "stream",
     "text": [
      "2022-05-04 22:47:48 [scrapy.downloadermiddlewares.retry] ERROR: Gave up retrying <GET https://en/outdoor-recreation/snowmobiling.aspx> (failed 3 times): DNS lookup failed: no results for hostname lookup: en.\n",
      "2022-05-04 22:47:48 [scrapy.core.scraper] ERROR: Error downloading <GET https://en/outdoor-recreation/snowmobiling.aspx>\n",
      "Traceback (most recent call last):\n",
      "  File \"/Users/enost/opt/anaconda3/lib/python3.9/site-packages/twisted/internet/defer.py\", line 1656, in _inlineCallbacks\n",
      "    result = current_context.run(\n",
      "  File \"/Users/enost/opt/anaconda3/lib/python3.9/site-packages/twisted/python/failure.py\", line 489, in throwExceptionIntoGenerator\n",
      "    return g.throw(self.type, self.value, self.tb)\n",
      "  File \"/Users/enost/opt/anaconda3/lib/python3.9/site-packages/scrapy/core/downloader/middleware.py\", line 49, in process_request\n",
      "    return (yield download_func(request=request, spider=spider))\n",
      "  File \"/Users/enost/opt/anaconda3/lib/python3.9/site-packages/twisted/internet/defer.py\", line 857, in _runCallbacks\n",
      "    current.result = callback(  # type: ignore[misc]\n",
      "  File \"/Users/enost/opt/anaconda3/lib/python3.9/site-packages/twisted/internet/endpoints.py\", line 1020, in startConnectionAttempts\n",
      "    raise error.DNSLookupError(\n",
      "twisted.internet.error.DNSLookupError: DNS lookup failed: no results for hostname lookup: en.\n"
     ]
    },
    {
     "name": "stdout",
     "output_type": "stream",
     "text": [
      "inserting: 28152\r"
     ]
    },
    {
     "name": "stderr",
     "output_type": "stream",
     "text": [
      "2022-05-04 22:47:51 [scrapy.downloadermiddlewares.retry] ERROR: Gave up retrying <GET https://en/our-watershed/river-data.aspx> (failed 3 times): DNS lookup failed: no results for hostname lookup: en.\n",
      "2022-05-04 22:47:51 [scrapy.core.scraper] ERROR: Error downloading <GET https://en/our-watershed/river-data.aspx>\n",
      "Traceback (most recent call last):\n",
      "  File \"/Users/enost/opt/anaconda3/lib/python3.9/site-packages/twisted/internet/defer.py\", line 1656, in _inlineCallbacks\n",
      "    result = current_context.run(\n",
      "  File \"/Users/enost/opt/anaconda3/lib/python3.9/site-packages/twisted/python/failure.py\", line 489, in throwExceptionIntoGenerator\n",
      "    return g.throw(self.type, self.value, self.tb)\n",
      "  File \"/Users/enost/opt/anaconda3/lib/python3.9/site-packages/scrapy/core/downloader/middleware.py\", line 49, in process_request\n",
      "    return (yield download_func(request=request, spider=spider))\n",
      "  File \"/Users/enost/opt/anaconda3/lib/python3.9/site-packages/twisted/internet/defer.py\", line 857, in _runCallbacks\n",
      "    current.result = callback(  # type: ignore[misc]\n",
      "  File \"/Users/enost/opt/anaconda3/lib/python3.9/site-packages/twisted/internet/endpoints.py\", line 1020, in startConnectionAttempts\n",
      "    raise error.DNSLookupError(\n",
      "twisted.internet.error.DNSLookupError: DNS lookup failed: no results for hostname lookup: en.\n"
     ]
    },
    {
     "name": "stdout",
     "output_type": "stream",
     "text": [
      "inserting: 28155\r"
     ]
    },
    {
     "name": "stderr",
     "output_type": "stream",
     "text": [
      "2022-05-04 22:47:55 [scrapy.downloadermiddlewares.retry] ERROR: Gave up retrying <GET https://en/who-we-are/grca-board-and-administration.aspx> (failed 3 times): DNS lookup failed: no results for hostname lookup: en.\n"
     ]
    },
    {
     "name": "stdout",
     "output_type": "stream",
     "text": [
      "inserting: 28165\r"
     ]
    },
    {
     "name": "stderr",
     "output_type": "stream",
     "text": [
      "2022-05-04 22:47:55 [scrapy.core.scraper] ERROR: Error downloading <GET https://en/who-we-are/grca-board-and-administration.aspx>\n",
      "Traceback (most recent call last):\n",
      "  File \"/Users/enost/opt/anaconda3/lib/python3.9/site-packages/twisted/internet/defer.py\", line 1656, in _inlineCallbacks\n",
      "    result = current_context.run(\n",
      "  File \"/Users/enost/opt/anaconda3/lib/python3.9/site-packages/twisted/python/failure.py\", line 489, in throwExceptionIntoGenerator\n",
      "    return g.throw(self.type, self.value, self.tb)\n",
      "  File \"/Users/enost/opt/anaconda3/lib/python3.9/site-packages/scrapy/core/downloader/middleware.py\", line 49, in process_request\n",
      "    return (yield download_func(request=request, spider=spider))\n",
      "  File \"/Users/enost/opt/anaconda3/lib/python3.9/site-packages/twisted/internet/defer.py\", line 857, in _runCallbacks\n",
      "    current.result = callback(  # type: ignore[misc]\n",
      "  File \"/Users/enost/opt/anaconda3/lib/python3.9/site-packages/twisted/internet/endpoints.py\", line 1020, in startConnectionAttempts\n",
      "    raise error.DNSLookupError(\n",
      "twisted.internet.error.DNSLookupError: DNS lookup failed: no results for hostname lookup: en.\n",
      "2022-05-04 22:47:55 [scrapy.downloadermiddlewares.retry] ERROR: Gave up retrying <GET https://en/outdoor-recreation/things-to-do.aspx> (failed 3 times): DNS lookup failed: no results for hostname lookup: en.\n",
      "2022-05-04 22:47:55 [scrapy.core.scraper] ERROR: Error downloading <GET https://en/outdoor-recreation/things-to-do.aspx>\n",
      "Traceback (most recent call last):\n",
      "  File \"/Users/enost/opt/anaconda3/lib/python3.9/site-packages/twisted/internet/defer.py\", line 1656, in _inlineCallbacks\n",
      "    result = current_context.run(\n",
      "  File \"/Users/enost/opt/anaconda3/lib/python3.9/site-packages/twisted/python/failure.py\", line 489, in throwExceptionIntoGenerator\n",
      "    return g.throw(self.type, self.value, self.tb)\n",
      "  File \"/Users/enost/opt/anaconda3/lib/python3.9/site-packages/scrapy/core/downloader/middleware.py\", line 49, in process_request\n",
      "    return (yield download_func(request=request, spider=spider))\n",
      "  File \"/Users/enost/opt/anaconda3/lib/python3.9/site-packages/twisted/internet/defer.py\", line 857, in _runCallbacks\n",
      "    current.result = callback(  # type: ignore[misc]\n",
      "  File \"/Users/enost/opt/anaconda3/lib/python3.9/site-packages/twisted/internet/endpoints.py\", line 1020, in startConnectionAttempts\n",
      "    raise error.DNSLookupError(\n",
      "twisted.internet.error.DNSLookupError: DNS lookup failed: no results for hostname lookup: en.\n"
     ]
    },
    {
     "name": "stdout",
     "output_type": "stream",
     "text": [
      "inserting: 28184\r"
     ]
    },
    {
     "name": "stderr",
     "output_type": "stream",
     "text": [
      "2022-05-04 22:47:55 [scrapy.downloadermiddlewares.retry] ERROR: Gave up retrying <GET https://en/planning-development/map-your-property.aspx> (failed 3 times): DNS lookup failed: no results for hostname lookup: en.\n",
      "2022-05-04 22:47:55 [scrapy.downloadermiddlewares.retry] ERROR: Gave up retrying <GET https://en/privacy.aspx> (failed 3 times): DNS lookup failed: no results for hostname lookup: en.\n",
      "2022-05-04 22:47:55 [scrapy.downloadermiddlewares.retry] ERROR: Gave up retrying <GET https://en/planning-development/apply-for-a-permit.aspx> (failed 3 times): DNS lookup failed: no results for hostname lookup: en.\n",
      "2022-05-04 22:47:55 [scrapy.core.scraper] ERROR: Error downloading <GET https://en/planning-development/map-your-property.aspx>\n",
      "Traceback (most recent call last):\n",
      "  File \"/Users/enost/opt/anaconda3/lib/python3.9/site-packages/twisted/internet/defer.py\", line 1656, in _inlineCallbacks\n",
      "    result = current_context.run(\n",
      "  File \"/Users/enost/opt/anaconda3/lib/python3.9/site-packages/twisted/python/failure.py\", line 489, in throwExceptionIntoGenerator\n",
      "    return g.throw(self.type, self.value, self.tb)\n",
      "  File \"/Users/enost/opt/anaconda3/lib/python3.9/site-packages/scrapy/core/downloader/middleware.py\", line 49, in process_request\n",
      "    return (yield download_func(request=request, spider=spider))\n",
      "  File \"/Users/enost/opt/anaconda3/lib/python3.9/site-packages/twisted/internet/defer.py\", line 857, in _runCallbacks\n",
      "    current.result = callback(  # type: ignore[misc]\n",
      "  File \"/Users/enost/opt/anaconda3/lib/python3.9/site-packages/twisted/internet/endpoints.py\", line 1020, in startConnectionAttempts\n",
      "    raise error.DNSLookupError(\n",
      "twisted.internet.error.DNSLookupError: DNS lookup failed: no results for hostname lookup: en.\n"
     ]
    },
    {
     "name": "stdout",
     "output_type": "stream",
     "text": [
      "inserting: 28198\r"
     ]
    },
    {
     "name": "stderr",
     "output_type": "stream",
     "text": [
      "2022-05-04 22:47:55 [scrapy.core.scraper] ERROR: Error downloading <GET https://en/privacy.aspx>\n",
      "Traceback (most recent call last):\n",
      "  File \"/Users/enost/opt/anaconda3/lib/python3.9/site-packages/twisted/internet/defer.py\", line 1656, in _inlineCallbacks\n",
      "    result = current_context.run(\n",
      "  File \"/Users/enost/opt/anaconda3/lib/python3.9/site-packages/twisted/python/failure.py\", line 489, in throwExceptionIntoGenerator\n",
      "    return g.throw(self.type, self.value, self.tb)\n",
      "  File \"/Users/enost/opt/anaconda3/lib/python3.9/site-packages/scrapy/core/downloader/middleware.py\", line 49, in process_request\n",
      "    return (yield download_func(request=request, spider=spider))\n",
      "  File \"/Users/enost/opt/anaconda3/lib/python3.9/site-packages/twisted/internet/defer.py\", line 857, in _runCallbacks\n",
      "    current.result = callback(  # type: ignore[misc]\n",
      "  File \"/Users/enost/opt/anaconda3/lib/python3.9/site-packages/twisted/internet/endpoints.py\", line 1020, in startConnectionAttempts\n",
      "    raise error.DNSLookupError(\n",
      "twisted.internet.error.DNSLookupError: DNS lookup failed: no results for hostname lookup: en.\n",
      "2022-05-04 22:47:55 [scrapy.core.scraper] ERROR: Error downloading <GET https://en/planning-development/apply-for-a-permit.aspx>\n",
      "Traceback (most recent call last):\n",
      "  File \"/Users/enost/opt/anaconda3/lib/python3.9/site-packages/twisted/internet/defer.py\", line 1656, in _inlineCallbacks\n",
      "    result = current_context.run(\n",
      "  File \"/Users/enost/opt/anaconda3/lib/python3.9/site-packages/twisted/python/failure.py\", line 489, in throwExceptionIntoGenerator\n",
      "    return g.throw(self.type, self.value, self.tb)\n",
      "  File \"/Users/enost/opt/anaconda3/lib/python3.9/site-packages/scrapy/core/downloader/middleware.py\", line 49, in process_request\n",
      "    return (yield download_func(request=request, spider=spider))\n",
      "  File \"/Users/enost/opt/anaconda3/lib/python3.9/site-packages/twisted/internet/defer.py\", line 857, in _runCallbacks\n",
      "    current.result = callback(  # type: ignore[misc]\n",
      "  File \"/Users/enost/opt/anaconda3/lib/python3.9/site-packages/twisted/internet/endpoints.py\", line 1020, in startConnectionAttempts\n",
      "    raise error.DNSLookupError(\n",
      "twisted.internet.error.DNSLookupError: DNS lookup failed: no results for hostname lookup: en.\n"
     ]
    },
    {
     "name": "stdout",
     "output_type": "stream",
     "text": [
      "inserting: 28210\r"
     ]
    },
    {
     "name": "stderr",
     "output_type": "stream",
     "text": [
      "2022-05-04 22:47:56 [scrapy.downloadermiddlewares.retry] ERROR: Gave up retrying <GET https://en/our-watershed/forests-and-trees.aspx> (failed 3 times): DNS lookup failed: no results for hostname lookup: en.\n",
      "2022-05-04 22:47:56 [scrapy.core.scraper] ERROR: Error downloading <GET https://en/our-watershed/forests-and-trees.aspx>\n",
      "Traceback (most recent call last):\n",
      "  File \"/Users/enost/opt/anaconda3/lib/python3.9/site-packages/twisted/internet/defer.py\", line 1656, in _inlineCallbacks\n",
      "    result = current_context.run(\n",
      "  File \"/Users/enost/opt/anaconda3/lib/python3.9/site-packages/twisted/python/failure.py\", line 489, in throwExceptionIntoGenerator\n",
      "    return g.throw(self.type, self.value, self.tb)\n",
      "  File \"/Users/enost/opt/anaconda3/lib/python3.9/site-packages/scrapy/core/downloader/middleware.py\", line 49, in process_request\n",
      "    return (yield download_func(request=request, spider=spider))\n",
      "  File \"/Users/enost/opt/anaconda3/lib/python3.9/site-packages/twisted/internet/defer.py\", line 857, in _runCallbacks\n",
      "    current.result = callback(  # type: ignore[misc]\n",
      "  File \"/Users/enost/opt/anaconda3/lib/python3.9/site-packages/twisted/internet/endpoints.py\", line 1020, in startConnectionAttempts\n",
      "    raise error.DNSLookupError(\n",
      "twisted.internet.error.DNSLookupError: DNS lookup failed: no results for hostname lookup: en.\n"
     ]
    },
    {
     "name": "stdout",
     "output_type": "stream",
     "text": [
      "inserting: 28202\r"
     ]
    },
    {
     "name": "stderr",
     "output_type": "stream",
     "text": [
      "2022-05-04 22:47:57 [scrapy.downloadermiddlewares.retry] ERROR: Gave up retrying <GET https://en/outdoor-recreation/keep-our-conservation-areas-beautiful.aspx> (failed 3 times): DNS lookup failed: no results for hostname lookup: en.\n",
      "2022-05-04 22:47:57 [scrapy.downloadermiddlewares.retry] ERROR: Gave up retrying <GET https://en/outdoor-recreation/tubing.aspx> (failed 3 times): DNS lookup failed: no results for hostname lookup: en.\n"
     ]
    },
    {
     "name": "stdout",
     "output_type": "stream",
     "text": [
      "inserting: 28225\r"
     ]
    },
    {
     "name": "stderr",
     "output_type": "stream",
     "text": [
      "2022-05-04 22:47:57 [scrapy.core.scraper] ERROR: Error downloading <GET https://en/outdoor-recreation/keep-our-conservation-areas-beautiful.aspx>\n",
      "Traceback (most recent call last):\n",
      "  File \"/Users/enost/opt/anaconda3/lib/python3.9/site-packages/twisted/internet/defer.py\", line 1656, in _inlineCallbacks\n",
      "    result = current_context.run(\n",
      "  File \"/Users/enost/opt/anaconda3/lib/python3.9/site-packages/twisted/python/failure.py\", line 489, in throwExceptionIntoGenerator\n",
      "    return g.throw(self.type, self.value, self.tb)\n",
      "  File \"/Users/enost/opt/anaconda3/lib/python3.9/site-packages/scrapy/core/downloader/middleware.py\", line 49, in process_request\n",
      "    return (yield download_func(request=request, spider=spider))\n",
      "  File \"/Users/enost/opt/anaconda3/lib/python3.9/site-packages/twisted/internet/defer.py\", line 857, in _runCallbacks\n",
      "    current.result = callback(  # type: ignore[misc]\n",
      "  File \"/Users/enost/opt/anaconda3/lib/python3.9/site-packages/twisted/internet/endpoints.py\", line 1020, in startConnectionAttempts\n",
      "    raise error.DNSLookupError(\n",
      "twisted.internet.error.DNSLookupError: DNS lookup failed: no results for hostname lookup: en.\n",
      "2022-05-04 22:47:57 [scrapy.core.scraper] ERROR: Error downloading <GET https://en/outdoor-recreation/tubing.aspx>\n",
      "Traceback (most recent call last):\n",
      "  File \"/Users/enost/opt/anaconda3/lib/python3.9/site-packages/twisted/internet/defer.py\", line 1656, in _inlineCallbacks\n",
      "    result = current_context.run(\n",
      "  File \"/Users/enost/opt/anaconda3/lib/python3.9/site-packages/twisted/python/failure.py\", line 489, in throwExceptionIntoGenerator\n",
      "    return g.throw(self.type, self.value, self.tb)\n",
      "  File \"/Users/enost/opt/anaconda3/lib/python3.9/site-packages/scrapy/core/downloader/middleware.py\", line 49, in process_request\n",
      "    return (yield download_func(request=request, spider=spider))\n",
      "  File \"/Users/enost/opt/anaconda3/lib/python3.9/site-packages/twisted/internet/defer.py\", line 857, in _runCallbacks\n",
      "    current.result = callback(  # type: ignore[misc]\n",
      "  File \"/Users/enost/opt/anaconda3/lib/python3.9/site-packages/twisted/internet/endpoints.py\", line 1020, in startConnectionAttempts\n",
      "    raise error.DNSLookupError(\n",
      "twisted.internet.error.DNSLookupError: DNS lookup failed: no results for hostname lookup: en.\n"
     ]
    },
    {
     "name": "stdout",
     "output_type": "stream",
     "text": [
      "inserting: 28259\r"
     ]
    },
    {
     "name": "stderr",
     "output_type": "stream",
     "text": [
      "2022-05-04 22:48:03 [scrapy.downloadermiddlewares.retry] ERROR: Gave up retrying <GET https://en/who-we-are/covid-19-faq.aspx> (failed 3 times): DNS lookup failed: no results for hostname lookup: en.\n"
     ]
    },
    {
     "name": "stdout",
     "output_type": "stream",
     "text": [
      "inserting: 28240\r"
     ]
    },
    {
     "name": "stderr",
     "output_type": "stream",
     "text": [
      "2022-05-04 22:48:03 [scrapy.core.scraper] ERROR: Error downloading <GET https://en/who-we-are/covid-19-faq.aspx>\n",
      "Traceback (most recent call last):\n",
      "  File \"/Users/enost/opt/anaconda3/lib/python3.9/site-packages/twisted/internet/defer.py\", line 1656, in _inlineCallbacks\n",
      "    result = current_context.run(\n",
      "  File \"/Users/enost/opt/anaconda3/lib/python3.9/site-packages/twisted/python/failure.py\", line 489, in throwExceptionIntoGenerator\n",
      "    return g.throw(self.type, self.value, self.tb)\n",
      "  File \"/Users/enost/opt/anaconda3/lib/python3.9/site-packages/scrapy/core/downloader/middleware.py\", line 49, in process_request\n",
      "    return (yield download_func(request=request, spider=spider))\n",
      "  File \"/Users/enost/opt/anaconda3/lib/python3.9/site-packages/twisted/internet/defer.py\", line 857, in _runCallbacks\n",
      "    current.result = callback(  # type: ignore[misc]\n",
      "  File \"/Users/enost/opt/anaconda3/lib/python3.9/site-packages/twisted/internet/endpoints.py\", line 1020, in startConnectionAttempts\n",
      "    raise error.DNSLookupError(\n",
      "twisted.internet.error.DNSLookupError: DNS lookup failed: no results for hostname lookup: en.\n"
     ]
    },
    {
     "name": "stdout",
     "output_type": "stream",
     "text": [
      "inserting: 28282\r"
     ]
    },
    {
     "name": "stderr",
     "output_type": "stream",
     "text": [
      "2022-05-04 22:48:04 [scrapy.downloadermiddlewares.retry] ERROR: Gave up retrying <GET https://en/our-watershed/our-watershed.aspx> (failed 3 times): DNS lookup failed: no results for hostname lookup: en.\n"
     ]
    },
    {
     "name": "stdout",
     "output_type": "stream",
     "text": [
      "inserting: 28234\r"
     ]
    },
    {
     "name": "stderr",
     "output_type": "stream",
     "text": [
      "2022-05-04 22:48:04 [scrapy.downloadermiddlewares.retry] ERROR: Gave up retrying <GET https://en/who-we-are/service-disruptions.aspx> (failed 3 times): DNS lookup failed: no results for hostname lookup: en.\n",
      "2022-05-04 22:48:04 [scrapy.core.scraper] ERROR: Error downloading <GET https://en/our-watershed/our-watershed.aspx>\n",
      "Traceback (most recent call last):\n",
      "  File \"/Users/enost/opt/anaconda3/lib/python3.9/site-packages/twisted/internet/defer.py\", line 1656, in _inlineCallbacks\n",
      "    result = current_context.run(\n",
      "  File \"/Users/enost/opt/anaconda3/lib/python3.9/site-packages/twisted/python/failure.py\", line 489, in throwExceptionIntoGenerator\n",
      "    return g.throw(self.type, self.value, self.tb)\n",
      "  File \"/Users/enost/opt/anaconda3/lib/python3.9/site-packages/scrapy/core/downloader/middleware.py\", line 49, in process_request\n",
      "    return (yield download_func(request=request, spider=spider))\n",
      "  File \"/Users/enost/opt/anaconda3/lib/python3.9/site-packages/twisted/internet/defer.py\", line 857, in _runCallbacks\n",
      "    current.result = callback(  # type: ignore[misc]\n",
      "  File \"/Users/enost/opt/anaconda3/lib/python3.9/site-packages/twisted/internet/endpoints.py\", line 1020, in startConnectionAttempts\n",
      "    raise error.DNSLookupError(\n",
      "twisted.internet.error.DNSLookupError: DNS lookup failed: no results for hostname lookup: en.\n",
      "2022-05-04 22:48:04 [scrapy.core.scraper] ERROR: Error downloading <GET https://en/who-we-are/service-disruptions.aspx>\n",
      "Traceback (most recent call last):\n",
      "  File \"/Users/enost/opt/anaconda3/lib/python3.9/site-packages/twisted/internet/defer.py\", line 1656, in _inlineCallbacks\n",
      "    result = current_context.run(\n",
      "  File \"/Users/enost/opt/anaconda3/lib/python3.9/site-packages/twisted/python/failure.py\", line 489, in throwExceptionIntoGenerator\n",
      "    return g.throw(self.type, self.value, self.tb)\n",
      "  File \"/Users/enost/opt/anaconda3/lib/python3.9/site-packages/scrapy/core/downloader/middleware.py\", line 49, in process_request\n",
      "    return (yield download_func(request=request, spider=spider))\n",
      "  File \"/Users/enost/opt/anaconda3/lib/python3.9/site-packages/twisted/internet/defer.py\", line 857, in _runCallbacks\n",
      "    current.result = callback(  # type: ignore[misc]\n",
      "  File \"/Users/enost/opt/anaconda3/lib/python3.9/site-packages/twisted/internet/endpoints.py\", line 1020, in startConnectionAttempts\n",
      "    raise error.DNSLookupError(\n",
      "twisted.internet.error.DNSLookupError: DNS lookup failed: no results for hostname lookup: en.\n"
     ]
    },
    {
     "name": "stdout",
     "output_type": "stream",
     "text": [
      "inserting: 28247\r"
     ]
    },
    {
     "name": "stderr",
     "output_type": "stream",
     "text": [
      "2022-05-04 22:48:05 [scrapy.downloadermiddlewares.retry] ERROR: Gave up retrying <GET https://en/planning-development/planning-act-review.aspx> (failed 3 times): DNS lookup failed: no results for hostname lookup: en.\n",
      "2022-05-04 22:48:05 [scrapy.core.scraper] ERROR: Error downloading <GET https://en/planning-development/planning-act-review.aspx>\n",
      "Traceback (most recent call last):\n",
      "  File \"/Users/enost/opt/anaconda3/lib/python3.9/site-packages/twisted/internet/defer.py\", line 1656, in _inlineCallbacks\n",
      "    result = current_context.run(\n",
      "  File \"/Users/enost/opt/anaconda3/lib/python3.9/site-packages/twisted/python/failure.py\", line 489, in throwExceptionIntoGenerator\n",
      "    return g.throw(self.type, self.value, self.tb)\n",
      "  File \"/Users/enost/opt/anaconda3/lib/python3.9/site-packages/scrapy/core/downloader/middleware.py\", line 49, in process_request\n",
      "    return (yield download_func(request=request, spider=spider))\n",
      "  File \"/Users/enost/opt/anaconda3/lib/python3.9/site-packages/twisted/internet/defer.py\", line 857, in _runCallbacks\n",
      "    current.result = callback(  # type: ignore[misc]\n",
      "  File \"/Users/enost/opt/anaconda3/lib/python3.9/site-packages/twisted/internet/endpoints.py\", line 1020, in startConnectionAttempts\n",
      "    raise error.DNSLookupError(\n",
      "twisted.internet.error.DNSLookupError: DNS lookup failed: no results for hostname lookup: en.\n"
     ]
    },
    {
     "name": "stdout",
     "output_type": "stream",
     "text": [
      "inserting: 28298\r"
     ]
    },
    {
     "name": "stderr",
     "output_type": "stream",
     "text": [
      "2022-05-04 22:48:06 [scrapy.downloadermiddlewares.retry] ERROR: Gave up retrying <GET https://en/grand-river-parks.aspx> (failed 3 times): DNS lookup failed: no results for hostname lookup: en.\n",
      "2022-05-04 22:48:06 [scrapy.downloadermiddlewares.retry] ERROR: Gave up retrying <GET https://modules/news/search.aspx> (failed 3 times): DNS lookup failed: no results for hostname lookup: modules.\n"
     ]
    },
    {
     "name": "stdout",
     "output_type": "stream",
     "text": [
      "inserting: 28271\r"
     ]
    },
    {
     "name": "stderr",
     "output_type": "stream",
     "text": [
      "2022-05-04 22:48:07 [scrapy.core.scraper] ERROR: Error downloading <GET https://en/grand-river-parks.aspx>\n",
      "Traceback (most recent call last):\n",
      "  File \"/Users/enost/opt/anaconda3/lib/python3.9/site-packages/twisted/internet/defer.py\", line 1656, in _inlineCallbacks\n",
      "    result = current_context.run(\n",
      "  File \"/Users/enost/opt/anaconda3/lib/python3.9/site-packages/twisted/python/failure.py\", line 489, in throwExceptionIntoGenerator\n",
      "    return g.throw(self.type, self.value, self.tb)\n",
      "  File \"/Users/enost/opt/anaconda3/lib/python3.9/site-packages/scrapy/core/downloader/middleware.py\", line 49, in process_request\n",
      "    return (yield download_func(request=request, spider=spider))\n",
      "  File \"/Users/enost/opt/anaconda3/lib/python3.9/site-packages/twisted/internet/defer.py\", line 857, in _runCallbacks\n",
      "    current.result = callback(  # type: ignore[misc]\n",
      "  File \"/Users/enost/opt/anaconda3/lib/python3.9/site-packages/twisted/internet/endpoints.py\", line 1020, in startConnectionAttempts\n",
      "    raise error.DNSLookupError(\n",
      "twisted.internet.error.DNSLookupError: DNS lookup failed: no results for hostname lookup: en.\n",
      "2022-05-04 22:48:07 [scrapy.core.scraper] ERROR: Error downloading <GET https://modules/news/search.aspx>\n",
      "Traceback (most recent call last):\n",
      "  File \"/Users/enost/opt/anaconda3/lib/python3.9/site-packages/twisted/internet/defer.py\", line 1656, in _inlineCallbacks\n",
      "    result = current_context.run(\n",
      "  File \"/Users/enost/opt/anaconda3/lib/python3.9/site-packages/twisted/python/failure.py\", line 489, in throwExceptionIntoGenerator\n",
      "    return g.throw(self.type, self.value, self.tb)\n",
      "  File \"/Users/enost/opt/anaconda3/lib/python3.9/site-packages/scrapy/core/downloader/middleware.py\", line 49, in process_request\n",
      "    return (yield download_func(request=request, spider=spider))\n",
      "  File \"/Users/enost/opt/anaconda3/lib/python3.9/site-packages/twisted/internet/defer.py\", line 857, in _runCallbacks\n",
      "    current.result = callback(  # type: ignore[misc]\n",
      "  File \"/Users/enost/opt/anaconda3/lib/python3.9/site-packages/twisted/internet/endpoints.py\", line 1020, in startConnectionAttempts\n",
      "    raise error.DNSLookupError(\n",
      "twisted.internet.error.DNSLookupError: DNS lookup failed: no results for hostname lookup: modules.\n"
     ]
    },
    {
     "name": "stdout",
     "output_type": "stream",
     "text": [
      "inserting: 28263\r"
     ]
    },
    {
     "name": "stderr",
     "output_type": "stream",
     "text": [
      "2022-05-04 22:48:07 [scrapy.downloadermiddlewares.retry] ERROR: Gave up retrying <GET https://en/planning-development/contact-a-planner.aspx> (failed 3 times): DNS lookup failed: no results for hostname lookup: en.\n",
      "2022-05-04 22:48:07 [scrapy.core.scraper] ERROR: Error downloading <GET https://en/planning-development/contact-a-planner.aspx>\n",
      "Traceback (most recent call last):\n",
      "  File \"/Users/enost/opt/anaconda3/lib/python3.9/site-packages/twisted/internet/defer.py\", line 1656, in _inlineCallbacks\n",
      "    result = current_context.run(\n",
      "  File \"/Users/enost/opt/anaconda3/lib/python3.9/site-packages/twisted/python/failure.py\", line 489, in throwExceptionIntoGenerator\n",
      "    return g.throw(self.type, self.value, self.tb)\n",
      "  File \"/Users/enost/opt/anaconda3/lib/python3.9/site-packages/scrapy/core/downloader/middleware.py\", line 49, in process_request\n",
      "    return (yield download_func(request=request, spider=spider))\n",
      "  File \"/Users/enost/opt/anaconda3/lib/python3.9/site-packages/twisted/internet/defer.py\", line 857, in _runCallbacks\n",
      "    current.result = callback(  # type: ignore[misc]\n",
      "  File \"/Users/enost/opt/anaconda3/lib/python3.9/site-packages/twisted/internet/endpoints.py\", line 1020, in startConnectionAttempts\n",
      "    raise error.DNSLookupError(\n",
      "twisted.internet.error.DNSLookupError: DNS lookup failed: no results for hostname lookup: en.\n"
     ]
    },
    {
     "name": "stdout",
     "output_type": "stream",
     "text": [
      "Done!ting: 28328\r"
     ]
    }
   ],
   "source": [
    "%cd digcon_scraper/digcon_scraper/\n",
    "from web_observatory import scrape\n",
    "scrape(urls)"
   ]
  },
  {
   "cell_type": "code",
   "execution_count": 5,
   "id": "c3a64293-1016-4955-add5-f604333a7f91",
   "metadata": {},
   "outputs": [
    {
     "name": "stdout",
     "output_type": "stream",
     "text": [
      "/Users/enost/Downloads\n"
     ]
    }
   ],
   "source": [
    "%cd .."
   ]
  },
  {
   "cell_type": "code",
   "execution_count": 1,
   "id": "2a5a0e1b-5059-496c-9777-986e918f74c4",
   "metadata": {},
   "outputs": [
    {
     "name": "stdout",
     "output_type": "stream",
     "text": [
      "Done!\n",
      "Done!\n"
     ]
    }
   ],
   "source": [
    "# Quality control\n",
    "from web_observatory import query\n",
    "## Create a copy of the text table\n",
    "query(\"copy\") # Only need to do this once!\n",
    "## Remove from db where there was no text scraped\n",
    "query(\"filter_empty\")\n",
    "## Remove anything without at least 1 keyword?\n",
    "queryterms = [\"artificial intelligence\", \"machine learning\", \"nature \", \"conservation \"] # spaces to avoid certain spam...\n",
    "## Need to remove French-language sites?\n",
    "\n",
    "query(\"filter_words\", terms = queryterms)"
   ]
  },
  {
   "cell_type": "code",
   "execution_count": 4,
   "id": "102019d2-4e82-4906-bb1f-97032cf8d9ec",
   "metadata": {},
   "outputs": [
    {
     "data": {
      "text/html": [
       "<div>\n",
       "<style scoped>\n",
       "    .dataframe tbody tr th:only-of-type {\n",
       "        vertical-align: middle;\n",
       "    }\n",
       "\n",
       "    .dataframe tbody tr th {\n",
       "        vertical-align: top;\n",
       "    }\n",
       "\n",
       "    .dataframe thead th {\n",
       "        text-align: right;\n",
       "    }\n",
       "</style>\n",
       "<table border=\"1\" class=\"dataframe\">\n",
       "  <thead>\n",
       "    <tr style=\"text-align: right;\">\n",
       "      <th></th>\n",
       "      <th>url</th>\n",
       "      <th>domain</th>\n",
       "      <th>source</th>\n",
       "      <th>date</th>\n",
       "      <th>artificial intelligence</th>\n",
       "      <th>ai</th>\n",
       "      <th>machine learning</th>\n",
       "      <th>algorithm</th>\n",
       "      <th>conservation</th>\n",
       "      <th>nature</th>\n",
       "      <th>...</th>\n",
       "      <th>river</th>\n",
       "      <th>arctic</th>\n",
       "      <th>privacy</th>\n",
       "      <th>surveillance</th>\n",
       "      <th>cost</th>\n",
       "      <th>market</th>\n",
       "      <th>decision making</th>\n",
       "      <th>working land</th>\n",
       "      <th>indigenous-led</th>\n",
       "      <th>easement</th>\n",
       "    </tr>\n",
       "  </thead>\n",
       "  <tbody>\n",
       "    <tr>\n",
       "      <th>0</th>\n",
       "      <td>http://web.archive.org/web/20140731104236id_/h...</td>\n",
       "      <td>chesterfieldpost</td>\n",
       "      <td>Twitter</td>\n",
       "      <td>2011-36</td>\n",
       "      <td>0</td>\n",
       "      <td>0</td>\n",
       "      <td>0</td>\n",
       "      <td>0</td>\n",
       "      <td>4</td>\n",
       "      <td>0</td>\n",
       "      <td>...</td>\n",
       "      <td>4</td>\n",
       "      <td>0</td>\n",
       "      <td>1</td>\n",
       "      <td>0</td>\n",
       "      <td>3</td>\n",
       "      <td>1</td>\n",
       "      <td>0</td>\n",
       "      <td>0</td>\n",
       "      <td>0</td>\n",
       "      <td>0</td>\n",
       "    </tr>\n",
       "    <tr>\n",
       "      <th>1</th>\n",
       "      <td>https://etienne34-blog.tumblr.com/post/1664008...</td>\n",
       "      <td>tumblr</td>\n",
       "      <td>Twitter</td>\n",
       "      <td>2012-04</td>\n",
       "      <td>0</td>\n",
       "      <td>0</td>\n",
       "      <td>0</td>\n",
       "      <td>0</td>\n",
       "      <td>1</td>\n",
       "      <td>0</td>\n",
       "      <td>...</td>\n",
       "      <td>0</td>\n",
       "      <td>0</td>\n",
       "      <td>0</td>\n",
       "      <td>0</td>\n",
       "      <td>0</td>\n",
       "      <td>0</td>\n",
       "      <td>0</td>\n",
       "      <td>0</td>\n",
       "      <td>0</td>\n",
       "      <td>0</td>\n",
       "    </tr>\n",
       "    <tr>\n",
       "      <th>2</th>\n",
       "      <td>http://web.archive.org/web/20110828190407id_/h...</td>\n",
       "      <td>harriscompanyrec</td>\n",
       "      <td>Twitter</td>\n",
       "      <td>2011-36</td>\n",
       "      <td>0</td>\n",
       "      <td>1</td>\n",
       "      <td>0</td>\n",
       "      <td>0</td>\n",
       "      <td>0</td>\n",
       "      <td>2</td>\n",
       "      <td>...</td>\n",
       "      <td>0</td>\n",
       "      <td>0</td>\n",
       "      <td>0</td>\n",
       "      <td>0</td>\n",
       "      <td>0</td>\n",
       "      <td>3</td>\n",
       "      <td>0</td>\n",
       "      <td>0</td>\n",
       "      <td>0</td>\n",
       "      <td>1</td>\n",
       "    </tr>\n",
       "    <tr>\n",
       "      <th>3</th>\n",
       "      <td>http://web.archive.org/web/20210416114353id_/h...</td>\n",
       "      <td>lecuisinomane</td>\n",
       "      <td>Twitter</td>\n",
       "      <td>2018-49</td>\n",
       "      <td>0</td>\n",
       "      <td>1</td>\n",
       "      <td>0</td>\n",
       "      <td>0</td>\n",
       "      <td>1</td>\n",
       "      <td>2</td>\n",
       "      <td>...</td>\n",
       "      <td>0</td>\n",
       "      <td>0</td>\n",
       "      <td>0</td>\n",
       "      <td>0</td>\n",
       "      <td>0</td>\n",
       "      <td>0</td>\n",
       "      <td>0</td>\n",
       "      <td>0</td>\n",
       "      <td>0</td>\n",
       "      <td>0</td>\n",
       "    </tr>\n",
       "    <tr>\n",
       "      <th>4</th>\n",
       "      <td>https://wwf.ca/stories/good-news-bad-news-rhinos/</td>\n",
       "      <td>wwf</td>\n",
       "      <td>Crawl</td>\n",
       "      <td>None</td>\n",
       "      <td>0</td>\n",
       "      <td>0</td>\n",
       "      <td>0</td>\n",
       "      <td>0</td>\n",
       "      <td>0</td>\n",
       "      <td>1</td>\n",
       "      <td>...</td>\n",
       "      <td>0</td>\n",
       "      <td>0</td>\n",
       "      <td>0</td>\n",
       "      <td>0</td>\n",
       "      <td>0</td>\n",
       "      <td>0</td>\n",
       "      <td>0</td>\n",
       "      <td>0</td>\n",
       "      <td>0</td>\n",
       "      <td>0</td>\n",
       "    </tr>\n",
       "    <tr>\n",
       "      <th>...</th>\n",
       "      <td>...</td>\n",
       "      <td>...</td>\n",
       "      <td>...</td>\n",
       "      <td>...</td>\n",
       "      <td>...</td>\n",
       "      <td>...</td>\n",
       "      <td>...</td>\n",
       "      <td>...</td>\n",
       "      <td>...</td>\n",
       "      <td>...</td>\n",
       "      <td>...</td>\n",
       "      <td>...</td>\n",
       "      <td>...</td>\n",
       "      <td>...</td>\n",
       "      <td>...</td>\n",
       "      <td>...</td>\n",
       "      <td>...</td>\n",
       "      <td>...</td>\n",
       "      <td>...</td>\n",
       "      <td>...</td>\n",
       "      <td>...</td>\n",
       "    </tr>\n",
       "    <tr>\n",
       "      <th>24674</th>\n",
       "      <td>https://www.natureconservancy.ca/fr/nous-trouv...</td>\n",
       "      <td>natureconservancy</td>\n",
       "      <td>Crawl</td>\n",
       "      <td>None</td>\n",
       "      <td>0</td>\n",
       "      <td>0</td>\n",
       "      <td>0</td>\n",
       "      <td>0</td>\n",
       "      <td>8</td>\n",
       "      <td>7</td>\n",
       "      <td>...</td>\n",
       "      <td>0</td>\n",
       "      <td>0</td>\n",
       "      <td>0</td>\n",
       "      <td>0</td>\n",
       "      <td>0</td>\n",
       "      <td>0</td>\n",
       "      <td>0</td>\n",
       "      <td>0</td>\n",
       "      <td>0</td>\n",
       "      <td>0</td>\n",
       "    </tr>\n",
       "    <tr>\n",
       "      <th>24675</th>\n",
       "      <td>https://wwf.ca/fr/communiques-de-presse/la-per...</td>\n",
       "      <td>wwf</td>\n",
       "      <td>Crawl</td>\n",
       "      <td>None</td>\n",
       "      <td>0</td>\n",
       "      <td>0</td>\n",
       "      <td>0</td>\n",
       "      <td>0</td>\n",
       "      <td>10</td>\n",
       "      <td>7</td>\n",
       "      <td>...</td>\n",
       "      <td>1</td>\n",
       "      <td>0</td>\n",
       "      <td>0</td>\n",
       "      <td>0</td>\n",
       "      <td>0</td>\n",
       "      <td>0</td>\n",
       "      <td>0</td>\n",
       "      <td>0</td>\n",
       "      <td>0</td>\n",
       "      <td>0</td>\n",
       "    </tr>\n",
       "    <tr>\n",
       "      <th>24676</th>\n",
       "      <td>https://wwf.ca/stories/tag/great-canadian-shor...</td>\n",
       "      <td>wwf</td>\n",
       "      <td>Crawl</td>\n",
       "      <td>None</td>\n",
       "      <td>0</td>\n",
       "      <td>0</td>\n",
       "      <td>0</td>\n",
       "      <td>0</td>\n",
       "      <td>0</td>\n",
       "      <td>1</td>\n",
       "      <td>...</td>\n",
       "      <td>0</td>\n",
       "      <td>0</td>\n",
       "      <td>0</td>\n",
       "      <td>0</td>\n",
       "      <td>0</td>\n",
       "      <td>0</td>\n",
       "      <td>0</td>\n",
       "      <td>0</td>\n",
       "      <td>0</td>\n",
       "      <td>0</td>\n",
       "    </tr>\n",
       "    <tr>\n",
       "      <th>24677</th>\n",
       "      <td>https://fundraisers.wwf.ca/fundraisers/expertp...</td>\n",
       "      <td>wwf</td>\n",
       "      <td>Crawl</td>\n",
       "      <td>None</td>\n",
       "      <td>0</td>\n",
       "      <td>0</td>\n",
       "      <td>0</td>\n",
       "      <td>0</td>\n",
       "      <td>0</td>\n",
       "      <td>3</td>\n",
       "      <td>...</td>\n",
       "      <td>0</td>\n",
       "      <td>0</td>\n",
       "      <td>0</td>\n",
       "      <td>0</td>\n",
       "      <td>0</td>\n",
       "      <td>0</td>\n",
       "      <td>0</td>\n",
       "      <td>0</td>\n",
       "      <td>0</td>\n",
       "      <td>0</td>\n",
       "    </tr>\n",
       "    <tr>\n",
       "      <th>24678</th>\n",
       "      <td>https://wwf.ca/stories/author/staffblogger/pag...</td>\n",
       "      <td>wwf</td>\n",
       "      <td>Crawl</td>\n",
       "      <td>None</td>\n",
       "      <td>0</td>\n",
       "      <td>0</td>\n",
       "      <td>0</td>\n",
       "      <td>0</td>\n",
       "      <td>0</td>\n",
       "      <td>1</td>\n",
       "      <td>...</td>\n",
       "      <td>0</td>\n",
       "      <td>0</td>\n",
       "      <td>0</td>\n",
       "      <td>0</td>\n",
       "      <td>0</td>\n",
       "      <td>0</td>\n",
       "      <td>0</td>\n",
       "      <td>0</td>\n",
       "      <td>0</td>\n",
       "      <td>0</td>\n",
       "    </tr>\n",
       "  </tbody>\n",
       "</table>\n",
       "<p>24679 rows × 25 columns</p>\n",
       "</div>"
      ],
      "text/plain": [
       "                                                     url             domain  \\\n",
       "0      http://web.archive.org/web/20140731104236id_/h...   chesterfieldpost   \n",
       "1      https://etienne34-blog.tumblr.com/post/1664008...             tumblr   \n",
       "2      http://web.archive.org/web/20110828190407id_/h...   harriscompanyrec   \n",
       "3      http://web.archive.org/web/20210416114353id_/h...      lecuisinomane   \n",
       "4      https://wwf.ca/stories/good-news-bad-news-rhinos/                wwf   \n",
       "...                                                  ...                ...   \n",
       "24674  https://www.natureconservancy.ca/fr/nous-trouv...  natureconservancy   \n",
       "24675  https://wwf.ca/fr/communiques-de-presse/la-per...                wwf   \n",
       "24676  https://wwf.ca/stories/tag/great-canadian-shor...                wwf   \n",
       "24677  https://fundraisers.wwf.ca/fundraisers/expertp...                wwf   \n",
       "24678  https://wwf.ca/stories/author/staffblogger/pag...                wwf   \n",
       "\n",
       "        source     date  artificial intelligence   ai   machine learning  \\\n",
       "0      Twitter  2011-36                        0     0                 0   \n",
       "1      Twitter  2012-04                        0     0                 0   \n",
       "2      Twitter  2011-36                        0     1                 0   \n",
       "3      Twitter  2018-49                        0     1                 0   \n",
       "4        Crawl     None                        0     0                 0   \n",
       "...        ...      ...                      ...   ...               ...   \n",
       "24674    Crawl     None                        0     0                 0   \n",
       "24675    Crawl     None                        0     0                 0   \n",
       "24676    Crawl     None                        0     0                 0   \n",
       "24677    Crawl     None                        0     0                 0   \n",
       "24678    Crawl     None                        0     0                 0   \n",
       "\n",
       "       algorithm  conservation  nature  ...  river  arctic  privacy  \\\n",
       "0              0             4       0  ...      4       0        1   \n",
       "1              0             1       0  ...      0       0        0   \n",
       "2              0             0       2  ...      0       0        0   \n",
       "3              0             1       2  ...      0       0        0   \n",
       "4              0             0       1  ...      0       0        0   \n",
       "...          ...           ...     ...  ...    ...     ...      ...   \n",
       "24674          0             8       7  ...      0       0        0   \n",
       "24675          0            10       7  ...      1       0        0   \n",
       "24676          0             0       1  ...      0       0        0   \n",
       "24677          0             0       3  ...      0       0        0   \n",
       "24678          0             0       1  ...      0       0        0   \n",
       "\n",
       "       surveillance  cost  market  decision making  working land  \\\n",
       "0                 0     3       1                0             0   \n",
       "1                 0     0       0                0             0   \n",
       "2                 0     0       3                0             0   \n",
       "3                 0     0       0                0             0   \n",
       "4                 0     0       0                0             0   \n",
       "...             ...   ...     ...              ...           ...   \n",
       "24674             0     0       0                0             0   \n",
       "24675             0     0       0                0             0   \n",
       "24676             0     0       0                0             0   \n",
       "24677             0     0       0                0             0   \n",
       "24678             0     0       0                0             0   \n",
       "\n",
       "       indigenous-led  easement  \n",
       "0                   0         0  \n",
       "1                   0         0  \n",
       "2                   0         1  \n",
       "3                   0         0  \n",
       "4                   0         0  \n",
       "...               ...       ...  \n",
       "24674               0         0  \n",
       "24675               0         0  \n",
       "24676               0         0  \n",
       "24677               0         0  \n",
       "24678               0         0  \n",
       "\n",
       "[24679 rows x 25 columns]"
      ]
     },
     "execution_count": 4,
     "metadata": {},
     "output_type": "execute_result"
    }
   ],
   "source": [
    "## Get word counts\n",
    "from web_observatory import query\n",
    "tech_terms = [\"artificial intelligence\", \" ai \", \"machine learning\", \"algorithm\"] # Spaces in ai to capture its use as in AI rather than e.g. said\n",
    "cons_terms = [\"conservation\", \"nature\"]\n",
    "#grammar = [\"is\", \"will\"] # for phrases\n",
    "topics = [\"forest\", \"mountain\", \"wetland\", \"boreal\", \"ocean\", \"river\", \"arctic\"]\n",
    "ethics = [\"privacy\", \"surveillance\", \"cost\"]\n",
    "tools = [\"market\", \"decision making\", \"working land\", \"indigenous-led\", \"easement\"]\n",
    "combined_terms = tech_terms + cons_terms + topics + ethics + tools\n",
    "\n",
    "words = query(\"get_words\", combined_terms)\n",
    "words"
   ]
  },
  {
   "cell_type": "code",
   "execution_count": 1,
   "id": "e597537c-b556-4fea-80ae-cda4fd6a4deb",
   "metadata": {},
   "outputs": [
    {
     "data": {
      "text/html": [
       "<div>\n",
       "<style scoped>\n",
       "    .dataframe tbody tr th:only-of-type {\n",
       "        vertical-align: middle;\n",
       "    }\n",
       "\n",
       "    .dataframe tbody tr th {\n",
       "        vertical-align: top;\n",
       "    }\n",
       "\n",
       "    .dataframe thead th {\n",
       "        text-align: right;\n",
       "    }\n",
       "</style>\n",
       "<table border=\"1\" class=\"dataframe\">\n",
       "  <thead>\n",
       "    <tr style=\"text-align: right;\">\n",
       "      <th></th>\n",
       "      <th>Unnamed: 0</th>\n",
       "      <th>url</th>\n",
       "      <th>domain</th>\n",
       "      <th>source</th>\n",
       "      <th>date</th>\n",
       "      <th>artificial intelligence</th>\n",
       "      <th>ai</th>\n",
       "      <th>machine learning</th>\n",
       "      <th>conservation</th>\n",
       "      <th>nature</th>\n",
       "      <th>forest</th>\n",
       "      <th>mountain</th>\n",
       "      <th>wetland</th>\n",
       "      <th>boreal</th>\n",
       "      <th>ocean</th>\n",
       "      <th>river</th>\n",
       "      <th>privacy</th>\n",
       "      <th>surveillance</th>\n",
       "    </tr>\n",
       "  </thead>\n",
       "  <tbody>\n",
       "    <tr>\n",
       "      <th>0</th>\n",
       "      <td>0</td>\n",
       "      <td>http://web.archive.org/web/20140731104236id_/h...</td>\n",
       "      <td>chesterfieldpost</td>\n",
       "      <td>Twitter</td>\n",
       "      <td>2011-36</td>\n",
       "      <td>0</td>\n",
       "      <td>0</td>\n",
       "      <td>0</td>\n",
       "      <td>4</td>\n",
       "      <td>0</td>\n",
       "      <td>0</td>\n",
       "      <td>0</td>\n",
       "      <td>0</td>\n",
       "      <td>0</td>\n",
       "      <td>0</td>\n",
       "      <td>4</td>\n",
       "      <td>1</td>\n",
       "      <td>0</td>\n",
       "    </tr>\n",
       "    <tr>\n",
       "      <th>1</th>\n",
       "      <td>1</td>\n",
       "      <td>https://etienne34-blog.tumblr.com/post/1664008...</td>\n",
       "      <td>tumblr</td>\n",
       "      <td>Twitter</td>\n",
       "      <td>2012-04</td>\n",
       "      <td>0</td>\n",
       "      <td>0</td>\n",
       "      <td>0</td>\n",
       "      <td>1</td>\n",
       "      <td>0</td>\n",
       "      <td>0</td>\n",
       "      <td>0</td>\n",
       "      <td>0</td>\n",
       "      <td>0</td>\n",
       "      <td>0</td>\n",
       "      <td>0</td>\n",
       "      <td>0</td>\n",
       "      <td>0</td>\n",
       "    </tr>\n",
       "    <tr>\n",
       "      <th>2</th>\n",
       "      <td>2</td>\n",
       "      <td>http://web.archive.org/web/20110828190407id_/h...</td>\n",
       "      <td>harriscompanyrec</td>\n",
       "      <td>Twitter</td>\n",
       "      <td>2011-36</td>\n",
       "      <td>0</td>\n",
       "      <td>1</td>\n",
       "      <td>0</td>\n",
       "      <td>0</td>\n",
       "      <td>2</td>\n",
       "      <td>0</td>\n",
       "      <td>0</td>\n",
       "      <td>0</td>\n",
       "      <td>0</td>\n",
       "      <td>0</td>\n",
       "      <td>0</td>\n",
       "      <td>0</td>\n",
       "      <td>0</td>\n",
       "    </tr>\n",
       "    <tr>\n",
       "      <th>3</th>\n",
       "      <td>3</td>\n",
       "      <td>https://www.freelancer.com/projects/machine-le...</td>\n",
       "      <td>freelancer</td>\n",
       "      <td>Twitter</td>\n",
       "      <td>2012-16</td>\n",
       "      <td>0</td>\n",
       "      <td>0</td>\n",
       "      <td>2</td>\n",
       "      <td>6</td>\n",
       "      <td>0</td>\n",
       "      <td>0</td>\n",
       "      <td>0</td>\n",
       "      <td>0</td>\n",
       "      <td>0</td>\n",
       "      <td>0</td>\n",
       "      <td>0</td>\n",
       "      <td>0</td>\n",
       "      <td>0</td>\n",
       "    </tr>\n",
       "    <tr>\n",
       "      <th>4</th>\n",
       "      <td>4</td>\n",
       "      <td>http://web.archive.org/web/20120901133326id_/h...</td>\n",
       "      <td>twocircles</td>\n",
       "      <td>Twitter</td>\n",
       "      <td>2012-31</td>\n",
       "      <td>0</td>\n",
       "      <td>0</td>\n",
       "      <td>0</td>\n",
       "      <td>2</td>\n",
       "      <td>0</td>\n",
       "      <td>0</td>\n",
       "      <td>0</td>\n",
       "      <td>0</td>\n",
       "      <td>0</td>\n",
       "      <td>0</td>\n",
       "      <td>0</td>\n",
       "      <td>0</td>\n",
       "      <td>0</td>\n",
       "    </tr>\n",
       "    <tr>\n",
       "      <th>...</th>\n",
       "      <td>...</td>\n",
       "      <td>...</td>\n",
       "      <td>...</td>\n",
       "      <td>...</td>\n",
       "      <td>...</td>\n",
       "      <td>...</td>\n",
       "      <td>...</td>\n",
       "      <td>...</td>\n",
       "      <td>...</td>\n",
       "      <td>...</td>\n",
       "      <td>...</td>\n",
       "      <td>...</td>\n",
       "      <td>...</td>\n",
       "      <td>...</td>\n",
       "      <td>...</td>\n",
       "      <td>...</td>\n",
       "      <td>...</td>\n",
       "      <td>...</td>\n",
       "    </tr>\n",
       "    <tr>\n",
       "      <th>24674</th>\n",
       "      <td>24674</td>\n",
       "      <td>https://www.natureconservancy.ca/fr/nous-trouv...</td>\n",
       "      <td>natureconservancy</td>\n",
       "      <td>Crawl</td>\n",
       "      <td>NaN</td>\n",
       "      <td>0</td>\n",
       "      <td>0</td>\n",
       "      <td>0</td>\n",
       "      <td>8</td>\n",
       "      <td>7</td>\n",
       "      <td>1</td>\n",
       "      <td>0</td>\n",
       "      <td>0</td>\n",
       "      <td>0</td>\n",
       "      <td>0</td>\n",
       "      <td>0</td>\n",
       "      <td>0</td>\n",
       "      <td>0</td>\n",
       "    </tr>\n",
       "    <tr>\n",
       "      <th>24675</th>\n",
       "      <td>24675</td>\n",
       "      <td>https://wwf.ca/fr/communiques-de-presse/la-per...</td>\n",
       "      <td>wwf</td>\n",
       "      <td>Crawl</td>\n",
       "      <td>NaN</td>\n",
       "      <td>0</td>\n",
       "      <td>0</td>\n",
       "      <td>0</td>\n",
       "      <td>10</td>\n",
       "      <td>7</td>\n",
       "      <td>0</td>\n",
       "      <td>0</td>\n",
       "      <td>0</td>\n",
       "      <td>0</td>\n",
       "      <td>0</td>\n",
       "      <td>1</td>\n",
       "      <td>0</td>\n",
       "      <td>0</td>\n",
       "    </tr>\n",
       "    <tr>\n",
       "      <th>24676</th>\n",
       "      <td>24676</td>\n",
       "      <td>https://wwf.ca/stories/tag/great-canadian-shor...</td>\n",
       "      <td>wwf</td>\n",
       "      <td>Crawl</td>\n",
       "      <td>NaN</td>\n",
       "      <td>0</td>\n",
       "      <td>0</td>\n",
       "      <td>0</td>\n",
       "      <td>0</td>\n",
       "      <td>1</td>\n",
       "      <td>0</td>\n",
       "      <td>0</td>\n",
       "      <td>0</td>\n",
       "      <td>0</td>\n",
       "      <td>0</td>\n",
       "      <td>0</td>\n",
       "      <td>0</td>\n",
       "      <td>0</td>\n",
       "    </tr>\n",
       "    <tr>\n",
       "      <th>24677</th>\n",
       "      <td>24677</td>\n",
       "      <td>https://fundraisers.wwf.ca/fundraisers/expertp...</td>\n",
       "      <td>wwf</td>\n",
       "      <td>Crawl</td>\n",
       "      <td>NaN</td>\n",
       "      <td>0</td>\n",
       "      <td>0</td>\n",
       "      <td>0</td>\n",
       "      <td>0</td>\n",
       "      <td>3</td>\n",
       "      <td>0</td>\n",
       "      <td>0</td>\n",
       "      <td>0</td>\n",
       "      <td>0</td>\n",
       "      <td>0</td>\n",
       "      <td>0</td>\n",
       "      <td>0</td>\n",
       "      <td>0</td>\n",
       "    </tr>\n",
       "    <tr>\n",
       "      <th>24678</th>\n",
       "      <td>24678</td>\n",
       "      <td>https://wwf.ca/stories/author/staffblogger/pag...</td>\n",
       "      <td>wwf</td>\n",
       "      <td>Crawl</td>\n",
       "      <td>NaN</td>\n",
       "      <td>0</td>\n",
       "      <td>0</td>\n",
       "      <td>0</td>\n",
       "      <td>0</td>\n",
       "      <td>1</td>\n",
       "      <td>0</td>\n",
       "      <td>0</td>\n",
       "      <td>0</td>\n",
       "      <td>0</td>\n",
       "      <td>0</td>\n",
       "      <td>0</td>\n",
       "      <td>0</td>\n",
       "      <td>0</td>\n",
       "    </tr>\n",
       "  </tbody>\n",
       "</table>\n",
       "<p>24679 rows × 18 columns</p>\n",
       "</div>"
      ],
      "text/plain": [
       "       Unnamed: 0                                                url  \\\n",
       "0               0  http://web.archive.org/web/20140731104236id_/h...   \n",
       "1               1  https://etienne34-blog.tumblr.com/post/1664008...   \n",
       "2               2  http://web.archive.org/web/20110828190407id_/h...   \n",
       "3               3  https://www.freelancer.com/projects/machine-le...   \n",
       "4               4  http://web.archive.org/web/20120901133326id_/h...   \n",
       "...           ...                                                ...   \n",
       "24674       24674  https://www.natureconservancy.ca/fr/nous-trouv...   \n",
       "24675       24675  https://wwf.ca/fr/communiques-de-presse/la-per...   \n",
       "24676       24676  https://wwf.ca/stories/tag/great-canadian-shor...   \n",
       "24677       24677  https://fundraisers.wwf.ca/fundraisers/expertp...   \n",
       "24678       24678  https://wwf.ca/stories/author/staffblogger/pag...   \n",
       "\n",
       "                  domain   source     date  artificial intelligence   ai   \\\n",
       "0       chesterfieldpost  Twitter  2011-36                        0     0   \n",
       "1                 tumblr  Twitter  2012-04                        0     0   \n",
       "2       harriscompanyrec  Twitter  2011-36                        0     1   \n",
       "3             freelancer  Twitter  2012-16                        0     0   \n",
       "4             twocircles  Twitter  2012-31                        0     0   \n",
       "...                  ...      ...      ...                      ...   ...   \n",
       "24674  natureconservancy    Crawl      NaN                        0     0   \n",
       "24675                wwf    Crawl      NaN                        0     0   \n",
       "24676                wwf    Crawl      NaN                        0     0   \n",
       "24677                wwf    Crawl      NaN                        0     0   \n",
       "24678                wwf    Crawl      NaN                        0     0   \n",
       "\n",
       "       machine learning  conservation  nature  forest  mountain  wetland  \\\n",
       "0                     0             4       0       0         0        0   \n",
       "1                     0             1       0       0         0        0   \n",
       "2                     0             0       2       0         0        0   \n",
       "3                     2             6       0       0         0        0   \n",
       "4                     0             2       0       0         0        0   \n",
       "...                 ...           ...     ...     ...       ...      ...   \n",
       "24674                 0             8       7       1         0        0   \n",
       "24675                 0            10       7       0         0        0   \n",
       "24676                 0             0       1       0         0        0   \n",
       "24677                 0             0       3       0         0        0   \n",
       "24678                 0             0       1       0         0        0   \n",
       "\n",
       "       boreal  ocean  river  privacy  surveillance  \n",
       "0           0      0      4        1             0  \n",
       "1           0      0      0        0             0  \n",
       "2           0      0      0        0             0  \n",
       "3           0      0      0        0             0  \n",
       "4           0      0      0        0             0  \n",
       "...       ...    ...    ...      ...           ...  \n",
       "24674       0      0      0        0             0  \n",
       "24675       0      0      1        0             0  \n",
       "24676       0      0      0        0             0  \n",
       "24677       0      0      0        0             0  \n",
       "24678       0      0      0        0             0  \n",
       "\n",
       "[24679 rows x 18 columns]"
      ]
     },
     "execution_count": 1,
     "metadata": {},
     "output_type": "execute_result"
    }
   ],
   "source": [
    "import pandas\n",
    "words = pandas.read_csv(\"AI_ML/words_counts.csv\")\n",
    "words"
   ]
  },
  {
   "cell_type": "code",
   "execution_count": 3,
   "id": "5d97ea18-bd7d-498c-ae2c-b0b094a20e56",
   "metadata": {},
   "outputs": [
    {
     "name": "stderr",
     "output_type": "stream",
     "text": [
      "/Users/enost/Downloads/observatory_dev_v02.py:1145: SettingWithCopyWarning: \n",
      "A value is trying to be set on a copy of a slice from a DataFrame\n",
      "\n",
      "See the caveats in the documentation: https://pandas.pydata.org/pandas-docs/stable/user_guide/indexing.html#returning-a-view-versus-a-copy\n",
      "  counts['date'].update(counts['date'].str.slice(0,4)) # Get the year\n",
      "/Users/enost/Downloads/observatory_dev_v02.py:1146: SettingWithCopyWarning: \n",
      "A value is trying to be set on a copy of a slice from a DataFrame\n",
      "\n",
      "See the caveats in the documentation: https://pandas.pydata.org/pandas-docs/stable/user_guide/indexing.html#returning-a-view-versus-a-copy\n",
      "  counts['date'].update(pandas.to_datetime(counts[\"date\"], format=\"%Y\").dt.to_period(\"Y\")) # Convert specific year/weeks to years #counts['date'].dt.to_timestamp('Y').dt.strftime(\"%Y-%m-%dT%H:%M:%S.%fZ\") #\n"
     ]
    },
    {
     "data": {
      "text/plain": [
       "<AxesSubplot:xlabel='date'>"
      ]
     },
     "metadata": {},
     "output_type": "display_data"
    },
    {
     "data": {
      "text/plain": [
       "<AxesSubplot:xlabel='date'>"
      ]
     },
     "metadata": {},
     "output_type": "display_data"
    },
    {
     "data": {
      "text/plain": [
       "<AxesSubplot:xlabel='date'>"
      ]
     },
     "metadata": {},
     "output_type": "display_data"
    },
    {
     "data": {
      "image/png": "[encoded data removed]",
      "text/plain": [
       "<Figure size 432x288 with 1 Axes>"
      ]
     },
     "metadata": {
      "needs_background": "light"
     },
     "output_type": "display_data"
    },
    {
     "data": {
      "image/png": "[encoded data removed]",
      "text/plain": [
       "<Figure size 432x288 with 1 Axes>"
      ]
     },
     "metadata": {
      "needs_background": "light"
     },
     "output_type": "display_data"
    },
    {
     "data": {
      "image/png": "[encoded data removed]",
      "text/plain": [
       "<Figure size 432x288 with 1 Axes>"
      ]
     },
     "metadata": {
      "needs_background": "light"
     },
     "output_type": "display_data"
    }
   ],
   "source": [
    "# Analyze\n",
    "## How has the conversation about AI/ML changed over time? (Twitter frequency/average)\n",
    "from web_observatory import analyze_twitter\n",
    "avg, freq, total = analyze_twitter(words, terms = [\"artificial intelligence\", \" ai \", \"machine learning\"])\n",
    "## Where the term conservation is used\n",
    "#, freq, total = analyze_twitter(words.loc[words['nature']>0], [\"artificial intelligence\", \"machine learning\"])"
   ]
  },
  {
   "cell_type": "code",
   "execution_count": 4,
   "id": "ef17a617-10d9-498c-9680-7a9ce4a61745",
   "metadata": {},
   "outputs": [
    {
     "name": "stderr",
     "output_type": "stream",
     "text": [
      "/Users/enost/Downloads/observatory_dev_v02.py:1213: RuntimeWarning: invalid value encountered in long_scalars\n",
      "  average = round((df[t].sum() / df[t].count()) * 100, 2)\n",
      "/Users/enost/Downloads/observatory_dev_v02.py:1220: RuntimeWarning: invalid value encountered in long_scalars\n",
      "  f = round(( m / df[t].count() ) * 100, 2)\n"
     ]
    },
    {
     "data": {
      "text/html": [
       "<div>\n",
       "<style scoped>\n",
       "    .dataframe tbody tr th:only-of-type {\n",
       "        vertical-align: middle;\n",
       "    }\n",
       "\n",
       "    .dataframe tbody tr th {\n",
       "        vertical-align: top;\n",
       "    }\n",
       "\n",
       "    .dataframe thead th {\n",
       "        text-align: right;\n",
       "    }\n",
       "</style>\n",
       "<table border=\"1\" class=\"dataframe\">\n",
       "  <thead>\n",
       "    <tr style=\"text-align: right;\">\n",
       "      <th></th>\n",
       "      <th>privacy_avg</th>\n",
       "      <th>surveillance_avg</th>\n",
       "    </tr>\n",
       "  </thead>\n",
       "  <tbody>\n",
       "    <tr>\n",
       "      <th>raresites</th>\n",
       "      <td>NaN</td>\n",
       "      <td>NaN</td>\n",
       "    </tr>\n",
       "    <tr>\n",
       "      <th>davidsuzuki</th>\n",
       "      <td>0.0</td>\n",
       "      <td>0.0</td>\n",
       "    </tr>\n",
       "    <tr>\n",
       "      <th>grandriver</th>\n",
       "      <td>NaN</td>\n",
       "      <td>NaN</td>\n",
       "    </tr>\n",
       "    <tr>\n",
       "      <th>wwf</th>\n",
       "      <td>7.89</td>\n",
       "      <td>7.89</td>\n",
       "    </tr>\n",
       "    <tr>\n",
       "      <th>ecotrust</th>\n",
       "      <td>0.0</td>\n",
       "      <td>0.0</td>\n",
       "    </tr>\n",
       "    <tr>\n",
       "      <th>natureconservancy</th>\n",
       "      <td>0.0</td>\n",
       "      <td>0.0</td>\n",
       "    </tr>\n",
       "  </tbody>\n",
       "</table>\n",
       "</div>"
      ],
      "text/plain": [
       "                  privacy_avg surveillance_avg\n",
       "raresites                 NaN              NaN\n",
       "davidsuzuki               0.0              0.0\n",
       "grandriver                NaN              NaN\n",
       "wwf                      7.89             7.89\n",
       "ecotrust                  0.0              0.0\n",
       "natureconservancy         0.0              0.0"
      ]
     },
     "execution_count": 4,
     "metadata": {},
     "output_type": "execute_result"
    }
   ],
   "source": [
    "## Are certain organizations (and organization sizes) more likely to mention AI/ML? (Crawl)\n",
    "from web_observatory import analyze_orgs\n",
    "avg, freq = analyze_orgs(words, orgs = [\"raresites\", \"davidsuzuki\", \"grandriver\", \"wwf\", \"ecotrust\", \"natureconservancy\"], terms = [\"artificial intelligence\", \"forest\", \"machine learning\"])\n",
    "## Are certain organizations more likely to mention ethics terms in conjunction with AI/ML? (Crawl)\n",
    "avg, freq = analyze_orgs(words.loc[(words[\"artificial intelligence\"]>0) | (words[\" ai \"]>0) | (words[\"machine learning\"]>0)], orgs = [\"raresites\", \"davidsuzuki\", \"grandriver\", \"wwf\", \"ecotrust\", \"natureconservancy\"], terms = [\"privacy\", \"surveillance\"])\n",
    "avg"
   ]
  },
  {
   "cell_type": "code",
   "execution_count": 10,
   "id": "23e49ba2-c66f-43e5-bd17-4ae472281e78",
   "metadata": {},
   "outputs": [
    {
     "name": "stdout",
     "output_type": "stream",
     "text": [
      " ai  easement\n",
      "Zeros: 23246, 94%\n",
      "easement but not  ai : 56, 0%\n",
      " ai  but not easement: 1357, 5%\n",
      "Together: 20, 0%\n",
      "\n",
      "\n"
     ]
    },
    {
     "data": {
      "text/html": [
       "<div>\n",
       "<style scoped>\n",
       "    .dataframe tbody tr th:only-of-type {\n",
       "        vertical-align: middle;\n",
       "    }\n",
       "\n",
       "    .dataframe tbody tr th {\n",
       "        vertical-align: top;\n",
       "    }\n",
       "\n",
       "    .dataframe thead th {\n",
       "        text-align: right;\n",
       "    }\n",
       "</style>\n",
       "<table border=\"1\" class=\"dataframe\">\n",
       "  <thead>\n",
       "    <tr style=\"text-align: right;\">\n",
       "      <th></th>\n",
       "      <th>ai</th>\n",
       "      <th>easement</th>\n",
       "    </tr>\n",
       "  </thead>\n",
       "  <tbody>\n",
       "    <tr>\n",
       "      <th>ai</th>\n",
       "      <td>1.0000</td>\n",
       "      <td>-0.4118</td>\n",
       "    </tr>\n",
       "    <tr>\n",
       "      <th>easement</th>\n",
       "      <td>-0.4118</td>\n",
       "      <td>1.0000</td>\n",
       "    </tr>\n",
       "  </tbody>\n",
       "</table>\n",
       "</div>"
      ],
      "text/plain": [
       "             ai   easement\n",
       " ai       1.0000   -0.4118\n",
       "easement -0.4118    1.0000"
      ]
     },
     "metadata": {},
     "output_type": "display_data"
    },
    {
     "data": {
      "text/plain": [
       "<AxesSubplot:xlabel=' ai ', ylabel='easement'>"
      ]
     },
     "metadata": {},
     "output_type": "display_data"
    },
    {
     "name": "stdout",
     "output_type": "stream",
     "text": [
      "easement  ai \n",
      "Zeros: 23246, 94%\n",
      " ai  but not easement: 1357, 5%\n",
      "easement but not  ai : 56, 0%\n",
      "Together: 20, 0%\n",
      "\n",
      "\n"
     ]
    },
    {
     "data": {
      "text/html": [
       "<div>\n",
       "<style scoped>\n",
       "    .dataframe tbody tr th:only-of-type {\n",
       "        vertical-align: middle;\n",
       "    }\n",
       "\n",
       "    .dataframe tbody tr th {\n",
       "        vertical-align: top;\n",
       "    }\n",
       "\n",
       "    .dataframe thead th {\n",
       "        text-align: right;\n",
       "    }\n",
       "</style>\n",
       "<table border=\"1\" class=\"dataframe\">\n",
       "  <thead>\n",
       "    <tr style=\"text-align: right;\">\n",
       "      <th></th>\n",
       "      <th>easement</th>\n",
       "      <th>ai</th>\n",
       "    </tr>\n",
       "  </thead>\n",
       "  <tbody>\n",
       "    <tr>\n",
       "      <th>easement</th>\n",
       "      <td>1.0000</td>\n",
       "      <td>-0.4118</td>\n",
       "    </tr>\n",
       "    <tr>\n",
       "      <th>ai</th>\n",
       "      <td>-0.4118</td>\n",
       "      <td>1.0000</td>\n",
       "    </tr>\n",
       "  </tbody>\n",
       "</table>\n",
       "</div>"
      ],
      "text/plain": [
       "          easement     ai \n",
       "easement    1.0000 -0.4118\n",
       " ai        -0.4118  1.0000"
      ]
     },
     "metadata": {},
     "output_type": "display_data"
    },
    {
     "data": {
      "text/plain": [
       "<AxesSubplot:xlabel='easement', ylabel=' ai '>"
      ]
     },
     "metadata": {},
     "output_type": "display_data"
    },
    {
     "data": {
      "image/png": "[encoded data removed]",
      "text/plain": [
       "<Figure size 432x288 with 1 Axes>"
      ]
     },
     "metadata": {
      "needs_background": "light"
     },
     "output_type": "display_data"
    },
    {
     "data": {
      "image/png": "[encoded data removed]",
      "text/plain": [
       "<Figure size 432x288 with 1 Axes>"
      ]
     },
     "metadata": {
      "needs_background": "light"
     },
     "output_type": "display_data"
    }
   ],
   "source": [
    "## Are certain topics associated with other (e.g. forest and AI vs mountain and AI?) (Twitter, Google, and Crawl)\n",
    "from web_observatory import analyze_term_correlations\n",
    "#analyze_term_correlations(words, [\"artificial intelligence\", \"river\", \" ai \"])\n",
    "analyze_term_correlations(words, [\" ai \", \"easement\"])"
   ]
  },
  {
   "cell_type": "code",
   "execution_count": null,
   "id": "91b4dbe0-5dd7-4089-9422-a049046ee26e",
   "metadata": {},
   "outputs": [],
   "source": []
  }
 ],
 "metadata": {
  "kernelspec": {
   "display_name": "Python 3 (ipykernel)",
   "language": "python",
   "name": "python3"
  },
  "language_info": {
   "codemirror_mode": {
    "name": "ipython",
    "version": 3
   },
   "file_extension": ".py",
   "mimetype": "text/x-python",
   "name": "python",
   "nbconvert_exporter": "python",
   "pygments_lexer": "ipython3",
   "version": "3.9.18"
  }
 },
 "nbformat": 4,
 "nbformat_minor": 5
}
