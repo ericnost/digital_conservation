{
 "cells": [
  {
   "cell_type": "code",
   "execution_count": 1,
   "id": "54897330-11bc-402a-a4dc-6ecba774999a",
   "metadata": {},
   "outputs": [
    {
     "name": "stdout",
     "output_type": "stream",
     "text": [
      "Directory '/Users/enost/Downloads/platform' created\n",
      "Done!\n"
     ]
    }
   ],
   "source": [
    "# Platform terms: [\"dashboard\", \"platform\", \"decision-support\"]\n",
    "\n",
    "project = \"platform\"\n",
    "\n",
    "import pandas\n",
    "\n",
    "from observatory import start_project\n",
    "start_project(project)"
   ]
  },
  {
   "cell_type": "code",
   "execution_count": 14,
   "id": "13e4e849-5b36-47a3-b950-737f6966d56e",
   "metadata": {},
   "outputs": [
    {
     "name": "stdout",
     "output_type": "stream",
     "text": [
      "{'query': 'conservation data (platform OR platforms) has:links', 'tweet.fields': 'created_at,entities,public_metrics', 'max_results': 100, 'start_time': '2006-03-21T00:00:00.00Z', 'end_time': '2022-01-01T00:00:00.00Z'}\n",
      "Done!\n"
     ]
    }
   ],
   "source": [
    "# Get tweets about platforms in nature conservation (Historical focus)\n",
    "from observatory import search_twitter\n",
    "dash_twitter = search_twitter(q = 'conservation (dashboard OR dashboards) has:links', project=project)\n",
    "platform_twitter = search_twitter(q = 'conservation data (platform OR platforms) has:links', project=project) # Platform is not a very good term here....oil platforms? policy platform? social media platform?\n",
    "ds_twitter = search_twitter(q = 'conservation (\"decision support\" OR \"decision-support\") has:links', project=project)"
   ]
  },
  {
   "cell_type": "code",
   "execution_count": 3,
   "id": "ef98ca88-4658-4447-92a0-73615dc105db",
   "metadata": {},
   "outputs": [
    {
     "name": "stdout",
     "output_type": "stream",
     "text": [
      "Done\n",
      "Done\n",
      "Done\n"
     ]
    }
   ],
   "source": [
    "# Get Google results about platforms in nature conservation (Relevance)\n",
    "from observatory import search_google\n",
    "dash_google = search_google(q = 'nature conservation dashboard', project = project)\n",
    "platform_google = search_google(q = 'nature conservation platform', project = project)\n",
    "ds_google = search_google(q = 'nature conservation decision-support', project = project)"
   ]
  },
  {
   "cell_type": "code",
   "execution_count": 15,
   "id": "5bdeec06-82c8-4c9d-958e-c15df0e58984",
   "metadata": {},
   "outputs": [],
   "source": [
    "# Compile results\n",
    "from observatory import twitter_process \n",
    "twitter = twitter_process(project=project)\n",
    "from observatory import google_process\n",
    "google = google_process(datatype = \"CSV\", project=project)"
   ]
  },
  {
   "cell_type": "code",
   "execution_count": 16,
   "id": "f0ef2456-3f1f-436c-8f74-91f40e64ad6c",
   "metadata": {},
   "outputs": [
    {
     "data": {
      "text/html": [
       "<div>\n",
       "<style scoped>\n",
       "    .dataframe tbody tr th:only-of-type {\n",
       "        vertical-align: middle;\n",
       "    }\n",
       "\n",
       "    .dataframe tbody tr th {\n",
       "        vertical-align: top;\n",
       "    }\n",
       "\n",
       "    .dataframe thead th {\n",
       "        text-align: right;\n",
       "    }\n",
       "</style>\n",
       "<table border=\"1\" class=\"dataframe\">\n",
       "  <thead>\n",
       "    <tr style=\"text-align: right;\">\n",
       "      <th></th>\n",
       "      <th>date</th>\n",
       "      <th>link</th>\n",
       "      <th>metrics</th>\n",
       "      <th>source</th>\n",
       "      <th>query</th>\n",
       "    </tr>\n",
       "    <tr>\n",
       "      <th>domain</th>\n",
       "      <th></th>\n",
       "      <th></th>\n",
       "      <th></th>\n",
       "      <th></th>\n",
       "      <th></th>\n",
       "    </tr>\n",
       "  </thead>\n",
       "  <tbody>\n",
       "    <tr>\n",
       "      <th>wiley</th>\n",
       "      <td>0</td>\n",
       "      <td>9</td>\n",
       "      <td>0</td>\n",
       "      <td>9</td>\n",
       "      <td>9</td>\n",
       "    </tr>\n",
       "    <tr>\n",
       "      <th>sciencedirect</th>\n",
       "      <td>0</td>\n",
       "      <td>5</td>\n",
       "      <td>0</td>\n",
       "      <td>5</td>\n",
       "      <td>5</td>\n",
       "    </tr>\n",
       "    <tr>\n",
       "      <th>ca</th>\n",
       "      <td>0</td>\n",
       "      <td>5</td>\n",
       "      <td>0</td>\n",
       "      <td>5</td>\n",
       "      <td>5</td>\n",
       "    </tr>\n",
       "    <tr>\n",
       "      <th>europa</th>\n",
       "      <td>0</td>\n",
       "      <td>5</td>\n",
       "      <td>0</td>\n",
       "      <td>5</td>\n",
       "      <td>5</td>\n",
       "    </tr>\n",
       "    <tr>\n",
       "      <th>mo</th>\n",
       "      <td>0</td>\n",
       "      <td>4</td>\n",
       "      <td>0</td>\n",
       "      <td>4</td>\n",
       "      <td>4</td>\n",
       "    </tr>\n",
       "    <tr>\n",
       "      <th>nature</th>\n",
       "      <td>0</td>\n",
       "      <td>4</td>\n",
       "      <td>0</td>\n",
       "      <td>4</td>\n",
       "      <td>4</td>\n",
       "    </tr>\n",
       "    <tr>\n",
       "      <th>worldwildlife</th>\n",
       "      <td>0</td>\n",
       "      <td>3</td>\n",
       "      <td>0</td>\n",
       "      <td>3</td>\n",
       "      <td>3</td>\n",
       "    </tr>\n",
       "    <tr>\n",
       "      <th>iucn</th>\n",
       "      <td>0</td>\n",
       "      <td>3</td>\n",
       "      <td>0</td>\n",
       "      <td>3</td>\n",
       "      <td>3</td>\n",
       "    </tr>\n",
       "    <tr>\n",
       "      <th>usda</th>\n",
       "      <td>0</td>\n",
       "      <td>3</td>\n",
       "      <td>0</td>\n",
       "      <td>3</td>\n",
       "      <td>3</td>\n",
       "    </tr>\n",
       "    <tr>\n",
       "      <th>ny</th>\n",
       "      <td>0</td>\n",
       "      <td>3</td>\n",
       "      <td>0</td>\n",
       "      <td>3</td>\n",
       "      <td>3</td>\n",
       "    </tr>\n",
       "    <tr>\n",
       "      <th>natureserve</th>\n",
       "      <td>0</td>\n",
       "      <td>2</td>\n",
       "      <td>0</td>\n",
       "      <td>2</td>\n",
       "      <td>2</td>\n",
       "    </tr>\n",
       "    <tr>\n",
       "      <th>texas</th>\n",
       "      <td>0</td>\n",
       "      <td>2</td>\n",
       "      <td>0</td>\n",
       "      <td>2</td>\n",
       "      <td>2</td>\n",
       "    </tr>\n",
       "    <tr>\n",
       "      <th>springer</th>\n",
       "      <td>0</td>\n",
       "      <td>2</td>\n",
       "      <td>0</td>\n",
       "      <td>2</td>\n",
       "      <td>2</td>\n",
       "    </tr>\n",
       "    <tr>\n",
       "      <th>tandfonline</th>\n",
       "      <td>0</td>\n",
       "      <td>2</td>\n",
       "      <td>0</td>\n",
       "      <td>2</td>\n",
       "      <td>2</td>\n",
       "    </tr>\n",
       "    <tr>\n",
       "      <th>un</th>\n",
       "      <td>0</td>\n",
       "      <td>2</td>\n",
       "      <td>0</td>\n",
       "      <td>2</td>\n",
       "      <td>2</td>\n",
       "    </tr>\n",
       "    <tr>\n",
       "      <th>unep-wcmc</th>\n",
       "      <td>0</td>\n",
       "      <td>2</td>\n",
       "      <td>0</td>\n",
       "      <td>2</td>\n",
       "      <td>2</td>\n",
       "    </tr>\n",
       "    <tr>\n",
       "      <th>wcs</th>\n",
       "      <td>0</td>\n",
       "      <td>2</td>\n",
       "      <td>0</td>\n",
       "      <td>2</td>\n",
       "      <td>2</td>\n",
       "    </tr>\n",
       "    <tr>\n",
       "      <th>wisconsin</th>\n",
       "      <td>0</td>\n",
       "      <td>2</td>\n",
       "      <td>0</td>\n",
       "      <td>2</td>\n",
       "      <td>2</td>\n",
       "    </tr>\n",
       "    <tr>\n",
       "      <th>google</th>\n",
       "      <td>0</td>\n",
       "      <td>2</td>\n",
       "      <td>0</td>\n",
       "      <td>2</td>\n",
       "      <td>2</td>\n",
       "    </tr>\n",
       "    <tr>\n",
       "      <th>myfwc</th>\n",
       "      <td>0</td>\n",
       "      <td>2</td>\n",
       "      <td>0</td>\n",
       "      <td>2</td>\n",
       "      <td>2</td>\n",
       "    </tr>\n",
       "  </tbody>\n",
       "</table>\n",
       "</div>"
      ],
      "text/plain": [
       "               date  link  metrics  source  query\n",
       "domain                                           \n",
       "wiley             0     9        0       9      9\n",
       "sciencedirect     0     5        0       5      5\n",
       "ca                0     5        0       5      5\n",
       "europa            0     5        0       5      5\n",
       "mo                0     4        0       4      4\n",
       "nature            0     4        0       4      4\n",
       "worldwildlife     0     3        0       3      3\n",
       "iucn              0     3        0       3      3\n",
       "usda              0     3        0       3      3\n",
       "ny                0     3        0       3      3\n",
       "natureserve       0     2        0       2      2\n",
       "texas             0     2        0       2      2\n",
       "springer          0     2        0       2      2\n",
       "tandfonline       0     2        0       2      2\n",
       "un                0     2        0       2      2\n",
       "unep-wcmc         0     2        0       2      2\n",
       "wcs               0     2        0       2      2\n",
       "wisconsin         0     2        0       2      2\n",
       "google            0     2        0       2      2\n",
       "myfwc             0     2        0       2      2"
      ]
     },
     "execution_count": 16,
     "metadata": {},
     "output_type": "execute_result"
    }
   ],
   "source": [
    "# Extract organizations from Twitter/Google results\n",
    "from observatory import get_domains\n",
    "twitter = get_domains(twitter)\n",
    "google = get_domains(google)\n",
    "twitter.groupby(by=\"domain\").count().sort_values(by=\"link\", ascending=False).head(20)\n",
    "google.groupby(by=\"domain\").count().sort_values(by=\"link\", ascending=False).head(20)"
   ]
  },
  {
   "cell_type": "code",
   "execution_count": null,
   "id": "2a31952a-9dae-46d4-b0bd-8e255bcb2367",
   "metadata": {},
   "outputs": [],
   "source": [
    "# Process all data together \n",
    "from observatory import search_merge\n",
    "pages = search_merge(twitter = twitter, google = google, project = project)\n",
    "pages"
   ]
  },
  {
   "cell_type": "code",
   "execution_count": 26,
   "id": "b90dae61-8bcb-441b-b96d-a14295d1e63a",
   "metadata": {},
   "outputs": [
    {
     "data": {
      "text/html": [
       "<div>\n",
       "<style scoped>\n",
       "    .dataframe tbody tr th:only-of-type {\n",
       "        vertical-align: middle;\n",
       "    }\n",
       "\n",
       "    .dataframe tbody tr th {\n",
       "        vertical-align: top;\n",
       "    }\n",
       "\n",
       "    .dataframe thead th {\n",
       "        text-align: right;\n",
       "    }\n",
       "</style>\n",
       "<table border=\"1\" class=\"dataframe\">\n",
       "  <thead>\n",
       "    <tr style=\"text-align: right;\">\n",
       "      <th></th>\n",
       "      <th>index</th>\n",
       "      <th>date</th>\n",
       "      <th>link</th>\n",
       "      <th>metrics</th>\n",
       "      <th>source</th>\n",
       "      <th>query</th>\n",
       "      <th>domain</th>\n",
       "    </tr>\n",
       "  </thead>\n",
       "  <tbody>\n",
       "    <tr>\n",
       "      <th>0</th>\n",
       "      <td>0</td>\n",
       "      <td>2011-01-21T19:52:37.000Z</td>\n",
       "      <td>http://wp.me/puF78-5Q</td>\n",
       "      <td>0.0</td>\n",
       "      <td>Twitter</td>\n",
       "      <td>conservation (dashboard OR dashboards) has:links</td>\n",
       "      <td>wp</td>\n",
       "    </tr>\n",
       "    <tr>\n",
       "      <th>1</th>\n",
       "      <td>1</td>\n",
       "      <td>2011-06-16T16:32:27.000Z</td>\n",
       "      <td>http://dishnews.blog.fc2.com/blog-entry-72.html</td>\n",
       "      <td>0.0</td>\n",
       "      <td>Twitter</td>\n",
       "      <td>conservation (dashboard OR dashboards) has:links</td>\n",
       "      <td>fc2</td>\n",
       "    </tr>\n",
       "    <tr>\n",
       "      <th>2</th>\n",
       "      <td>2</td>\n",
       "      <td>2011-10-13T18:20:44.000Z</td>\n",
       "      <td>http://fb.me/1oA0tEP6w</td>\n",
       "      <td>0.0</td>\n",
       "      <td>Twitter</td>\n",
       "      <td>conservation (dashboard OR dashboards) has:links</td>\n",
       "      <td>fb</td>\n",
       "    </tr>\n",
       "    <tr>\n",
       "      <th>3</th>\n",
       "      <td>3</td>\n",
       "      <td>2011-11-11T13:57:10.000Z</td>\n",
       "      <td>http://j.mp/sMfCB3</td>\n",
       "      <td>0.0</td>\n",
       "      <td>Twitter</td>\n",
       "      <td>conservation (\"decision support\" OR \"decision-...</td>\n",
       "      <td>j</td>\n",
       "    </tr>\n",
       "    <tr>\n",
       "      <th>4</th>\n",
       "      <td>4</td>\n",
       "      <td>2012-01-10T01:52:53.000Z</td>\n",
       "      <td>http://slidesha.re/SDM_BCT</td>\n",
       "      <td>0.0</td>\n",
       "      <td>Twitter</td>\n",
       "      <td>conservation (\"decision support\" OR \"decision-...</td>\n",
       "      <td>slidesha</td>\n",
       "    </tr>\n",
       "    <tr>\n",
       "      <th>...</th>\n",
       "      <td>...</td>\n",
       "      <td>...</td>\n",
       "      <td>...</td>\n",
       "      <td>...</td>\n",
       "      <td>...</td>\n",
       "      <td>...</td>\n",
       "      <td>...</td>\n",
       "    </tr>\n",
       "    <tr>\n",
       "      <th>1208</th>\n",
       "      <td>139</td>\n",
       "      <td>NaN</td>\n",
       "      <td>https://dwr.virginia.gov/</td>\n",
       "      <td>NaN</td>\n",
       "      <td>Google</td>\n",
       "      <td>nature conservation dashboard</td>\n",
       "      <td>virginia</td>\n",
       "    </tr>\n",
       "    <tr>\n",
       "      <th>1209</th>\n",
       "      <td>140</td>\n",
       "      <td>NaN</td>\n",
       "      <td>https://defenders-cci.org/publication/states-3...</td>\n",
       "      <td>NaN</td>\n",
       "      <td>Google</td>\n",
       "      <td>nature conservation dashboard</td>\n",
       "      <td>defenders-cci</td>\n",
       "    </tr>\n",
       "    <tr>\n",
       "      <th>1210</th>\n",
       "      <td>141</td>\n",
       "      <td>NaN</td>\n",
       "      <td>https://www.wcs.org/about-us/careers</td>\n",
       "      <td>NaN</td>\n",
       "      <td>Google</td>\n",
       "      <td>nature conservation dashboard</td>\n",
       "      <td>wcs</td>\n",
       "    </tr>\n",
       "    <tr>\n",
       "      <th>1211</th>\n",
       "      <td>142</td>\n",
       "      <td>NaN</td>\n",
       "      <td>https://natureconservation.pensoft.net/login.php</td>\n",
       "      <td>NaN</td>\n",
       "      <td>Google</td>\n",
       "      <td>nature conservation dashboard</td>\n",
       "      <td>pensoft</td>\n",
       "    </tr>\n",
       "    <tr>\n",
       "      <th>1212</th>\n",
       "      <td>143</td>\n",
       "      <td>NaN</td>\n",
       "      <td>https://doc.arcgis.com/en/arcgis-solutions/lat...</td>\n",
       "      <td>NaN</td>\n",
       "      <td>Google</td>\n",
       "      <td>nature conservation dashboard</td>\n",
       "      <td>arcgis</td>\n",
       "    </tr>\n",
       "  </tbody>\n",
       "</table>\n",
       "<p>1175 rows × 7 columns</p>\n",
       "</div>"
      ],
      "text/plain": [
       "      index                      date  \\\n",
       "0         0  2011-01-21T19:52:37.000Z   \n",
       "1         1  2011-06-16T16:32:27.000Z   \n",
       "2         2  2011-10-13T18:20:44.000Z   \n",
       "3         3  2011-11-11T13:57:10.000Z   \n",
       "4         4  2012-01-10T01:52:53.000Z   \n",
       "...     ...                       ...   \n",
       "1208    139                       NaN   \n",
       "1209    140                       NaN   \n",
       "1210    141                       NaN   \n",
       "1211    142                       NaN   \n",
       "1212    143                       NaN   \n",
       "\n",
       "                                                   link  metrics   source  \\\n",
       "0                                 http://wp.me/puF78-5Q      0.0  Twitter   \n",
       "1       http://dishnews.blog.fc2.com/blog-entry-72.html      0.0  Twitter   \n",
       "2                                http://fb.me/1oA0tEP6w      0.0  Twitter   \n",
       "3                                    http://j.mp/sMfCB3      0.0  Twitter   \n",
       "4                            http://slidesha.re/SDM_BCT      0.0  Twitter   \n",
       "...                                                 ...      ...      ...   \n",
       "1208                          https://dwr.virginia.gov/      NaN   Google   \n",
       "1209  https://defenders-cci.org/publication/states-3...      NaN   Google   \n",
       "1210               https://www.wcs.org/about-us/careers      NaN   Google   \n",
       "1211   https://natureconservation.pensoft.net/login.php      NaN   Google   \n",
       "1212  https://doc.arcgis.com/en/arcgis-solutions/lat...      NaN   Google   \n",
       "\n",
       "                                                  query         domain  \n",
       "0      conservation (dashboard OR dashboards) has:links             wp  \n",
       "1      conservation (dashboard OR dashboards) has:links            fc2  \n",
       "2      conservation (dashboard OR dashboards) has:links             fb  \n",
       "3     conservation (\"decision support\" OR \"decision-...              j  \n",
       "4     conservation (\"decision support\" OR \"decision-...       slidesha  \n",
       "...                                                 ...            ...  \n",
       "1208                      nature conservation dashboard       virginia  \n",
       "1209                      nature conservation dashboard  defenders-cci  \n",
       "1210                      nature conservation dashboard            wcs  \n",
       "1211                      nature conservation dashboard        pensoft  \n",
       "1212                      nature conservation dashboard         arcgis  \n",
       "\n",
       "[1175 rows x 7 columns]"
      ]
     },
     "execution_count": 26,
     "metadata": {},
     "output_type": "execute_result"
    }
   ],
   "source": [
    "# Manage duplication of links here....\n",
    "## Load previous \"all_search_results\"\n",
    "p1 = pandas.read_csv(\"AI_ML/all_search_results.csv\")\n",
    "p2 = pandas.read_csv(\"algorithm/all_search_results.csv\")\n",
    "previous = pandas.concat([p1, p2], ignore_index=True)\n",
    "## De-duplicate from this list of pages where there is a match on previous search\n",
    "pages = pages[~pages[\"link\"].isin(previous[\"link\"])]\n",
    "pages"
   ]
  },
  {
   "cell_type": "code",
   "execution_count": 29,
   "id": "fc992c28-427b-46d5-88d4-f342c5b3c88b",
   "metadata": {},
   "outputs": [
    {
     "name": "stdout",
     "output_type": "stream",
     "text": [
      "1174\r"
     ]
    },
    {
     "data": {
      "text/html": [
       "<div>\n",
       "<style scoped>\n",
       "    .dataframe tbody tr th:only-of-type {\n",
       "        vertical-align: middle;\n",
       "    }\n",
       "\n",
       "    .dataframe tbody tr th {\n",
       "        vertical-align: top;\n",
       "    }\n",
       "\n",
       "    .dataframe thead th {\n",
       "        text-align: right;\n",
       "    }\n",
       "</style>\n",
       "<table border=\"1\" class=\"dataframe\">\n",
       "  <thead>\n",
       "    <tr style=\"text-align: right;\">\n",
       "      <th></th>\n",
       "      <th>level_0</th>\n",
       "      <th>index</th>\n",
       "      <th>date</th>\n",
       "      <th>link</th>\n",
       "      <th>metrics</th>\n",
       "      <th>source</th>\n",
       "      <th>query</th>\n",
       "      <th>domain</th>\n",
       "      <th>full_url</th>\n",
       "      <th>url_meta</th>\n",
       "      <th>wm_url</th>\n",
       "      <th>wm_meta</th>\n",
       "    </tr>\n",
       "  </thead>\n",
       "  <tbody>\n",
       "    <tr>\n",
       "      <th>0</th>\n",
       "      <td>0</td>\n",
       "      <td>0</td>\n",
       "      <td>2011-01-21T19:52:37.000Z</td>\n",
       "      <td>http://wp.me/puF78-5Q</td>\n",
       "      <td>0.0</td>\n",
       "      <td>Twitter</td>\n",
       "      <td>conservation (dashboard OR dashboards) has:links</td>\n",
       "      <td>wp</td>\n",
       "      <td>https://crunchenergy.wordpress.com/2011/01/21/...</td>\n",
       "      <td>None</td>\n",
       "      <td>None</td>\n",
       "      <td>No Wayback Version; Got Live URL</td>\n",
       "    </tr>\n",
       "    <tr>\n",
       "      <th>1</th>\n",
       "      <td>1</td>\n",
       "      <td>1</td>\n",
       "      <td>2011-06-16T16:32:27.000Z</td>\n",
       "      <td>http://dishnews.blog.fc2.com/blog-entry-72.html</td>\n",
       "      <td>0.0</td>\n",
       "      <td>Twitter</td>\n",
       "      <td>conservation (dashboard OR dashboards) has:links</td>\n",
       "      <td>fc2</td>\n",
       "      <td>https://error.fc2.com/blog/e/404/</td>\n",
       "      <td>None</td>\n",
       "      <td>None</td>\n",
       "      <td>No Time-of-Tweet Versions; Got Older Version</td>\n",
       "    </tr>\n",
       "    <tr>\n",
       "      <th>2</th>\n",
       "      <td>2</td>\n",
       "      <td>2</td>\n",
       "      <td>2011-10-13T18:20:44.000Z</td>\n",
       "      <td>http://fb.me/1oA0tEP6w</td>\n",
       "      <td>0.0</td>\n",
       "      <td>Twitter</td>\n",
       "      <td>conservation (dashboard OR dashboards) has:links</td>\n",
       "      <td>fb</td>\n",
       "      <td>https://www.facebook.com/login/</td>\n",
       "      <td>None</td>\n",
       "      <td>http://web.archive.org/web/20220628000850id_/h...</td>\n",
       "      <td>No Time-of-Tweet Versions; Got Older Version</td>\n",
       "    </tr>\n",
       "    <tr>\n",
       "      <th>3</th>\n",
       "      <td>3</td>\n",
       "      <td>3</td>\n",
       "      <td>2011-11-11T13:57:10.000Z</td>\n",
       "      <td>http://j.mp/sMfCB3</td>\n",
       "      <td>0.0</td>\n",
       "      <td>Twitter</td>\n",
       "      <td>conservation (\"decision support\" OR \"decision-...</td>\n",
       "      <td>j</td>\n",
       "      <td>https://www.natureserve.org/aboutUs/PressRelea...</td>\n",
       "      <td>None</td>\n",
       "      <td>http://web.archive.org/web/20120316205525id_/h...</td>\n",
       "      <td>No Time-of-Tweet Versions; Got Older Version</td>\n",
       "    </tr>\n",
       "    <tr>\n",
       "      <th>4</th>\n",
       "      <td>4</td>\n",
       "      <td>4</td>\n",
       "      <td>2012-01-10T01:52:53.000Z</td>\n",
       "      <td>http://slidesha.re/SDM_BCT</td>\n",
       "      <td>0.0</td>\n",
       "      <td>Twitter</td>\n",
       "      <td>conservation (\"decision support\" OR \"decision-...</td>\n",
       "      <td>slidesha</td>\n",
       "      <td>https://www.slideshare.net/subatomicdoc/sdm-ds...</td>\n",
       "      <td>None</td>\n",
       "      <td>http://web.archive.org/web/20210313133446id_/h...</td>\n",
       "      <td>No Time-of-Tweet Versions; Got Older Version</td>\n",
       "    </tr>\n",
       "    <tr>\n",
       "      <th>...</th>\n",
       "      <td>...</td>\n",
       "      <td>...</td>\n",
       "      <td>...</td>\n",
       "      <td>...</td>\n",
       "      <td>...</td>\n",
       "      <td>...</td>\n",
       "      <td>...</td>\n",
       "      <td>...</td>\n",
       "      <td>...</td>\n",
       "      <td>...</td>\n",
       "      <td>...</td>\n",
       "      <td>...</td>\n",
       "    </tr>\n",
       "    <tr>\n",
       "      <th>1170</th>\n",
       "      <td>1208</td>\n",
       "      <td>139</td>\n",
       "      <td>NaN</td>\n",
       "      <td>https://dwr.virginia.gov/</td>\n",
       "      <td>NaN</td>\n",
       "      <td>Google</td>\n",
       "      <td>nature conservation dashboard</td>\n",
       "      <td>virginia</td>\n",
       "      <td>https://dwr.virginia.gov/</td>\n",
       "      <td>None</td>\n",
       "      <td>None</td>\n",
       "      <td>Not historical</td>\n",
       "    </tr>\n",
       "    <tr>\n",
       "      <th>1171</th>\n",
       "      <td>1209</td>\n",
       "      <td>140</td>\n",
       "      <td>NaN</td>\n",
       "      <td>https://defenders-cci.org/publication/states-3...</td>\n",
       "      <td>NaN</td>\n",
       "      <td>Google</td>\n",
       "      <td>nature conservation dashboard</td>\n",
       "      <td>defenders-cci</td>\n",
       "      <td>https://defenders-cci.org/publication/states-3...</td>\n",
       "      <td>None</td>\n",
       "      <td>None</td>\n",
       "      <td>Not historical</td>\n",
       "    </tr>\n",
       "    <tr>\n",
       "      <th>1172</th>\n",
       "      <td>1210</td>\n",
       "      <td>141</td>\n",
       "      <td>NaN</td>\n",
       "      <td>https://www.wcs.org/about-us/careers</td>\n",
       "      <td>NaN</td>\n",
       "      <td>Google</td>\n",
       "      <td>nature conservation dashboard</td>\n",
       "      <td>wcs</td>\n",
       "      <td>https://www.wcs.org/about-us/careers</td>\n",
       "      <td>None</td>\n",
       "      <td>None</td>\n",
       "      <td>Not historical</td>\n",
       "    </tr>\n",
       "    <tr>\n",
       "      <th>1173</th>\n",
       "      <td>1211</td>\n",
       "      <td>142</td>\n",
       "      <td>NaN</td>\n",
       "      <td>https://natureconservation.pensoft.net/login.php</td>\n",
       "      <td>NaN</td>\n",
       "      <td>Google</td>\n",
       "      <td>nature conservation dashboard</td>\n",
       "      <td>pensoft</td>\n",
       "      <td>https://natureconservation.pensoft.net/login.php</td>\n",
       "      <td>None</td>\n",
       "      <td>None</td>\n",
       "      <td>Not historical</td>\n",
       "    </tr>\n",
       "    <tr>\n",
       "      <th>1174</th>\n",
       "      <td>1212</td>\n",
       "      <td>143</td>\n",
       "      <td>NaN</td>\n",
       "      <td>https://doc.arcgis.com/en/arcgis-solutions/lat...</td>\n",
       "      <td>NaN</td>\n",
       "      <td>Google</td>\n",
       "      <td>nature conservation dashboard</td>\n",
       "      <td>arcgis</td>\n",
       "      <td>https://doc.arcgis.com/en/arcgis-solutions/lat...</td>\n",
       "      <td>None</td>\n",
       "      <td>None</td>\n",
       "      <td>Not historical</td>\n",
       "    </tr>\n",
       "  </tbody>\n",
       "</table>\n",
       "<p>1175 rows × 12 columns</p>\n",
       "</div>"
      ],
      "text/plain": [
       "      level_0  index                      date  \\\n",
       "0           0      0  2011-01-21T19:52:37.000Z   \n",
       "1           1      1  2011-06-16T16:32:27.000Z   \n",
       "2           2      2  2011-10-13T18:20:44.000Z   \n",
       "3           3      3  2011-11-11T13:57:10.000Z   \n",
       "4           4      4  2012-01-10T01:52:53.000Z   \n",
       "...       ...    ...                       ...   \n",
       "1170     1208    139                       NaN   \n",
       "1171     1209    140                       NaN   \n",
       "1172     1210    141                       NaN   \n",
       "1173     1211    142                       NaN   \n",
       "1174     1212    143                       NaN   \n",
       "\n",
       "                                                   link  metrics   source  \\\n",
       "0                                 http://wp.me/puF78-5Q      0.0  Twitter   \n",
       "1       http://dishnews.blog.fc2.com/blog-entry-72.html      0.0  Twitter   \n",
       "2                                http://fb.me/1oA0tEP6w      0.0  Twitter   \n",
       "3                                    http://j.mp/sMfCB3      0.0  Twitter   \n",
       "4                            http://slidesha.re/SDM_BCT      0.0  Twitter   \n",
       "...                                                 ...      ...      ...   \n",
       "1170                          https://dwr.virginia.gov/      NaN   Google   \n",
       "1171  https://defenders-cci.org/publication/states-3...      NaN   Google   \n",
       "1172               https://www.wcs.org/about-us/careers      NaN   Google   \n",
       "1173   https://natureconservation.pensoft.net/login.php      NaN   Google   \n",
       "1174  https://doc.arcgis.com/en/arcgis-solutions/lat...      NaN   Google   \n",
       "\n",
       "                                                  query         domain  \\\n",
       "0      conservation (dashboard OR dashboards) has:links             wp   \n",
       "1      conservation (dashboard OR dashboards) has:links            fc2   \n",
       "2      conservation (dashboard OR dashboards) has:links             fb   \n",
       "3     conservation (\"decision support\" OR \"decision-...              j   \n",
       "4     conservation (\"decision support\" OR \"decision-...       slidesha   \n",
       "...                                                 ...            ...   \n",
       "1170                      nature conservation dashboard       virginia   \n",
       "1171                      nature conservation dashboard  defenders-cci   \n",
       "1172                      nature conservation dashboard            wcs   \n",
       "1173                      nature conservation dashboard        pensoft   \n",
       "1174                      nature conservation dashboard         arcgis   \n",
       "\n",
       "                                               full_url url_meta  \\\n",
       "0     https://crunchenergy.wordpress.com/2011/01/21/...     None   \n",
       "1                     https://error.fc2.com/blog/e/404/     None   \n",
       "2                       https://www.facebook.com/login/     None   \n",
       "3     https://www.natureserve.org/aboutUs/PressRelea...     None   \n",
       "4     https://www.slideshare.net/subatomicdoc/sdm-ds...     None   \n",
       "...                                                 ...      ...   \n",
       "1170                          https://dwr.virginia.gov/     None   \n",
       "1171  https://defenders-cci.org/publication/states-3...     None   \n",
       "1172               https://www.wcs.org/about-us/careers     None   \n",
       "1173   https://natureconservation.pensoft.net/login.php     None   \n",
       "1174  https://doc.arcgis.com/en/arcgis-solutions/lat...     None   \n",
       "\n",
       "                                                 wm_url  \\\n",
       "0                                                  None   \n",
       "1                                                  None   \n",
       "2     http://web.archive.org/web/20220628000850id_/h...   \n",
       "3     http://web.archive.org/web/20120316205525id_/h...   \n",
       "4     http://web.archive.org/web/20210313133446id_/h...   \n",
       "...                                                 ...   \n",
       "1170                                               None   \n",
       "1171                                               None   \n",
       "1172                                               None   \n",
       "1173                                               None   \n",
       "1174                                               None   \n",
       "\n",
       "                                           wm_meta  \n",
       "0                 No Wayback Version; Got Live URL  \n",
       "1     No Time-of-Tweet Versions; Got Older Version  \n",
       "2     No Time-of-Tweet Versions; Got Older Version  \n",
       "3     No Time-of-Tweet Versions; Got Older Version  \n",
       "4     No Time-of-Tweet Versions; Got Older Version  \n",
       "...                                            ...  \n",
       "1170                                Not historical  \n",
       "1171                                Not historical  \n",
       "1172                                Not historical  \n",
       "1173                                Not historical  \n",
       "1174                                Not historical  \n",
       "\n",
       "[1175 rows x 12 columns]"
      ]
     },
     "execution_count": 29,
     "metadata": {},
     "output_type": "execute_result"
    }
   ],
   "source": [
    "# Get Twitter archives\n",
    "#pages = pandas.read_csv(\"algorithm/all_search_results.csv\")\n",
    "from observatory import get_versions\n",
    "results = get_versions(pages, project = project)\n",
    "results"
   ]
  },
  {
   "cell_type": "code",
   "execution_count": 30,
   "id": "401fdf37-0a0b-417c-ab1d-967404c2df18",
   "metadata": {},
   "outputs": [
    {
     "name": "stdout",
     "output_type": "stream",
     "text": [
      "Done!\n"
     ]
    }
   ],
   "source": [
    "# Scrape pages\n",
    "## Initialize / De-duplicate full urls\n",
    "#results = pandas.read_csv(project+\"/page_versions_full.csv\")\n",
    "from observatory import initialize_scrape\n",
    "urls = initialize_scrape(versions = results, project = project) "
   ]
  },
  {
   "cell_type": "code",
   "execution_count": 31,
   "id": "1fa6e5c3-5ed1-4d76-887a-607ee7b5af46",
   "metadata": {},
   "outputs": [
    {
     "name": "stdout",
     "output_type": "stream",
     "text": [
      "/Users/enost/Downloads/digcon_scraper/digcon_scraper\n"
     ]
    },
    {
     "name": "stderr",
     "output_type": "stream",
     "text": [
      "2022-06-28 10:47:36 [py.warnings] WARNING: /Users/enost/opt/anaconda3/lib/python3.9/site-packages/scrapy/extensions/feedexport.py:289: ScrapyDeprecationWarning: The `FEED_URI` and `FEED_FORMAT` settings have been deprecated in favor of the `FEEDS` setting. Please see the `FEEDS` setting docs for more details\n",
      "  exporter = cls(crawler)\n",
      "\n"
     ]
    },
    {
     "name": "stdout",
     "output_type": "stream",
     "text": [
      "inserting: 908\r"
     ]
    },
    {
     "name": "stderr",
     "output_type": "stream",
     "text": [
      "2022-06-28 10:47:44 [scrapy.downloadermiddlewares.retry] ERROR: Gave up retrying <GET https://www.redvector.com/lpe/course/details/04-08-2014--live-interactive-webinar--introduction-to-the-international-energy-conservation-code--tuesday--april-08--2014--12pm-3pm-est/8bc6a826-8a66-468a-8325-bd7a255b2ae1/qwhpg0iqodc-3d/3.00/cart_catalog> (failed 3 times): 500 Internal Server Error\n"
     ]
    },
    {
     "name": "stdout",
     "output_type": "stream",
     "text": [
      "inserting: 129\r"
     ]
    },
    {
     "name": "stderr",
     "output_type": "stream",
     "text": [
      "2022-06-28 10:47:46 [scrapy.downloadermiddlewares.retry] ERROR: Gave up retrying <GET https://en/for-business-and-industry/business-case-studies> (failed 3 times): DNS lookup failed: no results for hostname lookup: en.\n",
      "2022-06-28 10:47:46 [scrapy.core.scraper] ERROR: Error downloading <GET https://en/for-business-and-industry/business-case-studies>\n",
      "Traceback (most recent call last):\n",
      "  File \"/Users/enost/opt/anaconda3/lib/python3.9/site-packages/twisted/internet/defer.py\", line 1656, in _inlineCallbacks\n",
      "    result = current_context.run(\n",
      "  File \"/Users/enost/opt/anaconda3/lib/python3.9/site-packages/twisted/python/failure.py\", line 489, in throwExceptionIntoGenerator\n",
      "    return g.throw(self.type, self.value, self.tb)\n",
      "  File \"/Users/enost/opt/anaconda3/lib/python3.9/site-packages/scrapy/core/downloader/middleware.py\", line 49, in process_request\n",
      "    return (yield download_func(request=request, spider=spider))\n",
      "  File \"/Users/enost/opt/anaconda3/lib/python3.9/site-packages/twisted/internet/defer.py\", line 857, in _runCallbacks\n",
      "    current.result = callback(  # type: ignore[misc]\n",
      "  File \"/Users/enost/opt/anaconda3/lib/python3.9/site-packages/twisted/internet/endpoints.py\", line 1020, in startConnectionAttempts\n",
      "    raise error.DNSLookupError(\n",
      "twisted.internet.error.DNSLookupError: DNS lookup failed: no results for hostname lookup: en.\n"
     ]
    },
    {
     "name": "stdout",
     "output_type": "stream",
     "text": [
      "inserting: 297\r"
     ]
    },
    {
     "name": "stderr",
     "output_type": "stream",
     "text": [
      "2022-06-28 10:48:11 [scrapy.downloadermiddlewares.retry] ERROR: Gave up retrying <GET https://onlinelibrary.wiley.com/doi/10.1111/conl.12385/abstract> (failed 3 times): 503 Service Unavailable\n",
      "2022-06-28 10:48:11 [scrapy.downloadermiddlewares.retry] ERROR: Gave up retrying <GET https://onlinelibrary.wiley.com/doi/10.1111/conl.12385/full> (failed 3 times): 503 Service Unavailable\n"
     ]
    },
    {
     "name": "stdout",
     "output_type": "stream",
     "text": [
      "inserting: 372\r"
     ]
    },
    {
     "name": "stderr",
     "output_type": "stream",
     "text": [
      "2022-06-28 10:48:18 [scrapy.downloadermiddlewares.retry] ERROR: Gave up retrying <GET https://www.aspb.ab.ca/events/using_soils_treering_data_to_establish_restoration_target_at_the_cross_conservation_area> (failed 3 times): 500 Internal Server Error\n"
     ]
    },
    {
     "name": "stdout",
     "output_type": "stream",
     "text": [
      "inserting: 364\r"
     ]
    },
    {
     "name": "stderr",
     "output_type": "stream",
     "text": [
      "2022-06-28 10:48:21 [scrapy.downloadermiddlewares.retry] ERROR: Gave up retrying <GET https://besjournals.onlinelibrary.wiley.com/doi/full/10.1111/1365-2664.12419> (failed 3 times): 503 Service Unavailable\n"
     ]
    },
    {
     "name": "stdout",
     "output_type": "stream",
     "text": [
      "inserting: 394\r"
     ]
    },
    {
     "name": "stderr",
     "output_type": "stream",
     "text": [
      "2022-06-28 10:48:21 [scrapy.downloadermiddlewares.retry] ERROR: Gave up retrying <GET https://onlinelibrary.wiley.com/doi/epdf/10.1111/conl.12459> (failed 3 times): 503 Service Unavailable\n"
     ]
    },
    {
     "name": "stdout",
     "output_type": "stream",
     "text": [
      "inserting: 485\r"
     ]
    },
    {
     "name": "stderr",
     "output_type": "stream",
     "text": [
      "2022-06-28 10:48:32 [scrapy.downloadermiddlewares.retry] ERROR: Gave up retrying <GET https://onlinelibrary.wiley.com/doi/10.1111/cobi.13305> (failed 3 times): 503 Service Unavailable\n"
     ]
    },
    {
     "name": "stdout",
     "output_type": "stream",
     "text": [
      "inserting: 605\r"
     ]
    },
    {
     "name": "stderr",
     "output_type": "stream",
     "text": [
      "2022-06-28 10:48:50 [scrapy.downloadermiddlewares.retry] ERROR: Gave up retrying <GET https://ec.europa.eu/environment/nature/conservation/species/carnivores/coexistence_platform.htm> (failed 3 times): 503 Service Unavailable\n"
     ]
    },
    {
     "name": "stdout",
     "output_type": "stream",
     "text": [
      "inserting: 599\r"
     ]
    },
    {
     "name": "stderr",
     "output_type": "stream",
     "text": [
      "2022-06-28 10:48:55 [scrapy.downloadermiddlewares.retry] ERROR: Gave up retrying <GET https://besjournals.onlinelibrary.wiley.com/doi/full/10.1002/pan3.10083> (failed 3 times): 503 Service Unavailable\n"
     ]
    },
    {
     "name": "stdout",
     "output_type": "stream",
     "text": [
      "inserting: 654\r"
     ]
    },
    {
     "name": "stderr",
     "output_type": "stream",
     "text": [
      "2022-06-28 10:48:58 [scrapy.downloadermiddlewares.retry] ERROR: Gave up retrying <GET https://wildlife.onlinelibrary.wiley.com/doi/full/10.1002/wsb.1115> (failed 3 times): 503 Service Unavailable\n"
     ]
    },
    {
     "name": "stdout",
     "output_type": "stream",
     "text": [
      "inserting: 674\r"
     ]
    },
    {
     "name": "stderr",
     "output_type": "stream",
     "text": [
      "2022-06-28 10:49:03 [scrapy.downloadermiddlewares.retry] ERROR: Gave up retrying <GET https://sjobs.brassring.com/tgnewui/search/home/home> (failed 3 times): 500 Internal Server Error\n"
     ]
    },
    {
     "name": "stdout",
     "output_type": "stream",
     "text": [
      "inserting: 749\r"
     ]
    },
    {
     "name": "stderr",
     "output_type": "stream",
     "text": [
      "2022-06-28 10:49:16 [scrapy.downloadermiddlewares.retry] ERROR: Gave up retrying <GET https://besjournals.onlinelibrary.wiley.com/doi/10.1111/2041-210x.13608> (failed 3 times): 503 Service Unavailable\n"
     ]
    },
    {
     "name": "stdout",
     "output_type": "stream",
     "text": [
      "inserting: 762\r"
     ]
    },
    {
     "name": "stderr",
     "output_type": "stream",
     "text": [
      "2022-06-28 10:49:18 [scrapy.downloadermiddlewares.retry] ERROR: Gave up retrying <GET https://conbio.onlinelibrary.wiley.com/doi/abs/10.1111/cobi.13792> (failed 3 times): 503 Service Unavailable\n"
     ]
    },
    {
     "name": "stdout",
     "output_type": "stream",
     "text": [
      "inserting: 770\r"
     ]
    },
    {
     "name": "stderr",
     "output_type": "stream",
     "text": [
      "2022-06-28 10:49:20 [scrapy.downloadermiddlewares.retry] ERROR: Gave up retrying <GET https://onlinelibrary.wiley.com/doi/10.1002/ecs2.3556> (failed 3 times): 503 Service Unavailable\n"
     ]
    },
    {
     "name": "stdout",
     "output_type": "stream",
     "text": [
      "inserting: 794\r"
     ]
    },
    {
     "name": "stderr",
     "output_type": "stream",
     "text": [
      "2022-06-28 10:49:23 [scrapy.downloadermiddlewares.retry] ERROR: Gave up retrying <GET https://onlinelibrary.wiley.com/doi/10.1002/aqc.3690> (failed 3 times): 503 Service Unavailable\n"
     ]
    },
    {
     "name": "stdout",
     "output_type": "stream",
     "text": [
      "inserting: 845\r"
     ]
    },
    {
     "name": "stderr",
     "output_type": "stream",
     "text": [
      "2022-06-28 10:49:32 [scrapy.downloadermiddlewares.retry] ERROR: Gave up retrying <GET https://esajournals.onlinelibrary.wiley.com/doi/10.1002/fee.1316> (failed 3 times): 503 Service Unavailable\n"
     ]
    },
    {
     "name": "stdout",
     "output_type": "stream",
     "text": [
      "inserting: 862\r"
     ]
    },
    {
     "name": "stderr",
     "output_type": "stream",
     "text": [
      "2022-06-28 10:49:36 [scrapy.downloadermiddlewares.retry] ERROR: Gave up retrying <GET https://onlinelibrary.wiley.com/doi/abs/10.1002/ajp.23213> (failed 3 times): 503 Service Unavailable\n"
     ]
    },
    {
     "name": "stdout",
     "output_type": "stream",
     "text": [
      "inserting: 870\r"
     ]
    },
    {
     "name": "stderr",
     "output_type": "stream",
     "text": [
      "2022-06-28 10:49:36 [scrapy.downloadermiddlewares.retry] ERROR: Gave up retrying <GET https://ec.europa.eu/environment/nature/conservation/species/carnivores/regional_platforms.htm> (failed 3 times): 503 Service Unavailable\n"
     ]
    },
    {
     "name": "stdout",
     "output_type": "stream",
     "text": [
      "inserting: 874\r"
     ]
    },
    {
     "name": "stderr",
     "output_type": "stream",
     "text": [
      "2022-06-28 10:49:36 [scrapy.downloadermiddlewares.retry] ERROR: Gave up retrying <GET https://esajournals.onlinelibrary.wiley.com/doi/full/10.1002/eap.1414> (failed 3 times): 503 Service Unavailable\n"
     ]
    },
    {
     "name": "stdout",
     "output_type": "stream",
     "text": [
      "inserting: 888\r"
     ]
    },
    {
     "name": "stderr",
     "output_type": "stream",
     "text": [
      "2022-06-28 10:49:37 [scrapy.downloadermiddlewares.retry] ERROR: Gave up retrying <GET https://besjournals.onlinelibrary.wiley.com/doi/abs/10.1111/2041-210x.13918> (failed 3 times): 503 Service Unavailable\n"
     ]
    },
    {
     "name": "stdout",
     "output_type": "stream",
     "text": [
      "inserting: 898\r"
     ]
    },
    {
     "name": "stderr",
     "output_type": "stream",
     "text": [
      "2022-06-28 10:49:37 [scrapy.downloadermiddlewares.retry] ERROR: Gave up retrying <GET https://ipbes.net/> (failed 3 times): 500 Internal Server Error\n"
     ]
    },
    {
     "name": "stdout",
     "output_type": "stream",
     "text": [
      "inserting: 915\r"
     ]
    },
    {
     "name": "stderr",
     "output_type": "stream",
     "text": [
      "2022-06-28 10:49:38 [scrapy.downloadermiddlewares.retry] ERROR: Gave up retrying <GET https://conbio.onlinelibrary.wiley.com/doi/10.1111/conl.12385> (failed 3 times): 503 Service Unavailable\n"
     ]
    },
    {
     "name": "stdout",
     "output_type": "stream",
     "text": [
      "inserting: 912\r"
     ]
    },
    {
     "name": "stderr",
     "output_type": "stream",
     "text": [
      "2022-06-28 10:49:38 [scrapy.downloadermiddlewares.retry] ERROR: Gave up retrying <GET https://onlinelibrary.wiley.com/doi/10.1111/1749-4877.12235> (failed 3 times): 503 Service Unavailable\n",
      "2022-06-28 10:49:38 [scrapy.downloadermiddlewares.retry] ERROR: Gave up retrying <GET https://wildlife.onlinelibrary.wiley.com/doi/full/10.1002/wsb.1064> (failed 3 times): 503 Service Unavailable\n"
     ]
    },
    {
     "name": "stdout",
     "output_type": "stream",
     "text": [
      "inserting: 916\r"
     ]
    },
    {
     "name": "stderr",
     "output_type": "stream",
     "text": [
      "2022-06-28 10:49:38 [scrapy.downloadermiddlewares.retry] ERROR: Gave up retrying <GET https://esajournals.onlinelibrary.wiley.com/doi/full/10.1002/fee.2356> (failed 3 times): 503 Service Unavailable\n",
      "2022-06-28 10:49:38 [scrapy.downloadermiddlewares.retry] ERROR: Gave up retrying <GET https://besjournals.onlinelibrary.wiley.com/doi/abs/10.1111/2041-210x.12899> (failed 3 times): 503 Service Unavailable\n"
     ]
    },
    {
     "name": "stdout",
     "output_type": "stream",
     "text": [
      "inserting: 976\r"
     ]
    },
    {
     "name": "stderr",
     "output_type": "stream",
     "text": [
      "2022-06-28 10:49:41 [scrapy.downloadermiddlewares.retry] ERROR: Gave up retrying <GET https://www.cambridge.org/core/books/decisionmaking-in-conservation-and-natural-resource-management/introduction/0d1640c7fa98bead0942602cf86195a6> (failed 3 times): 500 Internal Server Error\n"
     ]
    },
    {
     "name": "stdout",
     "output_type": "stream",
     "text": [
      "inserting: 983\r"
     ]
    },
    {
     "name": "stderr",
     "output_type": "stream",
     "text": [
      "2022-06-28 10:49:42 [scrapy.downloadermiddlewares.retry] ERROR: Gave up retrying <GET https://conbio.onlinelibrary.wiley.com/journal/25784854> (failed 3 times): 503 Service Unavailable\n"
     ]
    },
    {
     "name": "stdout",
     "output_type": "stream",
     "text": [
      "inserting: 8532\r"
     ]
    },
    {
     "name": "stderr",
     "output_type": "stream",
     "text": [
      "2022-06-28 10:51:16 [scrapy.downloadermiddlewares.retry] ERROR: Gave up retrying <GET https://data.cnra.ca.gov/> (failed 3 times): 502 Bad Gateway\n"
     ]
    },
    {
     "name": "stdout",
     "output_type": "stream",
     "text": [
      "Done!\r"
     ]
    }
   ],
   "source": [
    "%cd digcon_scraper/digcon_scraper/\n",
    "from observatory import scrape\n",
    "scrape(urls)"
   ]
  },
  {
   "cell_type": "code",
   "execution_count": 33,
   "id": "c3a64293-1016-4955-add5-f604333a7f91",
   "metadata": {},
   "outputs": [
    {
     "name": "stdout",
     "output_type": "stream",
     "text": [
      "/Users/enost/Downloads\n"
     ]
    }
   ],
   "source": [
    "%cd .."
   ]
  },
  {
   "cell_type": "code",
   "execution_count": 34,
   "id": "2a5a0e1b-5059-496c-9777-986e918f74c4",
   "metadata": {},
   "outputs": [
    {
     "name": "stdout",
     "output_type": "stream",
     "text": [
      "Done!\n",
      "Done!\n",
      "Done!\n"
     ]
    }
   ],
   "source": [
    "# Quality control\n",
    "from observatory import query\n",
    "## Create a copy of the text table\n",
    "query(\"copy\") # Only need to do this once!\n",
    "## Remove from db where there was no text scraped\n",
    "query(\"filter_empty\")\n",
    "## Remove anything without at least 1 keyword?\n",
    "queryterms = [\"artificial intelligence\", \"machine learning\", \"nature \", \"conservation \", \"algorithm\"] # spaces to avoid certain spam...\n",
    "query(\"filter_words\", terms = queryterms) ## TBD: Need to remove French-language sites?"
   ]
  },
  {
   "cell_type": "code",
   "execution_count": 37,
   "id": "102019d2-4e82-4906-bb1f-97032cf8d9ec",
   "metadata": {},
   "outputs": [
    {
     "data": {
      "text/html": [
       "<div>\n",
       "<style scoped>\n",
       "    .dataframe tbody tr th:only-of-type {\n",
       "        vertical-align: middle;\n",
       "    }\n",
       "\n",
       "    .dataframe tbody tr th {\n",
       "        vertical-align: top;\n",
       "    }\n",
       "\n",
       "    .dataframe thead th {\n",
       "        text-align: right;\n",
       "    }\n",
       "</style>\n",
       "<table border=\"1\" class=\"dataframe\">\n",
       "  <thead>\n",
       "    <tr style=\"text-align: right;\">\n",
       "      <th></th>\n",
       "      <th>url</th>\n",
       "      <th>domain</th>\n",
       "      <th>source</th>\n",
       "      <th>date</th>\n",
       "      <th>artificial intelligence</th>\n",
       "      <th>ai</th>\n",
       "      <th>machine learning</th>\n",
       "      <th>dashboard</th>\n",
       "      <th>platform</th>\n",
       "      <th>conservation</th>\n",
       "      <th>...</th>\n",
       "      <th>privacy</th>\n",
       "      <th>surveillance</th>\n",
       "      <th>cost</th>\n",
       "      <th>market</th>\n",
       "      <th>decision making</th>\n",
       "      <th>working land</th>\n",
       "      <th>indigenous-led</th>\n",
       "      <th>easement</th>\n",
       "      <th>decision support</th>\n",
       "      <th>decision-support</th>\n",
       "    </tr>\n",
       "  </thead>\n",
       "  <tbody>\n",
       "    <tr>\n",
       "      <th>0</th>\n",
       "      <td>http://web.archive.org/web/20140731104236id_/h...</td>\n",
       "      <td>chesterfieldpost</td>\n",
       "      <td>Twitter</td>\n",
       "      <td>2011-36</td>\n",
       "      <td>0</td>\n",
       "      <td>0</td>\n",
       "      <td>0</td>\n",
       "      <td>0</td>\n",
       "      <td>0</td>\n",
       "      <td>4</td>\n",
       "      <td>...</td>\n",
       "      <td>1</td>\n",
       "      <td>0</td>\n",
       "      <td>3</td>\n",
       "      <td>1</td>\n",
       "      <td>0</td>\n",
       "      <td>0</td>\n",
       "      <td>0</td>\n",
       "      <td>0</td>\n",
       "      <td>0</td>\n",
       "      <td>0</td>\n",
       "    </tr>\n",
       "    <tr>\n",
       "      <th>1</th>\n",
       "      <td>https://etienne34-blog.tumblr.com/post/1664008...</td>\n",
       "      <td>tumblr</td>\n",
       "      <td>Twitter</td>\n",
       "      <td>2012-04</td>\n",
       "      <td>0</td>\n",
       "      <td>0</td>\n",
       "      <td>0</td>\n",
       "      <td>0</td>\n",
       "      <td>0</td>\n",
       "      <td>1</td>\n",
       "      <td>...</td>\n",
       "      <td>0</td>\n",
       "      <td>0</td>\n",
       "      <td>0</td>\n",
       "      <td>0</td>\n",
       "      <td>0</td>\n",
       "      <td>0</td>\n",
       "      <td>0</td>\n",
       "      <td>0</td>\n",
       "      <td>0</td>\n",
       "      <td>0</td>\n",
       "    </tr>\n",
       "    <tr>\n",
       "      <th>2</th>\n",
       "      <td>http://web.archive.org/web/20210510214124id_/h...</td>\n",
       "      <td>facilityexecutive</td>\n",
       "      <td>Twitter</td>\n",
       "      <td>2019-10</td>\n",
       "      <td>1</td>\n",
       "      <td>0</td>\n",
       "      <td>1</td>\n",
       "      <td>0</td>\n",
       "      <td>0</td>\n",
       "      <td>1</td>\n",
       "      <td>...</td>\n",
       "      <td>0</td>\n",
       "      <td>0</td>\n",
       "      <td>0</td>\n",
       "      <td>0</td>\n",
       "      <td>0</td>\n",
       "      <td>0</td>\n",
       "      <td>0</td>\n",
       "      <td>0</td>\n",
       "      <td>0</td>\n",
       "      <td>0</td>\n",
       "    </tr>\n",
       "    <tr>\n",
       "      <th>3</th>\n",
       "      <td>https://www.freelancer.com/projects/machine-le...</td>\n",
       "      <td>freelancer</td>\n",
       "      <td>Twitter</td>\n",
       "      <td>2012-16</td>\n",
       "      <td>0</td>\n",
       "      <td>0</td>\n",
       "      <td>2</td>\n",
       "      <td>0</td>\n",
       "      <td>0</td>\n",
       "      <td>6</td>\n",
       "      <td>...</td>\n",
       "      <td>0</td>\n",
       "      <td>0</td>\n",
       "      <td>0</td>\n",
       "      <td>0</td>\n",
       "      <td>0</td>\n",
       "      <td>0</td>\n",
       "      <td>0</td>\n",
       "      <td>0</td>\n",
       "      <td>0</td>\n",
       "      <td>0</td>\n",
       "    </tr>\n",
       "    <tr>\n",
       "      <th>4</th>\n",
       "      <td>http://web.archive.org/web/20210410214115id_/h...</td>\n",
       "      <td>goathunter</td>\n",
       "      <td>Twitter</td>\n",
       "      <td>2012-08</td>\n",
       "      <td>0</td>\n",
       "      <td>0</td>\n",
       "      <td>0</td>\n",
       "      <td>0</td>\n",
       "      <td>0</td>\n",
       "      <td>6</td>\n",
       "      <td>...</td>\n",
       "      <td>0</td>\n",
       "      <td>0</td>\n",
       "      <td>0</td>\n",
       "      <td>0</td>\n",
       "      <td>0</td>\n",
       "      <td>0</td>\n",
       "      <td>0</td>\n",
       "      <td>0</td>\n",
       "      <td>0</td>\n",
       "      <td>0</td>\n",
       "    </tr>\n",
       "    <tr>\n",
       "      <th>...</th>\n",
       "      <td>...</td>\n",
       "      <td>...</td>\n",
       "      <td>...</td>\n",
       "      <td>...</td>\n",
       "      <td>...</td>\n",
       "      <td>...</td>\n",
       "      <td>...</td>\n",
       "      <td>...</td>\n",
       "      <td>...</td>\n",
       "      <td>...</td>\n",
       "      <td>...</td>\n",
       "      <td>...</td>\n",
       "      <td>...</td>\n",
       "      <td>...</td>\n",
       "      <td>...</td>\n",
       "      <td>...</td>\n",
       "      <td>...</td>\n",
       "      <td>...</td>\n",
       "      <td>...</td>\n",
       "      <td>...</td>\n",
       "      <td>...</td>\n",
       "    </tr>\n",
       "    <tr>\n",
       "      <th>25277</th>\n",
       "      <td>https://pubmed.ncbi.nlm.nih.gov/27605354/</td>\n",
       "      <td>nih</td>\n",
       "      <td>Google</td>\n",
       "      <td>None</td>\n",
       "      <td>0</td>\n",
       "      <td>0</td>\n",
       "      <td>0</td>\n",
       "      <td>0</td>\n",
       "      <td>0</td>\n",
       "      <td>1</td>\n",
       "      <td>...</td>\n",
       "      <td>0</td>\n",
       "      <td>0</td>\n",
       "      <td>0</td>\n",
       "      <td>0</td>\n",
       "      <td>0</td>\n",
       "      <td>0</td>\n",
       "      <td>0</td>\n",
       "      <td>0</td>\n",
       "      <td>0</td>\n",
       "      <td>0</td>\n",
       "    </tr>\n",
       "    <tr>\n",
       "      <th>25278</th>\n",
       "      <td>https://www.worldwildlife.org/about</td>\n",
       "      <td>worldwildlife</td>\n",
       "      <td>Google</td>\n",
       "      <td>None</td>\n",
       "      <td>0</td>\n",
       "      <td>0</td>\n",
       "      <td>0</td>\n",
       "      <td>0</td>\n",
       "      <td>0</td>\n",
       "      <td>4</td>\n",
       "      <td>...</td>\n",
       "      <td>0</td>\n",
       "      <td>0</td>\n",
       "      <td>0</td>\n",
       "      <td>1</td>\n",
       "      <td>0</td>\n",
       "      <td>0</td>\n",
       "      <td>0</td>\n",
       "      <td>0</td>\n",
       "      <td>0</td>\n",
       "      <td>0</td>\n",
       "    </tr>\n",
       "    <tr>\n",
       "      <th>25279</th>\n",
       "      <td>https://tpwd.texas.gov/landwater/water/conserv...</td>\n",
       "      <td>texas</td>\n",
       "      <td>Google</td>\n",
       "      <td>None</td>\n",
       "      <td>0</td>\n",
       "      <td>0</td>\n",
       "      <td>0</td>\n",
       "      <td>6</td>\n",
       "      <td>0</td>\n",
       "      <td>1</td>\n",
       "      <td>...</td>\n",
       "      <td>1</td>\n",
       "      <td>0</td>\n",
       "      <td>0</td>\n",
       "      <td>0</td>\n",
       "      <td>0</td>\n",
       "      <td>0</td>\n",
       "      <td>0</td>\n",
       "      <td>0</td>\n",
       "      <td>0</td>\n",
       "      <td>0</td>\n",
       "    </tr>\n",
       "    <tr>\n",
       "      <th>25280</th>\n",
       "      <td>https://mdc.mo.gov/</td>\n",
       "      <td>mo</td>\n",
       "      <td>Google</td>\n",
       "      <td>None</td>\n",
       "      <td>0</td>\n",
       "      <td>0</td>\n",
       "      <td>0</td>\n",
       "      <td>0</td>\n",
       "      <td>0</td>\n",
       "      <td>7</td>\n",
       "      <td>...</td>\n",
       "      <td>0</td>\n",
       "      <td>0</td>\n",
       "      <td>0</td>\n",
       "      <td>0</td>\n",
       "      <td>0</td>\n",
       "      <td>0</td>\n",
       "      <td>0</td>\n",
       "      <td>0</td>\n",
       "      <td>0</td>\n",
       "      <td>0</td>\n",
       "    </tr>\n",
       "    <tr>\n",
       "      <th>25281</th>\n",
       "      <td>https://www2.illinois.gov/dnr/pages/default.aspx</td>\n",
       "      <td>illinois</td>\n",
       "      <td>Google</td>\n",
       "      <td>None</td>\n",
       "      <td>0</td>\n",
       "      <td>0</td>\n",
       "      <td>0</td>\n",
       "      <td>0</td>\n",
       "      <td>0</td>\n",
       "      <td>1</td>\n",
       "      <td>...</td>\n",
       "      <td>0</td>\n",
       "      <td>0</td>\n",
       "      <td>0</td>\n",
       "      <td>0</td>\n",
       "      <td>0</td>\n",
       "      <td>0</td>\n",
       "      <td>0</td>\n",
       "      <td>0</td>\n",
       "      <td>0</td>\n",
       "      <td>0</td>\n",
       "    </tr>\n",
       "  </tbody>\n",
       "</table>\n",
       "<p>25282 rows × 28 columns</p>\n",
       "</div>"
      ],
      "text/plain": [
       "                                                     url             domain  \\\n",
       "0      http://web.archive.org/web/20140731104236id_/h...   chesterfieldpost   \n",
       "1      https://etienne34-blog.tumblr.com/post/1664008...             tumblr   \n",
       "2      http://web.archive.org/web/20210510214124id_/h...  facilityexecutive   \n",
       "3      https://www.freelancer.com/projects/machine-le...         freelancer   \n",
       "4      http://web.archive.org/web/20210410214115id_/h...         goathunter   \n",
       "...                                                  ...                ...   \n",
       "25277          https://pubmed.ncbi.nlm.nih.gov/27605354/                nih   \n",
       "25278                https://www.worldwildlife.org/about      worldwildlife   \n",
       "25279  https://tpwd.texas.gov/landwater/water/conserv...              texas   \n",
       "25280                                https://mdc.mo.gov/                 mo   \n",
       "25281   https://www2.illinois.gov/dnr/pages/default.aspx           illinois   \n",
       "\n",
       "        source     date  artificial intelligence   ai   machine learning  \\\n",
       "0      Twitter  2011-36                        0     0                 0   \n",
       "1      Twitter  2012-04                        0     0                 0   \n",
       "2      Twitter  2019-10                        1     0                 1   \n",
       "3      Twitter  2012-16                        0     0                 2   \n",
       "4      Twitter  2012-08                        0     0                 0   \n",
       "...        ...      ...                      ...   ...               ...   \n",
       "25277   Google     None                        0     0                 0   \n",
       "25278   Google     None                        0     0                 0   \n",
       "25279   Google     None                        0     0                 0   \n",
       "25280   Google     None                        0     0                 0   \n",
       "25281   Google     None                        0     0                 0   \n",
       "\n",
       "       dashboard  platform  conservation  ...  privacy  surveillance  cost  \\\n",
       "0              0         0             4  ...        1             0     3   \n",
       "1              0         0             1  ...        0             0     0   \n",
       "2              0         0             1  ...        0             0     0   \n",
       "3              0         0             6  ...        0             0     0   \n",
       "4              0         0             6  ...        0             0     0   \n",
       "...          ...       ...           ...  ...      ...           ...   ...   \n",
       "25277          0         0             1  ...        0             0     0   \n",
       "25278          0         0             4  ...        0             0     0   \n",
       "25279          6         0             1  ...        1             0     0   \n",
       "25280          0         0             7  ...        0             0     0   \n",
       "25281          0         0             1  ...        0             0     0   \n",
       "\n",
       "       market  decision making  working land  indigenous-led  easement  \\\n",
       "0           1                0             0               0         0   \n",
       "1           0                0             0               0         0   \n",
       "2           0                0             0               0         0   \n",
       "3           0                0             0               0         0   \n",
       "4           0                0             0               0         0   \n",
       "...       ...              ...           ...             ...       ...   \n",
       "25277       0                0             0               0         0   \n",
       "25278       1                0             0               0         0   \n",
       "25279       0                0             0               0         0   \n",
       "25280       0                0             0               0         0   \n",
       "25281       0                0             0               0         0   \n",
       "\n",
       "       decision support  decision-support  \n",
       "0                     0                 0  \n",
       "1                     0                 0  \n",
       "2                     0                 0  \n",
       "3                     0                 0  \n",
       "4                     0                 0  \n",
       "...                 ...               ...  \n",
       "25277                 0                 0  \n",
       "25278                 0                 0  \n",
       "25279                 0                 0  \n",
       "25280                 0                 0  \n",
       "25281                 0                 0  \n",
       "\n",
       "[25282 rows x 28 columns]"
      ]
     },
     "execution_count": 37,
     "metadata": {},
     "output_type": "execute_result"
    }
   ],
   "source": [
    "## Get word counts\n",
    "from observatory import query\n",
    "tech_terms = [\"artificial intelligence\", \" ai \", \"machine learning\", \"dashboard\", \"platform\"] # Spaces in ai to capture its use as in AI rather than e.g. said\n",
    "cons_terms = [\"conservation\", \"nature\"]\n",
    "#grammar = [\"is\", \"will\"] # for phrases\n",
    "topics = [\"forest\", \"mountain\", \"wetland\", \"boreal\", \"ocean\", \"river\", \"arctic\"]\n",
    "ethics = [\"privacy\", \"surveillance\", \"cost\"]\n",
    "tools = [\"market\", \"decision making\", \"working land\", \"indigenous-led\", \"easement\", \"decision support\", \"decision-support\"]\n",
    "combined_terms = tech_terms + cons_terms + topics + ethics + tools\n",
    "\n",
    "words = query(\"get_words\", combined_terms)\n",
    "words"
   ]
  },
  {
   "cell_type": "code",
   "execution_count": 38,
   "id": "5d97ea18-bd7d-498c-ae2c-b0b094a20e56",
   "metadata": {},
   "outputs": [
    {
     "name": "stderr",
     "output_type": "stream",
     "text": [
      "2022-06-28 10:57:45 [py.warnings] WARNING: /Users/enost/Downloads/observatory_dev_v02.py:1147: SettingWithCopyWarning: \n",
      "A value is trying to be set on a copy of a slice from a DataFrame\n",
      "\n",
      "See the caveats in the documentation: https://pandas.pydata.org/pandas-docs/stable/user_guide/indexing.html#returning-a-view-versus-a-copy\n",
      "  counts['date'].update(pandas.to_datetime(counts[\"date\"], format=\"%Y\").dt.to_period(\"Y\")) # Convert specific year/weeks to years #counts['date'].dt.to_timestamp('Y').dt.strftime(\"%Y-%m-%dT%H:%M:%S.%fZ\") #\n",
      "\n",
      "2022-06-28 10:57:45 [py.warnings] WARNING: /Users/enost/Downloads/observatory_dev_v02.py:1148: SettingWithCopyWarning: \n",
      "A value is trying to be set on a copy of a slice from a DataFrame\n",
      "\n",
      "See the caveats in the documentation: https://pandas.pydata.org/pandas-docs/stable/user_guide/indexing.html#returning-a-view-versus-a-copy\n",
      "  total = counts.groupby(by='date').agg({\"url\": \"nunique\"}) # Count the total number of pages we're examining. This should be the same for every term.\n",
      "\n"
     ]
    },
    {
     "data": {
      "text/plain": [
       "<AxesSubplot:xlabel='date'>"
      ]
     },
     "metadata": {},
     "output_type": "display_data"
    },
    {
     "data": {
      "text/plain": [
       "<AxesSubplot:xlabel='date'>"
      ]
     },
     "metadata": {},
     "output_type": "display_data"
    },
    {
     "data": {
      "text/plain": [
       "<AxesSubplot:xlabel='date'>"
      ]
     },
     "metadata": {},
     "output_type": "display_data"
    },
    {
     "data": {
      "image/png": "[encoded data removed]",
      "text/plain": [
       "<Figure size 432x288 with 1 Axes>"
      ]
     },
     "metadata": {
      "needs_background": "light"
     },
     "output_type": "display_data"
    },
    {
     "data": {
      "image/png": "[encoded data removed]",
      "text/plain": [
       "<Figure size 432x288 with 1 Axes>"
      ]
     },
     "metadata": {
      "needs_background": "light"
     },
     "output_type": "display_data"
    },
    {
     "data": {
      "image/png": "[encoded data removed]",
      "text/plain": [
       "<Figure size 432x288 with 1 Axes>"
      ]
     },
     "metadata": {
      "needs_background": "light"
     },
     "output_type": "display_data"
    }
   ],
   "source": [
    "# Analyze\n",
    "## How has the conversation about AI/ML changed over time? (Twitter frequency/average)\n",
    "from observatory import analyze_twitter\n",
    "avg, freq, total = analyze_twitter(words, terms = [\"dashboard\", \"platform\", \"decision-support\"])\n",
    "## Where the term conservation is used\n",
    "#, freq, total = analyze_twitter(words.loc[words['nature']>0], [\"artificial intelligence\", \"machine learning\"])"
   ]
  },
  {
   "cell_type": "code",
   "execution_count": 39,
   "id": "ef17a617-10d9-498c-9680-7a9ce4a61745",
   "metadata": {},
   "outputs": [
    {
     "data": {
      "text/html": [
       "<div>\n",
       "<style scoped>\n",
       "    .dataframe tbody tr th:only-of-type {\n",
       "        vertical-align: middle;\n",
       "    }\n",
       "\n",
       "    .dataframe tbody tr th {\n",
       "        vertical-align: top;\n",
       "    }\n",
       "\n",
       "    .dataframe thead th {\n",
       "        text-align: right;\n",
       "    }\n",
       "</style>\n",
       "<table border=\"1\" class=\"dataframe\">\n",
       "  <thead>\n",
       "    <tr style=\"text-align: right;\">\n",
       "      <th></th>\n",
       "      <th>privacy_avg</th>\n",
       "      <th>surveillance_avg</th>\n",
       "    </tr>\n",
       "  </thead>\n",
       "  <tbody>\n",
       "    <tr>\n",
       "      <th>raresites</th>\n",
       "      <td>0.0</td>\n",
       "      <td>0.0</td>\n",
       "    </tr>\n",
       "    <tr>\n",
       "      <th>davidsuzuki</th>\n",
       "      <td>20.0</td>\n",
       "      <td>0.0</td>\n",
       "    </tr>\n",
       "    <tr>\n",
       "      <th>grandriver</th>\n",
       "      <td>0.0</td>\n",
       "      <td>0.0</td>\n",
       "    </tr>\n",
       "    <tr>\n",
       "      <th>wwf</th>\n",
       "      <td>1.42</td>\n",
       "      <td>0.0</td>\n",
       "    </tr>\n",
       "    <tr>\n",
       "      <th>ecotrust</th>\n",
       "      <td>0.0</td>\n",
       "      <td>0.0</td>\n",
       "    </tr>\n",
       "    <tr>\n",
       "      <th>natureconservancy</th>\n",
       "      <td>0.0</td>\n",
       "      <td>0.0</td>\n",
       "    </tr>\n",
       "  </tbody>\n",
       "</table>\n",
       "</div>"
      ],
      "text/plain": [
       "                  privacy_avg surveillance_avg\n",
       "raresites                 0.0              0.0\n",
       "davidsuzuki              20.0              0.0\n",
       "grandriver                0.0              0.0\n",
       "wwf                      1.42              0.0\n",
       "ecotrust                  0.0              0.0\n",
       "natureconservancy         0.0              0.0"
      ]
     },
     "execution_count": 39,
     "metadata": {},
     "output_type": "execute_result"
    }
   ],
   "source": [
    "## Are certain organizations (and organization sizes) more likely to mention AI/ML? (Crawl)\n",
    "from observatory import analyze_orgs\n",
    "avg, freq = analyze_orgs(words, orgs = [\"raresites\", \"davidsuzuki\", \"grandriver\", \"wwf\", \"ecotrust\", \"natureconservancy\"], terms = [\"artificial intelligence\", \"forest\", \"machine learning\"])\n",
    "## Are certain organizations more likely to mention ethics terms in conjunction with AI/ML? (Crawl)\n",
    "avg, freq = analyze_orgs(words.loc[(words[\"dashboard\"]>0) | (words[\"platform\"]>0) | (words[\"decision-support\"]>0) | (words[\"decision support\"]>0)], orgs = [\"raresites\", \"davidsuzuki\", \"grandriver\", \"wwf\", \"ecotrust\", \"natureconservancy\"], terms = [\"privacy\", \"surveillance\"])\n",
    "avg"
   ]
  },
  {
   "cell_type": "code",
   "execution_count": 40,
   "id": "23e49ba2-c66f-43e5-bd17-4ae472281e78",
   "metadata": {},
   "outputs": [
    {
     "name": "stdout",
     "output_type": "stream",
     "text": [
      "dashboard decision support\n",
      "Zeros: 25046, 99%\n",
      "decision support but not dashboard: 82, 0%\n",
      "dashboard but not decision support: 147, 0%\n",
      "Together: 7, 0%\n",
      "\n",
      "\n"
     ]
    },
    {
     "data": {
      "text/html": [
       "<div>\n",
       "<style scoped>\n",
       "    .dataframe tbody tr th:only-of-type {\n",
       "        vertical-align: middle;\n",
       "    }\n",
       "\n",
       "    .dataframe tbody tr th {\n",
       "        vertical-align: top;\n",
       "    }\n",
       "\n",
       "    .dataframe thead th {\n",
       "        text-align: right;\n",
       "    }\n",
       "</style>\n",
       "<table border=\"1\" class=\"dataframe\">\n",
       "  <thead>\n",
       "    <tr style=\"text-align: right;\">\n",
       "      <th></th>\n",
       "      <th>dashboard</th>\n",
       "      <th>decision support</th>\n",
       "    </tr>\n",
       "  </thead>\n",
       "  <tbody>\n",
       "    <tr>\n",
       "      <th>dashboard</th>\n",
       "      <td>1.000000</td>\n",
       "      <td>0.930261</td>\n",
       "    </tr>\n",
       "    <tr>\n",
       "      <th>decision support</th>\n",
       "      <td>0.930261</td>\n",
       "      <td>1.000000</td>\n",
       "    </tr>\n",
       "  </tbody>\n",
       "</table>\n",
       "</div>"
      ],
      "text/plain": [
       "                  dashboard  decision support\n",
       "dashboard          1.000000          0.930261\n",
       "decision support   0.930261          1.000000"
      ]
     },
     "metadata": {},
     "output_type": "display_data"
    },
    {
     "data": {
      "text/plain": [
       "<AxesSubplot:xlabel='dashboard', ylabel='decision support'>"
      ]
     },
     "metadata": {},
     "output_type": "display_data"
    },
    {
     "name": "stdout",
     "output_type": "stream",
     "text": [
      "decision support dashboard\n",
      "Zeros: 25046, 99%\n",
      "dashboard but not decision support: 147, 0%\n",
      "decision support but not dashboard: 82, 0%\n",
      "Together: 7, 0%\n",
      "\n",
      "\n"
     ]
    },
    {
     "data": {
      "text/html": [
       "<div>\n",
       "<style scoped>\n",
       "    .dataframe tbody tr th:only-of-type {\n",
       "        vertical-align: middle;\n",
       "    }\n",
       "\n",
       "    .dataframe tbody tr th {\n",
       "        vertical-align: top;\n",
       "    }\n",
       "\n",
       "    .dataframe thead th {\n",
       "        text-align: right;\n",
       "    }\n",
       "</style>\n",
       "<table border=\"1\" class=\"dataframe\">\n",
       "  <thead>\n",
       "    <tr style=\"text-align: right;\">\n",
       "      <th></th>\n",
       "      <th>decision support</th>\n",
       "      <th>dashboard</th>\n",
       "    </tr>\n",
       "  </thead>\n",
       "  <tbody>\n",
       "    <tr>\n",
       "      <th>decision support</th>\n",
       "      <td>1.000000</td>\n",
       "      <td>0.930261</td>\n",
       "    </tr>\n",
       "    <tr>\n",
       "      <th>dashboard</th>\n",
       "      <td>0.930261</td>\n",
       "      <td>1.000000</td>\n",
       "    </tr>\n",
       "  </tbody>\n",
       "</table>\n",
       "</div>"
      ],
      "text/plain": [
       "                  decision support  dashboard\n",
       "decision support          1.000000   0.930261\n",
       "dashboard                 0.930261   1.000000"
      ]
     },
     "metadata": {},
     "output_type": "display_data"
    },
    {
     "data": {
      "text/plain": [
       "<AxesSubplot:xlabel='decision support', ylabel='dashboard'>"
      ]
     },
     "metadata": {},
     "output_type": "display_data"
    },
    {
     "data": {
      "image/png": "[encoded data removed]",
      "text/plain": [
       "<Figure size 432x288 with 1 Axes>"
      ]
     },
     "metadata": {
      "needs_background": "light"
     },
     "output_type": "display_data"
    },
    {
     "data": {
      "image/png": "[encoded data removed]",
      "text/plain": [
       "<Figure size 432x288 with 1 Axes>"
      ]
     },
     "metadata": {
      "needs_background": "light"
     },
     "output_type": "display_data"
    }
   ],
   "source": [
    "## Are certain topics associated with other (e.g. forest and AI vs mountain and AI?) (Twitter, Google, and Crawl)\n",
    "from observatory import analyze_term_correlations\n",
    "#analyze_term_correlations(words, [\"artificial intelligence\", \"river\", \" ai \"])\n",
    "analyze_term_correlations(words, [\"dashboard\", \"decision support\"])"
   ]
  },
  {
   "cell_type": "code",
   "execution_count": null,
   "id": "91b4dbe0-5dd7-4089-9422-a049046ee26e",
   "metadata": {},
   "outputs": [],
   "source": []
  }
 ],
 "metadata": {
  "kernelspec": {
   "display_name": "Python 3 (ipykernel)",
   "language": "python",
   "name": "python3"
  },
  "language_info": {
   "codemirror_mode": {
    "name": "ipython",
    "version": 3
   },
   "file_extension": ".py",
   "mimetype": "text/x-python",
   "name": "python",
   "nbconvert_exporter": "python",
   "pygments_lexer": "ipython3",
   "version": "3.9.7"
  }
 },
 "nbformat": 4,
 "nbformat_minor": 5
}
