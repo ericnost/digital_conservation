{
 "cells": [
  {
   "cell_type": "code",
   "execution_count": 1,
   "id": "54897330-11bc-402a-a4dc-6ecba774999a",
   "metadata": {},
   "outputs": [
    {
     "name": "stdout",
     "output_type": "stream",
     "text": [
      "Done!\n"
     ]
    }
   ],
   "source": [
    "# Architecture/storage (incl. trust): [big data, IOT/internet of things, cloud, \"blockchain\"]\n",
    "\n",
    "project = \"architecture_storage\"\n",
    "\n",
    "import pandas\n",
    "\n",
    "from web_observatory import start_project\n",
    "start_project(project)"
   ]
  },
  {
   "cell_type": "code",
   "execution_count": 2,
   "id": "13e4e849-5b36-47a3-b950-737f6966d56e",
   "metadata": {},
   "outputs": [
    {
     "name": "stdout",
     "output_type": "stream",
     "text": [
      "{'query': 'conservation \"big data\" has:links', 'tweet.fields': 'created_at,entities,public_metrics', 'max_results': 100, 'start_time': '2006-03-21T00:00:00.00Z', 'end_time': '2022-01-01T00:00:00.00Z'}\n",
      "Done!\n",
      "{'query': 'conservation data (\"internet of things\" OR IOT) has:links', 'tweet.fields': 'created_at,entities,public_metrics', 'max_results': 100, 'start_time': '2006-03-21T00:00:00.00Z', 'end_time': '2022-01-01T00:00:00.00Z'}\n",
      "Done!\n",
      "{'query': 'conservation cloud has:links', 'tweet.fields': 'created_at,entities,public_metrics', 'max_results': 100, 'start_time': '2006-03-21T00:00:00.00Z', 'end_time': '2022-01-01T00:00:00.00Z'}\n",
      "Done!\n",
      "{'query': 'conservation blockchain has:links', 'tweet.fields': 'created_at,entities,public_metrics', 'max_results': 100, 'start_time': '2006-03-21T00:00:00.00Z', 'end_time': '2022-01-01T00:00:00.00Z'}\n",
      "Done!\n"
     ]
    }
   ],
   "source": [
    "# Get tweets about digital conservation architecture/storage (Historical focus)\n",
    "from web_observatory import search_twitter\n",
    "bd_twitter = search_twitter(q = 'conservation \"big data\" has:links', project=project)\n",
    "iot_twitter = search_twitter(q = 'conservation data (\"internet of things\" OR IOT) has:links', project=project)\n",
    "cld_twitter = search_twitter(q = 'conservation cloud has:links', project=project)\n",
    "blck_twitter = search_twitter(q = 'conservation blockchain has:links', project=project)"
   ]
  },
  {
   "cell_type": "code",
   "execution_count": 3,
   "id": "ef98ca88-4658-4447-92a0-73615dc105db",
   "metadata": {},
   "outputs": [
    {
     "name": "stdout",
     "output_type": "stream",
     "text": [
      "Done\n",
      "Done\n",
      "Done\n",
      "Done\n"
     ]
    }
   ],
   "source": [
    "# Get Google results about platforms in nature conservation (Relevance)\n",
    "from web_observatory import search_google\n",
    "bd_google = search_google(q = 'nature conservation big data', project = project)\n",
    "iot_google = search_google(q = 'nature conservation iot internet of things', project = project)\n",
    "cld_google = search_google(q = 'nature conservation cloud', project = project)\n",
    "blck_google = search_google(q = 'nature conservation blockchain', project = project)"
   ]
  },
  {
   "cell_type": "code",
   "execution_count": 3,
   "id": "5bdeec06-82c8-4c9d-958e-c15df0e58984",
   "metadata": {},
   "outputs": [],
   "source": [
    "# Compile results\n",
    "from web_observatory import twitter_process \n",
    "twitter = twitter_process(project=project)\n",
    "from web_observatory import google_process\n",
    "google = google_process(datatype = \"CSV\", project=project)"
   ]
  },
  {
   "cell_type": "code",
   "execution_count": 4,
   "id": "f0ef2456-3f1f-436c-8f74-91f40e64ad6c",
   "metadata": {},
   "outputs": [
    {
     "data": {
      "text/html": [
       "<div>\n",
       "<style scoped>\n",
       "    .dataframe tbody tr th:only-of-type {\n",
       "        vertical-align: middle;\n",
       "    }\n",
       "\n",
       "    .dataframe tbody tr th {\n",
       "        vertical-align: top;\n",
       "    }\n",
       "\n",
       "    .dataframe thead th {\n",
       "        text-align: right;\n",
       "    }\n",
       "</style>\n",
       "<table border=\"1\" class=\"dataframe\">\n",
       "  <thead>\n",
       "    <tr style=\"text-align: right;\">\n",
       "      <th></th>\n",
       "      <th>date</th>\n",
       "      <th>link</th>\n",
       "      <th>metrics</th>\n",
       "      <th>source</th>\n",
       "      <th>query</th>\n",
       "    </tr>\n",
       "    <tr>\n",
       "      <th>domain</th>\n",
       "      <th></th>\n",
       "      <th></th>\n",
       "      <th></th>\n",
       "      <th></th>\n",
       "      <th></th>\n",
       "    </tr>\n",
       "  </thead>\n",
       "  <tbody>\n",
       "    <tr>\n",
       "      <th>nature</th>\n",
       "      <td>0</td>\n",
       "      <td>9</td>\n",
       "      <td>0</td>\n",
       "      <td>9</td>\n",
       "      <td>9</td>\n",
       "    </tr>\n",
       "    <tr>\n",
       "      <th>nih</th>\n",
       "      <td>0</td>\n",
       "      <td>6</td>\n",
       "      <td>0</td>\n",
       "      <td>6</td>\n",
       "      <td>6</td>\n",
       "    </tr>\n",
       "    <tr>\n",
       "      <th>microsoft</th>\n",
       "      <td>0</td>\n",
       "      <td>5</td>\n",
       "      <td>0</td>\n",
       "      <td>5</td>\n",
       "      <td>5</td>\n",
       "    </tr>\n",
       "    <tr>\n",
       "      <th>springer</th>\n",
       "      <td>0</td>\n",
       "      <td>3</td>\n",
       "      <td>0</td>\n",
       "      <td>3</td>\n",
       "      <td>3</td>\n",
       "    </tr>\n",
       "    <tr>\n",
       "      <th>weforum</th>\n",
       "      <td>0</td>\n",
       "      <td>3</td>\n",
       "      <td>0</td>\n",
       "      <td>3</td>\n",
       "      <td>3</td>\n",
       "    </tr>\n",
       "    <tr>\n",
       "      <th>sciencedirect</th>\n",
       "      <td>0</td>\n",
       "      <td>3</td>\n",
       "      <td>0</td>\n",
       "      <td>3</td>\n",
       "      <td>3</td>\n",
       "    </tr>\n",
       "    <tr>\n",
       "      <th>researchgate</th>\n",
       "      <td>0</td>\n",
       "      <td>3</td>\n",
       "      <td>0</td>\n",
       "      <td>3</td>\n",
       "      <td>3</td>\n",
       "    </tr>\n",
       "    <tr>\n",
       "      <th>ieee</th>\n",
       "      <td>0</td>\n",
       "      <td>3</td>\n",
       "      <td>0</td>\n",
       "      <td>3</td>\n",
       "      <td>3</td>\n",
       "    </tr>\n",
       "    <tr>\n",
       "      <th>cisco</th>\n",
       "      <td>0</td>\n",
       "      <td>2</td>\n",
       "      <td>0</td>\n",
       "      <td>2</td>\n",
       "      <td>2</td>\n",
       "    </tr>\n",
       "    <tr>\n",
       "      <th>harvard</th>\n",
       "      <td>0</td>\n",
       "      <td>2</td>\n",
       "      <td>0</td>\n",
       "      <td>2</td>\n",
       "      <td>2</td>\n",
       "    </tr>\n",
       "    <tr>\n",
       "      <th>iucn</th>\n",
       "      <td>0</td>\n",
       "      <td>2</td>\n",
       "      <td>0</td>\n",
       "      <td>2</td>\n",
       "      <td>2</td>\n",
       "    </tr>\n",
       "    <tr>\n",
       "      <th>frontiersin</th>\n",
       "      <td>0</td>\n",
       "      <td>2</td>\n",
       "      <td>0</td>\n",
       "      <td>2</td>\n",
       "      <td>2</td>\n",
       "    </tr>\n",
       "    <tr>\n",
       "      <th>ncsu</th>\n",
       "      <td>0</td>\n",
       "      <td>2</td>\n",
       "      <td>0</td>\n",
       "      <td>2</td>\n",
       "      <td>2</td>\n",
       "    </tr>\n",
       "    <tr>\n",
       "      <th>medium</th>\n",
       "      <td>0</td>\n",
       "      <td>2</td>\n",
       "      <td>0</td>\n",
       "      <td>2</td>\n",
       "      <td>2</td>\n",
       "    </tr>\n",
       "    <tr>\n",
       "      <th>stcloudfl</th>\n",
       "      <td>0</td>\n",
       "      <td>2</td>\n",
       "      <td>0</td>\n",
       "      <td>2</td>\n",
       "      <td>2</td>\n",
       "    </tr>\n",
       "    <tr>\n",
       "      <th>conservation</th>\n",
       "      <td>0</td>\n",
       "      <td>2</td>\n",
       "      <td>0</td>\n",
       "      <td>2</td>\n",
       "      <td>2</td>\n",
       "    </tr>\n",
       "    <tr>\n",
       "      <th>cloudforestconservation</th>\n",
       "      <td>0</td>\n",
       "      <td>2</td>\n",
       "      <td>0</td>\n",
       "      <td>2</td>\n",
       "      <td>2</td>\n",
       "    </tr>\n",
       "    <tr>\n",
       "      <th>mongabay</th>\n",
       "      <td>0</td>\n",
       "      <td>2</td>\n",
       "      <td>0</td>\n",
       "      <td>2</td>\n",
       "      <td>2</td>\n",
       "    </tr>\n",
       "    <tr>\n",
       "      <th>vanderbilt</th>\n",
       "      <td>0</td>\n",
       "      <td>2</td>\n",
       "      <td>0</td>\n",
       "      <td>2</td>\n",
       "      <td>2</td>\n",
       "    </tr>\n",
       "    <tr>\n",
       "      <th>wwf</th>\n",
       "      <td>0</td>\n",
       "      <td>2</td>\n",
       "      <td>0</td>\n",
       "      <td>2</td>\n",
       "      <td>2</td>\n",
       "    </tr>\n",
       "  </tbody>\n",
       "</table>\n",
       "</div>"
      ],
      "text/plain": [
       "                         date  link  metrics  source  query\n",
       "domain                                                     \n",
       "nature                      0     9        0       9      9\n",
       "nih                         0     6        0       6      6\n",
       "microsoft                   0     5        0       5      5\n",
       "springer                    0     3        0       3      3\n",
       "weforum                     0     3        0       3      3\n",
       "sciencedirect               0     3        0       3      3\n",
       "researchgate                0     3        0       3      3\n",
       "ieee                        0     3        0       3      3\n",
       "cisco                       0     2        0       2      2\n",
       "harvard                     0     2        0       2      2\n",
       "iucn                        0     2        0       2      2\n",
       "frontiersin                 0     2        0       2      2\n",
       "ncsu                        0     2        0       2      2\n",
       "medium                      0     2        0       2      2\n",
       "stcloudfl                   0     2        0       2      2\n",
       "conservation                0     2        0       2      2\n",
       "cloudforestconservation     0     2        0       2      2\n",
       "mongabay                    0     2        0       2      2\n",
       "vanderbilt                  0     2        0       2      2\n",
       "wwf                         0     2        0       2      2"
      ]
     },
     "execution_count": 4,
     "metadata": {},
     "output_type": "execute_result"
    }
   ],
   "source": [
    "# Extract organizations from Twitter/Google results\n",
    "from web_observatory import get_domains\n",
    "twitter = get_domains(twitter)\n",
    "google = get_domains(google)\n",
    "twitter.groupby(by=\"domain\").count().sort_values(by=\"link\", ascending=False).head(20)\n",
    "google.groupby(by=\"domain\").count().sort_values(by=\"link\", ascending=False).head(20)"
   ]
  },
  {
   "cell_type": "code",
   "execution_count": 5,
   "id": "2a31952a-9dae-46d4-b0bd-8e255bcb2367",
   "metadata": {},
   "outputs": [
    {
     "data": {
      "text/html": [
       "<div>\n",
       "<style scoped>\n",
       "    .dataframe tbody tr th:only-of-type {\n",
       "        vertical-align: middle;\n",
       "    }\n",
       "\n",
       "    .dataframe tbody tr th {\n",
       "        vertical-align: top;\n",
       "    }\n",
       "\n",
       "    .dataframe thead th {\n",
       "        text-align: right;\n",
       "    }\n",
       "</style>\n",
       "<table border=\"1\" class=\"dataframe\">\n",
       "  <thead>\n",
       "    <tr style=\"text-align: right;\">\n",
       "      <th></th>\n",
       "      <th>date</th>\n",
       "      <th>link</th>\n",
       "      <th>metrics</th>\n",
       "      <th>source</th>\n",
       "      <th>query</th>\n",
       "      <th>domain</th>\n",
       "    </tr>\n",
       "  </thead>\n",
       "  <tbody>\n",
       "    <tr>\n",
       "      <th>0</th>\n",
       "      <td>2010-12-12T16:04:15.000Z</td>\n",
       "      <td>http://envirolaw.com/owns-clouds/</td>\n",
       "      <td>0.0</td>\n",
       "      <td>Twitter</td>\n",
       "      <td>conservation cloud has:links</td>\n",
       "      <td>envirolaw</td>\n",
       "    </tr>\n",
       "    <tr>\n",
       "      <th>1</th>\n",
       "      <td>2011-05-20T20:24:35.000Z</td>\n",
       "      <td>http://www.electronichouse.com/article/water_c...</td>\n",
       "      <td>0.0</td>\n",
       "      <td>Twitter</td>\n",
       "      <td>conservation cloud has:links</td>\n",
       "      <td>electronichouse</td>\n",
       "    </tr>\n",
       "    <tr>\n",
       "      <th>2</th>\n",
       "      <td>2011-06-05T00:10:25.000Z</td>\n",
       "      <td>http://group0middleearth.blogspot.com/2011/06/...</td>\n",
       "      <td>0.0</td>\n",
       "      <td>Twitter</td>\n",
       "      <td>conservation cloud has:links</td>\n",
       "      <td>blogspot</td>\n",
       "    </tr>\n",
       "    <tr>\n",
       "      <th>3</th>\n",
       "      <td>2011-06-27T23:12:59.000Z</td>\n",
       "      <td>http://ih.advfn.com/p.php?pid=nmona&amp;article=48...</td>\n",
       "      <td>0.0</td>\n",
       "      <td>Twitter</td>\n",
       "      <td>conservation cloud has:links</td>\n",
       "      <td>advfn</td>\n",
       "    </tr>\n",
       "    <tr>\n",
       "      <th>4</th>\n",
       "      <td>2011-07-04T16:47:11.000Z</td>\n",
       "      <td>http://bit.ly/iT4mcA</td>\n",
       "      <td>0.0</td>\n",
       "      <td>Twitter</td>\n",
       "      <td>conservation cloud has:links</td>\n",
       "      <td>bit</td>\n",
       "    </tr>\n",
       "    <tr>\n",
       "      <th>...</th>\n",
       "      <td>...</td>\n",
       "      <td>...</td>\n",
       "      <td>...</td>\n",
       "      <td>...</td>\n",
       "      <td>...</td>\n",
       "      <td>...</td>\n",
       "    </tr>\n",
       "    <tr>\n",
       "      <th>6175</th>\n",
       "      <td>NaN</td>\n",
       "      <td>https://www3.weforum.org/docs/WEF_Building-Blo...</td>\n",
       "      <td>NaN</td>\n",
       "      <td>Google</td>\n",
       "      <td>nature conservation blockchain</td>\n",
       "      <td>weforum</td>\n",
       "    </tr>\n",
       "    <tr>\n",
       "      <th>6176</th>\n",
       "      <td>NaN</td>\n",
       "      <td>https://www.thefreshwatertrust.org/state-of-ca...</td>\n",
       "      <td>NaN</td>\n",
       "      <td>Google</td>\n",
       "      <td>nature conservation blockchain</td>\n",
       "      <td>thefreshwatertrust</td>\n",
       "    </tr>\n",
       "    <tr>\n",
       "      <th>6177</th>\n",
       "      <td>NaN</td>\n",
       "      <td>https://wwf.ca/stories/ai-blockchain-nature/</td>\n",
       "      <td>NaN</td>\n",
       "      <td>Google</td>\n",
       "      <td>nature conservation blockchain</td>\n",
       "      <td>wwf</td>\n",
       "    </tr>\n",
       "    <tr>\n",
       "      <th>6178</th>\n",
       "      <td>NaN</td>\n",
       "      <td>https://mobile.twitter.com/danbrockington/stat...</td>\n",
       "      <td>NaN</td>\n",
       "      <td>Google</td>\n",
       "      <td>nature conservation blockchain</td>\n",
       "      <td>twitter</td>\n",
       "    </tr>\n",
       "    <tr>\n",
       "      <th>6179</th>\n",
       "      <td>NaN</td>\n",
       "      <td>https://www.iucncongress2020.org/programme/off...</td>\n",
       "      <td>NaN</td>\n",
       "      <td>Google</td>\n",
       "      <td>nature conservation blockchain</td>\n",
       "      <td>iucncongress2020</td>\n",
       "    </tr>\n",
       "  </tbody>\n",
       "</table>\n",
       "<p>6180 rows × 6 columns</p>\n",
       "</div>"
      ],
      "text/plain": [
       "                          date  \\\n",
       "0     2010-12-12T16:04:15.000Z   \n",
       "1     2011-05-20T20:24:35.000Z   \n",
       "2     2011-06-05T00:10:25.000Z   \n",
       "3     2011-06-27T23:12:59.000Z   \n",
       "4     2011-07-04T16:47:11.000Z   \n",
       "...                        ...   \n",
       "6175                       NaN   \n",
       "6176                       NaN   \n",
       "6177                       NaN   \n",
       "6178                       NaN   \n",
       "6179                       NaN   \n",
       "\n",
       "                                                   link  metrics   source  \\\n",
       "0                     http://envirolaw.com/owns-clouds/      0.0  Twitter   \n",
       "1     http://www.electronichouse.com/article/water_c...      0.0  Twitter   \n",
       "2     http://group0middleearth.blogspot.com/2011/06/...      0.0  Twitter   \n",
       "3     http://ih.advfn.com/p.php?pid=nmona&article=48...      0.0  Twitter   \n",
       "4                                  http://bit.ly/iT4mcA      0.0  Twitter   \n",
       "...                                                 ...      ...      ...   \n",
       "6175  https://www3.weforum.org/docs/WEF_Building-Blo...      NaN   Google   \n",
       "6176  https://www.thefreshwatertrust.org/state-of-ca...      NaN   Google   \n",
       "6177       https://wwf.ca/stories/ai-blockchain-nature/      NaN   Google   \n",
       "6178  https://mobile.twitter.com/danbrockington/stat...      NaN   Google   \n",
       "6179  https://www.iucncongress2020.org/programme/off...      NaN   Google   \n",
       "\n",
       "                               query              domain  \n",
       "0       conservation cloud has:links           envirolaw  \n",
       "1       conservation cloud has:links     electronichouse  \n",
       "2       conservation cloud has:links            blogspot  \n",
       "3       conservation cloud has:links               advfn  \n",
       "4       conservation cloud has:links                 bit  \n",
       "...                              ...                 ...  \n",
       "6175  nature conservation blockchain             weforum  \n",
       "6176  nature conservation blockchain  thefreshwatertrust  \n",
       "6177  nature conservation blockchain                 wwf  \n",
       "6178  nature conservation blockchain             twitter  \n",
       "6179  nature conservation blockchain    iucncongress2020  \n",
       "\n",
       "[6180 rows x 6 columns]"
      ]
     },
     "execution_count": 5,
     "metadata": {},
     "output_type": "execute_result"
    }
   ],
   "source": [
    "# Process all data together \n",
    "from web_observatory import search_merge\n",
    "pages = search_merge(twitter = twitter, google = google, project = project)\n",
    "pages"
   ]
  },
  {
   "cell_type": "code",
   "execution_count": 6,
   "id": "b90dae61-8bcb-441b-b96d-a14295d1e63a",
   "metadata": {},
   "outputs": [
    {
     "data": {
      "text/html": [
       "<div>\n",
       "<style scoped>\n",
       "    .dataframe tbody tr th:only-of-type {\n",
       "        vertical-align: middle;\n",
       "    }\n",
       "\n",
       "    .dataframe tbody tr th {\n",
       "        vertical-align: top;\n",
       "    }\n",
       "\n",
       "    .dataframe thead th {\n",
       "        text-align: right;\n",
       "    }\n",
       "</style>\n",
       "<table border=\"1\" class=\"dataframe\">\n",
       "  <thead>\n",
       "    <tr style=\"text-align: right;\">\n",
       "      <th></th>\n",
       "      <th>date</th>\n",
       "      <th>link</th>\n",
       "      <th>metrics</th>\n",
       "      <th>source</th>\n",
       "      <th>query</th>\n",
       "      <th>domain</th>\n",
       "    </tr>\n",
       "  </thead>\n",
       "  <tbody>\n",
       "    <tr>\n",
       "      <th>0</th>\n",
       "      <td>2010-12-12T16:04:15.000Z</td>\n",
       "      <td>http://envirolaw.com/owns-clouds/</td>\n",
       "      <td>0.0</td>\n",
       "      <td>Twitter</td>\n",
       "      <td>conservation cloud has:links</td>\n",
       "      <td>envirolaw</td>\n",
       "    </tr>\n",
       "    <tr>\n",
       "      <th>1</th>\n",
       "      <td>2011-05-20T20:24:35.000Z</td>\n",
       "      <td>http://www.electronichouse.com/article/water_c...</td>\n",
       "      <td>0.0</td>\n",
       "      <td>Twitter</td>\n",
       "      <td>conservation cloud has:links</td>\n",
       "      <td>electronichouse</td>\n",
       "    </tr>\n",
       "    <tr>\n",
       "      <th>2</th>\n",
       "      <td>2011-06-05T00:10:25.000Z</td>\n",
       "      <td>http://group0middleearth.blogspot.com/2011/06/...</td>\n",
       "      <td>0.0</td>\n",
       "      <td>Twitter</td>\n",
       "      <td>conservation cloud has:links</td>\n",
       "      <td>blogspot</td>\n",
       "    </tr>\n",
       "    <tr>\n",
       "      <th>3</th>\n",
       "      <td>2011-06-27T23:12:59.000Z</td>\n",
       "      <td>http://ih.advfn.com/p.php?pid=nmona&amp;article=48...</td>\n",
       "      <td>0.0</td>\n",
       "      <td>Twitter</td>\n",
       "      <td>conservation cloud has:links</td>\n",
       "      <td>advfn</td>\n",
       "    </tr>\n",
       "    <tr>\n",
       "      <th>4</th>\n",
       "      <td>2011-07-04T16:47:11.000Z</td>\n",
       "      <td>http://bit.ly/iT4mcA</td>\n",
       "      <td>0.0</td>\n",
       "      <td>Twitter</td>\n",
       "      <td>conservation cloud has:links</td>\n",
       "      <td>bit</td>\n",
       "    </tr>\n",
       "    <tr>\n",
       "      <th>...</th>\n",
       "      <td>...</td>\n",
       "      <td>...</td>\n",
       "      <td>...</td>\n",
       "      <td>...</td>\n",
       "      <td>...</td>\n",
       "      <td>...</td>\n",
       "    </tr>\n",
       "    <tr>\n",
       "      <th>5623</th>\n",
       "      <td>NaN</td>\n",
       "      <td>https://www.cryptoaltruism.org/blog/20-web3-pr...</td>\n",
       "      <td>NaN</td>\n",
       "      <td>Google</td>\n",
       "      <td>nature conservation blockchain</td>\n",
       "      <td>cryptoaltruism</td>\n",
       "    </tr>\n",
       "    <tr>\n",
       "      <th>5624</th>\n",
       "      <td>NaN</td>\n",
       "      <td>https://www3.weforum.org/docs/WEF_Building-Blo...</td>\n",
       "      <td>NaN</td>\n",
       "      <td>Google</td>\n",
       "      <td>nature conservation blockchain</td>\n",
       "      <td>weforum</td>\n",
       "    </tr>\n",
       "    <tr>\n",
       "      <th>5625</th>\n",
       "      <td>NaN</td>\n",
       "      <td>https://www.thefreshwatertrust.org/state-of-ca...</td>\n",
       "      <td>NaN</td>\n",
       "      <td>Google</td>\n",
       "      <td>nature conservation blockchain</td>\n",
       "      <td>thefreshwatertrust</td>\n",
       "    </tr>\n",
       "    <tr>\n",
       "      <th>5626</th>\n",
       "      <td>NaN</td>\n",
       "      <td>https://mobile.twitter.com/danbrockington/stat...</td>\n",
       "      <td>NaN</td>\n",
       "      <td>Google</td>\n",
       "      <td>nature conservation blockchain</td>\n",
       "      <td>twitter</td>\n",
       "    </tr>\n",
       "    <tr>\n",
       "      <th>5627</th>\n",
       "      <td>NaN</td>\n",
       "      <td>https://www.iucncongress2020.org/programme/off...</td>\n",
       "      <td>NaN</td>\n",
       "      <td>Google</td>\n",
       "      <td>nature conservation blockchain</td>\n",
       "      <td>iucncongress2020</td>\n",
       "    </tr>\n",
       "  </tbody>\n",
       "</table>\n",
       "<p>5628 rows × 6 columns</p>\n",
       "</div>"
      ],
      "text/plain": [
       "                          date  \\\n",
       "0     2010-12-12T16:04:15.000Z   \n",
       "1     2011-05-20T20:24:35.000Z   \n",
       "2     2011-06-05T00:10:25.000Z   \n",
       "3     2011-06-27T23:12:59.000Z   \n",
       "4     2011-07-04T16:47:11.000Z   \n",
       "...                        ...   \n",
       "5623                       NaN   \n",
       "5624                       NaN   \n",
       "5625                       NaN   \n",
       "5626                       NaN   \n",
       "5627                       NaN   \n",
       "\n",
       "                                                   link  metrics   source  \\\n",
       "0                     http://envirolaw.com/owns-clouds/      0.0  Twitter   \n",
       "1     http://www.electronichouse.com/article/water_c...      0.0  Twitter   \n",
       "2     http://group0middleearth.blogspot.com/2011/06/...      0.0  Twitter   \n",
       "3     http://ih.advfn.com/p.php?pid=nmona&article=48...      0.0  Twitter   \n",
       "4                                  http://bit.ly/iT4mcA      0.0  Twitter   \n",
       "...                                                 ...      ...      ...   \n",
       "5623  https://www.cryptoaltruism.org/blog/20-web3-pr...      NaN   Google   \n",
       "5624  https://www3.weforum.org/docs/WEF_Building-Blo...      NaN   Google   \n",
       "5625  https://www.thefreshwatertrust.org/state-of-ca...      NaN   Google   \n",
       "5626  https://mobile.twitter.com/danbrockington/stat...      NaN   Google   \n",
       "5627  https://www.iucncongress2020.org/programme/off...      NaN   Google   \n",
       "\n",
       "                               query              domain  \n",
       "0       conservation cloud has:links           envirolaw  \n",
       "1       conservation cloud has:links     electronichouse  \n",
       "2       conservation cloud has:links            blogspot  \n",
       "3       conservation cloud has:links               advfn  \n",
       "4       conservation cloud has:links                 bit  \n",
       "...                              ...                 ...  \n",
       "5623  nature conservation blockchain      cryptoaltruism  \n",
       "5624  nature conservation blockchain             weforum  \n",
       "5625  nature conservation blockchain  thefreshwatertrust  \n",
       "5626  nature conservation blockchain             twitter  \n",
       "5627  nature conservation blockchain    iucncongress2020  \n",
       "\n",
       "[5628 rows x 6 columns]"
      ]
     },
     "execution_count": 6,
     "metadata": {},
     "output_type": "execute_result"
    }
   ],
   "source": [
    "# Manage duplication of links here....\n",
    "## Load previous \"all_search_results\"\n",
    "p1 = pandas.read_csv(\"AI_ML/all_search_results.csv\")\n",
    "p2 = pandas.read_csv(\"algorithm/all_search_results.csv\")\n",
    "p3 = pandas.read_csv(\"platform/all_search_results.csv\")\n",
    "previous = pandas.concat([p1, p2, p3], ignore_index=True)\n",
    "## De-duplicate from this list of pages where there is a match on previous search\n",
    "pages = pages[~pages[\"link\"].isin(previous[\"link\"])]\n",
    "pages.reset_index(inplace=True, drop=True)\n",
    "pages"
   ]
  },
  {
   "cell_type": "code",
   "execution_count": 7,
   "id": "fc992c28-427b-46d5-88d4-f342c5b3c88b",
   "metadata": {},
   "outputs": [
    {
     "name": "stderr",
     "output_type": "stream",
     "text": [
      "/Users/enost/Downloads/observatory_dev_v02.py:694: SettingWithCopyWarning: \n",
      "A value is trying to be set on a copy of a slice from a DataFrame.\n",
      "Try using .loc[row_indexer,col_indexer] = value instead\n",
      "\n",
      "See the caveats in the documentation: https://pandas.pydata.org/pandas-docs/stable/user_guide/indexing.html#returning-a-view-versus-a-copy\n",
      "  pages[\"full_url\"] = None # The actual url and not some bit.ly url\n",
      "/Users/enost/Downloads/observatory_dev_v02.py:695: SettingWithCopyWarning: \n",
      "A value is trying to be set on a copy of a slice from a DataFrame.\n",
      "Try using .loc[row_indexer,col_indexer] = value instead\n",
      "\n",
      "See the caveats in the documentation: https://pandas.pydata.org/pandas-docs/stable/user_guide/indexing.html#returning-a-view-versus-a-copy\n",
      "  pages[\"url_meta\"] = None # Possible additional information\n",
      "/Users/enost/Downloads/observatory_dev_v02.py:696: SettingWithCopyWarning: \n",
      "A value is trying to be set on a copy of a slice from a DataFrame.\n",
      "Try using .loc[row_indexer,col_indexer] = value instead\n",
      "\n",
      "See the caveats in the documentation: https://pandas.pydata.org/pandas-docs/stable/user_guide/indexing.html#returning-a-view-versus-a-copy\n",
      "  pages[\"wm_url\"] = None # We may have this when we have previously saved pages to the WM\n",
      "/Users/enost/Downloads/observatory_dev_v02.py:697: SettingWithCopyWarning: \n",
      "A value is trying to be set on a copy of a slice from a DataFrame.\n",
      "Try using .loc[row_indexer,col_indexer] = value instead\n",
      "\n",
      "See the caveats in the documentation: https://pandas.pydata.org/pandas-docs/stable/user_guide/indexing.html#returning-a-view-versus-a-copy\n",
      "  pages[\"wm_meta\"] = None # For storing information about the WM snapshot that was available\n"
     ]
    },
    {
     "name": "stdout",
     "output_type": "stream",
     "text": [
      "5627\r"
     ]
    },
    {
     "data": {
      "text/html": [
       "<div>\n",
       "<style scoped>\n",
       "    .dataframe tbody tr th:only-of-type {\n",
       "        vertical-align: middle;\n",
       "    }\n",
       "\n",
       "    .dataframe tbody tr th {\n",
       "        vertical-align: top;\n",
       "    }\n",
       "\n",
       "    .dataframe thead th {\n",
       "        text-align: right;\n",
       "    }\n",
       "</style>\n",
       "<table border=\"1\" class=\"dataframe\">\n",
       "  <thead>\n",
       "    <tr style=\"text-align: right;\">\n",
       "      <th></th>\n",
       "      <th>date</th>\n",
       "      <th>link</th>\n",
       "      <th>metrics</th>\n",
       "      <th>source</th>\n",
       "      <th>query</th>\n",
       "      <th>domain</th>\n",
       "      <th>full_url</th>\n",
       "      <th>url_meta</th>\n",
       "      <th>wm_url</th>\n",
       "      <th>wm_meta</th>\n",
       "    </tr>\n",
       "  </thead>\n",
       "  <tbody>\n",
       "    <tr>\n",
       "      <th>0</th>\n",
       "      <td>2010-12-12T16:04:15.000Z</td>\n",
       "      <td>http://envirolaw.com/owns-clouds/</td>\n",
       "      <td>0.0</td>\n",
       "      <td>Twitter</td>\n",
       "      <td>conservation cloud has:links</td>\n",
       "      <td>envirolaw</td>\n",
       "      <td>http://envirolaw.com/owns-clouds/</td>\n",
       "      <td>None</td>\n",
       "      <td>http://web.archive.org/web/20160709235924id_/h...</td>\n",
       "      <td>No Time-of-Tweet Versions; Got Older Version</td>\n",
       "    </tr>\n",
       "    <tr>\n",
       "      <th>1</th>\n",
       "      <td>2011-05-20T20:24:35.000Z</td>\n",
       "      <td>http://www.electronichouse.com/article/water_c...</td>\n",
       "      <td>0.0</td>\n",
       "      <td>Twitter</td>\n",
       "      <td>conservation cloud has:links</td>\n",
       "      <td>electronichouse</td>\n",
       "      <td>http://www.electronichouse.com/article/water_c...</td>\n",
       "      <td>None</td>\n",
       "      <td>http://web.archive.org/web/20110519205449id_/h...</td>\n",
       "      <td>Time-of-Tweet Version</td>\n",
       "    </tr>\n",
       "    <tr>\n",
       "      <th>2</th>\n",
       "      <td>2011-06-05T00:10:25.000Z</td>\n",
       "      <td>http://group0middleearth.blogspot.com/2011/06/...</td>\n",
       "      <td>0.0</td>\n",
       "      <td>Twitter</td>\n",
       "      <td>conservation cloud has:links</td>\n",
       "      <td>blogspot</td>\n",
       "      <td>http://group0middleearth.blogspot.com/2011/06/...</td>\n",
       "      <td>None</td>\n",
       "      <td>None</td>\n",
       "      <td>No Wayback Version; Got Live URL</td>\n",
       "    </tr>\n",
       "    <tr>\n",
       "      <th>3</th>\n",
       "      <td>2011-06-27T23:12:59.000Z</td>\n",
       "      <td>http://ih.advfn.com/p.php?pid=nmona&amp;article=48...</td>\n",
       "      <td>0.0</td>\n",
       "      <td>Twitter</td>\n",
       "      <td>conservation cloud has:links</td>\n",
       "      <td>advfn</td>\n",
       "      <td>http://ih.advfn.com/p.php</td>\n",
       "      <td>None</td>\n",
       "      <td>http://web.archive.org/web/20110624145547id_/h...</td>\n",
       "      <td>Time-of-Tweet Version</td>\n",
       "    </tr>\n",
       "    <tr>\n",
       "      <th>4</th>\n",
       "      <td>2011-07-04T16:47:11.000Z</td>\n",
       "      <td>http://bit.ly/iT4mcA</td>\n",
       "      <td>0.0</td>\n",
       "      <td>Twitter</td>\n",
       "      <td>conservation cloud has:links</td>\n",
       "      <td>bit</td>\n",
       "      <td>https://www.afternic.com:443/forsale/smarterte...</td>\n",
       "      <td>None</td>\n",
       "      <td>http://web.archive.org/web/20220423083916id_/h...</td>\n",
       "      <td>No Time-of-Tweet Versions; Got Older Version</td>\n",
       "    </tr>\n",
       "    <tr>\n",
       "      <th>...</th>\n",
       "      <td>...</td>\n",
       "      <td>...</td>\n",
       "      <td>...</td>\n",
       "      <td>...</td>\n",
       "      <td>...</td>\n",
       "      <td>...</td>\n",
       "      <td>...</td>\n",
       "      <td>...</td>\n",
       "      <td>...</td>\n",
       "      <td>...</td>\n",
       "    </tr>\n",
       "    <tr>\n",
       "      <th>5623</th>\n",
       "      <td>NaN</td>\n",
       "      <td>https://www.cryptoaltruism.org/blog/20-web3-pr...</td>\n",
       "      <td>NaN</td>\n",
       "      <td>Google</td>\n",
       "      <td>nature conservation blockchain</td>\n",
       "      <td>cryptoaltruism</td>\n",
       "      <td>https://www.cryptoaltruism.org/blog/20-web3-pr...</td>\n",
       "      <td>None</td>\n",
       "      <td>None</td>\n",
       "      <td>Not historical</td>\n",
       "    </tr>\n",
       "    <tr>\n",
       "      <th>5624</th>\n",
       "      <td>NaN</td>\n",
       "      <td>https://www3.weforum.org/docs/WEF_Building-Blo...</td>\n",
       "      <td>NaN</td>\n",
       "      <td>Google</td>\n",
       "      <td>nature conservation blockchain</td>\n",
       "      <td>weforum</td>\n",
       "      <td>https://www3.weforum.org/docs/WEF_Building-Blo...</td>\n",
       "      <td>None</td>\n",
       "      <td>None</td>\n",
       "      <td>Not historical</td>\n",
       "    </tr>\n",
       "    <tr>\n",
       "      <th>5625</th>\n",
       "      <td>NaN</td>\n",
       "      <td>https://www.thefreshwatertrust.org/state-of-ca...</td>\n",
       "      <td>NaN</td>\n",
       "      <td>Google</td>\n",
       "      <td>nature conservation blockchain</td>\n",
       "      <td>thefreshwatertrust</td>\n",
       "      <td>https://www.thefreshwatertrust.org/state-of-ca...</td>\n",
       "      <td>None</td>\n",
       "      <td>None</td>\n",
       "      <td>Not historical</td>\n",
       "    </tr>\n",
       "    <tr>\n",
       "      <th>5626</th>\n",
       "      <td>NaN</td>\n",
       "      <td>https://mobile.twitter.com/danbrockington/stat...</td>\n",
       "      <td>NaN</td>\n",
       "      <td>Google</td>\n",
       "      <td>nature conservation blockchain</td>\n",
       "      <td>twitter</td>\n",
       "      <td>https://mobile.twitter.com/danbrockington/stat...</td>\n",
       "      <td>None</td>\n",
       "      <td>None</td>\n",
       "      <td>Not historical</td>\n",
       "    </tr>\n",
       "    <tr>\n",
       "      <th>5627</th>\n",
       "      <td>NaN</td>\n",
       "      <td>https://www.iucncongress2020.org/programme/off...</td>\n",
       "      <td>NaN</td>\n",
       "      <td>Google</td>\n",
       "      <td>nature conservation blockchain</td>\n",
       "      <td>iucncongress2020</td>\n",
       "      <td>https://www.iucncongress2020.org/programme/off...</td>\n",
       "      <td>None</td>\n",
       "      <td>None</td>\n",
       "      <td>Not historical</td>\n",
       "    </tr>\n",
       "  </tbody>\n",
       "</table>\n",
       "<p>5628 rows × 10 columns</p>\n",
       "</div>"
      ],
      "text/plain": [
       "                          date  \\\n",
       "0     2010-12-12T16:04:15.000Z   \n",
       "1     2011-05-20T20:24:35.000Z   \n",
       "2     2011-06-05T00:10:25.000Z   \n",
       "3     2011-06-27T23:12:59.000Z   \n",
       "4     2011-07-04T16:47:11.000Z   \n",
       "...                        ...   \n",
       "5623                       NaN   \n",
       "5624                       NaN   \n",
       "5625                       NaN   \n",
       "5626                       NaN   \n",
       "5627                       NaN   \n",
       "\n",
       "                                                   link  metrics   source  \\\n",
       "0                     http://envirolaw.com/owns-clouds/      0.0  Twitter   \n",
       "1     http://www.electronichouse.com/article/water_c...      0.0  Twitter   \n",
       "2     http://group0middleearth.blogspot.com/2011/06/...      0.0  Twitter   \n",
       "3     http://ih.advfn.com/p.php?pid=nmona&article=48...      0.0  Twitter   \n",
       "4                                  http://bit.ly/iT4mcA      0.0  Twitter   \n",
       "...                                                 ...      ...      ...   \n",
       "5623  https://www.cryptoaltruism.org/blog/20-web3-pr...      NaN   Google   \n",
       "5624  https://www3.weforum.org/docs/WEF_Building-Blo...      NaN   Google   \n",
       "5625  https://www.thefreshwatertrust.org/state-of-ca...      NaN   Google   \n",
       "5626  https://mobile.twitter.com/danbrockington/stat...      NaN   Google   \n",
       "5627  https://www.iucncongress2020.org/programme/off...      NaN   Google   \n",
       "\n",
       "                               query              domain  \\\n",
       "0       conservation cloud has:links           envirolaw   \n",
       "1       conservation cloud has:links     electronichouse   \n",
       "2       conservation cloud has:links            blogspot   \n",
       "3       conservation cloud has:links               advfn   \n",
       "4       conservation cloud has:links                 bit   \n",
       "...                              ...                 ...   \n",
       "5623  nature conservation blockchain      cryptoaltruism   \n",
       "5624  nature conservation blockchain             weforum   \n",
       "5625  nature conservation blockchain  thefreshwatertrust   \n",
       "5626  nature conservation blockchain             twitter   \n",
       "5627  nature conservation blockchain    iucncongress2020   \n",
       "\n",
       "                                               full_url url_meta  \\\n",
       "0                     http://envirolaw.com/owns-clouds/     None   \n",
       "1     http://www.electronichouse.com/article/water_c...     None   \n",
       "2     http://group0middleearth.blogspot.com/2011/06/...     None   \n",
       "3                             http://ih.advfn.com/p.php     None   \n",
       "4     https://www.afternic.com:443/forsale/smarterte...     None   \n",
       "...                                                 ...      ...   \n",
       "5623  https://www.cryptoaltruism.org/blog/20-web3-pr...     None   \n",
       "5624  https://www3.weforum.org/docs/WEF_Building-Blo...     None   \n",
       "5625  https://www.thefreshwatertrust.org/state-of-ca...     None   \n",
       "5626  https://mobile.twitter.com/danbrockington/stat...     None   \n",
       "5627  https://www.iucncongress2020.org/programme/off...     None   \n",
       "\n",
       "                                                 wm_url  \\\n",
       "0     http://web.archive.org/web/20160709235924id_/h...   \n",
       "1     http://web.archive.org/web/20110519205449id_/h...   \n",
       "2                                                  None   \n",
       "3     http://web.archive.org/web/20110624145547id_/h...   \n",
       "4     http://web.archive.org/web/20220423083916id_/h...   \n",
       "...                                                 ...   \n",
       "5623                                               None   \n",
       "5624                                               None   \n",
       "5625                                               None   \n",
       "5626                                               None   \n",
       "5627                                               None   \n",
       "\n",
       "                                           wm_meta  \n",
       "0     No Time-of-Tweet Versions; Got Older Version  \n",
       "1                            Time-of-Tweet Version  \n",
       "2                 No Wayback Version; Got Live URL  \n",
       "3                            Time-of-Tweet Version  \n",
       "4     No Time-of-Tweet Versions; Got Older Version  \n",
       "...                                            ...  \n",
       "5623                                Not historical  \n",
       "5624                                Not historical  \n",
       "5625                                Not historical  \n",
       "5626                                Not historical  \n",
       "5627                                Not historical  \n",
       "\n",
       "[5628 rows x 10 columns]"
      ]
     },
     "execution_count": 7,
     "metadata": {},
     "output_type": "execute_result"
    }
   ],
   "source": [
    "# Get Twitter archives\n",
    "#pages = pandas.read_csv(\"algorithm/all_search_results.csv\")\n",
    "from web_observatory import get_versions\n",
    "results = get_versions(pages, project = project)\n",
    "results"
   ]
  },
  {
   "cell_type": "code",
   "execution_count": 8,
   "id": "401fdf37-0a0b-417c-ab1d-967404c2df18",
   "metadata": {},
   "outputs": [
    {
     "name": "stderr",
     "output_type": "stream",
     "text": [
      "/Users/enost/opt/anaconda3/lib/python3.9/site-packages/pandas/core/indexing.py:1681: SettingWithCopyWarning: \n",
      "A value is trying to be set on a copy of a slice from a DataFrame.\n",
      "Try using .loc[row_indexer,col_indexer] = value instead\n",
      "\n",
      "See the caveats in the documentation: https://pandas.pydata.org/pandas-docs/stable/user_guide/indexing.html#returning-a-view-versus-a-copy\n",
      "  self.obj[key] = empty_value\n",
      "/Users/enost/opt/anaconda3/lib/python3.9/site-packages/pandas/core/indexing.py:1773: SettingWithCopyWarning: \n",
      "A value is trying to be set on a copy of a slice from a DataFrame.\n",
      "Try using .loc[row_indexer,col_indexer] = value instead\n",
      "\n",
      "See the caveats in the documentation: https://pandas.pydata.org/pandas-docs/stable/user_guide/indexing.html#returning-a-view-versus-a-copy\n",
      "  self._setitem_single_column(ilocs[0], value, pi)\n",
      "/Users/enost/Downloads/observatory_dev_v02.py:844: SettingWithCopyWarning: \n",
      "A value is trying to be set on a copy of a slice from a DataFrame.\n",
      "Try using .loc[row_indexer,col_indexer] = value instead\n",
      "\n",
      "See the caveats in the documentation: https://pandas.pydata.org/pandas-docs/stable/user_guide/indexing.html#returning-a-view-versus-a-copy\n",
      "  versions['domain'] = versions.apply(lambda row: domain(row), axis=1)\n"
     ]
    },
    {
     "name": "stdout",
     "output_type": "stream",
     "text": [
      "Done!\n"
     ]
    },
    {
     "name": "stderr",
     "output_type": "stream",
     "text": [
      "/Users/enost/Downloads/observatory_dev_v02.py:851: SettingWithCopyWarning: \n",
      "A value is trying to be set on a copy of a slice from a DataFrame.\n",
      "Try using .loc[row_indexer,col_indexer] = value instead\n",
      "\n",
      "See the caveats in the documentation: https://pandas.pydata.org/pandas-docs/stable/user_guide/indexing.html#returning-a-view-versus-a-copy\n",
      "  versions['date'] = pandas.to_datetime(versions['date']).dt.strftime('%Y-%U') # Convert to year/week\n"
     ]
    }
   ],
   "source": [
    "# Scrape pages\n",
    "## Initialize / De-duplicate full urls\n",
    "#results = pandas.read_csv(project+\"/page_versions_full.csv\")\n",
    "from web_observatory import initialize_scrape\n",
    "urls = initialize_scrape(versions = results, project = project) "
   ]
  },
  {
   "cell_type": "code",
   "execution_count": 9,
   "id": "1fa6e5c3-5ed1-4d76-887a-607ee7b5af46",
   "metadata": {},
   "outputs": [
    {
     "name": "stdout",
     "output_type": "stream",
     "text": [
      "/Users/enost/Downloads/digcon_scraper/digcon_scraper\n"
     ]
    },
    {
     "name": "stderr",
     "output_type": "stream",
     "text": [
      "2022-06-29 14:00:50 [py.warnings] WARNING: /Users/enost/opt/anaconda3/lib/python3.9/site-packages/scrapy/extensions/feedexport.py:289: ScrapyDeprecationWarning: The `FEED_URI` and `FEED_FORMAT` settings have been deprecated in favor of the `FEEDS` setting. Please see the `FEEDS` setting docs for more details\n",
      "  exporter = cls(crawler)\n",
      "\n"
     ]
    },
    {
     "name": "stdout",
     "output_type": "stream",
     "text": [
      "inserting: 50\r"
     ]
    },
    {
     "name": "stderr",
     "output_type": "stream",
     "text": [
      "2022-06-29 14:00:59 [scrapy.downloadermiddlewares.retry] ERROR: Gave up retrying <GET http://www.andina.com.pe/espanol/noticia-new-conservation-area-in-peru-protects-rare-cat-birds-cloud-forests-40212> (failed 3 times): 500 Internal Server Error\n"
     ]
    },
    {
     "name": "stdout",
     "output_type": "stream",
     "text": [
      "inserting: 194\r"
     ]
    },
    {
     "name": "stderr",
     "output_type": "stream",
     "text": [
      "2022-06-29 14:01:15 [scrapy.downloadermiddlewares.retry] ERROR: Gave up retrying <GET https://www.jcnnewswire.com/press_release/26542/fujitsu_provides_free_cloud_service_to_ten_organizations_involved_in_biodiversity_conservation_activities> (failed 3 times): 500 Internal Server Error\n"
     ]
    },
    {
     "name": "stdout",
     "output_type": "stream",
     "text": [
      "inserting: 392\r"
     ]
    },
    {
     "name": "stderr",
     "output_type": "stream",
     "text": [
      "2022-06-29 14:01:48 [scrapy.downloadermiddlewares.retry] ERROR: Gave up retrying <GET http://web.archive.org/web/20201012192825id_/http://www.redandblack.com/uganews/uga-ibm-work-with-farmers-on-water-conservation-project/article_f0da8c24-cfbf-11e3-8424-0017a43b2370.html> (failed 3 times): 429 Unknown Status\n"
     ]
    },
    {
     "name": "stdout",
     "output_type": "stream",
     "text": [
      "inserting: 403\r"
     ]
    },
    {
     "name": "stderr",
     "output_type": "stream",
     "text": [
      "2022-06-29 14:01:49 [scrapy.downloadermiddlewares.retry] ERROR: Gave up retrying <GET http://hp.nu/ycpzp> (failed 3 times): 503 Service Unavailable\n",
      "2022-06-29 14:01:49 [scrapy.downloadermiddlewares.retry] ERROR: Gave up retrying <GET http://hp.nu/yidca> (failed 3 times): 503 Service Unavailable\n",
      "2022-06-29 14:01:49 [scrapy.downloadermiddlewares.retry] ERROR: Gave up retrying <GET http://hp.nu/yidwi> (failed 3 times): 503 Service Unavailable\n"
     ]
    },
    {
     "name": "stdout",
     "output_type": "stream",
     "text": [
      "inserting: 417\r"
     ]
    },
    {
     "name": "stderr",
     "output_type": "stream",
     "text": [
      "2022-06-29 14:01:49 [scrapy.downloadermiddlewares.retry] ERROR: Gave up retrying <GET http://hp.nu/yie9l> (failed 3 times): 503 Service Unavailable\n"
     ]
    },
    {
     "name": "stdout",
     "output_type": "stream",
     "text": [
      "inserting: 419\r"
     ]
    },
    {
     "name": "stderr",
     "output_type": "stream",
     "text": [
      "2022-06-29 14:01:50 [scrapy.downloadermiddlewares.retry] ERROR: Gave up retrying <GET http://hp.nu/yctwx> (failed 3 times): 503 Service Unavailable\n"
     ]
    },
    {
     "name": "stdout",
     "output_type": "stream",
     "text": [
      "inserting: 444\r"
     ]
    },
    {
     "name": "stderr",
     "output_type": "stream",
     "text": [
      "2022-06-29 14:01:51 [scrapy.downloadermiddlewares.retry] ERROR: Gave up retrying <GET http://www.sciencenewsdaily.org/ecology-news/cluster602944740/> (failed 3 times): 500 Internal Server Error\n"
     ]
    },
    {
     "name": "stdout",
     "output_type": "stream",
     "text": [
      "inserting: 530\r"
     ]
    },
    {
     "name": "stderr",
     "output_type": "stream",
     "text": [
      "2022-06-29 14:01:59 [scrapy.downloadermiddlewares.retry] ERROR: Gave up retrying <GET http://hn-blog/project-chicchan/heads-in-the-cloudsat-community-cloud-forest-conservation/> (failed 3 times): DNS lookup failed: no results for hostname lookup: hn-blog.\n"
     ]
    },
    {
     "name": "stdout",
     "output_type": "stream",
     "text": [
      "inserting: 545\r"
     ]
    },
    {
     "name": "stderr",
     "output_type": "stream",
     "text": [
      "2022-06-29 14:01:59 [scrapy.core.scraper] ERROR: Error downloading <GET http://hn-blog/project-chicchan/heads-in-the-cloudsat-community-cloud-forest-conservation/>\n",
      "Traceback (most recent call last):\n",
      "  File \"/Users/enost/opt/anaconda3/lib/python3.9/site-packages/twisted/internet/defer.py\", line 1656, in _inlineCallbacks\n",
      "    result = current_context.run(\n",
      "  File \"/Users/enost/opt/anaconda3/lib/python3.9/site-packages/twisted/python/failure.py\", line 489, in throwExceptionIntoGenerator\n",
      "    return g.throw(self.type, self.value, self.tb)\n",
      "  File \"/Users/enost/opt/anaconda3/lib/python3.9/site-packages/scrapy/core/downloader/middleware.py\", line 49, in process_request\n",
      "    return (yield download_func(request=request, spider=spider))\n",
      "  File \"/Users/enost/opt/anaconda3/lib/python3.9/site-packages/twisted/internet/defer.py\", line 857, in _runCallbacks\n",
      "    current.result = callback(  # type: ignore[misc]\n",
      "  File \"/Users/enost/opt/anaconda3/lib/python3.9/site-packages/twisted/internet/endpoints.py\", line 1020, in startConnectionAttempts\n",
      "    raise error.DNSLookupError(\n",
      "twisted.internet.error.DNSLookupError: DNS lookup failed: no results for hostname lookup: hn-blog.\n"
     ]
    },
    {
     "name": "stdout",
     "output_type": "stream",
     "text": [
      "inserting: 688\r"
     ]
    },
    {
     "name": "stderr",
     "output_type": "stream",
     "text": [
      "2022-06-29 14:02:12 [scrapy.downloadermiddlewares.retry] ERROR: Gave up retrying <GET http://hp.nu/hfyxw> (failed 3 times): 503 Service Unavailable\n"
     ]
    },
    {
     "name": "stdout",
     "output_type": "stream",
     "text": [
      "inserting: 667\r"
     ]
    },
    {
     "name": "stderr",
     "output_type": "stream",
     "text": [
      "2022-06-29 14:02:15 [scrapy.downloadermiddlewares.retry] ERROR: Gave up retrying <GET http://localhost/> (failed 3 times): Connection was refused by other side: 61: Connection refused.\n",
      "2022-06-29 14:02:15 [scrapy.core.scraper] ERROR: Error downloading <GET http://localhost/>\n",
      "Traceback (most recent call last):\n",
      "  File \"/Users/enost/opt/anaconda3/lib/python3.9/site-packages/scrapy/core/downloader/middleware.py\", line 49, in process_request\n",
      "    return (yield download_func(request=request, spider=spider))\n",
      "twisted.internet.error.ConnectionRefusedError: Connection was refused by other side: 61: Connection refused.\n"
     ]
    },
    {
     "name": "stdout",
     "output_type": "stream",
     "text": [
      "inserting: 830\r"
     ]
    },
    {
     "name": "stderr",
     "output_type": "stream",
     "text": [
      "2022-06-29 14:02:26 [scrapy.downloadermiddlewares.retry] ERROR: Gave up retrying <GET http://hp.nu/oxhuz> (failed 3 times): 503 Service Unavailable\n"
     ]
    },
    {
     "name": "stdout",
     "output_type": "stream",
     "text": [
      "inserting: 893\r"
     ]
    },
    {
     "name": "stderr",
     "output_type": "stream",
     "text": [
      "2022-06-29 14:02:32 [scrapy.downloadermiddlewares.retry] ERROR: Gave up retrying <GET http://www.texasishot.org/blog/big-data-and-energy-conservation-follow-the-money/> (failed 3 times): 500 Internal Server Error\n"
     ]
    },
    {
     "name": "stdout",
     "output_type": "stream",
     "text": [
      "inserting: 1020\r"
     ]
    },
    {
     "name": "stderr",
     "output_type": "stream",
     "text": [
      "2022-06-29 14:02:43 [scrapy.downloadermiddlewares.retry] ERROR: Gave up retrying <GET https://blog.graphisoftus.com/gl2s7zsv> (failed 3 times): 503 Service Unavailable\n"
     ]
    },
    {
     "name": "stdout",
     "output_type": "stream",
     "text": [
      "inserting: 1097\r"
     ]
    },
    {
     "name": "stderr",
     "output_type": "stream",
     "text": [
      "2022-06-29 14:02:49 [scrapy.downloadermiddlewares.retry] ERROR: Gave up retrying <GET http://www.evscorporation.com/cloud-blog/cloud-computing-a-peek-into-datacenter-power-efficiency-management> (failed 3 times): 500 Internal Server Error\n"
     ]
    },
    {
     "name": "stdout",
     "output_type": "stream",
     "text": [
      "inserting: 1114\r"
     ]
    },
    {
     "name": "stderr",
     "output_type": "stream",
     "text": [
      "2022-06-29 14:02:51 [scrapy.downloadermiddlewares.retry] ERROR: Gave up retrying <GET https://onlinelibrary.wiley.com/doi/10.1111/izy.12107/abstract> (failed 3 times): 503 Service Unavailable\n"
     ]
    },
    {
     "name": "stdout",
     "output_type": "stream",
     "text": [
      "inserting: 1318\r"
     ]
    },
    {
     "name": "stderr",
     "output_type": "stream",
     "text": [
      "2022-06-29 14:03:13 [scrapy.downloadermiddlewares.retry] ERROR: Gave up retrying <GET https://www.dub.io/s/33577> (failed 3 times): 500 Internal Server Error\n"
     ]
    },
    {
     "name": "stdout",
     "output_type": "stream",
     "text": [
      "inserting: 1782\r"
     ]
    },
    {
     "name": "stderr",
     "output_type": "stream",
     "text": [
      "2022-06-29 14:04:00 [scrapy.downloadermiddlewares.retry] ERROR: Gave up retrying <GET https://www.vubblepop.com/embed/video/cfcmedialab/could-blockchain-save-the-amazon-rainforest/253/> (failed 3 times): 500 Internal Server Error\n"
     ]
    },
    {
     "name": "stdout",
     "output_type": "stream",
     "text": [
      "inserting: 1934\r"
     ]
    },
    {
     "name": "stderr",
     "output_type": "stream",
     "text": [
      "2022-06-29 14:04:21 [scrapy.downloadermiddlewares.retry] ERROR: Gave up retrying <GET https://journals.sagepub.com/doi/full/10.1177/1940082918780359> (failed 3 times): 503 Service Unavailable\n"
     ]
    },
    {
     "name": "stdout",
     "output_type": "stream",
     "text": [
      "inserting: 1978\r"
     ]
    },
    {
     "name": "stderr",
     "output_type": "stream",
     "text": [
      "2022-06-29 14:04:41 [scrapy.downloadermiddlewares.retry] ERROR: Gave up retrying <GET http://www.simpleweatheralert.com/cgi-bin/weatherdetail.py> (failed 3 times): 500 Internal Server Error\n"
     ]
    },
    {
     "name": "stdout",
     "output_type": "stream",
     "text": [
      "inserting: 2050\r"
     ]
    },
    {
     "name": "stderr",
     "output_type": "stream",
     "text": [
      "2022-06-29 14:04:48 [scrapy.downloadermiddlewares.retry] ERROR: Gave up retrying <GET http://web.archive.org/web/20211219113353id_/http://news.nationalgeographic.com/2016/09/honduras-tree-frogs-conservation-chytrid-fungus-logging-harcc/> (failed 3 times): 503 Service Unavailable\n"
     ]
    },
    {
     "name": "stdout",
     "output_type": "stream",
     "text": [
      "inserting: 2065\r"
     ]
    },
    {
     "name": "stderr",
     "output_type": "stream",
     "text": [
      "2022-06-29 14:04:51 [scrapy.downloadermiddlewares.retry] ERROR: Gave up retrying <GET https://set4earth.com/our-project.html> (failed 3 times): 522 Unknown Status\n"
     ]
    },
    {
     "name": "stdout",
     "output_type": "stream",
     "text": [
      "inserting: 2072\r"
     ]
    },
    {
     "name": "stderr",
     "output_type": "stream",
     "text": [
      "2022-06-29 14:04:52 [scrapy.downloadermiddlewares.retry] ERROR: Gave up retrying <GET https://onlinelibrary.wiley.com/doi/abs/10.1111/j.1557-9263.2008.00184.x> (failed 3 times): 503 Service Unavailable\n"
     ]
    },
    {
     "name": "stdout",
     "output_type": "stream",
     "text": [
      "inserting: 2168\r"
     ]
    },
    {
     "name": "stderr",
     "output_type": "stream",
     "text": [
      "2022-06-29 14:05:16 [scrapy.downloadermiddlewares.retry] ERROR: Gave up retrying <GET http://hie.social/d9mx30md2vj> (failed 3 times): 503 Service Unavailable\n"
     ]
    },
    {
     "name": "stdout",
     "output_type": "stream",
     "text": [
      "inserting: 2203\r"
     ]
    },
    {
     "name": "stderr",
     "output_type": "stream",
     "text": [
      "2022-06-29 14:05:23 [scrapy.downloadermiddlewares.retry] ERROR: Gave up retrying <GET https://onlinelibrary.wiley.com/doi/full/10.1111/btp.12596> (failed 3 times): 503 Service Unavailable\n"
     ]
    },
    {
     "name": "stdout",
     "output_type": "stream",
     "text": [
      "inserting: 2271\r"
     ]
    },
    {
     "name": "stderr",
     "output_type": "stream",
     "text": [
      "2022-06-29 14:05:35 [scrapy.downloadermiddlewares.retry] ERROR: Gave up retrying <GET https://www.quora.com/How-is-blockchain-technology-going-to-change-the-world> (failed 3 times): 429 Unknown Status\n"
     ]
    },
    {
     "name": "stdout",
     "output_type": "stream",
     "text": [
      "inserting: 2434\r"
     ]
    },
    {
     "name": "stderr",
     "output_type": "stream",
     "text": [
      "2022-06-29 14:06:01 [scrapy.downloadermiddlewares.retry] ERROR: Gave up retrying <GET https://app-development-company-nyc.quora.com/3-Ways-Blockchain-And-Cryptocurrency-Will-Help-Us-Go-Green-In-2019> (failed 3 times): 429 Unknown Status\n"
     ]
    },
    {
     "name": "stdout",
     "output_type": "stream",
     "text": [
      "inserting: 2520\r"
     ]
    },
    {
     "name": "stderr",
     "output_type": "stream",
     "text": [
      "2022-06-29 14:06:12 [scrapy.downloadermiddlewares.retry] ERROR: Gave up retrying <GET https://www.heliyon.com/article/e01423> (failed 3 times): 503 Service Unavailable\n"
     ]
    },
    {
     "name": "stdout",
     "output_type": "stream",
     "text": [
      "inserting: 2566\r"
     ]
    },
    {
     "name": "stderr",
     "output_type": "stream",
     "text": [
      "2022-06-29 14:06:19 [scrapy.downloadermiddlewares.retry] ERROR: Gave up retrying <GET https://blockblog.fr/fidelity-franchit-une-nouvelle-etape-dans-le-domaine-de-la-crypto-avec-le-negoce-et-la-conservation/> (failed 3 times): 522 Unknown Status\n"
     ]
    },
    {
     "name": "stdout",
     "output_type": "stream",
     "text": [
      "inserting: 2711\r"
     ]
    },
    {
     "name": "stderr",
     "output_type": "stream",
     "text": [
      "2022-06-29 14:06:40 [scrapy.downloadermiddlewares.retry] ERROR: Gave up retrying <GET https://www.linkedin.com/leap/r> (failed 3 times): 502 Bad Gateway\n"
     ]
    },
    {
     "name": "stdout",
     "output_type": "stream",
     "text": [
      "inserting: 2743\r"
     ]
    },
    {
     "name": "stderr",
     "output_type": "stream",
     "text": [
      "2022-06-29 14:06:44 [scrapy.downloadermiddlewares.retry] ERROR: Gave up retrying <GET https://blockblog.fr/agora-altx-lance-une-nouvelle-blockchain-de-conservation-des-enregistrements-pour-ladministration-des-fonds/> (failed 3 times): 522 Unknown Status\n"
     ]
    },
    {
     "name": "stdout",
     "output_type": "stream",
     "text": [
      "inserting: 2739\r"
     ]
    },
    {
     "name": "stderr",
     "output_type": "stream",
     "text": [
      "2022-06-29 14:06:46 [scrapy.downloadermiddlewares.retry] ERROR: Gave up retrying <GET https://www.cell.com/trends/ecology-evolution/fulltext/s0169-5347(19)30299-x> (failed 3 times): 503 Service Unavailable\n"
     ]
    },
    {
     "name": "stdout",
     "output_type": "stream",
     "text": [
      "inserting: 2787\r"
     ]
    },
    {
     "name": "stderr",
     "output_type": "stream",
     "text": [
      "2022-06-29 14:06:54 [scrapy.downloadermiddlewares.retry] ERROR: Gave up retrying <GET https://blockblog.fr/des-solutions-de-conservation-sont-necessaires-pour-une-adoption-institutionnelle-generalisee-selon-crypto-analyst/> (failed 3 times): 522 Unknown Status\n"
     ]
    },
    {
     "name": "stdout",
     "output_type": "stream",
     "text": [
      "inserting: 2883\r"
     ]
    },
    {
     "name": "stderr",
     "output_type": "stream",
     "text": [
      "2022-06-29 14:07:06 [scrapy.downloadermiddlewares.retry] ERROR: Gave up retrying <GET https://anith.com/its-a-jungle-out-there-when-it-comes-to-conservation-tech-but-theres-a-cloud-for-that/> (failed 3 times): 500 Internal Server Error\n"
     ]
    },
    {
     "name": "stdout",
     "output_type": "stream",
     "text": [
      "inserting: 2996\r"
     ]
    },
    {
     "name": "stderr",
     "output_type": "stream",
     "text": [
      "2022-06-29 14:07:21 [scrapy.downloadermiddlewares.retry] ERROR: Gave up retrying <GET https://blockblog.fr/dubai-se-tourne-vers-la-technologie-blockchain-pour-la-conservation-de-lenvironnement/> (failed 3 times): 522 Unknown Status\n"
     ]
    },
    {
     "name": "stdout",
     "output_type": "stream",
     "text": [
      "inserting: 3011\r"
     ]
    },
    {
     "name": "stderr",
     "output_type": "stream",
     "text": [
      "2022-06-29 14:07:21 [scrapy.downloadermiddlewares.retry] ERROR: Gave up retrying <GET https://blockblog.fr/shapeshift-montre-un-nouveau-visage-un-echange-complet-sans-conservation/> (failed 3 times): 522 Unknown Status\n"
     ]
    },
    {
     "name": "stdout",
     "output_type": "stream",
     "text": [
      "inserting: 3023\r"
     ]
    },
    {
     "name": "stderr",
     "output_type": "stream",
     "text": [
      "2022-06-29 14:07:23 [scrapy.downloadermiddlewares.retry] ERROR: Gave up retrying <GET https://chu.tbe.taleo.net/chu04/ats/careers/v2/viewrequisition> (failed 3 times): 500 Internal Server Error\n"
     ]
    },
    {
     "name": "stdout",
     "output_type": "stream",
     "text": [
      "inserting: 3173\r"
     ]
    },
    {
     "name": "stderr",
     "output_type": "stream",
     "text": [
      "2022-06-29 14:07:40 [scrapy.downloadermiddlewares.retry] ERROR: Gave up retrying <GET https://journals.sagepub.com/doi/abs/10.1177/1940082920961491> (failed 3 times): 503 Service Unavailable\n"
     ]
    },
    {
     "name": "stdout",
     "output_type": "stream",
     "text": [
      "inserting: 3193\r"
     ]
    },
    {
     "name": "stderr",
     "output_type": "stream",
     "text": [
      "2022-06-29 14:07:43 [scrapy.downloadermiddlewares.retry] ERROR: Gave up retrying <GET https://onlinelibrary.wiley.com/doi/full/10.1111/ecog.01205> (failed 3 times): 503 Service Unavailable\n"
     ]
    },
    {
     "name": "stdout",
     "output_type": "stream",
     "text": [
      "inserting: 3272\r"
     ]
    },
    {
     "name": "stderr",
     "output_type": "stream",
     "text": [
      "2022-06-29 14:08:05 [scrapy.downloadermiddlewares.retry] ERROR: Gave up retrying <GET https://journals.sagepub.com/doi/abs/10.1177/1940082921989196> (failed 3 times): 503 Service Unavailable\n"
     ]
    },
    {
     "name": "stdout",
     "output_type": "stream",
     "text": [
      "inserting: 3316\r"
     ]
    },
    {
     "name": "stderr",
     "output_type": "stream",
     "text": [
      "2022-06-29 14:08:12 [scrapy.downloadermiddlewares.retry] ERROR: Gave up retrying <GET https://blockblog.fr/bitgo-fournit-les-premieres-solutions-de-portefeuille-et-de-conservation-multi-signatures-a-tron/> (failed 3 times): 522 Unknown Status\n"
     ]
    },
    {
     "name": "stdout",
     "output_type": "stream",
     "text": [
      "inserting: 3319\r"
     ]
    },
    {
     "name": "stderr",
     "output_type": "stream",
     "text": [
      "2022-06-29 14:08:14 [scrapy.downloadermiddlewares.retry] ERROR: Gave up retrying <GET https://phh.tbe.taleo.net/phh04/ats/careers/v2/viewrequisition> (failed 3 times): 500 Internal Server Error\n"
     ]
    },
    {
     "name": "stdout",
     "output_type": "stream",
     "text": [
      "inserting: 3551\r"
     ]
    },
    {
     "name": "stderr",
     "output_type": "stream",
     "text": [
      "2022-06-29 14:08:53 [scrapy.downloadermiddlewares.retry] ERROR: Gave up retrying <GET https://www.newvisionsoftware.in/cases/a-niche-start-up-patented-iot-and-blockchain-based-smart-building-solution-for-energy-conservation/> (failed 3 times): [<twisted.python.failure.Failure twisted.internet.error.ConnectionLost: Connection to the other side was lost in a non-clean fashion: Connection lost.>]\n"
     ]
    },
    {
     "name": "stdout",
     "output_type": "stream",
     "text": [
      "inserting: 3567\r"
     ]
    },
    {
     "name": "stderr",
     "output_type": "stream",
     "text": [
      "2022-06-29 14:08:53 [scrapy.core.scraper] ERROR: Error downloading <GET https://www.newvisionsoftware.in/cases/a-niche-start-up-patented-iot-and-blockchain-based-smart-building-solution-for-energy-conservation/>\n",
      "Traceback (most recent call last):\n",
      "  File \"/Users/enost/opt/anaconda3/lib/python3.9/site-packages/scrapy/core/downloader/middleware.py\", line 49, in process_request\n",
      "    return (yield download_func(request=request, spider=spider))\n",
      "twisted.web._newclient.ResponseNeverReceived: [<twisted.python.failure.Failure twisted.internet.error.ConnectionLost: Connection to the other side was lost in a non-clean fashion: Connection lost.>]\n"
     ]
    },
    {
     "name": "stdout",
     "output_type": "stream",
     "text": [
      "inserting: 3638\r"
     ]
    },
    {
     "name": "stderr",
     "output_type": "stream",
     "text": [
      "2022-06-29 14:09:07 [scrapy.downloadermiddlewares.retry] ERROR: Gave up retrying <GET https://onlinelibrary.wiley.com/doi/10.1002/ece3.8118> (failed 3 times): 503 Service Unavailable\n"
     ]
    },
    {
     "name": "stdout",
     "output_type": "stream",
     "text": [
      "inserting: 3660\r"
     ]
    },
    {
     "name": "stderr",
     "output_type": "stream",
     "text": [
      "2022-06-29 14:09:09 [scrapy.downloadermiddlewares.retry] ERROR: Gave up retrying <GET https://www.cell.com/current-biology/fulltext/s0960-9822(21)00912-x> (failed 3 times): 503 Service Unavailable\n"
     ]
    },
    {
     "name": "stdout",
     "output_type": "stream",
     "text": [
      "inserting: 3700\r"
     ]
    },
    {
     "name": "stderr",
     "output_type": "stream",
     "text": [
      "2022-06-29 14:09:16 [scrapy.downloadermiddlewares.retry] ERROR: Gave up retrying <GET https://onlinelibrary.wiley.com/doi/10.1111/aec.13123> (failed 3 times): 503 Service Unavailable\n"
     ]
    },
    {
     "name": "stdout",
     "output_type": "stream",
     "text": [
      "inserting: 3853\r"
     ]
    },
    {
     "name": "stderr",
     "output_type": "stream",
     "text": [
      "2022-06-29 14:09:36 [scrapy.downloadermiddlewares.retry] ERROR: Gave up retrying <GET https://ieeexplore.ieee.org/document/8974330> (failed 3 times): 503 Service Unavailable\n"
     ]
    },
    {
     "name": "stdout",
     "output_type": "stream",
     "text": [
      "inserting: 3890\r"
     ]
    },
    {
     "name": "stderr",
     "output_type": "stream",
     "text": [
      "2022-06-29 14:09:39 [scrapy.downloadermiddlewares.retry] ERROR: Gave up retrying <GET https://www.cambridge.org/core/books/tropical-montane-cloud-forests/92bba7612b2e9ea00ce0f36a5c984883> (failed 3 times): 500 Internal Server Error\n"
     ]
    },
    {
     "name": "stdout",
     "output_type": "stream",
     "text": [
      "inserting: 3911\r"
     ]
    },
    {
     "name": "stderr",
     "output_type": "stream",
     "text": [
      "2022-06-29 14:09:41 [scrapy.downloadermiddlewares.retry] ERROR: Gave up retrying <GET https://www.science.org/doi/10.1126/science.abg1780> (failed 3 times): 503 Service Unavailable\n"
     ]
    },
    {
     "name": "stdout",
     "output_type": "stream",
     "text": [
      "Done!ting: 3989\r"
     ]
    }
   ],
   "source": [
    "%cd digcon_scraper/digcon_scraper/\n",
    "from web_observatory import scrape\n",
    "scrape(urls)"
   ]
  },
  {
   "cell_type": "code",
   "execution_count": 11,
   "id": "c3a64293-1016-4955-add5-f604333a7f91",
   "metadata": {},
   "outputs": [
    {
     "name": "stdout",
     "output_type": "stream",
     "text": [
      "/Users/enost/Downloads\n"
     ]
    }
   ],
   "source": [
    "%cd .."
   ]
  },
  {
   "cell_type": "code",
   "execution_count": 12,
   "id": "2a5a0e1b-5059-496c-9777-986e918f74c4",
   "metadata": {},
   "outputs": [
    {
     "name": "stdout",
     "output_type": "stream",
     "text": [
      "Done!\n",
      "Done!\n",
      "Done!\n"
     ]
    }
   ],
   "source": [
    "# Quality control\n",
    "from web_observatory import query\n",
    "## Create a copy of the text table\n",
    "query(\"copy\") # Only need to do this once!\n",
    "## Remove from db where there was no text scraped\n",
    "query(\"filter_empty\")\n",
    "## Remove anything without at least 1 keyword?\n",
    "queryterms = [\"nature \", \"conservation \"] # spaces to avoid certain spam...\n",
    "query(\"filter_words\", terms = queryterms) ## TBD: Need to remove French-language sites?"
   ]
  },
  {
   "cell_type": "code",
   "execution_count": 15,
   "id": "102019d2-4e82-4906-bb1f-97032cf8d9ec",
   "metadata": {},
   "outputs": [
    {
     "data": {
      "text/html": [
       "<div>\n",
       "<style scoped>\n",
       "    .dataframe tbody tr th:only-of-type {\n",
       "        vertical-align: middle;\n",
       "    }\n",
       "\n",
       "    .dataframe tbody tr th {\n",
       "        vertical-align: top;\n",
       "    }\n",
       "\n",
       "    .dataframe thead th {\n",
       "        text-align: right;\n",
       "    }\n",
       "</style>\n",
       "<table border=\"1\" class=\"dataframe\">\n",
       "  <thead>\n",
       "    <tr style=\"text-align: right;\">\n",
       "      <th></th>\n",
       "      <th>url</th>\n",
       "      <th>domain</th>\n",
       "      <th>source</th>\n",
       "      <th>date</th>\n",
       "      <th>artificial intelligence</th>\n",
       "      <th>ai</th>\n",
       "      <th>machine learning</th>\n",
       "      <th>dashboard</th>\n",
       "      <th>platform</th>\n",
       "      <th>blockchain</th>\n",
       "      <th>...</th>\n",
       "      <th>surveillance</th>\n",
       "      <th>cost</th>\n",
       "      <th>ethics</th>\n",
       "      <th>market</th>\n",
       "      <th>decision making</th>\n",
       "      <th>working land</th>\n",
       "      <th>indigenous-led</th>\n",
       "      <th>easement</th>\n",
       "      <th>decision support</th>\n",
       "      <th>decision-support</th>\n",
       "    </tr>\n",
       "  </thead>\n",
       "  <tbody>\n",
       "    <tr>\n",
       "      <th>0</th>\n",
       "      <td>http://web.archive.org/web/20140731104236id_/h...</td>\n",
       "      <td>chesterfieldpost</td>\n",
       "      <td>Twitter</td>\n",
       "      <td>2011-36</td>\n",
       "      <td>0</td>\n",
       "      <td>0</td>\n",
       "      <td>0</td>\n",
       "      <td>0</td>\n",
       "      <td>0</td>\n",
       "      <td>0</td>\n",
       "      <td>...</td>\n",
       "      <td>0</td>\n",
       "      <td>3</td>\n",
       "      <td>0</td>\n",
       "      <td>1</td>\n",
       "      <td>0</td>\n",
       "      <td>0</td>\n",
       "      <td>0</td>\n",
       "      <td>0</td>\n",
       "      <td>0</td>\n",
       "      <td>0</td>\n",
       "    </tr>\n",
       "    <tr>\n",
       "      <th>1</th>\n",
       "      <td>https://www.freelancer.com/projects/machine-le...</td>\n",
       "      <td>freelancer</td>\n",
       "      <td>Twitter</td>\n",
       "      <td>2012-16</td>\n",
       "      <td>0</td>\n",
       "      <td>0</td>\n",
       "      <td>2</td>\n",
       "      <td>0</td>\n",
       "      <td>0</td>\n",
       "      <td>0</td>\n",
       "      <td>...</td>\n",
       "      <td>0</td>\n",
       "      <td>0</td>\n",
       "      <td>0</td>\n",
       "      <td>0</td>\n",
       "      <td>0</td>\n",
       "      <td>0</td>\n",
       "      <td>0</td>\n",
       "      <td>0</td>\n",
       "      <td>0</td>\n",
       "      <td>0</td>\n",
       "    </tr>\n",
       "    <tr>\n",
       "      <th>2</th>\n",
       "      <td>http://web.archive.org/web/20210410214115id_/h...</td>\n",
       "      <td>goathunter</td>\n",
       "      <td>Twitter</td>\n",
       "      <td>2012-08</td>\n",
       "      <td>0</td>\n",
       "      <td>0</td>\n",
       "      <td>0</td>\n",
       "      <td>0</td>\n",
       "      <td>0</td>\n",
       "      <td>0</td>\n",
       "      <td>...</td>\n",
       "      <td>0</td>\n",
       "      <td>0</td>\n",
       "      <td>0</td>\n",
       "      <td>0</td>\n",
       "      <td>0</td>\n",
       "      <td>0</td>\n",
       "      <td>0</td>\n",
       "      <td>0</td>\n",
       "      <td>0</td>\n",
       "      <td>0</td>\n",
       "    </tr>\n",
       "    <tr>\n",
       "      <th>3</th>\n",
       "      <td>http://web.archive.org/web/20210517215004id_/h...</td>\n",
       "      <td>zmescience</td>\n",
       "      <td>Twitter</td>\n",
       "      <td>2021-21</td>\n",
       "      <td>0</td>\n",
       "      <td>0</td>\n",
       "      <td>0</td>\n",
       "      <td>0</td>\n",
       "      <td>0</td>\n",
       "      <td>0</td>\n",
       "      <td>...</td>\n",
       "      <td>0</td>\n",
       "      <td>0</td>\n",
       "      <td>0</td>\n",
       "      <td>0</td>\n",
       "      <td>0</td>\n",
       "      <td>0</td>\n",
       "      <td>0</td>\n",
       "      <td>0</td>\n",
       "      <td>0</td>\n",
       "      <td>0</td>\n",
       "    </tr>\n",
       "    <tr>\n",
       "      <th>4</th>\n",
       "      <td>http://web.archive.org/web/20120901133326id_/h...</td>\n",
       "      <td>twocircles</td>\n",
       "      <td>Twitter</td>\n",
       "      <td>2012-31</td>\n",
       "      <td>0</td>\n",
       "      <td>0</td>\n",
       "      <td>0</td>\n",
       "      <td>0</td>\n",
       "      <td>0</td>\n",
       "      <td>0</td>\n",
       "      <td>...</td>\n",
       "      <td>0</td>\n",
       "      <td>0</td>\n",
       "      <td>0</td>\n",
       "      <td>0</td>\n",
       "      <td>0</td>\n",
       "      <td>0</td>\n",
       "      <td>0</td>\n",
       "      <td>0</td>\n",
       "      <td>0</td>\n",
       "      <td>0</td>\n",
       "    </tr>\n",
       "    <tr>\n",
       "      <th>...</th>\n",
       "      <td>...</td>\n",
       "      <td>...</td>\n",
       "      <td>...</td>\n",
       "      <td>...</td>\n",
       "      <td>...</td>\n",
       "      <td>...</td>\n",
       "      <td>...</td>\n",
       "      <td>...</td>\n",
       "      <td>...</td>\n",
       "      <td>...</td>\n",
       "      <td>...</td>\n",
       "      <td>...</td>\n",
       "      <td>...</td>\n",
       "      <td>...</td>\n",
       "      <td>...</td>\n",
       "      <td>...</td>\n",
       "      <td>...</td>\n",
       "      <td>...</td>\n",
       "      <td>...</td>\n",
       "      <td>...</td>\n",
       "      <td>...</td>\n",
       "    </tr>\n",
       "    <tr>\n",
       "      <th>26521</th>\n",
       "      <td>http://web.archive.org/web/20211111060840id_/h...</td>\n",
       "      <td>ohnocrypto</td>\n",
       "      <td>Twitter</td>\n",
       "      <td>2021-45</td>\n",
       "      <td>0</td>\n",
       "      <td>0</td>\n",
       "      <td>0</td>\n",
       "      <td>0</td>\n",
       "      <td>0</td>\n",
       "      <td>5</td>\n",
       "      <td>...</td>\n",
       "      <td>0</td>\n",
       "      <td>1</td>\n",
       "      <td>0</td>\n",
       "      <td>3</td>\n",
       "      <td>0</td>\n",
       "      <td>0</td>\n",
       "      <td>0</td>\n",
       "      <td>0</td>\n",
       "      <td>0</td>\n",
       "      <td>0</td>\n",
       "    </tr>\n",
       "    <tr>\n",
       "      <th>26522</th>\n",
       "      <td>http://web.archive.org/web/20211106153803id_/h...</td>\n",
       "      <td>is</td>\n",
       "      <td>Twitter</td>\n",
       "      <td>2021-44</td>\n",
       "      <td>0</td>\n",
       "      <td>0</td>\n",
       "      <td>0</td>\n",
       "      <td>0</td>\n",
       "      <td>0</td>\n",
       "      <td>0</td>\n",
       "      <td>...</td>\n",
       "      <td>0</td>\n",
       "      <td>0</td>\n",
       "      <td>0</td>\n",
       "      <td>0</td>\n",
       "      <td>0</td>\n",
       "      <td>0</td>\n",
       "      <td>0</td>\n",
       "      <td>0</td>\n",
       "      <td>0</td>\n",
       "      <td>0</td>\n",
       "    </tr>\n",
       "    <tr>\n",
       "      <th>26523</th>\n",
       "      <td>http://web.archive.org/web/20211118100737id_/h...</td>\n",
       "      <td>cryptoast</td>\n",
       "      <td>Twitter</td>\n",
       "      <td>2021-46</td>\n",
       "      <td>0</td>\n",
       "      <td>0</td>\n",
       "      <td>0</td>\n",
       "      <td>0</td>\n",
       "      <td>0</td>\n",
       "      <td>1</td>\n",
       "      <td>...</td>\n",
       "      <td>0</td>\n",
       "      <td>0</td>\n",
       "      <td>0</td>\n",
       "      <td>0</td>\n",
       "      <td>0</td>\n",
       "      <td>0</td>\n",
       "      <td>0</td>\n",
       "      <td>0</td>\n",
       "      <td>0</td>\n",
       "      <td>0</td>\n",
       "    </tr>\n",
       "    <tr>\n",
       "      <th>26524</th>\n",
       "      <td>http://web.archive.org/web/20211210072427id_/h...</td>\n",
       "      <td>scoop</td>\n",
       "      <td>Twitter</td>\n",
       "      <td>2021-49</td>\n",
       "      <td>0</td>\n",
       "      <td>0</td>\n",
       "      <td>0</td>\n",
       "      <td>0</td>\n",
       "      <td>0</td>\n",
       "      <td>0</td>\n",
       "      <td>...</td>\n",
       "      <td>0</td>\n",
       "      <td>0</td>\n",
       "      <td>0</td>\n",
       "      <td>0</td>\n",
       "      <td>0</td>\n",
       "      <td>0</td>\n",
       "      <td>0</td>\n",
       "      <td>0</td>\n",
       "      <td>0</td>\n",
       "      <td>0</td>\n",
       "    </tr>\n",
       "    <tr>\n",
       "      <th>26525</th>\n",
       "      <td>http://web.archive.org/web/20211201233510id_/h...</td>\n",
       "      <td>opensea</td>\n",
       "      <td>Twitter</td>\n",
       "      <td>2021-50</td>\n",
       "      <td>0</td>\n",
       "      <td>0</td>\n",
       "      <td>0</td>\n",
       "      <td>0</td>\n",
       "      <td>0</td>\n",
       "      <td>0</td>\n",
       "      <td>...</td>\n",
       "      <td>0</td>\n",
       "      <td>0</td>\n",
       "      <td>0</td>\n",
       "      <td>0</td>\n",
       "      <td>0</td>\n",
       "      <td>0</td>\n",
       "      <td>0</td>\n",
       "      <td>0</td>\n",
       "      <td>0</td>\n",
       "      <td>0</td>\n",
       "    </tr>\n",
       "  </tbody>\n",
       "</table>\n",
       "<p>26526 rows × 33 columns</p>\n",
       "</div>"
      ],
      "text/plain": [
       "                                                     url            domain  \\\n",
       "0      http://web.archive.org/web/20140731104236id_/h...  chesterfieldpost   \n",
       "1      https://www.freelancer.com/projects/machine-le...        freelancer   \n",
       "2      http://web.archive.org/web/20210410214115id_/h...        goathunter   \n",
       "3      http://web.archive.org/web/20210517215004id_/h...        zmescience   \n",
       "4      http://web.archive.org/web/20120901133326id_/h...        twocircles   \n",
       "...                                                  ...               ...   \n",
       "26521  http://web.archive.org/web/20211111060840id_/h...        ohnocrypto   \n",
       "26522  http://web.archive.org/web/20211106153803id_/h...                is   \n",
       "26523  http://web.archive.org/web/20211118100737id_/h...         cryptoast   \n",
       "26524  http://web.archive.org/web/20211210072427id_/h...             scoop   \n",
       "26525  http://web.archive.org/web/20211201233510id_/h...           opensea   \n",
       "\n",
       "        source     date  artificial intelligence   ai   machine learning  \\\n",
       "0      Twitter  2011-36                        0     0                 0   \n",
       "1      Twitter  2012-16                        0     0                 2   \n",
       "2      Twitter  2012-08                        0     0                 0   \n",
       "3      Twitter  2021-21                        0     0                 0   \n",
       "4      Twitter  2012-31                        0     0                 0   \n",
       "...        ...      ...                      ...   ...               ...   \n",
       "26521  Twitter  2021-45                        0     0                 0   \n",
       "26522  Twitter  2021-44                        0     0                 0   \n",
       "26523  Twitter  2021-46                        0     0                 0   \n",
       "26524  Twitter  2021-49                        0     0                 0   \n",
       "26525  Twitter  2021-50                        0     0                 0   \n",
       "\n",
       "       dashboard  platform  blockchain  ...  surveillance  cost  ethics  \\\n",
       "0              0         0           0  ...             0     3       0   \n",
       "1              0         0           0  ...             0     0       0   \n",
       "2              0         0           0  ...             0     0       0   \n",
       "3              0         0           0  ...             0     0       0   \n",
       "4              0         0           0  ...             0     0       0   \n",
       "...          ...       ...         ...  ...           ...   ...     ...   \n",
       "26521          0         0           5  ...             0     1       0   \n",
       "26522          0         0           0  ...             0     0       0   \n",
       "26523          0         0           1  ...             0     0       0   \n",
       "26524          0         0           0  ...             0     0       0   \n",
       "26525          0         0           0  ...             0     0       0   \n",
       "\n",
       "       market  decision making  working land  indigenous-led  easement  \\\n",
       "0           1                0             0               0         0   \n",
       "1           0                0             0               0         0   \n",
       "2           0                0             0               0         0   \n",
       "3           0                0             0               0         0   \n",
       "4           0                0             0               0         0   \n",
       "...       ...              ...           ...             ...       ...   \n",
       "26521       3                0             0               0         0   \n",
       "26522       0                0             0               0         0   \n",
       "26523       0                0             0               0         0   \n",
       "26524       0                0             0               0         0   \n",
       "26525       0                0             0               0         0   \n",
       "\n",
       "       decision support  decision-support  \n",
       "0                     0                 0  \n",
       "1                     0                 0  \n",
       "2                     0                 0  \n",
       "3                     0                 0  \n",
       "4                     0                 0  \n",
       "...                 ...               ...  \n",
       "26521                 0                 0  \n",
       "26522                 0                 0  \n",
       "26523                 0                 0  \n",
       "26524                 0                 0  \n",
       "26525                 0                 0  \n",
       "\n",
       "[26526 rows x 33 columns]"
      ]
     },
     "execution_count": 15,
     "metadata": {},
     "output_type": "execute_result"
    }
   ],
   "source": [
    "## Get word counts\n",
    "from web_observatory import query\n",
    "tech_terms = [\"artificial intelligence\", \" ai \", \"machine learning\", \"dashboard\", \"platform\", \"blockchain\", \"cloud\", \"big data\", \"internet of things\"] # Spaces in ai to capture its use as in AI rather than e.g. said\n",
    "cons_terms = [\"conservation\", \"nature\"]\n",
    "#grammar = [\"is\", \"will\"] # for phrases\n",
    "topics = [\"forest\", \"mountain\", \"wetland\", \"boreal\", \"ocean\", \"river\", \"arctic\"]\n",
    "ethics = [\"privacy\", \"surveillance\", \"cost\", \"ethics\"]\n",
    "tools = [\"market\", \"decision making\", \"working land\", \"indigenous-led\", \"easement\", \"decision support\", \"decision-support\"]\n",
    "combined_terms = tech_terms + cons_terms + topics + ethics + tools\n",
    "\n",
    "words = query(\"get_words\", combined_terms)\n",
    "words"
   ]
  },
  {
   "cell_type": "code",
   "execution_count": 16,
   "id": "5d97ea18-bd7d-498c-ae2c-b0b094a20e56",
   "metadata": {},
   "outputs": [
    {
     "name": "stderr",
     "output_type": "stream",
     "text": [
      "2022-06-29 14:31:13 [py.warnings] WARNING: /Users/enost/Downloads/observatory_dev_v02.py:1146: SettingWithCopyWarning: \n",
      "A value is trying to be set on a copy of a slice from a DataFrame\n",
      "\n",
      "See the caveats in the documentation: https://pandas.pydata.org/pandas-docs/stable/user_guide/indexing.html#returning-a-view-versus-a-copy\n",
      "  counts['date'].update(counts['date'].str.slice(0,4)) # Get the year\n",
      "\n",
      "2022-06-29 14:31:13 [py.warnings] WARNING: /Users/enost/Downloads/observatory_dev_v02.py:1147: SettingWithCopyWarning: \n",
      "A value is trying to be set on a copy of a slice from a DataFrame\n",
      "\n",
      "See the caveats in the documentation: https://pandas.pydata.org/pandas-docs/stable/user_guide/indexing.html#returning-a-view-versus-a-copy\n",
      "  counts['date'].update(pandas.to_datetime(counts[\"date\"], format=\"%Y\").dt.to_period(\"Y\")) # Convert specific year/weeks to years #counts['date'].dt.to_timestamp('Y').dt.strftime(\"%Y-%m-%dT%H:%M:%S.%fZ\") #\n",
      "\n"
     ]
    },
    {
     "data": {
      "text/plain": [
       "<AxesSubplot:xlabel='date'>"
      ]
     },
     "metadata": {},
     "output_type": "display_data"
    },
    {
     "data": {
      "text/plain": [
       "<AxesSubplot:xlabel='date'>"
      ]
     },
     "metadata": {},
     "output_type": "display_data"
    },
    {
     "data": {
      "text/plain": [
       "<AxesSubplot:xlabel='date'>"
      ]
     },
     "metadata": {},
     "output_type": "display_data"
    },
    {
     "data": {
      "text/plain": [
       "<AxesSubplot:xlabel='date'>"
      ]
     },
     "metadata": {},
     "output_type": "display_data"
    },
    {
     "data": {
      "image/png": "[encoded data removed]",
      "text/plain": [
       "<Figure size 432x288 with 1 Axes>"
      ]
     },
     "metadata": {
      "needs_background": "light"
     },
     "output_type": "display_data"
    },
    {
     "data": {
      "image/png": "[encoded data removed]",
      "text/plain": [
       "<Figure size 432x288 with 1 Axes>"
      ]
     },
     "metadata": {
      "needs_background": "light"
     },
     "output_type": "display_data"
    },
    {
     "data": {
      "image/png": "[encoded data removed]",
      "text/plain": [
       "<Figure size 432x288 with 1 Axes>"
      ]
     },
     "metadata": {
      "needs_background": "light"
     },
     "output_type": "display_data"
    },
    {
     "data": {
      "image/png": "[encoded data removed]",
      "text/plain": [
       "<Figure size 432x288 with 1 Axes>"
      ]
     },
     "metadata": {
      "needs_background": "light"
     },
     "output_type": "display_data"
    }
   ],
   "source": [
    "# Analyze\n",
    "## How has the conversation about AI/ML changed over time? (Twitter frequency/average)\n",
    "from web_observatory import analyze_twitter\n",
    "avg, freq, total = analyze_twitter(words, terms = [\"blockchain\", \"cloud\", \"big data\", \"internet of things\"])\n",
    "## Where the term conservation is used\n",
    "#, freq, total = analyze_twitter(words.loc[words['nature']>0], [\"artificial intelligence\", \"machine learning\"])"
   ]
  },
  {
   "cell_type": "code",
   "execution_count": 17,
   "id": "ef17a617-10d9-498c-9680-7a9ce4a61745",
   "metadata": {},
   "outputs": [
    {
     "data": {
      "text/html": [
       "<div>\n",
       "<style scoped>\n",
       "    .dataframe tbody tr th:only-of-type {\n",
       "        vertical-align: middle;\n",
       "    }\n",
       "\n",
       "    .dataframe tbody tr th {\n",
       "        vertical-align: top;\n",
       "    }\n",
       "\n",
       "    .dataframe thead th {\n",
       "        text-align: right;\n",
       "    }\n",
       "</style>\n",
       "<table border=\"1\" class=\"dataframe\">\n",
       "  <thead>\n",
       "    <tr style=\"text-align: right;\">\n",
       "      <th></th>\n",
       "      <th>privacy_avg</th>\n",
       "      <th>surveillance_avg</th>\n",
       "    </tr>\n",
       "  </thead>\n",
       "  <tbody>\n",
       "    <tr>\n",
       "      <th>raresites</th>\n",
       "      <td>0.0</td>\n",
       "      <td>0.0</td>\n",
       "    </tr>\n",
       "    <tr>\n",
       "      <th>davidsuzuki</th>\n",
       "      <td>0.0</td>\n",
       "      <td>0.0</td>\n",
       "    </tr>\n",
       "    <tr>\n",
       "      <th>grandriver</th>\n",
       "      <td>0.0</td>\n",
       "      <td>0.0</td>\n",
       "    </tr>\n",
       "    <tr>\n",
       "      <th>wwf</th>\n",
       "      <td>7.89</td>\n",
       "      <td>7.89</td>\n",
       "    </tr>\n",
       "    <tr>\n",
       "      <th>ecotrust</th>\n",
       "      <td>0.0</td>\n",
       "      <td>0.0</td>\n",
       "    </tr>\n",
       "    <tr>\n",
       "      <th>natureconservancy</th>\n",
       "      <td>0.0</td>\n",
       "      <td>0.0</td>\n",
       "    </tr>\n",
       "  </tbody>\n",
       "</table>\n",
       "</div>"
      ],
      "text/plain": [
       "                  privacy_avg surveillance_avg\n",
       "raresites                 0.0              0.0\n",
       "davidsuzuki               0.0              0.0\n",
       "grandriver                0.0              0.0\n",
       "wwf                      7.89             7.89\n",
       "ecotrust                  0.0              0.0\n",
       "natureconservancy         0.0              0.0"
      ]
     },
     "execution_count": 17,
     "metadata": {},
     "output_type": "execute_result"
    }
   ],
   "source": [
    "## Are certain organizations (and organization sizes) more likely to mention AI/ML? (Crawl)\n",
    "from web_observatory import analyze_orgs\n",
    "avg, freq = analyze_orgs(words, orgs = [\"raresites\", \"davidsuzuki\", \"grandriver\", \"wwf\", \"ecotrust\", \"natureconservancy\"], terms = [\"artificial intelligence\", \"forest\", \"machine learning\"])\n",
    "## Are certain organizations more likely to mention ethics terms in conjunction with AI/ML? (Crawl)\n",
    "avg, freq = analyze_orgs(words.loc[(words[\"blockchain\"]>0) | (words[\"big data\"]>0) | (words[\"cloud\"]>0) | (words[\"internet of things\"]>0)], orgs = [\"raresites\", \"davidsuzuki\", \"grandriver\", \"wwf\", \"ecotrust\", \"natureconservancy\"], terms = [\"privacy\", \"surveillance\"])\n",
    "avg"
   ]
  },
  {
   "cell_type": "code",
   "execution_count": 20,
   "id": "23e49ba2-c66f-43e5-bd17-4ae472281e78",
   "metadata": {},
   "outputs": [
    {
     "name": "stdout",
     "output_type": "stream",
     "text": [
      "blockchain cloud\n",
      "Zeros: 24801, 93%\n",
      "cloud but not blockchain: 1276, 4%\n",
      "blockchain but not cloud: 375, 1%\n",
      "Together: 74, 0%\n",
      "\n",
      "\n"
     ]
    },
    {
     "data": {
      "text/html": [
       "<div>\n",
       "<style scoped>\n",
       "    .dataframe tbody tr th:only-of-type {\n",
       "        vertical-align: middle;\n",
       "    }\n",
       "\n",
       "    .dataframe tbody tr th {\n",
       "        vertical-align: top;\n",
       "    }\n",
       "\n",
       "    .dataframe thead th {\n",
       "        text-align: right;\n",
       "    }\n",
       "</style>\n",
       "<table border=\"1\" class=\"dataframe\">\n",
       "  <thead>\n",
       "    <tr style=\"text-align: right;\">\n",
       "      <th></th>\n",
       "      <th>blockchain</th>\n",
       "      <th>cloud</th>\n",
       "    </tr>\n",
       "  </thead>\n",
       "  <tbody>\n",
       "    <tr>\n",
       "      <th>blockchain</th>\n",
       "      <td>1.000000</td>\n",
       "      <td>-0.041669</td>\n",
       "    </tr>\n",
       "    <tr>\n",
       "      <th>cloud</th>\n",
       "      <td>-0.041669</td>\n",
       "      <td>1.000000</td>\n",
       "    </tr>\n",
       "  </tbody>\n",
       "</table>\n",
       "</div>"
      ],
      "text/plain": [
       "            blockchain     cloud\n",
       "blockchain    1.000000 -0.041669\n",
       "cloud        -0.041669  1.000000"
      ]
     },
     "metadata": {},
     "output_type": "display_data"
    },
    {
     "data": {
      "text/plain": [
       "<AxesSubplot:xlabel='blockchain', ylabel='cloud'>"
      ]
     },
     "metadata": {},
     "output_type": "display_data"
    },
    {
     "name": "stdout",
     "output_type": "stream",
     "text": [
      "cloud blockchain\n",
      "Zeros: 24801, 93%\n",
      "blockchain but not cloud: 375, 1%\n",
      "cloud but not blockchain: 1276, 4%\n",
      "Together: 74, 0%\n",
      "\n",
      "\n"
     ]
    },
    {
     "data": {
      "text/html": [
       "<div>\n",
       "<style scoped>\n",
       "    .dataframe tbody tr th:only-of-type {\n",
       "        vertical-align: middle;\n",
       "    }\n",
       "\n",
       "    .dataframe tbody tr th {\n",
       "        vertical-align: top;\n",
       "    }\n",
       "\n",
       "    .dataframe thead th {\n",
       "        text-align: right;\n",
       "    }\n",
       "</style>\n",
       "<table border=\"1\" class=\"dataframe\">\n",
       "  <thead>\n",
       "    <tr style=\"text-align: right;\">\n",
       "      <th></th>\n",
       "      <th>cloud</th>\n",
       "      <th>blockchain</th>\n",
       "    </tr>\n",
       "  </thead>\n",
       "  <tbody>\n",
       "    <tr>\n",
       "      <th>cloud</th>\n",
       "      <td>1.000000</td>\n",
       "      <td>-0.041669</td>\n",
       "    </tr>\n",
       "    <tr>\n",
       "      <th>blockchain</th>\n",
       "      <td>-0.041669</td>\n",
       "      <td>1.000000</td>\n",
       "    </tr>\n",
       "  </tbody>\n",
       "</table>\n",
       "</div>"
      ],
      "text/plain": [
       "               cloud  blockchain\n",
       "cloud       1.000000   -0.041669\n",
       "blockchain -0.041669    1.000000"
      ]
     },
     "metadata": {},
     "output_type": "display_data"
    },
    {
     "data": {
      "text/plain": [
       "<AxesSubplot:xlabel='cloud', ylabel='blockchain'>"
      ]
     },
     "metadata": {},
     "output_type": "display_data"
    },
    {
     "data": {
      "image/png": "[encoded data removed]",
      "text/plain": [
       "<Figure size 432x288 with 1 Axes>"
      ]
     },
     "metadata": {
      "needs_background": "light"
     },
     "output_type": "display_data"
    },
    {
     "data": {
      "image/png": "[encoded data removed]",
      "text/plain": [
       "<Figure size 432x288 with 1 Axes>"
      ]
     },
     "metadata": {
      "needs_background": "light"
     },
     "output_type": "display_data"
    }
   ],
   "source": [
    "## Are certain topics associated with other (e.g. forest and AI vs mountain and AI?) (Twitter, Google, and Crawl)\n",
    "from web_observatory import analyze_term_correlations\n",
    "#analyze_term_correlations(words, [\"artificial intelligence\", \"river\", \" ai \"])\n",
    "analyze_term_correlations(words, [\"blockchain\", \"cloud\"])"
   ]
  },
  {
   "cell_type": "code",
   "execution_count": null,
   "id": "91b4dbe0-5dd7-4089-9422-a049046ee26e",
   "metadata": {},
   "outputs": [],
   "source": []
  }
 ],
 "metadata": {
  "kernelspec": {
   "display_name": "Python 3 (ipykernel)",
   "language": "python",
   "name": "python3"
  },
  "language_info": {
   "codemirror_mode": {
    "name": "ipython",
    "version": 3
   },
   "file_extension": ".py",
   "mimetype": "text/x-python",
   "name": "python",
   "nbconvert_exporter": "python",
   "pygments_lexer": "ipython3",
   "version": "3.9.18"
  }
 },
 "nbformat": 4,
 "nbformat_minor": 5
}
