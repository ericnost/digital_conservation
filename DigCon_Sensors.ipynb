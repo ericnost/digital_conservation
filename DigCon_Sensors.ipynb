{
 "cells": [
  {
   "cell_type": "code",
   "execution_count": 1,
   "id": "54897330-11bc-402a-a4dc-6ecba774999a",
   "metadata": {},
   "outputs": [
    {
     "name": "stdout",
     "output_type": "stream",
     "text": [
      "Done!\n"
     ]
    }
   ],
   "source": [
    "# Sensor/data production terms: [\"camera trap\", sensor (acoustic, animal-borne), drone, environmental/eDNA, citizen science]\n",
    "\n",
    "project = \"sensors\"\n",
    "\n",
    "import pandas\n",
    "\n",
    "from observatory import start_project\n",
    "start_project(project)"
   ]
  },
  {
   "cell_type": "code",
   "execution_count": 2,
   "id": "13e4e849-5b36-47a3-b950-737f6966d56e",
   "metadata": {},
   "outputs": [
    {
     "name": "stdout",
     "output_type": "stream",
     "text": [
      "{'query': 'conservation (\"camera trap\" OR \"camera trapping\") has:links', 'tweet.fields': 'created_at,entities,public_metrics', 'max_results': 100, 'start_time': '2006-03-21T00:00:00.00Z', 'end_time': '2022-01-01T00:00:00.00Z'}\n",
      "Done!\n",
      "{'query': 'conservation (sensor OR sensors) has:links', 'tweet.fields': 'created_at,entities,public_metrics', 'max_results': 100, 'start_time': '2006-03-21T00:00:00.00Z', 'end_time': '2022-01-01T00:00:00.00Z'}\n",
      "Done!\n",
      "{'query': 'conservation (drone OR drones) has:links', 'tweet.fields': 'created_at,entities,public_metrics', 'max_results': 100, 'start_time': '2006-03-21T00:00:00.00Z', 'end_time': '2022-01-01T00:00:00.00Z'}\n",
      "Done!\n",
      "{'query': 'conservation \"environmental DNA\" has:links', 'tweet.fields': 'created_at,entities,public_metrics', 'max_results': 100, 'start_time': '2006-03-21T00:00:00.00Z', 'end_time': '2022-01-01T00:00:00.00Z'}\n",
      "Done!\n",
      "{'query': 'conservation data \"citizen science\" has:links', 'tweet.fields': 'created_at,entities,public_metrics', 'max_results': 100, 'start_time': '2006-03-21T00:00:00.00Z', 'end_time': '2022-01-01T00:00:00.00Z'}\n",
      "Done!\n"
     ]
    }
   ],
   "source": [
    "# Get tweets about platforms in nature conservation (Historical focus)\n",
    "from observatory import search_twitter\n",
    "trap_twitter = search_twitter(q = 'conservation (\"camera trap\" OR \"camera trapping\") has:links', project=project)\n",
    "sensor_twitter = search_twitter(q = 'conservation (sensor OR sensors) has:links', project=project)\n",
    "drone_twitter = search_twitter(q = 'conservation (drone OR drones) has:links', project=project)\n",
    "edna_twitter = search_twitter(q = 'conservation \"environmental DNA\" has:links', project=project)\n",
    "cs_twitter = search_twitter(q = 'conservation data \"citizen science\" has:links', project=project)"
   ]
  },
  {
   "cell_type": "code",
   "execution_count": 3,
   "id": "ef98ca88-4658-4447-92a0-73615dc105db",
   "metadata": {},
   "outputs": [
    {
     "name": "stdout",
     "output_type": "stream",
     "text": [
      "Done\n",
      "Done\n",
      "Done\n",
      "Done\n",
      "Done\n"
     ]
    }
   ],
   "source": [
    "# Get Google results about platforms in nature conservation (Relevance)\n",
    "from observatory import search_google\n",
    "trap_google = search_google(q = 'nature conservation camera trap', project = project)\n",
    "sensor_google = search_google(q = 'nature conservation sensors', project = project)\n",
    "drone_google = search_google(q = 'nature conservation drones', project = project)\n",
    "edna_google = search_google(q = 'nature conservation environmental DNA', project = project)\n",
    "cs_google = search_google(q = 'nature conservation citizen science data', project = project)"
   ]
  },
  {
   "cell_type": "code",
   "execution_count": 4,
   "id": "5bdeec06-82c8-4c9d-958e-c15df0e58984",
   "metadata": {},
   "outputs": [],
   "source": [
    "# Compile results\n",
    "from observatory import twitter_process \n",
    "twitter = twitter_process(project=project)\n",
    "from observatory import google_process\n",
    "google = google_process(datatype = \"CSV\", project=project)"
   ]
  },
  {
   "cell_type": "code",
   "execution_count": 5,
   "id": "f0ef2456-3f1f-436c-8f74-91f40e64ad6c",
   "metadata": {},
   "outputs": [
    {
     "data": {
      "text/html": [
       "<div>\n",
       "<style scoped>\n",
       "    .dataframe tbody tr th:only-of-type {\n",
       "        vertical-align: middle;\n",
       "    }\n",
       "\n",
       "    .dataframe tbody tr th {\n",
       "        vertical-align: top;\n",
       "    }\n",
       "\n",
       "    .dataframe thead th {\n",
       "        text-align: right;\n",
       "    }\n",
       "</style>\n",
       "<table border=\"1\" class=\"dataframe\">\n",
       "  <thead>\n",
       "    <tr style=\"text-align: right;\">\n",
       "      <th></th>\n",
       "      <th>date</th>\n",
       "      <th>link</th>\n",
       "      <th>metrics</th>\n",
       "      <th>source</th>\n",
       "      <th>query</th>\n",
       "    </tr>\n",
       "    <tr>\n",
       "      <th>domain</th>\n",
       "      <th></th>\n",
       "      <th></th>\n",
       "      <th></th>\n",
       "      <th></th>\n",
       "      <th></th>\n",
       "    </tr>\n",
       "  </thead>\n",
       "  <tbody>\n",
       "    <tr>\n",
       "      <th>wiley</th>\n",
       "      <td>0</td>\n",
       "      <td>22</td>\n",
       "      <td>0</td>\n",
       "      <td>22</td>\n",
       "      <td>22</td>\n",
       "    </tr>\n",
       "    <tr>\n",
       "      <th>nih</th>\n",
       "      <td>0</td>\n",
       "      <td>10</td>\n",
       "      <td>0</td>\n",
       "      <td>10</td>\n",
       "      <td>10</td>\n",
       "    </tr>\n",
       "    <tr>\n",
       "      <th>nature</th>\n",
       "      <td>0</td>\n",
       "      <td>10</td>\n",
       "      <td>0</td>\n",
       "      <td>10</td>\n",
       "      <td>10</td>\n",
       "    </tr>\n",
       "    <tr>\n",
       "      <th>sciencedirect</th>\n",
       "      <td>0</td>\n",
       "      <td>7</td>\n",
       "      <td>0</td>\n",
       "      <td>7</td>\n",
       "      <td>7</td>\n",
       "    </tr>\n",
       "    <tr>\n",
       "      <th>oup</th>\n",
       "      <td>0</td>\n",
       "      <td>6</td>\n",
       "      <td>0</td>\n",
       "      <td>6</td>\n",
       "      <td>6</td>\n",
       "    </tr>\n",
       "    <tr>\n",
       "      <th>researchgate</th>\n",
       "      <td>0</td>\n",
       "      <td>5</td>\n",
       "      <td>0</td>\n",
       "      <td>5</td>\n",
       "      <td>5</td>\n",
       "    </tr>\n",
       "    <tr>\n",
       "      <th>springer</th>\n",
       "      <td>0</td>\n",
       "      <td>5</td>\n",
       "      <td>0</td>\n",
       "      <td>5</td>\n",
       "      <td>5</td>\n",
       "    </tr>\n",
       "    <tr>\n",
       "      <th>wcs</th>\n",
       "      <td>0</td>\n",
       "      <td>5</td>\n",
       "      <td>0</td>\n",
       "      <td>5</td>\n",
       "      <td>5</td>\n",
       "    </tr>\n",
       "    <tr>\n",
       "      <th>frontiersin</th>\n",
       "      <td>0</td>\n",
       "      <td>4</td>\n",
       "      <td>0</td>\n",
       "      <td>4</td>\n",
       "      <td>4</td>\n",
       "    </tr>\n",
       "    <tr>\n",
       "      <th>usgs</th>\n",
       "      <td>0</td>\n",
       "      <td>3</td>\n",
       "      <td>0</td>\n",
       "      <td>3</td>\n",
       "      <td>3</td>\n",
       "    </tr>\n",
       "    <tr>\n",
       "      <th>ny</th>\n",
       "      <td>0</td>\n",
       "      <td>3</td>\n",
       "      <td>0</td>\n",
       "      <td>3</td>\n",
       "      <td>3</td>\n",
       "    </tr>\n",
       "    <tr>\n",
       "      <th>cornell</th>\n",
       "      <td>0</td>\n",
       "      <td>3</td>\n",
       "      <td>0</td>\n",
       "      <td>3</td>\n",
       "      <td>3</td>\n",
       "    </tr>\n",
       "    <tr>\n",
       "      <th>sciencedaily</th>\n",
       "      <td>0</td>\n",
       "      <td>3</td>\n",
       "      <td>0</td>\n",
       "      <td>3</td>\n",
       "      <td>3</td>\n",
       "    </tr>\n",
       "    <tr>\n",
       "      <th>theguardian</th>\n",
       "      <td>0</td>\n",
       "      <td>3</td>\n",
       "      <td>0</td>\n",
       "      <td>3</td>\n",
       "      <td>3</td>\n",
       "    </tr>\n",
       "    <tr>\n",
       "      <th>sagepub</th>\n",
       "      <td>0</td>\n",
       "      <td>3</td>\n",
       "      <td>0</td>\n",
       "      <td>3</td>\n",
       "      <td>3</td>\n",
       "    </tr>\n",
       "    <tr>\n",
       "      <th>pensoft</th>\n",
       "      <td>0</td>\n",
       "      <td>3</td>\n",
       "      <td>0</td>\n",
       "      <td>3</td>\n",
       "      <td>3</td>\n",
       "    </tr>\n",
       "    <tr>\n",
       "      <th>plos</th>\n",
       "      <td>0</td>\n",
       "      <td>3</td>\n",
       "      <td>0</td>\n",
       "      <td>3</td>\n",
       "      <td>3</td>\n",
       "    </tr>\n",
       "    <tr>\n",
       "      <th>worldwildlife</th>\n",
       "      <td>0</td>\n",
       "      <td>3</td>\n",
       "      <td>0</td>\n",
       "      <td>3</td>\n",
       "      <td>3</td>\n",
       "    </tr>\n",
       "    <tr>\n",
       "      <th>mongabay</th>\n",
       "      <td>0</td>\n",
       "      <td>3</td>\n",
       "      <td>0</td>\n",
       "      <td>3</td>\n",
       "      <td>3</td>\n",
       "    </tr>\n",
       "    <tr>\n",
       "      <th>wwf</th>\n",
       "      <td>0</td>\n",
       "      <td>3</td>\n",
       "      <td>0</td>\n",
       "      <td>3</td>\n",
       "      <td>3</td>\n",
       "    </tr>\n",
       "  </tbody>\n",
       "</table>\n",
       "</div>"
      ],
      "text/plain": [
       "               date  link  metrics  source  query\n",
       "domain                                           \n",
       "wiley             0    22        0      22     22\n",
       "nih               0    10        0      10     10\n",
       "nature            0    10        0      10     10\n",
       "sciencedirect     0     7        0       7      7\n",
       "oup               0     6        0       6      6\n",
       "researchgate      0     5        0       5      5\n",
       "springer          0     5        0       5      5\n",
       "wcs               0     5        0       5      5\n",
       "frontiersin       0     4        0       4      4\n",
       "usgs              0     3        0       3      3\n",
       "ny                0     3        0       3      3\n",
       "cornell           0     3        0       3      3\n",
       "sciencedaily      0     3        0       3      3\n",
       "theguardian       0     3        0       3      3\n",
       "sagepub           0     3        0       3      3\n",
       "pensoft           0     3        0       3      3\n",
       "plos              0     3        0       3      3\n",
       "worldwildlife     0     3        0       3      3\n",
       "mongabay          0     3        0       3      3\n",
       "wwf               0     3        0       3      3"
      ]
     },
     "execution_count": 5,
     "metadata": {},
     "output_type": "execute_result"
    }
   ],
   "source": [
    "# Extract organizations from Twitter/Google results\n",
    "from observatory import get_domains\n",
    "twitter = get_domains(twitter)\n",
    "google = get_domains(google)\n",
    "twitter.groupby(by=\"domain\").count().sort_values(by=\"link\", ascending=False).head(20)\n",
    "google.groupby(by=\"domain\").count().sort_values(by=\"link\", ascending=False).head(20)"
   ]
  },
  {
   "cell_type": "code",
   "execution_count": 6,
   "id": "2a31952a-9dae-46d4-b0bd-8e255bcb2367",
   "metadata": {},
   "outputs": [
    {
     "data": {
      "text/html": [
       "<div>\n",
       "<style scoped>\n",
       "    .dataframe tbody tr th:only-of-type {\n",
       "        vertical-align: middle;\n",
       "    }\n",
       "\n",
       "    .dataframe tbody tr th {\n",
       "        vertical-align: top;\n",
       "    }\n",
       "\n",
       "    .dataframe thead th {\n",
       "        text-align: right;\n",
       "    }\n",
       "</style>\n",
       "<table border=\"1\" class=\"dataframe\">\n",
       "  <thead>\n",
       "    <tr style=\"text-align: right;\">\n",
       "      <th></th>\n",
       "      <th>date</th>\n",
       "      <th>link</th>\n",
       "      <th>metrics</th>\n",
       "      <th>source</th>\n",
       "      <th>query</th>\n",
       "      <th>domain</th>\n",
       "    </tr>\n",
       "  </thead>\n",
       "  <tbody>\n",
       "    <tr>\n",
       "      <th>0</th>\n",
       "      <td>2011-05-02T06:53:26.000Z</td>\n",
       "      <td>http://www.wwfindia.org/?5800/tiger-corridors</td>\n",
       "      <td>0.0</td>\n",
       "      <td>Twitter</td>\n",
       "      <td>conservation (\"camera trap\" OR \"camera trappin...</td>\n",
       "      <td>wwfindia</td>\n",
       "    </tr>\n",
       "    <tr>\n",
       "      <th>1</th>\n",
       "      <td>2011-05-17T01:03:04.000Z</td>\n",
       "      <td>http://turfhugger.blogspot.com/2011/05/turfgau...</td>\n",
       "      <td>1.0</td>\n",
       "      <td>Twitter</td>\n",
       "      <td>conservation (sensor OR sensors) has:links</td>\n",
       "      <td>blogspot</td>\n",
       "    </tr>\n",
       "    <tr>\n",
       "      <th>2</th>\n",
       "      <td>2011-06-09T19:42:29.000Z</td>\n",
       "      <td>http://www.smartplanet.com/blog/smart-takes/me...</td>\n",
       "      <td>0.0</td>\n",
       "      <td>Twitter</td>\n",
       "      <td>conservation (sensor OR sensors) has:links</td>\n",
       "      <td>smartplanet</td>\n",
       "    </tr>\n",
       "    <tr>\n",
       "      <th>3</th>\n",
       "      <td>2011-08-16T08:22:36.000Z</td>\n",
       "      <td>http://www.bbc.co.uk/nature/14535445</td>\n",
       "      <td>1.0</td>\n",
       "      <td>Twitter</td>\n",
       "      <td>conservation (\"camera trap\" OR \"camera trappin...</td>\n",
       "      <td>bbc</td>\n",
       "    </tr>\n",
       "    <tr>\n",
       "      <th>4</th>\n",
       "      <td>2011-08-16T10:24:34.000Z</td>\n",
       "      <td>http://rss.cnn.com/~r/rss/cnn_latest/~3/zo1RP-...</td>\n",
       "      <td>0.0</td>\n",
       "      <td>Twitter</td>\n",
       "      <td>conservation (sensor OR sensors) has:links</td>\n",
       "      <td>cnn</td>\n",
       "    </tr>\n",
       "    <tr>\n",
       "      <th>...</th>\n",
       "      <td>...</td>\n",
       "      <td>...</td>\n",
       "      <td>...</td>\n",
       "      <td>...</td>\n",
       "      <td>...</td>\n",
       "      <td>...</td>\n",
       "    </tr>\n",
       "    <tr>\n",
       "      <th>18012</th>\n",
       "      <td>NaN</td>\n",
       "      <td>https://www.semanticscholar.org/paper/The-ecol...</td>\n",
       "      <td>NaN</td>\n",
       "      <td>Google</td>\n",
       "      <td>nature conservation environmental DNA</td>\n",
       "      <td>semanticscholar</td>\n",
       "    </tr>\n",
       "    <tr>\n",
       "      <th>18013</th>\n",
       "      <td>NaN</td>\n",
       "      <td>http://citeseerx.ist.psu.edu/viewdoc/download?...</td>\n",
       "      <td>NaN</td>\n",
       "      <td>Google</td>\n",
       "      <td>nature conservation environmental DNA</td>\n",
       "      <td>psu</td>\n",
       "    </tr>\n",
       "    <tr>\n",
       "      <th>18014</th>\n",
       "      <td>NaN</td>\n",
       "      <td>https://theoryandpractice.citizenscienceassoci...</td>\n",
       "      <td>NaN</td>\n",
       "      <td>Google</td>\n",
       "      <td>nature conservation environmental DNA</td>\n",
       "      <td>citizenscienceassociation</td>\n",
       "    </tr>\n",
       "    <tr>\n",
       "      <th>18015</th>\n",
       "      <td>NaN</td>\n",
       "      <td>https://biomeme.com/environmental-dna/</td>\n",
       "      <td>NaN</td>\n",
       "      <td>Google</td>\n",
       "      <td>nature conservation environmental DNA</td>\n",
       "      <td>biomeme</td>\n",
       "    </tr>\n",
       "    <tr>\n",
       "      <th>18016</th>\n",
       "      <td>NaN</td>\n",
       "      <td>https://online.ucpress.edu/abt/article/80/4/28...</td>\n",
       "      <td>NaN</td>\n",
       "      <td>Google</td>\n",
       "      <td>nature conservation environmental DNA</td>\n",
       "      <td>ucpress</td>\n",
       "    </tr>\n",
       "  </tbody>\n",
       "</table>\n",
       "<p>18017 rows × 6 columns</p>\n",
       "</div>"
      ],
      "text/plain": [
       "                           date  \\\n",
       "0      2011-05-02T06:53:26.000Z   \n",
       "1      2011-05-17T01:03:04.000Z   \n",
       "2      2011-06-09T19:42:29.000Z   \n",
       "3      2011-08-16T08:22:36.000Z   \n",
       "4      2011-08-16T10:24:34.000Z   \n",
       "...                         ...   \n",
       "18012                       NaN   \n",
       "18013                       NaN   \n",
       "18014                       NaN   \n",
       "18015                       NaN   \n",
       "18016                       NaN   \n",
       "\n",
       "                                                    link  metrics   source  \\\n",
       "0          http://www.wwfindia.org/?5800/tiger-corridors      0.0  Twitter   \n",
       "1      http://turfhugger.blogspot.com/2011/05/turfgau...      1.0  Twitter   \n",
       "2      http://www.smartplanet.com/blog/smart-takes/me...      0.0  Twitter   \n",
       "3                   http://www.bbc.co.uk/nature/14535445      1.0  Twitter   \n",
       "4      http://rss.cnn.com/~r/rss/cnn_latest/~3/zo1RP-...      0.0  Twitter   \n",
       "...                                                  ...      ...      ...   \n",
       "18012  https://www.semanticscholar.org/paper/The-ecol...      NaN   Google   \n",
       "18013  http://citeseerx.ist.psu.edu/viewdoc/download?...      NaN   Google   \n",
       "18014  https://theoryandpractice.citizenscienceassoci...      NaN   Google   \n",
       "18015             https://biomeme.com/environmental-dna/      NaN   Google   \n",
       "18016  https://online.ucpress.edu/abt/article/80/4/28...      NaN   Google   \n",
       "\n",
       "                                                   query  \\\n",
       "0      conservation (\"camera trap\" OR \"camera trappin...   \n",
       "1             conservation (sensor OR sensors) has:links   \n",
       "2             conservation (sensor OR sensors) has:links   \n",
       "3      conservation (\"camera trap\" OR \"camera trappin...   \n",
       "4             conservation (sensor OR sensors) has:links   \n",
       "...                                                  ...   \n",
       "18012              nature conservation environmental DNA   \n",
       "18013              nature conservation environmental DNA   \n",
       "18014              nature conservation environmental DNA   \n",
       "18015              nature conservation environmental DNA   \n",
       "18016              nature conservation environmental DNA   \n",
       "\n",
       "                          domain  \n",
       "0                       wwfindia  \n",
       "1                       blogspot  \n",
       "2                    smartplanet  \n",
       "3                            bbc  \n",
       "4                            cnn  \n",
       "...                          ...  \n",
       "18012            semanticscholar  \n",
       "18013                        psu  \n",
       "18014  citizenscienceassociation  \n",
       "18015                    biomeme  \n",
       "18016                    ucpress  \n",
       "\n",
       "[18017 rows x 6 columns]"
      ]
     },
     "execution_count": 6,
     "metadata": {},
     "output_type": "execute_result"
    }
   ],
   "source": [
    "# Process all data together \n",
    "from observatory import search_merge\n",
    "pages = search_merge(twitter = twitter, google = google, project = project)\n",
    "pages"
   ]
  },
  {
   "cell_type": "code",
   "execution_count": 7,
   "id": "b90dae61-8bcb-441b-b96d-a14295d1e63a",
   "metadata": {},
   "outputs": [
    {
     "data": {
      "text/html": [
       "<div>\n",
       "<style scoped>\n",
       "    .dataframe tbody tr th:only-of-type {\n",
       "        vertical-align: middle;\n",
       "    }\n",
       "\n",
       "    .dataframe tbody tr th {\n",
       "        vertical-align: top;\n",
       "    }\n",
       "\n",
       "    .dataframe thead th {\n",
       "        text-align: right;\n",
       "    }\n",
       "</style>\n",
       "<table border=\"1\" class=\"dataframe\">\n",
       "  <thead>\n",
       "    <tr style=\"text-align: right;\">\n",
       "      <th></th>\n",
       "      <th>date</th>\n",
       "      <th>link</th>\n",
       "      <th>metrics</th>\n",
       "      <th>source</th>\n",
       "      <th>query</th>\n",
       "      <th>domain</th>\n",
       "    </tr>\n",
       "  </thead>\n",
       "  <tbody>\n",
       "    <tr>\n",
       "      <th>0</th>\n",
       "      <td>2011-05-02T06:53:26.000Z</td>\n",
       "      <td>http://www.wwfindia.org/?5800/tiger-corridors</td>\n",
       "      <td>0.0</td>\n",
       "      <td>Twitter</td>\n",
       "      <td>conservation (\"camera trap\" OR \"camera trappin...</td>\n",
       "      <td>wwfindia</td>\n",
       "    </tr>\n",
       "    <tr>\n",
       "      <th>1</th>\n",
       "      <td>2011-05-17T01:03:04.000Z</td>\n",
       "      <td>http://turfhugger.blogspot.com/2011/05/turfgau...</td>\n",
       "      <td>1.0</td>\n",
       "      <td>Twitter</td>\n",
       "      <td>conservation (sensor OR sensors) has:links</td>\n",
       "      <td>blogspot</td>\n",
       "    </tr>\n",
       "    <tr>\n",
       "      <th>2</th>\n",
       "      <td>2011-06-09T19:42:29.000Z</td>\n",
       "      <td>http://www.smartplanet.com/blog/smart-takes/me...</td>\n",
       "      <td>0.0</td>\n",
       "      <td>Twitter</td>\n",
       "      <td>conservation (sensor OR sensors) has:links</td>\n",
       "      <td>smartplanet</td>\n",
       "    </tr>\n",
       "    <tr>\n",
       "      <th>3</th>\n",
       "      <td>2011-08-16T08:22:36.000Z</td>\n",
       "      <td>http://www.bbc.co.uk/nature/14535445</td>\n",
       "      <td>1.0</td>\n",
       "      <td>Twitter</td>\n",
       "      <td>conservation (\"camera trap\" OR \"camera trappin...</td>\n",
       "      <td>bbc</td>\n",
       "    </tr>\n",
       "    <tr>\n",
       "      <th>4</th>\n",
       "      <td>2011-08-16T10:24:34.000Z</td>\n",
       "      <td>http://rss.cnn.com/~r/rss/cnn_latest/~3/zo1RP-...</td>\n",
       "      <td>0.0</td>\n",
       "      <td>Twitter</td>\n",
       "      <td>conservation (sensor OR sensors) has:links</td>\n",
       "      <td>cnn</td>\n",
       "    </tr>\n",
       "    <tr>\n",
       "      <th>...</th>\n",
       "      <td>...</td>\n",
       "      <td>...</td>\n",
       "      <td>...</td>\n",
       "      <td>...</td>\n",
       "      <td>...</td>\n",
       "      <td>...</td>\n",
       "    </tr>\n",
       "    <tr>\n",
       "      <th>17282</th>\n",
       "      <td>NaN</td>\n",
       "      <td>https://www.semanticscholar.org/paper/The-ecol...</td>\n",
       "      <td>NaN</td>\n",
       "      <td>Google</td>\n",
       "      <td>nature conservation environmental DNA</td>\n",
       "      <td>semanticscholar</td>\n",
       "    </tr>\n",
       "    <tr>\n",
       "      <th>17283</th>\n",
       "      <td>NaN</td>\n",
       "      <td>http://citeseerx.ist.psu.edu/viewdoc/download?...</td>\n",
       "      <td>NaN</td>\n",
       "      <td>Google</td>\n",
       "      <td>nature conservation environmental DNA</td>\n",
       "      <td>psu</td>\n",
       "    </tr>\n",
       "    <tr>\n",
       "      <th>17284</th>\n",
       "      <td>NaN</td>\n",
       "      <td>https://theoryandpractice.citizenscienceassoci...</td>\n",
       "      <td>NaN</td>\n",
       "      <td>Google</td>\n",
       "      <td>nature conservation environmental DNA</td>\n",
       "      <td>citizenscienceassociation</td>\n",
       "    </tr>\n",
       "    <tr>\n",
       "      <th>17285</th>\n",
       "      <td>NaN</td>\n",
       "      <td>https://biomeme.com/environmental-dna/</td>\n",
       "      <td>NaN</td>\n",
       "      <td>Google</td>\n",
       "      <td>nature conservation environmental DNA</td>\n",
       "      <td>biomeme</td>\n",
       "    </tr>\n",
       "    <tr>\n",
       "      <th>17286</th>\n",
       "      <td>NaN</td>\n",
       "      <td>https://online.ucpress.edu/abt/article/80/4/28...</td>\n",
       "      <td>NaN</td>\n",
       "      <td>Google</td>\n",
       "      <td>nature conservation environmental DNA</td>\n",
       "      <td>ucpress</td>\n",
       "    </tr>\n",
       "  </tbody>\n",
       "</table>\n",
       "<p>17287 rows × 6 columns</p>\n",
       "</div>"
      ],
      "text/plain": [
       "                           date  \\\n",
       "0      2011-05-02T06:53:26.000Z   \n",
       "1      2011-05-17T01:03:04.000Z   \n",
       "2      2011-06-09T19:42:29.000Z   \n",
       "3      2011-08-16T08:22:36.000Z   \n",
       "4      2011-08-16T10:24:34.000Z   \n",
       "...                         ...   \n",
       "17282                       NaN   \n",
       "17283                       NaN   \n",
       "17284                       NaN   \n",
       "17285                       NaN   \n",
       "17286                       NaN   \n",
       "\n",
       "                                                    link  metrics   source  \\\n",
       "0          http://www.wwfindia.org/?5800/tiger-corridors      0.0  Twitter   \n",
       "1      http://turfhugger.blogspot.com/2011/05/turfgau...      1.0  Twitter   \n",
       "2      http://www.smartplanet.com/blog/smart-takes/me...      0.0  Twitter   \n",
       "3                   http://www.bbc.co.uk/nature/14535445      1.0  Twitter   \n",
       "4      http://rss.cnn.com/~r/rss/cnn_latest/~3/zo1RP-...      0.0  Twitter   \n",
       "...                                                  ...      ...      ...   \n",
       "17282  https://www.semanticscholar.org/paper/The-ecol...      NaN   Google   \n",
       "17283  http://citeseerx.ist.psu.edu/viewdoc/download?...      NaN   Google   \n",
       "17284  https://theoryandpractice.citizenscienceassoci...      NaN   Google   \n",
       "17285             https://biomeme.com/environmental-dna/      NaN   Google   \n",
       "17286  https://online.ucpress.edu/abt/article/80/4/28...      NaN   Google   \n",
       "\n",
       "                                                   query  \\\n",
       "0      conservation (\"camera trap\" OR \"camera trappin...   \n",
       "1             conservation (sensor OR sensors) has:links   \n",
       "2             conservation (sensor OR sensors) has:links   \n",
       "3      conservation (\"camera trap\" OR \"camera trappin...   \n",
       "4             conservation (sensor OR sensors) has:links   \n",
       "...                                                  ...   \n",
       "17282              nature conservation environmental DNA   \n",
       "17283              nature conservation environmental DNA   \n",
       "17284              nature conservation environmental DNA   \n",
       "17285              nature conservation environmental DNA   \n",
       "17286              nature conservation environmental DNA   \n",
       "\n",
       "                          domain  \n",
       "0                       wwfindia  \n",
       "1                       blogspot  \n",
       "2                    smartplanet  \n",
       "3                            bbc  \n",
       "4                            cnn  \n",
       "...                          ...  \n",
       "17282            semanticscholar  \n",
       "17283                        psu  \n",
       "17284  citizenscienceassociation  \n",
       "17285                    biomeme  \n",
       "17286                    ucpress  \n",
       "\n",
       "[17287 rows x 6 columns]"
      ]
     },
     "execution_count": 7,
     "metadata": {},
     "output_type": "execute_result"
    }
   ],
   "source": [
    "# Manage duplication of links here....\n",
    "## Load previous \"all_search_results\"\n",
    "p1 = pandas.read_csv(\"AI_ML/all_search_results.csv\")\n",
    "p2 = pandas.read_csv(\"algorithm/all_search_results.csv\")\n",
    "p3 = pandas.read_csv(\"platform/all_search_results.csv\")\n",
    "p4 = pandas.read_csv(\"architecture_storage/all_search_results.csv\")\n",
    "previous = pandas.concat([p1, p2, p3, p4], ignore_index=True)\n",
    "## De-duplicate from this list of pages where there is a match on previous search\n",
    "pages = pages[~pages[\"link\"].isin(previous[\"link\"])]\n",
    "pages.reset_index(inplace=True, drop=True)\n",
    "pages"
   ]
  },
  {
   "cell_type": "code",
   "execution_count": 8,
   "id": "fc992c28-427b-46d5-88d4-f342c5b3c88b",
   "metadata": {},
   "outputs": [
    {
     "name": "stderr",
     "output_type": "stream",
     "text": [
      "/Users/enost/Downloads/observatory_dev_v02.py:694: SettingWithCopyWarning: \n",
      "A value is trying to be set on a copy of a slice from a DataFrame.\n",
      "Try using .loc[row_indexer,col_indexer] = value instead\n",
      "\n",
      "See the caveats in the documentation: https://pandas.pydata.org/pandas-docs/stable/user_guide/indexing.html#returning-a-view-versus-a-copy\n",
      "  pages[\"full_url\"] = None # The actual url and not some bit.ly url\n",
      "/Users/enost/Downloads/observatory_dev_v02.py:695: SettingWithCopyWarning: \n",
      "A value is trying to be set on a copy of a slice from a DataFrame.\n",
      "Try using .loc[row_indexer,col_indexer] = value instead\n",
      "\n",
      "See the caveats in the documentation: https://pandas.pydata.org/pandas-docs/stable/user_guide/indexing.html#returning-a-view-versus-a-copy\n",
      "  pages[\"url_meta\"] = None # Possible additional information\n",
      "/Users/enost/Downloads/observatory_dev_v02.py:696: SettingWithCopyWarning: \n",
      "A value is trying to be set on a copy of a slice from a DataFrame.\n",
      "Try using .loc[row_indexer,col_indexer] = value instead\n",
      "\n",
      "See the caveats in the documentation: https://pandas.pydata.org/pandas-docs/stable/user_guide/indexing.html#returning-a-view-versus-a-copy\n",
      "  pages[\"wm_url\"] = None # We may have this when we have previously saved pages to the WM\n",
      "/Users/enost/Downloads/observatory_dev_v02.py:697: SettingWithCopyWarning: \n",
      "A value is trying to be set on a copy of a slice from a DataFrame.\n",
      "Try using .loc[row_indexer,col_indexer] = value instead\n",
      "\n",
      "See the caveats in the documentation: https://pandas.pydata.org/pandas-docs/stable/user_guide/indexing.html#returning-a-view-versus-a-copy\n",
      "  pages[\"wm_meta\"] = None # For storing information about the WM snapshot that was available\n"
     ]
    },
    {
     "name": "stdout",
     "output_type": "stream",
     "text": [
      "17286\r"
     ]
    },
    {
     "data": {
      "text/html": [
       "<div>\n",
       "<style scoped>\n",
       "    .dataframe tbody tr th:only-of-type {\n",
       "        vertical-align: middle;\n",
       "    }\n",
       "\n",
       "    .dataframe tbody tr th {\n",
       "        vertical-align: top;\n",
       "    }\n",
       "\n",
       "    .dataframe thead th {\n",
       "        text-align: right;\n",
       "    }\n",
       "</style>\n",
       "<table border=\"1\" class=\"dataframe\">\n",
       "  <thead>\n",
       "    <tr style=\"text-align: right;\">\n",
       "      <th></th>\n",
       "      <th>date</th>\n",
       "      <th>link</th>\n",
       "      <th>metrics</th>\n",
       "      <th>source</th>\n",
       "      <th>query</th>\n",
       "      <th>domain</th>\n",
       "      <th>full_url</th>\n",
       "      <th>url_meta</th>\n",
       "      <th>wm_url</th>\n",
       "      <th>wm_meta</th>\n",
       "    </tr>\n",
       "  </thead>\n",
       "  <tbody>\n",
       "    <tr>\n",
       "      <th>0</th>\n",
       "      <td>2011-05-02T06:53:26.000Z</td>\n",
       "      <td>http://www.wwfindia.org/?5800/tiger-corridors</td>\n",
       "      <td>0.0</td>\n",
       "      <td>Twitter</td>\n",
       "      <td>conservation (\"camera trap\" OR \"camera trappin...</td>\n",
       "      <td>wwfindia</td>\n",
       "      <td>https://www.wwfindia.org:443/</td>\n",
       "      <td>None</td>\n",
       "      <td>http://web.archive.org/web/20110421194226id_/h...</td>\n",
       "      <td>Time-of-Tweet Version</td>\n",
       "    </tr>\n",
       "    <tr>\n",
       "      <th>1</th>\n",
       "      <td>2011-05-17T01:03:04.000Z</td>\n",
       "      <td>http://turfhugger.blogspot.com/2011/05/turfgau...</td>\n",
       "      <td>1.0</td>\n",
       "      <td>Twitter</td>\n",
       "      <td>conservation (sensor OR sensors) has:links</td>\n",
       "      <td>blogspot</td>\n",
       "      <td>http://turfhugger.blogspot.com/2011/05/turfgau...</td>\n",
       "      <td>None</td>\n",
       "      <td>http://web.archive.org/web/20160211205157id_/h...</td>\n",
       "      <td>No Time-of-Tweet Versions; Got Older Version</td>\n",
       "    </tr>\n",
       "    <tr>\n",
       "      <th>2</th>\n",
       "      <td>2011-06-09T19:42:29.000Z</td>\n",
       "      <td>http://www.smartplanet.com/blog/smart-takes/me...</td>\n",
       "      <td>0.0</td>\n",
       "      <td>Twitter</td>\n",
       "      <td>conservation (sensor OR sensors) has:links</td>\n",
       "      <td>smartplanet</td>\n",
       "      <td>https://www.zdnet.com/article/met-museum-deplo...</td>\n",
       "      <td>None</td>\n",
       "      <td>None</td>\n",
       "      <td>No Wayback Version; Got Live URL</td>\n",
       "    </tr>\n",
       "    <tr>\n",
       "      <th>3</th>\n",
       "      <td>2011-08-16T08:22:36.000Z</td>\n",
       "      <td>http://www.bbc.co.uk/nature/14535445</td>\n",
       "      <td>1.0</td>\n",
       "      <td>Twitter</td>\n",
       "      <td>conservation (\"camera trap\" OR \"camera trappin...</td>\n",
       "      <td>bbc</td>\n",
       "      <td>https://www.bbc.co.uk/nature/14535445</td>\n",
       "      <td>None</td>\n",
       "      <td>http://web.archive.org/web/20120415052333id_/h...</td>\n",
       "      <td>No Time-of-Tweet Versions; Got Older Version</td>\n",
       "    </tr>\n",
       "    <tr>\n",
       "      <th>4</th>\n",
       "      <td>2011-08-16T10:24:34.000Z</td>\n",
       "      <td>http://rss.cnn.com/~r/rss/cnn_latest/~3/zo1RP-...</td>\n",
       "      <td>0.0</td>\n",
       "      <td>Twitter</td>\n",
       "      <td>conservation (sensor OR sensors) has:links</td>\n",
       "      <td>cnn</td>\n",
       "      <td>http://www.cnn.com/2011/WORLD/asiapcf/08/16/ma...</td>\n",
       "      <td>None</td>\n",
       "      <td>http://web.archive.org/web/20120709080215id_/h...</td>\n",
       "      <td>No Time-of-Tweet Versions; Got Older Version</td>\n",
       "    </tr>\n",
       "    <tr>\n",
       "      <th>...</th>\n",
       "      <td>...</td>\n",
       "      <td>...</td>\n",
       "      <td>...</td>\n",
       "      <td>...</td>\n",
       "      <td>...</td>\n",
       "      <td>...</td>\n",
       "      <td>...</td>\n",
       "      <td>...</td>\n",
       "      <td>...</td>\n",
       "      <td>...</td>\n",
       "    </tr>\n",
       "    <tr>\n",
       "      <th>17282</th>\n",
       "      <td>NaN</td>\n",
       "      <td>https://www.semanticscholar.org/paper/The-ecol...</td>\n",
       "      <td>NaN</td>\n",
       "      <td>Google</td>\n",
       "      <td>nature conservation environmental DNA</td>\n",
       "      <td>semanticscholar</td>\n",
       "      <td>https://www.semanticscholar.org/paper/The-ecol...</td>\n",
       "      <td>None</td>\n",
       "      <td>None</td>\n",
       "      <td>Not historical</td>\n",
       "    </tr>\n",
       "    <tr>\n",
       "      <th>17283</th>\n",
       "      <td>NaN</td>\n",
       "      <td>http://citeseerx.ist.psu.edu/viewdoc/download?...</td>\n",
       "      <td>NaN</td>\n",
       "      <td>Google</td>\n",
       "      <td>nature conservation environmental DNA</td>\n",
       "      <td>psu</td>\n",
       "      <td>http://citeseerx.ist.psu.edu/viewdoc/download</td>\n",
       "      <td>None</td>\n",
       "      <td>None</td>\n",
       "      <td>Not historical</td>\n",
       "    </tr>\n",
       "    <tr>\n",
       "      <th>17284</th>\n",
       "      <td>NaN</td>\n",
       "      <td>https://theoryandpractice.citizenscienceassoci...</td>\n",
       "      <td>NaN</td>\n",
       "      <td>Google</td>\n",
       "      <td>nature conservation environmental DNA</td>\n",
       "      <td>citizenscienceassociation</td>\n",
       "      <td>https://theoryandpractice.citizenscienceassoci...</td>\n",
       "      <td>None</td>\n",
       "      <td>None</td>\n",
       "      <td>Not historical</td>\n",
       "    </tr>\n",
       "    <tr>\n",
       "      <th>17285</th>\n",
       "      <td>NaN</td>\n",
       "      <td>https://biomeme.com/environmental-dna/</td>\n",
       "      <td>NaN</td>\n",
       "      <td>Google</td>\n",
       "      <td>nature conservation environmental DNA</td>\n",
       "      <td>biomeme</td>\n",
       "      <td>https://biomeme.com/environmental-dna/</td>\n",
       "      <td>None</td>\n",
       "      <td>None</td>\n",
       "      <td>Not historical</td>\n",
       "    </tr>\n",
       "    <tr>\n",
       "      <th>17286</th>\n",
       "      <td>NaN</td>\n",
       "      <td>https://online.ucpress.edu/abt/article/80/4/28...</td>\n",
       "      <td>NaN</td>\n",
       "      <td>Google</td>\n",
       "      <td>nature conservation environmental DNA</td>\n",
       "      <td>ucpress</td>\n",
       "      <td>https://online.ucpress.edu/abt/article/80/4/28...</td>\n",
       "      <td>None</td>\n",
       "      <td>None</td>\n",
       "      <td>Not historical</td>\n",
       "    </tr>\n",
       "  </tbody>\n",
       "</table>\n",
       "<p>17287 rows × 10 columns</p>\n",
       "</div>"
      ],
      "text/plain": [
       "                           date  \\\n",
       "0      2011-05-02T06:53:26.000Z   \n",
       "1      2011-05-17T01:03:04.000Z   \n",
       "2      2011-06-09T19:42:29.000Z   \n",
       "3      2011-08-16T08:22:36.000Z   \n",
       "4      2011-08-16T10:24:34.000Z   \n",
       "...                         ...   \n",
       "17282                       NaN   \n",
       "17283                       NaN   \n",
       "17284                       NaN   \n",
       "17285                       NaN   \n",
       "17286                       NaN   \n",
       "\n",
       "                                                    link  metrics   source  \\\n",
       "0          http://www.wwfindia.org/?5800/tiger-corridors      0.0  Twitter   \n",
       "1      http://turfhugger.blogspot.com/2011/05/turfgau...      1.0  Twitter   \n",
       "2      http://www.smartplanet.com/blog/smart-takes/me...      0.0  Twitter   \n",
       "3                   http://www.bbc.co.uk/nature/14535445      1.0  Twitter   \n",
       "4      http://rss.cnn.com/~r/rss/cnn_latest/~3/zo1RP-...      0.0  Twitter   \n",
       "...                                                  ...      ...      ...   \n",
       "17282  https://www.semanticscholar.org/paper/The-ecol...      NaN   Google   \n",
       "17283  http://citeseerx.ist.psu.edu/viewdoc/download?...      NaN   Google   \n",
       "17284  https://theoryandpractice.citizenscienceassoci...      NaN   Google   \n",
       "17285             https://biomeme.com/environmental-dna/      NaN   Google   \n",
       "17286  https://online.ucpress.edu/abt/article/80/4/28...      NaN   Google   \n",
       "\n",
       "                                                   query  \\\n",
       "0      conservation (\"camera trap\" OR \"camera trappin...   \n",
       "1             conservation (sensor OR sensors) has:links   \n",
       "2             conservation (sensor OR sensors) has:links   \n",
       "3      conservation (\"camera trap\" OR \"camera trappin...   \n",
       "4             conservation (sensor OR sensors) has:links   \n",
       "...                                                  ...   \n",
       "17282              nature conservation environmental DNA   \n",
       "17283              nature conservation environmental DNA   \n",
       "17284              nature conservation environmental DNA   \n",
       "17285              nature conservation environmental DNA   \n",
       "17286              nature conservation environmental DNA   \n",
       "\n",
       "                          domain  \\\n",
       "0                       wwfindia   \n",
       "1                       blogspot   \n",
       "2                    smartplanet   \n",
       "3                            bbc   \n",
       "4                            cnn   \n",
       "...                          ...   \n",
       "17282            semanticscholar   \n",
       "17283                        psu   \n",
       "17284  citizenscienceassociation   \n",
       "17285                    biomeme   \n",
       "17286                    ucpress   \n",
       "\n",
       "                                                full_url url_meta  \\\n",
       "0                          https://www.wwfindia.org:443/     None   \n",
       "1      http://turfhugger.blogspot.com/2011/05/turfgau...     None   \n",
       "2      https://www.zdnet.com/article/met-museum-deplo...     None   \n",
       "3                  https://www.bbc.co.uk/nature/14535445     None   \n",
       "4      http://www.cnn.com/2011/WORLD/asiapcf/08/16/ma...     None   \n",
       "...                                                  ...      ...   \n",
       "17282  https://www.semanticscholar.org/paper/The-ecol...     None   \n",
       "17283      http://citeseerx.ist.psu.edu/viewdoc/download     None   \n",
       "17284  https://theoryandpractice.citizenscienceassoci...     None   \n",
       "17285             https://biomeme.com/environmental-dna/     None   \n",
       "17286  https://online.ucpress.edu/abt/article/80/4/28...     None   \n",
       "\n",
       "                                                  wm_url  \\\n",
       "0      http://web.archive.org/web/20110421194226id_/h...   \n",
       "1      http://web.archive.org/web/20160211205157id_/h...   \n",
       "2                                                   None   \n",
       "3      http://web.archive.org/web/20120415052333id_/h...   \n",
       "4      http://web.archive.org/web/20120709080215id_/h...   \n",
       "...                                                  ...   \n",
       "17282                                               None   \n",
       "17283                                               None   \n",
       "17284                                               None   \n",
       "17285                                               None   \n",
       "17286                                               None   \n",
       "\n",
       "                                            wm_meta  \n",
       "0                             Time-of-Tweet Version  \n",
       "1      No Time-of-Tweet Versions; Got Older Version  \n",
       "2                  No Wayback Version; Got Live URL  \n",
       "3      No Time-of-Tweet Versions; Got Older Version  \n",
       "4      No Time-of-Tweet Versions; Got Older Version  \n",
       "...                                             ...  \n",
       "17282                                Not historical  \n",
       "17283                                Not historical  \n",
       "17284                                Not historical  \n",
       "17285                                Not historical  \n",
       "17286                                Not historical  \n",
       "\n",
       "[17287 rows x 10 columns]"
      ]
     },
     "execution_count": 8,
     "metadata": {},
     "output_type": "execute_result"
    }
   ],
   "source": [
    "# Get Twitter archives\n",
    "#pages = pandas.read_csv(\"algorithm/all_search_results.csv\")\n",
    "from observatory import get_versions\n",
    "results = get_versions(pages, project = project)\n",
    "results"
   ]
  },
  {
   "cell_type": "code",
   "execution_count": 9,
   "id": "401fdf37-0a0b-417c-ab1d-967404c2df18",
   "metadata": {},
   "outputs": [
    {
     "name": "stderr",
     "output_type": "stream",
     "text": [
      "/Users/enost/opt/anaconda3/lib/python3.9/site-packages/pandas/core/indexing.py:1681: SettingWithCopyWarning: \n",
      "A value is trying to be set on a copy of a slice from a DataFrame.\n",
      "Try using .loc[row_indexer,col_indexer] = value instead\n",
      "\n",
      "See the caveats in the documentation: https://pandas.pydata.org/pandas-docs/stable/user_guide/indexing.html#returning-a-view-versus-a-copy\n",
      "  self.obj[key] = empty_value\n",
      "/Users/enost/opt/anaconda3/lib/python3.9/site-packages/pandas/core/indexing.py:1773: SettingWithCopyWarning: \n",
      "A value is trying to be set on a copy of a slice from a DataFrame.\n",
      "Try using .loc[row_indexer,col_indexer] = value instead\n",
      "\n",
      "See the caveats in the documentation: https://pandas.pydata.org/pandas-docs/stable/user_guide/indexing.html#returning-a-view-versus-a-copy\n",
      "  self._setitem_single_column(ilocs[0], value, pi)\n"
     ]
    },
    {
     "name": "stdout",
     "output_type": "stream",
     "text": [
      "Done!\n"
     ]
    },
    {
     "name": "stderr",
     "output_type": "stream",
     "text": [
      "/Users/enost/Downloads/observatory_dev_v02.py:844: SettingWithCopyWarning: \n",
      "A value is trying to be set on a copy of a slice from a DataFrame.\n",
      "Try using .loc[row_indexer,col_indexer] = value instead\n",
      "\n",
      "See the caveats in the documentation: https://pandas.pydata.org/pandas-docs/stable/user_guide/indexing.html#returning-a-view-versus-a-copy\n",
      "  versions['domain'] = versions.apply(lambda row: domain(row), axis=1)\n",
      "/Users/enost/Downloads/observatory_dev_v02.py:851: SettingWithCopyWarning: \n",
      "A value is trying to be set on a copy of a slice from a DataFrame.\n",
      "Try using .loc[row_indexer,col_indexer] = value instead\n",
      "\n",
      "See the caveats in the documentation: https://pandas.pydata.org/pandas-docs/stable/user_guide/indexing.html#returning-a-view-versus-a-copy\n",
      "  versions['date'] = pandas.to_datetime(versions['date']).dt.strftime('%Y-%U') # Convert to year/week\n"
     ]
    }
   ],
   "source": [
    "# Scrape pages\n",
    "## Initialize / De-duplicate full urls\n",
    "#results = pandas.read_csv(project+\"/page_versions_full.csv\")\n",
    "from observatory import initialize_scrape\n",
    "urls = initialize_scrape(versions = results, project = project) "
   ]
  },
  {
   "cell_type": "code",
   "execution_count": 10,
   "id": "1fa6e5c3-5ed1-4d76-887a-607ee7b5af46",
   "metadata": {},
   "outputs": [
    {
     "name": "stdout",
     "output_type": "stream",
     "text": [
      "/Users/enost/Downloads/digcon_scraper/digcon_scraper\n"
     ]
    },
    {
     "name": "stderr",
     "output_type": "stream",
     "text": [
      "2022-06-30 10:03:48 [py.warnings] WARNING: /Users/enost/opt/anaconda3/lib/python3.9/site-packages/scrapy/extensions/feedexport.py:289: ScrapyDeprecationWarning: The `FEED_URI` and `FEED_FORMAT` settings have been deprecated in favor of the `FEEDS` setting. Please see the `FEEDS` setting docs for more details\n",
      "  exporter = cls(crawler)\n",
      "\n"
     ]
    },
    {
     "name": "stdout",
     "output_type": "stream",
     "text": [
      "inserting: 418\r"
     ]
    },
    {
     "name": "stderr",
     "output_type": "stream",
     "text": [
      "2022-06-30 10:04:23 [scrapy.downloadermiddlewares.retry] ERROR: Gave up retrying <GET http://web.archive.org/web/20210117230125id_/http://siouxcityjournal.com/news/world/asia/new-role-for-drones---wildlife-eco-conservation/article_fbae4a6e-c0f7-5883-b46b-aba0011109ad.html> (failed 3 times): 429 Unknown Status\n"
     ]
    },
    {
     "name": "stdout",
     "output_type": "stream",
     "text": [
      "inserting: 397\r"
     ]
    },
    {
     "name": "stderr",
     "output_type": "stream",
     "text": [
      "2022-06-30 10:04:29 [scrapy.downloadermiddlewares.retry] ERROR: Gave up retrying <GET http://img18.yfrog.com/i/e5rl.jpg/> (failed 3 times): DNS lookup failed: no results for hostname lookup: img18.yfrog.com.\n",
      "2022-06-30 10:04:29 [scrapy.core.scraper] ERROR: Error downloading <GET http://img18.yfrog.com/i/e5rl.jpg/>\n",
      "Traceback (most recent call last):\n",
      "  File \"/Users/enost/opt/anaconda3/lib/python3.9/site-packages/twisted/internet/defer.py\", line 1656, in _inlineCallbacks\n",
      "    result = current_context.run(\n",
      "  File \"/Users/enost/opt/anaconda3/lib/python3.9/site-packages/twisted/python/failure.py\", line 489, in throwExceptionIntoGenerator\n",
      "    return g.throw(self.type, self.value, self.tb)\n",
      "  File \"/Users/enost/opt/anaconda3/lib/python3.9/site-packages/scrapy/core/downloader/middleware.py\", line 49, in process_request\n",
      "    return (yield download_func(request=request, spider=spider))\n",
      "  File \"/Users/enost/opt/anaconda3/lib/python3.9/site-packages/twisted/internet/defer.py\", line 857, in _runCallbacks\n",
      "    current.result = callback(  # type: ignore[misc]\n",
      "  File \"/Users/enost/opt/anaconda3/lib/python3.9/site-packages/twisted/internet/endpoints.py\", line 1020, in startConnectionAttempts\n",
      "    raise error.DNSLookupError(\n",
      "twisted.internet.error.DNSLookupError: DNS lookup failed: no results for hostname lookup: img18.yfrog.com.\n"
     ]
    },
    {
     "name": "stdout",
     "output_type": "stream",
     "text": [
      "inserting: 514\r"
     ]
    },
    {
     "name": "stderr",
     "output_type": "stream",
     "text": [
      "2022-06-30 10:04:33 [scrapy.downloadermiddlewares.retry] ERROR: Gave up retrying <GET http://vege.tasteonline.info/uncategorized/the-week-in-wildlife-10.html> (failed 3 times): DNS lookup failed: no results for hostname lookup: vege.tasteonline.info.\n"
     ]
    },
    {
     "name": "stdout",
     "output_type": "stream",
     "text": [
      "inserting: 498\r"
     ]
    },
    {
     "name": "stderr",
     "output_type": "stream",
     "text": [
      "2022-06-30 10:04:33 [scrapy.core.scraper] ERROR: Error downloading <GET http://vege.tasteonline.info/uncategorized/the-week-in-wildlife-10.html>\n",
      "Traceback (most recent call last):\n",
      "  File \"/Users/enost/opt/anaconda3/lib/python3.9/site-packages/twisted/internet/defer.py\", line 1656, in _inlineCallbacks\n",
      "    result = current_context.run(\n",
      "  File \"/Users/enost/opt/anaconda3/lib/python3.9/site-packages/twisted/python/failure.py\", line 489, in throwExceptionIntoGenerator\n",
      "    return g.throw(self.type, self.value, self.tb)\n",
      "  File \"/Users/enost/opt/anaconda3/lib/python3.9/site-packages/scrapy/core/downloader/middleware.py\", line 49, in process_request\n",
      "    return (yield download_func(request=request, spider=spider))\n",
      "  File \"/Users/enost/opt/anaconda3/lib/python3.9/site-packages/twisted/internet/defer.py\", line 857, in _runCallbacks\n",
      "    current.result = callback(  # type: ignore[misc]\n",
      "  File \"/Users/enost/opt/anaconda3/lib/python3.9/site-packages/twisted/internet/endpoints.py\", line 1020, in startConnectionAttempts\n",
      "    raise error.DNSLookupError(\n",
      "twisted.internet.error.DNSLookupError: DNS lookup failed: no results for hostname lookup: vege.tasteonline.info.\n"
     ]
    },
    {
     "name": "stdout",
     "output_type": "stream",
     "text": [
      "inserting: 651\r"
     ]
    },
    {
     "name": "stderr",
     "output_type": "stream",
     "text": [
      "2022-06-30 10:04:50 [scrapy.downloadermiddlewares.retry] ERROR: Gave up retrying <GET https://www.environment.nsw.gov.au/media/oehmedia12121103.htm> (failed 3 times): 500 Internal Server Error\n"
     ]
    },
    {
     "name": "stdout",
     "output_type": "stream",
     "text": [
      "inserting: 726\r"
     ]
    },
    {
     "name": "stderr",
     "output_type": "stream",
     "text": [
      "2022-06-30 10:04:59 [scrapy.downloadermiddlewares.retry] ERROR: Gave up retrying <GET http://abxpz> (failed 3 times): DNS lookup failed: no results for hostname lookup: abxpz.\n",
      "2022-06-30 10:05:00 [scrapy.core.scraper] ERROR: Error downloading <GET http://abxpz>\n",
      "Traceback (most recent call last):\n",
      "  File \"/Users/enost/opt/anaconda3/lib/python3.9/site-packages/twisted/internet/defer.py\", line 1656, in _inlineCallbacks\n",
      "    result = current_context.run(\n",
      "  File \"/Users/enost/opt/anaconda3/lib/python3.9/site-packages/twisted/python/failure.py\", line 489, in throwExceptionIntoGenerator\n",
      "    return g.throw(self.type, self.value, self.tb)\n",
      "  File \"/Users/enost/opt/anaconda3/lib/python3.9/site-packages/scrapy/core/downloader/middleware.py\", line 49, in process_request\n",
      "    return (yield download_func(request=request, spider=spider))\n",
      "  File \"/Users/enost/opt/anaconda3/lib/python3.9/site-packages/twisted/internet/defer.py\", line 857, in _runCallbacks\n",
      "    current.result = callback(  # type: ignore[misc]\n",
      "  File \"/Users/enost/opt/anaconda3/lib/python3.9/site-packages/twisted/internet/endpoints.py\", line 1020, in startConnectionAttempts\n",
      "    raise error.DNSLookupError(\n",
      "twisted.internet.error.DNSLookupError: DNS lookup failed: no results for hostname lookup: abxpz.\n"
     ]
    },
    {
     "name": "stdout",
     "output_type": "stream",
     "text": [
      "inserting: 1178\r"
     ]
    },
    {
     "name": "stderr",
     "output_type": "stream",
     "text": [
      "2022-06-30 10:06:35 [scrapy.downloadermiddlewares.retry] ERROR: Gave up retrying <GET http://honorama.org/dev/top40/2261> (failed 3 times): 522 Unknown Status\n"
     ]
    },
    {
     "name": "stdout",
     "output_type": "stream",
     "text": [
      "inserting: 1351\r"
     ]
    },
    {
     "name": "stderr",
     "output_type": "stream",
     "text": [
      "2022-06-30 10:06:48 [scrapy.downloadermiddlewares.retry] ERROR: Gave up retrying <GET https://www.natureworldnews.com/articles/5737/20140122/drone-surveillance-next-step-africas-wildlife-conservation-p> (failed 3 times): 502 Bad Gateway\n"
     ]
    },
    {
     "name": "stdout",
     "output_type": "stream",
     "text": [
      "inserting: 1608\r"
     ]
    },
    {
     "name": "stderr",
     "output_type": "stream",
     "text": [
      "2022-06-30 10:07:19 [scrapy.downloadermiddlewares.retry] ERROR: Gave up retrying <GET https://www.science.org/doi/abs/10.1126/science.344.6183.459> (failed 3 times): 503 Service Unavailable\n"
     ]
    },
    {
     "name": "stdout",
     "output_type": "stream",
     "text": [
      "inserting: 1617\r"
     ]
    },
    {
     "name": "stderr",
     "output_type": "stream",
     "text": [
      "2022-06-30 10:07:19 [scrapy.downloadermiddlewares.retry] ERROR: Gave up retrying <GET https://www.science.org/doi/pdf/10.1126/science.344.6183.459> (failed 3 times): 503 Service Unavailable\n"
     ]
    },
    {
     "name": "stdout",
     "output_type": "stream",
     "text": [
      "inserting: 1676\r"
     ]
    },
    {
     "name": "stderr",
     "output_type": "stream",
     "text": [
      "2022-06-30 10:07:27 [scrapy.downloadermiddlewares.retry] ERROR: Gave up retrying <GET http://www.abudhabicityguide.com/news/news-details.asp> (failed 3 times): 500 Internal Server Error\n"
     ]
    },
    {
     "name": "stdout",
     "output_type": "stream",
     "text": [
      "inserting: 1679\r"
     ]
    },
    {
     "name": "stderr",
     "output_type": "stream",
     "text": [
      "2022-06-30 10:07:28 [scrapy.downloadermiddlewares.retry] ERROR: Gave up retrying <GET http://www.abudhabicityguide.com/m/news/news-details.asp> (failed 3 times): 500 Internal Server Error\n"
     ]
    },
    {
     "name": "stdout",
     "output_type": "stream",
     "text": [
      "inserting: 1775\r"
     ]
    },
    {
     "name": "stderr",
     "output_type": "stream",
     "text": [
      "2022-06-30 10:07:38 [scrapy.downloadermiddlewares.retry] ERROR: Gave up retrying <GET https://www.science.org/doi/abs/10.1126/science.344.6190.1351-a> (failed 3 times): 503 Service Unavailable\n"
     ]
    },
    {
     "name": "stdout",
     "output_type": "stream",
     "text": [
      "inserting: 1802\r"
     ]
    },
    {
     "name": "stderr",
     "output_type": "stream",
     "text": [
      "2022-06-30 10:07:39 [scrapy.downloadermiddlewares.retry] ERROR: Gave up retrying <GET http://www.progettowtm.com//magazine/read/expedia-hotel-view_39.html> (failed 3 times): DNS lookup failed: no results for hostname lookup: www.progettowtm.com.\n",
      "2022-06-30 10:07:39 [scrapy.core.scraper] ERROR: Error downloading <GET http://www.progettowtm.com//magazine/read/expedia-hotel-view_39.html>\n",
      "Traceback (most recent call last):\n",
      "  File \"/Users/enost/opt/anaconda3/lib/python3.9/site-packages/twisted/internet/defer.py\", line 1656, in _inlineCallbacks\n",
      "    result = current_context.run(\n",
      "  File \"/Users/enost/opt/anaconda3/lib/python3.9/site-packages/twisted/python/failure.py\", line 489, in throwExceptionIntoGenerator\n",
      "    return g.throw(self.type, self.value, self.tb)\n",
      "  File \"/Users/enost/opt/anaconda3/lib/python3.9/site-packages/scrapy/core/downloader/middleware.py\", line 49, in process_request\n",
      "    return (yield download_func(request=request, spider=spider))\n",
      "  File \"/Users/enost/opt/anaconda3/lib/python3.9/site-packages/twisted/internet/defer.py\", line 857, in _runCallbacks\n",
      "    current.result = callback(  # type: ignore[misc]\n",
      "  File \"/Users/enost/opt/anaconda3/lib/python3.9/site-packages/twisted/internet/endpoints.py\", line 1020, in startConnectionAttempts\n",
      "    raise error.DNSLookupError(\n",
      "twisted.internet.error.DNSLookupError: DNS lookup failed: no results for hostname lookup: www.progettowtm.com.\n"
     ]
    },
    {
     "name": "stdout",
     "output_type": "stream",
     "text": [
      "inserting: 1808\r"
     ]
    },
    {
     "name": "stderr",
     "output_type": "stream",
     "text": [
      "2022-06-30 10:07:39 [scrapy.downloadermiddlewares.retry] ERROR: Gave up retrying <GET https://www.science.org/doi/full/10.1126/science.344.6183.459> (failed 3 times): 503 Service Unavailable\n"
     ]
    },
    {
     "name": "stdout",
     "output_type": "stream",
     "text": [
      "inserting: 1941\r"
     ]
    },
    {
     "name": "stderr",
     "output_type": "stream",
     "text": [
      "2022-06-30 10:07:52 [scrapy.downloadermiddlewares.retry] ERROR: Gave up retrying <GET http://1drv.ms/1s6m5oi> (failed 3 times): 500 Internal Server Error\n"
     ]
    },
    {
     "name": "stdout",
     "output_type": "stream",
     "text": [
      "inserting: 2148\r"
     ]
    },
    {
     "name": "stderr",
     "output_type": "stream",
     "text": [
      "2022-06-30 10:08:19 [scrapy.downloadermiddlewares.retry] ERROR: Gave up retrying <GET https://www.science.org/doi/full/10.1126/science.1256014> (failed 3 times): 503 Service Unavailable\n"
     ]
    },
    {
     "name": "stdout",
     "output_type": "stream",
     "text": [
      "inserting: 2307\r"
     ]
    },
    {
     "name": "stderr",
     "output_type": "stream",
     "text": [
      "2022-06-30 10:08:35 [scrapy.downloadermiddlewares.retry] ERROR: Gave up retrying <GET http://web.archive.org/web/20141110214209id_/http://www.x20.org/drones-custom-infrared-cameras-stop-rhino-poaching/> (failed 3 times): 429 Unknown Status\n"
     ]
    },
    {
     "name": "stdout",
     "output_type": "stream",
     "text": [
      "inserting: 2683\r"
     ]
    },
    {
     "name": "stderr",
     "output_type": "stream",
     "text": [
      "2022-06-30 10:09:31 [scrapy.downloadermiddlewares.retry] ERROR: Gave up retrying <GET http://earthfix.us/prairie> (failed 3 times): TCP connection timed out: 60: Operation timed out.\n",
      "2022-06-30 10:09:31 [scrapy.core.scraper] ERROR: Error downloading <GET http://earthfix.us/prairie>\n",
      "Traceback (most recent call last):\n",
      "  File \"/Users/enost/opt/anaconda3/lib/python3.9/site-packages/scrapy/core/downloader/middleware.py\", line 49, in process_request\n",
      "    return (yield download_func(request=request, spider=spider))\n",
      "twisted.internet.error.TCPTimedOutError: TCP connection timed out: 60: Operation timed out.\n"
     ]
    },
    {
     "name": "stdout",
     "output_type": "stream",
     "text": [
      "inserting: 2788\r"
     ]
    },
    {
     "name": "stderr",
     "output_type": "stream",
     "text": [
      "2022-06-30 10:09:46 [scrapy.downloadermiddlewares.retry] ERROR: Gave up retrying <GET https://onlinelibrary.wiley.com/resolve/doi> (failed 3 times): 503 Service Unavailable\n"
     ]
    },
    {
     "name": "stdout",
     "output_type": "stream",
     "text": [
      "inserting: 2886\r"
     ]
    },
    {
     "name": "stderr",
     "output_type": "stream",
     "text": [
      "2022-06-30 10:09:58 [scrapy.downloadermiddlewares.retry] ERROR: Gave up retrying <GET https://popist.com/s/02f53cc/> (failed 3 times): 500 Internal Server Error\n"
     ]
    },
    {
     "name": "stdout",
     "output_type": "stream",
     "text": [
      "inserting: 3045\r"
     ]
    },
    {
     "name": "stderr",
     "output_type": "stream",
     "text": [
      "2022-06-30 10:10:24 [scrapy.downloadermiddlewares.retry] ERROR: Gave up retrying <GET http://technews.doyoustillhateme.com/amazon-conservation-group-use-drones-to-fight-rain-forest-logging/> (failed 3 times): 500 Internal Server Error\n"
     ]
    },
    {
     "name": "stdout",
     "output_type": "stream",
     "text": [
      "inserting: 3125\r"
     ]
    },
    {
     "name": "stderr",
     "output_type": "stream",
     "text": [
      "2022-06-30 10:10:41 [scrapy.downloadermiddlewares.retry] ERROR: Gave up retrying <GET https://www.linkedin.com/secure/preRegInvite?=&sharedKey=upMB28k_&invitationID=6046896995044454401&trk=sms-guest-invite-connect&midToken=AQGaD2D2z7qRZQ&fromEmail=fromEmail&ut=1Fu3LExFVOiWk1> (failed 3 times): 502 Bad Gateway\n"
     ]
    },
    {
     "name": "stdout",
     "output_type": "stream",
     "text": [
      "inserting: 3311\r"
     ]
    },
    {
     "name": "stderr",
     "output_type": "stream",
     "text": [
      "2022-06-30 10:11:41 [scrapy.downloadermiddlewares.retry] ERROR: Gave up retrying <GET http://web.archive.org/web/20210824063724id_/http://news.nationalgeographic.com/2015/08/150825-data-points-citizen-science/> (failed 3 times): 503 Service Unavailable\n"
     ]
    },
    {
     "name": "stdout",
     "output_type": "stream",
     "text": [
      "inserting: 3365\r"
     ]
    },
    {
     "name": "stderr",
     "output_type": "stream",
     "text": [
      "2022-06-30 10:11:48 [scrapy.downloadermiddlewares.retry] ERROR: Gave up retrying <GET http://nrc-prod.literatumonline.com/toc/juvs/3/3> (failed 3 times): 503 Service Unavailable\n"
     ]
    },
    {
     "name": "stdout",
     "output_type": "stream",
     "text": [
      "inserting: 3360\r"
     ]
    },
    {
     "name": "stderr",
     "output_type": "stream",
     "text": [
      "2022-06-30 10:11:49 [scrapy.downloadermiddlewares.retry] ERROR: Gave up retrying <GET http://web.archive.org/web/20220613220832id_/https://esajournals.onlinelibrary.wiley.com/> (failed 3 times): 503 Service Unavailable\n"
     ]
    },
    {
     "name": "stdout",
     "output_type": "stream",
     "text": [
      "inserting: 3435\r"
     ]
    },
    {
     "name": "stderr",
     "output_type": "stream",
     "text": [
      "2022-06-30 10:11:55 [scrapy.downloadermiddlewares.retry] ERROR: Gave up retrying <GET http://www.uavexpertnews.com/drones-could-reduce-cost-of-forest-conservation> (failed 3 times): 500 Internal Server Error\n"
     ]
    },
    {
     "name": "stdout",
     "output_type": "stream",
     "text": [
      "inserting: 3470\r"
     ]
    },
    {
     "name": "stderr",
     "output_type": "stream",
     "text": [
      "2022-06-30 10:11:56 [scrapy.downloadermiddlewares.retry] ERROR: Gave up retrying <GET http://www.uavexpertnews.com/drones-could-reduce-cost-of-forest-conservation/> (failed 3 times): 500 Internal Server Error\n"
     ]
    },
    {
     "name": "stdout",
     "output_type": "stream",
     "text": [
      "inserting: 3537\r"
     ]
    },
    {
     "name": "stderr",
     "output_type": "stream",
     "text": [
      "2022-06-30 10:12:03 [scrapy.downloadermiddlewares.retry] ERROR: Gave up retrying <GET http://wpo.st/ij-j0> (failed 3 times): 503 Service Unavailable\n",
      "2022-06-30 10:12:03 [scrapy.downloadermiddlewares.retry] ERROR: Gave up retrying <GET http://wpo.st/of1j0> (failed 3 times): 503 Service Unavailable\n"
     ]
    },
    {
     "name": "stdout",
     "output_type": "stream",
     "text": [
      "inserting: 3595\r"
     ]
    },
    {
     "name": "stderr",
     "output_type": "stream",
     "text": [
      "2022-06-30 10:12:08 [scrapy.downloadermiddlewares.retry] ERROR: Gave up retrying <GET http://www.uavexpertnews.com/fire-starting-drone-could-improve-conservation/> (failed 3 times): 500 Internal Server Error\n"
     ]
    },
    {
     "name": "stdout",
     "output_type": "stream",
     "text": [
      "inserting: 3651\r"
     ]
    },
    {
     "name": "stderr",
     "output_type": "stream",
     "text": [
      "2022-06-30 10:12:12 [scrapy.downloadermiddlewares.retry] ERROR: Gave up retrying <GET http://web.archive.org/web/20220607023253id_/https://www.gofundme.com/discover/other-fundraiser> (failed 3 times): 500 Internal Server Error\n"
     ]
    },
    {
     "name": "stdout",
     "output_type": "stream",
     "text": [
      "inserting: 3784\r"
     ]
    },
    {
     "name": "stderr",
     "output_type": "stream",
     "text": [
      "2022-06-30 10:12:34 [scrapy.downloadermiddlewares.retry] ERROR: Gave up retrying <GET http://www.uavexpertnews.com/drone-uses-in-conservation-and-agriculture/> (failed 3 times): 500 Internal Server Error\n"
     ]
    },
    {
     "name": "stdout",
     "output_type": "stream",
     "text": [
      "inserting: 3909\r"
     ]
    },
    {
     "name": "stderr",
     "output_type": "stream",
     "text": [
      "2022-06-30 10:12:51 [scrapy.downloadermiddlewares.retry] ERROR: Gave up retrying <GET http://www.uavexpertnews.com/using-drones-to-study-high-altitude-glaciers/> (failed 3 times): 500 Internal Server Error\n"
     ]
    },
    {
     "name": "stdout",
     "output_type": "stream",
     "text": [
      "inserting: 3924\r"
     ]
    },
    {
     "name": "stderr",
     "output_type": "stream",
     "text": [
      "2022-06-30 10:12:54 [scrapy.downloadermiddlewares.retry] ERROR: Gave up retrying <GET http://lynk.pw/57q9> (failed 3 times): 522 Unknown Status\n"
     ]
    },
    {
     "name": "stdout",
     "output_type": "stream",
     "text": [
      "inserting: 3910\r"
     ]
    },
    {
     "name": "stderr",
     "output_type": "stream",
     "text": [
      "2022-06-30 10:13:07 [scrapy.downloadermiddlewares.retry] ERROR: Gave up retrying <GET https://onlinelibrary.wiley.com/doi/10.1111/cobi.12696/abstract> (failed 3 times): 503 Service Unavailable\n"
     ]
    },
    {
     "name": "stdout",
     "output_type": "stream",
     "text": [
      "inserting: 4126\r"
     ]
    },
    {
     "name": "stderr",
     "output_type": "stream",
     "text": [
      "2022-06-30 10:13:18 [scrapy.downloadermiddlewares.retry] ERROR: Gave up retrying <GET https://www.cell.com/current-biology/fulltext/s0960-9822(16)30318-9> (failed 3 times): 503 Service Unavailable\n"
     ]
    },
    {
     "name": "stdout",
     "output_type": "stream",
     "text": [
      "inserting: 4218\r"
     ]
    },
    {
     "name": "stderr",
     "output_type": "stream",
     "text": [
      "2022-06-30 10:13:33 [scrapy.downloadermiddlewares.retry] ERROR: Gave up retrying <GET https://www.thefabricator.com/thefabricator/news/shopmanagement/institute-developing-sensors-for-manufacturers-energy-efficiency-to-receive-140-million> (failed 3 times): [<twisted.python.failure.Failure twisted.internet.error.ConnectionLost: Connection to the other side was lost in a non-clean fashion: Connection lost.>]\n",
      "2022-06-30 10:13:33 [scrapy.core.scraper] ERROR: Error downloading <GET https://www.thefabricator.com/thefabricator/news/shopmanagement/institute-developing-sensors-for-manufacturers-energy-efficiency-to-receive-140-million>\n",
      "Traceback (most recent call last):\n",
      "  File \"/Users/enost/opt/anaconda3/lib/python3.9/site-packages/scrapy/core/downloader/middleware.py\", line 49, in process_request\n",
      "    return (yield download_func(request=request, spider=spider))\n",
      "twisted.web._newclient.ResponseNeverReceived: [<twisted.python.failure.Failure twisted.internet.error.ConnectionLost: Connection to the other side was lost in a non-clean fashion: Connection lost.>]\n"
     ]
    },
    {
     "name": "stdout",
     "output_type": "stream",
     "text": [
      "inserting: 4340\r"
     ]
    },
    {
     "name": "stderr",
     "output_type": "stream",
     "text": [
      "2022-06-30 10:13:49 [scrapy.downloadermiddlewares.retry] ERROR: Gave up retrying <GET https://www.environment.sa.gov.au/goodliving/posts/2016/06/deep-creek-drone> (failed 3 times): 500 Internal Server Error\n"
     ]
    },
    {
     "name": "stdout",
     "output_type": "stream",
     "text": [
      "inserting: 4408\r"
     ]
    },
    {
     "name": "stderr",
     "output_type": "stream",
     "text": [
      "2022-06-30 10:14:01 [scrapy.downloadermiddlewares.retry] ERROR: Gave up retrying <GET https://720yun.com/t/53225qa69yv> (failed 3 times): 502 Bad Gateway\n"
     ]
    },
    {
     "name": "stdout",
     "output_type": "stream",
     "text": [
      "inserting: 4591\r"
     ]
    },
    {
     "name": "stderr",
     "output_type": "stream",
     "text": [
      "2022-06-30 10:14:22 [scrapy.downloadermiddlewares.retry] ERROR: Gave up retrying <GET http://wpo.st/nlk92> (failed 3 times): 503 Service Unavailable\n"
     ]
    },
    {
     "name": "stdout",
     "output_type": "stream",
     "text": [
      "inserting: 4780\r"
     ]
    },
    {
     "name": "stderr",
     "output_type": "stream",
     "text": [
      "2022-06-30 10:14:50 [scrapy.downloadermiddlewares.retry] ERROR: Gave up retrying <GET https://news.nationalgeographic.com/2016/12/drones-fight-pirate-fishing-belize-conservation.html> (failed 3 times): 503 Service Unavailable\n"
     ]
    },
    {
     "name": "stdout",
     "output_type": "stream",
     "text": [
      "inserting: 4846\r"
     ]
    },
    {
     "name": "stderr",
     "output_type": "stream",
     "text": [
      "2022-06-30 10:14:59 [scrapy.core.downloader.handlers.http11] WARNING: Expected response size (94875070) larger than download warn size (33554432) in request <GET http://web.archive.org/web/20171113065047id_/https://cdn.airvuz.com/drone-video/c69cb089e31a695c6bfa425462af9830/c69cb089e31a695c6bfa425462af9830.mp4>.\n"
     ]
    },
    {
     "name": "stdout",
     "output_type": "stream",
     "text": [
      "inserting: 5064\r"
     ]
    },
    {
     "name": "stderr",
     "output_type": "stream",
     "text": [
      "2022-06-30 10:15:25 [scrapy.downloadermiddlewares.retry] ERROR: Gave up retrying <GET https://www.cell.com/trends/immunology/fulltext/s1471-4906%2817%2930054-6> (failed 3 times): 503 Service Unavailable\n"
     ]
    },
    {
     "name": "stdout",
     "output_type": "stream",
     "text": [
      "inserting: 5162\r"
     ]
    },
    {
     "name": "stderr",
     "output_type": "stream",
     "text": [
      "2022-06-30 10:15:36 [scrapy.downloadermiddlewares.retry] ERROR: Gave up retrying <GET https://www.sectorpublishingintelligence.co.uk/news/1726319/water+conservation+technologies+in+agriculture+2017+drip+irrigation+desalination+hydroponics+vri+awg+and+sensors+and+smart+meters++research+and+markets> (failed 3 times): 500 Internal Server Error\n"
     ]
    },
    {
     "name": "stdout",
     "output_type": "stream",
     "text": [
      "inserting: 5195\r"
     ]
    },
    {
     "name": "stderr",
     "output_type": "stream",
     "text": [
      "2022-06-30 10:15:42 [scrapy.downloadermiddlewares.retry] ERROR: Gave up retrying <GET https://www.quora.com/How-viable-do-you-think-would-be-to-use-drones-for-conservation-maintenance-of-historic-buildings/answer/Geoff-Parsons-3> (failed 3 times): 429 Unknown Status\n"
     ]
    },
    {
     "name": "stdout",
     "output_type": "stream",
     "text": [
      "inserting: 5316\r"
     ]
    },
    {
     "name": "stderr",
     "output_type": "stream",
     "text": [
      "2022-06-30 10:16:20 [scrapy.downloadermiddlewares.retry] ERROR: Gave up retrying <GET https://www.airvuz.com/play> (failed 3 times): 504 Gateway Time-out\n"
     ]
    },
    {
     "name": "stdout",
     "output_type": "stream",
     "text": [
      "inserting: 5425\r"
     ]
    },
    {
     "name": "stderr",
     "output_type": "stream",
     "text": [
      "2022-06-30 10:16:42 [scrapy.downloadermiddlewares.retry] ERROR: Gave up retrying <GET https://onlinelibrary.wiley.com/doi/10.1002/rse2.62/full> (failed 3 times): 503 Service Unavailable\n"
     ]
    },
    {
     "name": "stdout",
     "output_type": "stream",
     "text": [
      "inserting: 5452\r"
     ]
    },
    {
     "name": "stderr",
     "output_type": "stream",
     "text": [
      "2022-06-30 10:16:46 [scrapy.core.downloader.handlers.http11] WARNING: Received more bytes than download warn size (33554432) in request <GET http://web.archive.org/web/20171113065047id_/https://cdn.airvuz.com/drone-video/c69cb089e31a695c6bfa425462af9830/c69cb089e31a695c6bfa425462af9830.mp4>.\n"
     ]
    },
    {
     "name": "stdout",
     "output_type": "stream",
     "text": [
      "inserting: 5750\r"
     ]
    },
    {
     "name": "stderr",
     "output_type": "stream",
     "text": [
      "2022-06-30 10:17:26 [scrapy.downloadermiddlewares.retry] ERROR: Gave up retrying <GET https://environment.ec.europa.eu/life/news/newsarchive2018/january/index.htm> (failed 3 times): 503 Service Unavailable\n",
      "2022-06-30 10:17:26 [scrapy.downloadermiddlewares.retry] ERROR: Gave up retrying <GET http://steemit.com/photography/@britcoins/bangpu-recreation-center-and-wetland-conservation> (failed 3 times): 522 Unknown Status\n"
     ]
    },
    {
     "name": "stdout",
     "output_type": "stream",
     "text": [
      "inserting: 5943\r"
     ]
    },
    {
     "name": "stderr",
     "output_type": "stream",
     "text": [
      "2022-06-30 10:17:44 [scrapy.core.downloader.handlers.http11] WARNING: Expected response size (55069089) larger than download warn size (33554432) in request <GET http://web.archive.org/web/20220121233636id_/http://www.int-res.com/articles/suppl/n035p081_supp/N877Supplement_1.mp4>.\n"
     ]
    },
    {
     "name": "stdout",
     "output_type": "stream",
     "text": [
      "inserting: 5942\r"
     ]
    },
    {
     "name": "stderr",
     "output_type": "stream",
     "text": [
      "2022-06-30 10:17:45 [scrapy.downloadermiddlewares.retry] ERROR: Gave up retrying <GET https://onlinelibrary.wiley.com/doi/10.1111/2041-210x.12992/abstract> (failed 3 times): 503 Service Unavailable\n"
     ]
    },
    {
     "name": "stdout",
     "output_type": "stream",
     "text": [
      "inserting: 6044\r"
     ]
    },
    {
     "name": "stderr",
     "output_type": "stream",
     "text": [
      "2022-06-30 10:17:58 [scrapy.core.downloader.handlers.http11] WARNING: Expected response size (94875070) larger than download warn size (33554432) in request <GET http://web.archive.org/web/20171113065047id_/https://cdn.airvuz.com/drone-video/c69cb089e31a695c6bfa425462af9830/c69cb089e31a695c6bfa425462af9830.mp4>.\n"
     ]
    },
    {
     "name": "stdout",
     "output_type": "stream",
     "text": [
      "inserting: 6038\r"
     ]
    },
    {
     "name": "stderr",
     "output_type": "stream",
     "text": [
      "2022-06-30 10:17:59 [scrapy.downloadermiddlewares.retry] ERROR: Gave up retrying <GET https://onlinelibrary.wiley.com/doi/abs/10.1002/aqc.2890> (failed 3 times): 503 Service Unavailable\n"
     ]
    },
    {
     "name": "stdout",
     "output_type": "stream",
     "text": [
      "inserting: 6029\r"
     ]
    },
    {
     "name": "stderr",
     "output_type": "stream",
     "text": [
      "2022-06-30 10:17:59 [scrapy.downloadermiddlewares.retry] ERROR: Gave up retrying <GET https://news.nationalgeographic.com/2018/04/thermal-infrared-cameras-drones-poaching-conservation-animals-spd.html> (failed 3 times): 503 Service Unavailable\n"
     ]
    },
    {
     "name": "stdout",
     "output_type": "stream",
     "text": [
      "inserting: 6058\r"
     ]
    },
    {
     "name": "stderr",
     "output_type": "stream",
     "text": [
      "2022-06-30 10:18:00 [scrapy.downloadermiddlewares.retry] ERROR: Gave up retrying <GET https://www.dub.io/tw/39993886> (failed 3 times): 500 Internal Server Error\n"
     ]
    },
    {
     "name": "stdout",
     "output_type": "stream",
     "text": [
      "inserting: 6096\r"
     ]
    },
    {
     "name": "stderr",
     "output_type": "stream",
     "text": [
      "2022-06-30 10:18:06 [scrapy.downloadermiddlewares.retry] ERROR: Gave up retrying <GET https://besjournals.onlinelibrary.wiley.com/doi/full/10.1111/1365-2664.13148> (failed 3 times): 503 Service Unavailable\n"
     ]
    },
    {
     "name": "stdout",
     "output_type": "stream",
     "text": [
      "inserting: 6169\r"
     ]
    },
    {
     "name": "stderr",
     "output_type": "stream",
     "text": [
      "2022-06-30 10:18:10 [scrapy.downloadermiddlewares.retry] ERROR: Gave up retrying <GET https://onlinelibrary.wiley.com/doi/full/10.1111/mam.12046> (failed 3 times): 503 Service Unavailable\n"
     ]
    },
    {
     "name": "stdout",
     "output_type": "stream",
     "text": [
      "inserting: 6223\r"
     ]
    },
    {
     "name": "stderr",
     "output_type": "stream",
     "text": [
      "2022-06-30 10:18:18 [scrapy.downloadermiddlewares.retry] ERROR: Gave up retrying <GET https://zslpublications.onlinelibrary.wiley.com/toc/20563485/4/1> (failed 3 times): 503 Service Unavailable\n"
     ]
    },
    {
     "name": "stdout",
     "output_type": "stream",
     "text": [
      "inserting: 6466\r"
     ]
    },
    {
     "name": "stderr",
     "output_type": "stream",
     "text": [
      "2022-06-30 10:18:51 [scrapy.downloadermiddlewares.retry] ERROR: Gave up retrying <GET https://www.droneascent.com/5191-2/> (failed 3 times): 503 Service Unavailable\n"
     ]
    },
    {
     "name": "stdout",
     "output_type": "stream",
     "text": [
      "inserting: 6571\r"
     ]
    },
    {
     "name": "stderr",
     "output_type": "stream",
     "text": [
      "2022-06-30 10:19:07 [scrapy.downloadermiddlewares.retry] ERROR: Gave up retrying <GET https://zslpublications.onlinelibrary.wiley.com/doi/abs/10.1002/rse2.58> (failed 3 times): 503 Service Unavailable\n"
     ]
    },
    {
     "name": "stdout",
     "output_type": "stream",
     "text": [
      "inserting: 6581\r"
     ]
    },
    {
     "name": "stderr",
     "output_type": "stream",
     "text": [
      "2022-06-30 10:19:20 [scrapy.core.downloader.handlers.http11] WARNING: Received more bytes than download warn size (33554432) in request <GET http://web.archive.org/web/20171113065047id_/https://cdn.airvuz.com/drone-video/c69cb089e31a695c6bfa425462af9830/c69cb089e31a695c6bfa425462af9830.mp4>.\n",
      "2022-06-30 10:19:20 [scrapy.core.downloader.handlers.http11] WARNING: Received more bytes than download warn size (33554432) in request <GET http://web.archive.org/web/20220121233636id_/http://www.int-res.com/articles/suppl/n035p081_supp/N877Supplement_1.mp4>.\n"
     ]
    },
    {
     "name": "stdout",
     "output_type": "stream",
     "text": [
      "inserting: 6599\r"
     ]
    },
    {
     "name": "stderr",
     "output_type": "stream",
     "text": [
      "2022-06-30 10:19:23 [scrapy.downloadermiddlewares.retry] ERROR: Gave up retrying <GET https://onlinelibrary.wiley.com/doi/abs/10.1111/cobi.12706> (failed 3 times): 503 Service Unavailable\n"
     ]
    },
    {
     "name": "stdout",
     "output_type": "stream",
     "text": [
      "inserting: 6611\r"
     ]
    },
    {
     "name": "stderr",
     "output_type": "stream",
     "text": [
      "2022-06-30 10:19:28 [scrapy.downloadermiddlewares.retry] ERROR: Gave up retrying <GET https://www.droneascent.com/more-advances-in-drone-for-conservation/> (failed 3 times): 503 Service Unavailable\n"
     ]
    },
    {
     "name": "stdout",
     "output_type": "stream",
     "text": [
      "inserting: 6649\r"
     ]
    },
    {
     "name": "stderr",
     "output_type": "stream",
     "text": [
      "2022-06-30 10:19:30 [scrapy.downloadermiddlewares.retry] ERROR: Gave up retrying <GET https://www.pnas.org/doi/10.1073/pnas.1811906115> (failed 3 times): 503 Service Unavailable\n"
     ]
    },
    {
     "name": "stdout",
     "output_type": "stream",
     "text": [
      "inserting: 6791\r"
     ]
    },
    {
     "name": "stderr",
     "output_type": "stream",
     "text": [
      "2022-06-30 10:19:59 [scrapy.downloadermiddlewares.retry] ERROR: Gave up retrying <GET https://esajournals.onlinelibrary.wiley.com/doi/abs/10.1002/fee.1281> (failed 3 times): 503 Service Unavailable\n"
     ]
    },
    {
     "name": "stdout",
     "output_type": "stream",
     "text": [
      "inserting: 6880\r"
     ]
    },
    {
     "name": "stderr",
     "output_type": "stream",
     "text": [
      "2022-06-30 10:20:06 [scrapy.downloadermiddlewares.retry] ERROR: Gave up retrying <GET https://newsd.in/dark-side-of-the-viral-bear-cub-video/> (failed 3 times): 503 Service Unavailable\n"
     ]
    },
    {
     "name": "stdout",
     "output_type": "stream",
     "text": [
      "inserting: 6815\r"
     ]
    },
    {
     "name": "stderr",
     "output_type": "stream",
     "text": [
      "2022-06-30 10:20:09 [scrapy.downloadermiddlewares.retry] ERROR: Gave up retrying <GET https://www.droneascent.com/aerial-footage-of-bears-sparks-> (failed 3 times): 503 Service Unavailable\n"
     ]
    },
    {
     "name": "stdout",
     "output_type": "stream",
     "text": [
      "inserting: 6965\r"
     ]
    },
    {
     "name": "stderr",
     "output_type": "stream",
     "text": [
      "2022-06-30 10:20:18 [scrapy.downloadermiddlewares.retry] ERROR: Gave up retrying <GET https://onlinelibrary.wiley.com/doi/full/10.1111/aje.12568> (failed 3 times): 503 Service Unavailable\n"
     ]
    },
    {
     "name": "stdout",
     "output_type": "stream",
     "text": [
      "inserting: 6937\r"
     ]
    },
    {
     "name": "stderr",
     "output_type": "stream",
     "text": [
      "2022-06-30 10:20:20 [scrapy.downloadermiddlewares.retry] ERROR: Gave up retrying <GET https://www.droneascent.com/aerial-footage-of-bears-sparks-debate-of-drones-and-conservation/> (failed 3 times): 503 Service Unavailable\n"
     ]
    },
    {
     "name": "stdout",
     "output_type": "stream",
     "text": [
      "inserting: 6995\r"
     ]
    },
    {
     "name": "stderr",
     "output_type": "stream",
     "text": [
      "2022-06-30 10:20:23 [scrapy.downloadermiddlewares.retry] ERROR: Gave up retrying <GET https://onlinelibrary.wiley.com/doi/full/10.1111/aje.12550> (failed 3 times): 503 Service Unavailable\n"
     ]
    },
    {
     "name": "stdout",
     "output_type": "stream",
     "text": [
      "inserting: 7072\r"
     ]
    },
    {
     "name": "stderr",
     "output_type": "stream",
     "text": [
      "2022-06-30 10:20:36 [scrapy.downloadermiddlewares.retry] ERROR: Gave up retrying <GET https://www.droneascent.com/drones-aid-in-conservation-of-elusive-nightjar-bird/> (failed 3 times): 503 Service Unavailable\n"
     ]
    },
    {
     "name": "stdout",
     "output_type": "stream",
     "text": [
      "inserting: 7182\r"
     ]
    },
    {
     "name": "stderr",
     "output_type": "stream",
     "text": [
      "2022-06-30 10:20:53 [scrapy.downloadermiddlewares.retry] ERROR: Gave up retrying <GET https://www.cambridge.org/core/journals/bird-conservation-international/article/cameratrapping-successfully-and-noninvasively-reveals-the-presence-activity-and-habitat-choice-of-the-critically-endangered-whitewinged-flufftail-sarothrura-ayresi-in-a-south-african-highaltitude-wetland/78d78eef40a9f5a6ab3345ea2381959e> (failed 3 times): 500 Internal Server Error\n"
     ]
    },
    {
     "name": "stdout",
     "output_type": "stream",
     "text": [
      "inserting: 7199\r"
     ]
    },
    {
     "name": "stderr",
     "output_type": "stream",
     "text": [
      "2022-06-30 10:20:58 [scrapy.downloadermiddlewares.retry] ERROR: Gave up retrying <GET https://pb.fyi/4sqc> (failed 3 times): 503 Service Unavailable\n"
     ]
    },
    {
     "name": "stdout",
     "output_type": "stream",
     "text": [
      "inserting: 7223\r"
     ]
    },
    {
     "name": "stderr",
     "output_type": "stream",
     "text": [
      "2022-06-30 10:21:00 [scrapy.core.downloader.handlers.http11] WARNING: Expected response size (94875070) larger than download warn size (33554432) in request <GET http://web.archive.org/web/20171113065047id_/https://cdn.airvuz.com/drone-video/c69cb089e31a695c6bfa425462af9830/c69cb089e31a695c6bfa425462af9830.mp4>.\n"
     ]
    },
    {
     "name": "stdout",
     "output_type": "stream",
     "text": [
      "inserting: 7245\r"
     ]
    },
    {
     "name": "stderr",
     "output_type": "stream",
     "text": [
      "2022-06-30 10:21:08 [scrapy.downloadermiddlewares.retry] ERROR: Gave up retrying <GET https://onlinelibrary.wiley.com/doi/full/10.1002/aqc.3058> (failed 3 times): 503 Service Unavailable\n"
     ]
    },
    {
     "name": "stdout",
     "output_type": "stream",
     "text": [
      "inserting: 7265\r"
     ]
    },
    {
     "name": "stderr",
     "output_type": "stream",
     "text": [
      "2022-06-30 10:21:08 [scrapy.downloadermiddlewares.retry] ERROR: Gave up retrying <GET https://onlinelibrary.wiley.com/doi/pdf/10.1002/aqc.3058> (failed 3 times): 503 Service Unavailable\n"
     ]
    },
    {
     "name": "stdout",
     "output_type": "stream",
     "text": [
      "inserting: 7348\r"
     ]
    },
    {
     "name": "stderr",
     "output_type": "stream",
     "text": [
      "2022-06-30 10:21:23 [scrapy.downloadermiddlewares.retry] ERROR: Gave up retrying <GET https://www.quora.com/Would-drones-be-effective-against-poachers/answer/Fabian-Petersen-2> (failed 3 times): 429 Unknown Status\n"
     ]
    },
    {
     "name": "stdout",
     "output_type": "stream",
     "text": [
      "inserting: 7380\r"
     ]
    },
    {
     "name": "stderr",
     "output_type": "stream",
     "text": [
      "2022-06-30 10:21:31 [scrapy.downloadermiddlewares.retry] ERROR: Gave up retrying <GET http://bublup.co/2ltq30ogwbu> (failed 3 times): 503 Service Unavailable\n"
     ]
    },
    {
     "name": "stdout",
     "output_type": "stream",
     "text": [
      "inserting: 7421\r"
     ]
    },
    {
     "name": "stderr",
     "output_type": "stream",
     "text": [
      "2022-06-30 10:21:36 [scrapy.downloadermiddlewares.retry] ERROR: Gave up retrying <GET https://www.reuters.com/video/watch/drones-revolutionize-orangutan-conservat-id538544819> (failed 3 times): 503 Service Unavailable\n"
     ]
    },
    {
     "name": "stdout",
     "output_type": "stream",
     "text": [
      "inserting: 7436\r"
     ]
    },
    {
     "name": "stderr",
     "output_type": "stream",
     "text": [
      "2022-06-30 10:21:37 [scrapy.downloadermiddlewares.retry] ERROR: Gave up retrying <GET https://www.reuters.com/video/watch/idpfm4> (failed 3 times): 503 Service Unavailable\n"
     ]
    },
    {
     "name": "stdout",
     "output_type": "stream",
     "text": [
      "inserting: 7469\r"
     ]
    },
    {
     "name": "stderr",
     "output_type": "stream",
     "text": [
      "2022-06-30 10:21:45 [scrapy.downloadermiddlewares.retry] ERROR: Gave up retrying <GET http://www.qiosk.com/> (failed 3 times): TCP connection timed out: 60: Operation timed out.\n",
      "2022-06-30 10:21:45 [scrapy.core.scraper] ERROR: Error downloading <GET http://www.qiosk.com/>\n",
      "Traceback (most recent call last):\n",
      "  File \"/Users/enost/opt/anaconda3/lib/python3.9/site-packages/scrapy/core/downloader/middleware.py\", line 49, in process_request\n",
      "    return (yield download_func(request=request, spider=spider))\n",
      "twisted.internet.error.TCPTimedOutError: TCP connection timed out: 60: Operation timed out.\n"
     ]
    },
    {
     "name": "stdout",
     "output_type": "stream",
     "text": [
      "inserting: 7510\r"
     ]
    },
    {
     "name": "stderr",
     "output_type": "stream",
     "text": [
      "2022-06-30 10:21:50 [scrapy.downloadermiddlewares.retry] ERROR: Gave up retrying <GET http://nrc-prod.literatumonline.com/doi/abs/10.1139/juvs-2018-0035> (failed 3 times): 503 Service Unavailable\n"
     ]
    },
    {
     "name": "stdout",
     "output_type": "stream",
     "text": [
      "inserting: 7478\r"
     ]
    },
    {
     "name": "stderr",
     "output_type": "stream",
     "text": [
      "2022-06-30 10:21:52 [scrapy.downloadermiddlewares.retry] ERROR: Gave up retrying <GET https://onlinelibrary.wiley.com/doi/abs/10.1002/aqc.3089> (failed 3 times): 503 Service Unavailable\n"
     ]
    },
    {
     "name": "stdout",
     "output_type": "stream",
     "text": [
      "inserting: 7572\r"
     ]
    },
    {
     "name": "stderr",
     "output_type": "stream",
     "text": [
      "2022-06-30 10:22:00 [scrapy.downloadermiddlewares.retry] ERROR: Gave up retrying <GET https://onlinelibrary.wiley.com/doi/epdf/10.1111/csp2.54> (failed 3 times): 503 Service Unavailable\n"
     ]
    },
    {
     "name": "stdout",
     "output_type": "stream",
     "text": [
      "inserting: 7676\r"
     ]
    },
    {
     "name": "stderr",
     "output_type": "stream",
     "text": [
      "2022-06-30 10:22:15 [scrapy.downloadermiddlewares.retry] ERROR: Gave up retrying <GET https://onlinelibrary.wiley.com/doi/10.1111/csp2.86> (failed 3 times): 503 Service Unavailable\n"
     ]
    },
    {
     "name": "stdout",
     "output_type": "stream",
     "text": [
      "inserting: 7689\r"
     ]
    },
    {
     "name": "stderr",
     "output_type": "stream",
     "text": [
      "2022-06-30 10:22:18 [scrapy.downloadermiddlewares.retry] ERROR: Gave up retrying <GET https://onlinelibrary.wiley.com/doi/10.1002/aqc.3189> (failed 3 times): 503 Service Unavailable\n"
     ]
    },
    {
     "name": "stdout",
     "output_type": "stream",
     "text": [
      "inserting: 7719\r"
     ]
    },
    {
     "name": "stderr",
     "output_type": "stream",
     "text": [
      "2022-06-30 10:22:22 [scrapy.core.downloader.handlers.http11] WARNING: Received more bytes than download warn size (33554432) in request <GET http://web.archive.org/web/20171113065047id_/https://cdn.airvuz.com/drone-video/c69cb089e31a695c6bfa425462af9830/c69cb089e31a695c6bfa425462af9830.mp4>.\n",
      "2022-06-30 10:22:22 [scrapy.downloadermiddlewares.retry] ERROR: Gave up retrying <GET https://onlinelibrary.wiley.com/doi/abs/10.1002/aqc.3163> (failed 3 times): 503 Service Unavailable\n",
      "2022-06-30 10:22:22 [scrapy.downloadermiddlewares.retry] ERROR: Gave up retrying <GET https://onlinelibrary.wiley.com/doi/full/10.1002/aqc.3163> (failed 3 times): 503 Service Unavailable\n"
     ]
    },
    {
     "name": "stdout",
     "output_type": "stream",
     "text": [
      "inserting: 7788\r"
     ]
    },
    {
     "name": "stderr",
     "output_type": "stream",
     "text": [
      "2022-06-30 10:22:38 [scrapy.downloadermiddlewares.retry] ERROR: Gave up retrying <GET https://onlinelibrary.wiley.com/doi/abs/10.1002/aqc.3208> (failed 3 times): 503 Service Unavailable\n"
     ]
    },
    {
     "name": "stdout",
     "output_type": "stream",
     "text": [
      "inserting: 7791\r"
     ]
    },
    {
     "name": "stderr",
     "output_type": "stream",
     "text": [
      "2022-06-30 10:22:39 [scrapy.downloadermiddlewares.retry] ERROR: Gave up retrying <GET https://conbio.onlinelibrary.wiley.com/doi/10.1111/csp2.86> (failed 3 times): 503 Service Unavailable\n"
     ]
    },
    {
     "name": "stdout",
     "output_type": "stream",
     "text": [
      "inserting: 7797\r"
     ]
    },
    {
     "name": "stderr",
     "output_type": "stream",
     "text": [
      "2022-06-30 10:22:40 [scrapy.downloadermiddlewares.retry] ERROR: Gave up retrying <GET https://conbio.onlinelibrary.wiley.com/doi/full/10.1111/csp2.86> (failed 3 times): 503 Service Unavailable\n"
     ]
    },
    {
     "name": "stdout",
     "output_type": "stream",
     "text": [
      "inserting: 7805\r"
     ]
    },
    {
     "name": "stderr",
     "output_type": "stream",
     "text": [
      "2022-06-30 10:22:41 [scrapy.downloadermiddlewares.retry] ERROR: Gave up retrying <GET http://www.uavexpertnews.com/2019/09/using-drones-to-help-save-an-endangered-river/> (failed 3 times): 500 Internal Server Error\n"
     ]
    },
    {
     "name": "stdout",
     "output_type": "stream",
     "text": [
      "inserting: 7847\r"
     ]
    },
    {
     "name": "stderr",
     "output_type": "stream",
     "text": [
      "2022-06-30 10:22:50 [scrapy.downloadermiddlewares.retry] ERROR: Gave up retrying <GET http://nrc-prod.literatumonline.com/doi/10.1139/juvs-2019-0013> (failed 3 times): 503 Service Unavailable\n"
     ]
    },
    {
     "name": "stdout",
     "output_type": "stream",
     "text": [
      "inserting: 7846\r"
     ]
    },
    {
     "name": "stderr",
     "output_type": "stream",
     "text": [
      "2022-06-30 10:22:51 [scrapy.downloadermiddlewares.retry] ERROR: Gave up retrying <GET https://insights.globalspec.com/article/12698/small-soil-moisture-sensor-has-big-impact-on-water-conservation> (failed 3 times): 503 Service Unavailable\n"
     ]
    },
    {
     "name": "stdout",
     "output_type": "stream",
     "text": [
      "inserting: 7874\r"
     ]
    },
    {
     "name": "stderr",
     "output_type": "stream",
     "text": [
      "2022-06-30 10:22:52 [scrapy.downloadermiddlewares.retry] ERROR: Gave up retrying <GET https://www.cambridge.org/core/journals/bird-conservation-international/article/evaluation-of-disturbance-effect-on-geese-caused-by-an-approaching-unmanned-aerial-vehicle/4a17f4a9b1cae94572b3bad285d9dcc8> (failed 3 times): 500 Internal Server Error\n"
     ]
    },
    {
     "name": "stdout",
     "output_type": "stream",
     "text": [
      "inserting: 7922\r"
     ]
    },
    {
     "name": "stderr",
     "output_type": "stream",
     "text": [
      "2022-06-30 10:23:01 [scrapy.downloadermiddlewares.retry] ERROR: Gave up retrying <GET https://www.linkedin.com/leap/r> (failed 3 times): 502 Bad Gateway\n"
     ]
    },
    {
     "name": "stdout",
     "output_type": "stream",
     "text": [
      "inserting: 8026\r"
     ]
    },
    {
     "name": "stderr",
     "output_type": "stream",
     "text": [
      "2022-06-30 10:23:18 [scrapy.downloadermiddlewares.retry] ERROR: Gave up retrying <GET http://nrc-prod.literatumonline.com/doi/abs/10.1139/juvs-2019-0013> (failed 3 times): 503 Service Unavailable\n"
     ]
    },
    {
     "name": "stdout",
     "output_type": "stream",
     "text": [
      "inserting: 8207\r"
     ]
    },
    {
     "name": "stderr",
     "output_type": "stream",
     "text": [
      "2022-06-30 10:23:49 [scrapy.downloadermiddlewares.retry] ERROR: Gave up retrying <GET https://onlinelibrary.wiley.com/doi/10.1111/ddi.13029> (failed 3 times): 503 Service Unavailable\n"
     ]
    },
    {
     "name": "stdout",
     "output_type": "stream",
     "text": [
      "inserting: 8269\r"
     ]
    },
    {
     "name": "stderr",
     "output_type": "stream",
     "text": [
      "2022-06-30 10:23:59 [scrapy.downloadermiddlewares.retry] ERROR: Gave up retrying <GET http://web.archive.org/web/20171113065047id_/https://cdn.airvuz.com/drone-video/c69cb089e31a695c6bfa425462af9830/c69cb089e31a695c6bfa425462af9830.mp4> (failed 3 times): User timeout caused connection failure: Getting http://web.archive.org/web/20171113065047id_/https://cdn.airvuz.com/drone-video/c69cb089e31a695c6bfa425462af9830/c69cb089e31a695c6bfa425462af9830.mp4 took longer than 180.0 seconds..\n",
      "2022-06-30 10:23:59 [scrapy.core.scraper] ERROR: Error downloading <GET http://web.archive.org/web/20171113065047id_/https://cdn.airvuz.com/drone-video/c69cb089e31a695c6bfa425462af9830/c69cb089e31a695c6bfa425462af9830.mp4>\n",
      "Traceback (most recent call last):\n",
      "  File \"/Users/enost/opt/anaconda3/lib/python3.9/site-packages/twisted/internet/defer.py\", line 1656, in _inlineCallbacks\n",
      "    result = current_context.run(\n",
      "  File \"/Users/enost/opt/anaconda3/lib/python3.9/site-packages/twisted/python/failure.py\", line 489, in throwExceptionIntoGenerator\n",
      "    return g.throw(self.type, self.value, self.tb)\n",
      "  File \"/Users/enost/opt/anaconda3/lib/python3.9/site-packages/scrapy/core/downloader/middleware.py\", line 49, in process_request\n",
      "    return (yield download_func(request=request, spider=spider))\n",
      "  File \"/Users/enost/opt/anaconda3/lib/python3.9/site-packages/twisted/internet/defer.py\", line 857, in _runCallbacks\n",
      "    current.result = callback(  # type: ignore[misc]\n",
      "  File \"/Users/enost/opt/anaconda3/lib/python3.9/site-packages/scrapy/core/downloader/handlers/http11.py\", line 360, in _cb_timeout\n",
      "    raise TimeoutError(f\"Getting {url} took longer than {timeout} seconds.\")\n",
      "twisted.internet.error.TimeoutError: User timeout caused connection failure: Getting http://web.archive.org/web/20171113065047id_/https://cdn.airvuz.com/drone-video/c69cb089e31a695c6bfa425462af9830/c69cb089e31a695c6bfa425462af9830.mp4 took longer than 180.0 seconds..\n"
     ]
    },
    {
     "name": "stdout",
     "output_type": "stream",
     "text": [
      "inserting: 8330\r"
     ]
    },
    {
     "name": "stderr",
     "output_type": "stream",
     "text": [
      "2022-06-30 10:24:05 [scrapy.downloadermiddlewares.retry] ERROR: Gave up retrying <GET https://zslpublications.onlinelibrary.wiley.com/doi/full/10.1111/acv.12583> (failed 3 times): 503 Service Unavailable\n"
     ]
    },
    {
     "name": "stdout",
     "output_type": "stream",
     "text": [
      "inserting: 8393\r"
     ]
    },
    {
     "name": "stderr",
     "output_type": "stream",
     "text": [
      "2022-06-30 10:24:17 [scrapy.downloadermiddlewares.retry] ERROR: Gave up retrying <GET https://www.cell.com/one-earth/fulltext/s2590-3322(20)30199-8> (failed 3 times): 503 Service Unavailable\n"
     ]
    },
    {
     "name": "stdout",
     "output_type": "stream",
     "text": [
      "inserting: 8465\r"
     ]
    },
    {
     "name": "stderr",
     "output_type": "stream",
     "text": [
      "2022-06-30 10:24:24 [scrapy.downloadermiddlewares.retry] ERROR: Gave up retrying <GET https://www.natureworldnews.com/articles/43906/20200611/drone-footages-record-elusive-finless-porpoises-first-time.htm> (failed 3 times): 502 Bad Gateway\n"
     ]
    },
    {
     "name": "stdout",
     "output_type": "stream",
     "text": [
      "inserting: 8519\r"
     ]
    },
    {
     "name": "stderr",
     "output_type": "stream",
     "text": [
      "2022-06-30 10:24:31 [scrapy.downloadermiddlewares.retry] ERROR: Gave up retrying <GET https://conbio.onlinelibrary.wiley.com/doi/full/10.1111/csp2.215> (failed 3 times): 503 Service Unavailable\n"
     ]
    },
    {
     "name": "stdout",
     "output_type": "stream",
     "text": [
      "inserting: 8627\r"
     ]
    },
    {
     "name": "stderr",
     "output_type": "stream",
     "text": [
      "2022-06-30 10:24:51 [scrapy.downloadermiddlewares.retry] ERROR: Gave up retrying <GET https://www.denvertu.org/conservation-update-8-2020/> (failed 3 times): 500 Internal Server Error\n"
     ]
    },
    {
     "name": "stdout",
     "output_type": "stream",
     "text": [
      "inserting: 8813\r"
     ]
    },
    {
     "name": "stderr",
     "output_type": "stream",
     "text": [
      "2022-06-30 10:25:16 [scrapy.downloadermiddlewares.retry] ERROR: Gave up retrying <GET https://test.theoceanpreneur.com/sail/sailing-sustainability/citizen-science-for-sailors-projects-looking-for-data/> (failed 3 times): 500 Internal Server Error\n"
     ]
    },
    {
     "name": "stdout",
     "output_type": "stream",
     "text": [
      "inserting: 8849\r"
     ]
    },
    {
     "name": "stderr",
     "output_type": "stream",
     "text": [
      "2022-06-30 10:25:22 [scrapy.downloadermiddlewares.retry] ERROR: Gave up retrying <GET https://onlinelibrary.wiley.com/doi/10.1111/csp2.281> (failed 3 times): 503 Service Unavailable\n"
     ]
    },
    {
     "name": "stdout",
     "output_type": "stream",
     "text": [
      "inserting: 8860\r"
     ]
    },
    {
     "name": "stderr",
     "output_type": "stream",
     "text": [
      "2022-06-30 10:25:28 [scrapy.downloadermiddlewares.retry] ERROR: Gave up retrying <GET https://onlinelibrary.wiley.com/doi/10.1002/ece3.6840> (failed 3 times): 503 Service Unavailable\n"
     ]
    },
    {
     "name": "stdout",
     "output_type": "stream",
     "text": [
      "inserting: 8808\r"
     ]
    },
    {
     "name": "stderr",
     "output_type": "stream",
     "text": [
      "2022-06-30 10:25:28 [scrapy.downloadermiddlewares.retry] ERROR: Gave up retrying <GET https://zslpublications.onlinelibrary.wiley.com/doi/pdf/10.1002/rse2.183> (failed 3 times): 503 Service Unavailable\n"
     ]
    },
    {
     "name": "stdout",
     "output_type": "stream",
     "text": [
      "inserting: 8870\r"
     ]
    },
    {
     "name": "stderr",
     "output_type": "stream",
     "text": [
      "2022-06-30 10:25:29 [scrapy.downloadermiddlewares.retry] ERROR: Gave up retrying <GET https://onlinelibrary.wiley.com/doi/abs/10.1002/aqc.3474> (failed 3 times): 503 Service Unavailable\n"
     ]
    },
    {
     "name": "stdout",
     "output_type": "stream",
     "text": [
      "inserting: 8980\r"
     ]
    },
    {
     "name": "stderr",
     "output_type": "stream",
     "text": [
      "2022-06-30 10:25:45 [scrapy.downloadermiddlewares.retry] ERROR: Gave up retrying <GET https://conbio.onlinelibrary.wiley.com/doi/abs/10.1111/cobi.13434> (failed 3 times): 503 Service Unavailable\n"
     ]
    },
    {
     "name": "stdout",
     "output_type": "stream",
     "text": [
      "inserting: 8982\r"
     ]
    },
    {
     "name": "stderr",
     "output_type": "stream",
     "text": [
      "2022-06-30 10:25:47 [scrapy.downloadermiddlewares.retry] ERROR: Gave up retrying <GET https://acsess.onlinelibrary.wiley.com/doi/epdf/10.1002/jeq2.20155> (failed 3 times): 503 Service Unavailable\n",
      "2022-06-30 10:25:47 [scrapy.downloadermiddlewares.retry] ERROR: Gave up retrying <GET https://onlinelibrary.wiley.com/doi/abs/10.1111/acv.12583> (failed 3 times): 503 Service Unavailable\n"
     ]
    },
    {
     "name": "stdout",
     "output_type": "stream",
     "text": [
      "inserting: 9036\r"
     ]
    },
    {
     "name": "stderr",
     "output_type": "stream",
     "text": [
      "2022-06-30 10:25:53 [scrapy.downloadermiddlewares.retry] ERROR: Gave up retrying <GET https://onlinelibrary.wiley.com/doi/10.1002/edn3.176> (failed 3 times): 503 Service Unavailable\n"
     ]
    },
    {
     "name": "stdout",
     "output_type": "stream",
     "text": [
      "inserting: 9077\r"
     ]
    },
    {
     "name": "stderr",
     "output_type": "stream",
     "text": [
      "2022-06-30 10:26:00 [scrapy.downloadermiddlewares.retry] ERROR: Gave up retrying <GET https://onlinelibrary.wiley.com/toc/26374943/2021/3/1> (failed 3 times): 503 Service Unavailable\n"
     ]
    },
    {
     "name": "stdout",
     "output_type": "stream",
     "text": [
      "inserting: 9109\r"
     ]
    },
    {
     "name": "stderr",
     "output_type": "stream",
     "text": [
      "2022-06-30 10:26:04 [scrapy.downloadermiddlewares.retry] ERROR: Gave up retrying <GET https://onlinelibrary.wiley.com/doi/10.1002/edn3.173> (failed 3 times): 503 Service Unavailable\n"
     ]
    },
    {
     "name": "stdout",
     "output_type": "stream",
     "text": [
      "inserting: 9200\r"
     ]
    },
    {
     "name": "stderr",
     "output_type": "stream",
     "text": [
      "2022-06-30 10:26:20 [scrapy.downloadermiddlewares.retry] ERROR: Gave up retrying <GET https://onlinelibrary.wiley.com/doi/abs/10.1002/aqc.3551> (failed 3 times): 503 Service Unavailable\n"
     ]
    },
    {
     "name": "stdout",
     "output_type": "stream",
     "text": [
      "inserting: 9344\r"
     ]
    },
    {
     "name": "stderr",
     "output_type": "stream",
     "text": [
      "2022-06-30 10:26:58 [scrapy.downloadermiddlewares.retry] ERROR: Gave up retrying <GET https://onlinelibrary.wiley.com/doi/full/10.1002/aqc.3601> (failed 3 times): 503 Service Unavailable\n"
     ]
    },
    {
     "name": "stdout",
     "output_type": "stream",
     "text": [
      "inserting: 9366\r"
     ]
    },
    {
     "name": "stderr",
     "output_type": "stream",
     "text": [
      "2022-06-30 10:27:05 [scrapy.downloadermiddlewares.retry] ERROR: Gave up retrying <GET https://zslpublications.onlinelibrary.wiley.com/doi/full/10.1002/rse2.206> (failed 3 times): 503 Service Unavailable\n"
     ]
    },
    {
     "name": "stdout",
     "output_type": "stream",
     "text": [
      "inserting: 9506\r"
     ]
    },
    {
     "name": "stderr",
     "output_type": "stream",
     "text": [
      "2022-06-30 10:27:32 [scrapy.downloadermiddlewares.retry] ERROR: Gave up retrying <GET http://web.archive.org/web/20210127074155id_/https://enewspaper.latimes.com/infinity/article_share.aspx> (failed 3 times): 500 Internal Server Error\n"
     ]
    },
    {
     "name": "stdout",
     "output_type": "stream",
     "text": [
      "inserting: 9590\r"
     ]
    },
    {
     "name": "stderr",
     "output_type": "stream",
     "text": [
      "2022-06-30 10:27:45 [scrapy.downloadermiddlewares.retry] ERROR: Gave up retrying <GET https://www.cambridge.org/core/journals/environmental-conservation/article/zoometric-data-extraction-from-drone-imagery-the-arabian-oryx-oryx-leucoryx/88cde69de25cc68c3ad710cbd816cb5d> (failed 3 times): 500 Internal Server Error\n"
     ]
    },
    {
     "name": "stdout",
     "output_type": "stream",
     "text": [
      "inserting: 9642\r"
     ]
    },
    {
     "name": "stderr",
     "output_type": "stream",
     "text": [
      "2022-06-30 10:27:54 [scrapy.downloadermiddlewares.retry] ERROR: Gave up retrying <GET https://besjournals.onlinelibrary.wiley.com/doi/10.1111/2041-210x.13691> (failed 3 times): 503 Service Unavailable\n"
     ]
    },
    {
     "name": "stdout",
     "output_type": "stream",
     "text": [
      "inserting: 9661\r"
     ]
    },
    {
     "name": "stderr",
     "output_type": "stream",
     "text": [
      "2022-06-30 10:27:56 [scrapy.downloadermiddlewares.retry] ERROR: Gave up retrying <GET https://besjournals.onlinelibrary.wiley.com/doi/full/10.1111/2041-210x.13294> (failed 3 times): 503 Service Unavailable\n"
     ]
    },
    {
     "name": "stdout",
     "output_type": "stream",
     "text": [
      "inserting: 9745\r"
     ]
    },
    {
     "name": "stderr",
     "output_type": "stream",
     "text": [
      "2022-06-30 10:28:09 [scrapy.downloadermiddlewares.retry] ERROR: Gave up retrying <GET https://onlinelibrary.wiley.com/doi/10.1111/ddi.13415> (failed 3 times): 503 Service Unavailable\n"
     ]
    },
    {
     "name": "stdout",
     "output_type": "stream",
     "text": [
      "inserting: 9858\r"
     ]
    },
    {
     "name": "stderr",
     "output_type": "stream",
     "text": [
      "2022-06-30 10:28:25 [scrapy.downloadermiddlewares.retry] ERROR: Gave up retrying <GET https://zslpublications.onlinelibrary.wiley.com/doi/10.1111/jzo.12945> (failed 3 times): 503 Service Unavailable\n"
     ]
    },
    {
     "name": "stdout",
     "output_type": "stream",
     "text": [
      "inserting: 9944\r"
     ]
    },
    {
     "name": "stderr",
     "output_type": "stream",
     "text": [
      "2022-06-30 10:28:43 [scrapy.downloadermiddlewares.retry] ERROR: Gave up retrying <GET https://conbio.onlinelibrary.wiley.com/doi/full/10.1111/conl.12865> (failed 3 times): 503 Service Unavailable\n"
     ]
    },
    {
     "name": "stdout",
     "output_type": "stream",
     "text": [
      "inserting: 9950\r"
     ]
    },
    {
     "name": "stderr",
     "output_type": "stream",
     "text": [
      "2022-06-30 10:28:45 [scrapy.downloadermiddlewares.retry] ERROR: Gave up retrying <GET https://besjournals.onlinelibrary.wiley.com/doi/10.1002/2688-8319.12033> (failed 3 times): 503 Service Unavailable\n"
     ]
    },
    {
     "name": "stdout",
     "output_type": "stream",
     "text": [
      "inserting: 9945\r"
     ]
    },
    {
     "name": "stderr",
     "output_type": "stream",
     "text": [
      "2022-06-30 10:28:45 [scrapy.downloadermiddlewares.retry] ERROR: Gave up retrying <GET https://journals.sagepub.com/doi/10.1177/194008291100400203> (failed 3 times): 503 Service Unavailable\n"
     ]
    },
    {
     "name": "stdout",
     "output_type": "stream",
     "text": [
      "inserting: 9970\r"
     ]
    },
    {
     "name": "stderr",
     "output_type": "stream",
     "text": [
      "2022-06-30 10:28:45 [scrapy.downloadermiddlewares.retry] ERROR: Gave up retrying <GET https://esajournals.onlinelibrary.wiley.com/doi/full/10.1002/ecy.3353> (failed 3 times): 503 Service Unavailable\n"
     ]
    },
    {
     "name": "stdout",
     "output_type": "stream",
     "text": [
      "inserting: 9983\r"
     ]
    },
    {
     "name": "stderr",
     "output_type": "stream",
     "text": [
      "2022-06-30 10:28:47 [scrapy.downloadermiddlewares.retry] ERROR: Gave up retrying <GET https://conbio.onlinelibrary.wiley.com/doi/10.1111/cobi.12486> (failed 3 times): 503 Service Unavailable\n"
     ]
    },
    {
     "name": "stdout",
     "output_type": "stream",
     "text": [
      "inserting: 9918\r"
     ]
    },
    {
     "name": "stderr",
     "output_type": "stream",
     "text": [
      "2022-06-30 10:28:47 [scrapy.downloadermiddlewares.retry] ERROR: Gave up retrying <GET https://esajournals.onlinelibrary.wiley.com/doi/10.1002/fee.1448> (failed 3 times): 503 Service Unavailable\n"
     ]
    },
    {
     "name": "stdout",
     "output_type": "stream",
     "text": [
      "inserting: 9998\r"
     ]
    },
    {
     "name": "stderr",
     "output_type": "stream",
     "text": [
      "2022-06-30 10:28:48 [scrapy.downloadermiddlewares.retry] ERROR: Gave up retrying <GET https://zslpublications.onlinelibrary.wiley.com/doi/10.1002/rse2.20> (failed 3 times): 503 Service Unavailable\n"
     ]
    },
    {
     "name": "stdout",
     "output_type": "stream",
     "text": [
      "inserting: 10013\r"
     ]
    },
    {
     "name": "stderr",
     "output_type": "stream",
     "text": [
      "2022-06-30 10:28:48 [scrapy.downloadermiddlewares.retry] ERROR: Gave up retrying <GET https://besjournals.onlinelibrary.wiley.com/doi/abs/10.1111/1365-2664.14099> (failed 3 times): 503 Service Unavailable\n"
     ]
    },
    {
     "name": "stdout",
     "output_type": "stream",
     "text": [
      "inserting: 10041\r"
     ]
    },
    {
     "name": "stderr",
     "output_type": "stream",
     "text": [
      "2022-06-30 10:28:49 [scrapy.downloadermiddlewares.retry] ERROR: Gave up retrying <GET https://journals.sagepub.com/doi/abs/10.1177/0162243920920356> (failed 3 times): 503 Service Unavailable\n"
     ]
    },
    {
     "name": "stdout",
     "output_type": "stream",
     "text": [
      "inserting: 10065\r"
     ]
    },
    {
     "name": "stderr",
     "output_type": "stream",
     "text": [
      "2022-06-30 10:28:50 [scrapy.downloadermiddlewares.retry] ERROR: Gave up retrying <GET https://ieeexplore.ieee.org/document/9571033/> (failed 3 times): 503 Service Unavailable\n",
      "2022-06-30 10:28:50 [scrapy.downloadermiddlewares.retry] ERROR: Gave up retrying <GET https://esajournals.onlinelibrary.wiley.com/doi/full/10.1002/bes2.1336> (failed 3 times): 503 Service Unavailable\n"
     ]
    },
    {
     "name": "stdout",
     "output_type": "stream",
     "text": [
      "inserting: 10046\r"
     ]
    },
    {
     "name": "stderr",
     "output_type": "stream",
     "text": [
      "2022-06-30 10:28:51 [scrapy.downloadermiddlewares.retry] ERROR: Gave up retrying <GET https://onlinelibrary.wiley.com/doi/full/10.1111/ddi.13068> (failed 3 times): 503 Service Unavailable\n",
      "2022-06-30 10:28:51 [scrapy.downloadermiddlewares.retry] ERROR: Gave up retrying <GET https://onlinelibrary.wiley.com/doi/10.1111/j.1472-4642.2009.00615.x> (failed 3 times): 503 Service Unavailable\n"
     ]
    },
    {
     "name": "stdout",
     "output_type": "stream",
     "text": [
      "inserting: 99514\r"
     ]
    },
    {
     "name": "stderr",
     "output_type": "stream",
     "text": [
      "2022-06-30 10:28:51 [scrapy.downloadermiddlewares.retry] ERROR: Gave up retrying <GET https://besjournals.onlinelibrary.wiley.com/doi/10.1111/2041-210x.13834> (failed 3 times): 503 Service Unavailable\n",
      "2022-06-30 10:28:51 [scrapy.downloadermiddlewares.retry] ERROR: Gave up retrying <GET https://nyaspubs.onlinelibrary.wiley.com/doi/10.1111/nyas.14340> (failed 3 times): 503 Service Unavailable\n"
     ]
    },
    {
     "name": "stdout",
     "output_type": "stream",
     "text": [
      "inserting: 10081\r"
     ]
    },
    {
     "name": "stderr",
     "output_type": "stream",
     "text": [
      "2022-06-30 10:28:52 [scrapy.downloadermiddlewares.retry] ERROR: Gave up retrying <GET https://zslpublications.onlinelibrary.wiley.com/doi/10.1002/rse2.62> (failed 3 times): 503 Service Unavailable\n"
     ]
    },
    {
     "name": "stdout",
     "output_type": "stream",
     "text": [
      "inserting: 10092\r"
     ]
    },
    {
     "name": "stderr",
     "output_type": "stream",
     "text": [
      "2022-06-30 10:28:52 [scrapy.downloadermiddlewares.retry] ERROR: Gave up retrying <GET https://esj-journals.onlinelibrary.wiley.com/doi/full/10.1007/s11284-015-1314-y> (failed 3 times): 503 Service Unavailable\n"
     ]
    },
    {
     "name": "stdout",
     "output_type": "stream",
     "text": [
      "inserting: 10110\r"
     ]
    },
    {
     "name": "stderr",
     "output_type": "stream",
     "text": [
      "2022-06-30 10:28:53 [scrapy.downloadermiddlewares.retry] ERROR: Gave up retrying <GET https://www.science.org/doi/10.1126/sciadv.aap9661> (failed 3 times): 503 Service Unavailable\n",
      "2022-06-30 10:28:53 [scrapy.downloadermiddlewares.retry] ERROR: Gave up retrying <GET https://conbio.onlinelibrary.wiley.com/doi/10.1111/j.1755-263x.2010.00158.x> (failed 3 times): 503 Service Unavailable\n",
      "2022-06-30 10:28:53 [scrapy.downloadermiddlewares.retry] ERROR: Gave up retrying <GET https://besjournals.onlinelibrary.wiley.com/doi/10.1111/2041-210x.12595> (failed 3 times): 503 Service Unavailable\n"
     ]
    },
    {
     "name": "stdout",
     "output_type": "stream",
     "text": [
      "inserting: 10096\r"
     ]
    },
    {
     "name": "stderr",
     "output_type": "stream",
     "text": [
      "2022-06-30 10:28:53 [scrapy.downloadermiddlewares.retry] ERROR: Gave up retrying <GET https://wildlife.onlinelibrary.wiley.com/doi/abs/10.1002/jwmg.21349> (failed 3 times): 503 Service Unavailable\n"
     ]
    },
    {
     "name": "stdout",
     "output_type": "stream",
     "text": [
      "inserting: 10139\r"
     ]
    },
    {
     "name": "stderr",
     "output_type": "stream",
     "text": [
      "2022-06-30 10:28:54 [scrapy.downloadermiddlewares.retry] ERROR: Gave up retrying <GET https://esajournals.onlinelibrary.wiley.com/doi/abs/10.1002/eap.2335> (failed 3 times): 503 Service Unavailable\n"
     ]
    },
    {
     "name": "stdout",
     "output_type": "stream",
     "text": [
      "inserting: 10143\r"
     ]
    },
    {
     "name": "stderr",
     "output_type": "stream",
     "text": [
      "2022-06-30 10:35:48 [scrapy.downloadermiddlewares.retry] ERROR: Gave up retrying <GET https://www.washingtonpost.com/science/edna-finding-endangered-species/2021/04/30/43734ef8-872e-11eb-8a8b-5cf82c3dffe4_story.html> (failed 3 times): User timeout caused connection failure: Getting https://www.washingtonpost.com/science/edna-finding-endangered-species/2021/04/30/43734ef8-872e-11eb-8a8b-5cf82c3dffe4_story.html took longer than 180.0 seconds..\n",
      "2022-06-30 10:35:48 [scrapy.core.scraper] ERROR: Error downloading <GET https://www.washingtonpost.com/science/edna-finding-endangered-species/2021/04/30/43734ef8-872e-11eb-8a8b-5cf82c3dffe4_story.html>\n",
      "Traceback (most recent call last):\n",
      "  File \"/Users/enost/opt/anaconda3/lib/python3.9/site-packages/twisted/internet/defer.py\", line 1656, in _inlineCallbacks\n",
      "    result = current_context.run(\n",
      "  File \"/Users/enost/opt/anaconda3/lib/python3.9/site-packages/twisted/python/failure.py\", line 489, in throwExceptionIntoGenerator\n",
      "    return g.throw(self.type, self.value, self.tb)\n",
      "  File \"/Users/enost/opt/anaconda3/lib/python3.9/site-packages/scrapy/core/downloader/middleware.py\", line 49, in process_request\n",
      "    return (yield download_func(request=request, spider=spider))\n",
      "  File \"/Users/enost/opt/anaconda3/lib/python3.9/site-packages/twisted/internet/defer.py\", line 857, in _runCallbacks\n",
      "    current.result = callback(  # type: ignore[misc]\n",
      "  File \"/Users/enost/opt/anaconda3/lib/python3.9/site-packages/scrapy/core/downloader/handlers/http11.py\", line 360, in _cb_timeout\n",
      "    raise TimeoutError(f\"Getting {url} took longer than {timeout} seconds.\")\n",
      "twisted.internet.error.TimeoutError: User timeout caused connection failure: Getting https://www.washingtonpost.com/science/edna-finding-endangered-species/2021/04/30/43734ef8-872e-11eb-8a8b-5cf82c3dffe4_story.html took longer than 180.0 seconds..\n",
      "2022-06-30 10:37:45 [scrapy.downloadermiddlewares.retry] ERROR: Gave up retrying <GET https://www.washingtonpost.com/science/2022/05/21/amazon-forests-camera-traps-dataset/> (failed 3 times): User timeout caused connection failure: Getting https://www.washingtonpost.com/science/2022/05/21/amazon-forests-camera-traps-dataset/ took longer than 180.0 seconds..\n",
      "2022-06-30 10:37:45 [scrapy.core.scraper] ERROR: Error downloading <GET https://www.washingtonpost.com/science/2022/05/21/amazon-forests-camera-traps-dataset/>\n",
      "Traceback (most recent call last):\n",
      "  File \"/Users/enost/opt/anaconda3/lib/python3.9/site-packages/twisted/internet/defer.py\", line 1656, in _inlineCallbacks\n",
      "    result = current_context.run(\n",
      "  File \"/Users/enost/opt/anaconda3/lib/python3.9/site-packages/twisted/python/failure.py\", line 489, in throwExceptionIntoGenerator\n",
      "    return g.throw(self.type, self.value, self.tb)\n",
      "  File \"/Users/enost/opt/anaconda3/lib/python3.9/site-packages/scrapy/core/downloader/middleware.py\", line 49, in process_request\n",
      "    return (yield download_func(request=request, spider=spider))\n",
      "  File \"/Users/enost/opt/anaconda3/lib/python3.9/site-packages/twisted/internet/defer.py\", line 857, in _runCallbacks\n",
      "    current.result = callback(  # type: ignore[misc]\n",
      "  File \"/Users/enost/opt/anaconda3/lib/python3.9/site-packages/scrapy/core/downloader/handlers/http11.py\", line 360, in _cb_timeout\n",
      "    raise TimeoutError(f\"Getting {url} took longer than {timeout} seconds.\")\n",
      "twisted.internet.error.TimeoutError: User timeout caused connection failure: Getting https://www.washingtonpost.com/science/2022/05/21/amazon-forests-camera-traps-dataset/ took longer than 180.0 seconds..\n"
     ]
    },
    {
     "name": "stdout",
     "output_type": "stream",
     "text": [
      "Done!\r"
     ]
    }
   ],
   "source": [
    "%cd digcon_scraper/digcon_scraper/\n",
    "from observatory import scrape\n",
    "scrape(urls)"
   ]
  },
  {
   "cell_type": "code",
   "execution_count": 12,
   "id": "c3a64293-1016-4955-add5-f604333a7f91",
   "metadata": {},
   "outputs": [
    {
     "name": "stdout",
     "output_type": "stream",
     "text": [
      "/Users/enost/Downloads\n"
     ]
    }
   ],
   "source": [
    "%cd .."
   ]
  },
  {
   "cell_type": "code",
   "execution_count": 13,
   "id": "2a5a0e1b-5059-496c-9777-986e918f74c4",
   "metadata": {},
   "outputs": [
    {
     "name": "stdout",
     "output_type": "stream",
     "text": [
      "Done!\n",
      "Done!\n",
      "Done!\n"
     ]
    }
   ],
   "source": [
    "# Quality control\n",
    "from observatory import query\n",
    "## Create a copy of the text table\n",
    "query(\"copy\") # Only need to do this once!\n",
    "## Remove from db where there was no text scraped\n",
    "query(\"filter_empty\")\n",
    "## Remove anything without at least 1 keyword?\n",
    "queryterms = [\"nature \", \"conservation \"] # spaces to avoid certain spam...\n",
    "query(\"filter_words\", terms = queryterms) ## TBD: Need to remove French-language sites?"
   ]
  },
  {
   "cell_type": "code",
   "execution_count": 14,
   "id": "102019d2-4e82-4906-bb1f-97032cf8d9ec",
   "metadata": {},
   "outputs": [
    {
     "data": {
      "text/html": [
       "<div>\n",
       "<style scoped>\n",
       "    .dataframe tbody tr th:only-of-type {\n",
       "        vertical-align: middle;\n",
       "    }\n",
       "\n",
       "    .dataframe tbody tr th {\n",
       "        vertical-align: top;\n",
       "    }\n",
       "\n",
       "    .dataframe thead th {\n",
       "        text-align: right;\n",
       "    }\n",
       "</style>\n",
       "<table border=\"1\" class=\"dataframe\">\n",
       "  <thead>\n",
       "    <tr style=\"text-align: right;\">\n",
       "      <th></th>\n",
       "      <th>url</th>\n",
       "      <th>domain</th>\n",
       "      <th>source</th>\n",
       "      <th>date</th>\n",
       "      <th>artificial intelligence</th>\n",
       "      <th>ai</th>\n",
       "      <th>machine learning</th>\n",
       "      <th>dashboard</th>\n",
       "      <th>platform</th>\n",
       "      <th>blockchain</th>\n",
       "      <th>...</th>\n",
       "      <th>surveillance</th>\n",
       "      <th>cost</th>\n",
       "      <th>ethics</th>\n",
       "      <th>market</th>\n",
       "      <th>decision making</th>\n",
       "      <th>working land</th>\n",
       "      <th>indigenous-led</th>\n",
       "      <th>easement</th>\n",
       "      <th>decision support</th>\n",
       "      <th>decision-support</th>\n",
       "    </tr>\n",
       "  </thead>\n",
       "  <tbody>\n",
       "    <tr>\n",
       "      <th>0</th>\n",
       "      <td>http://web.archive.org/web/20190831171820id_/h...</td>\n",
       "      <td>sandcloud</td>\n",
       "      <td>Twitter</td>\n",
       "      <td>2019-33</td>\n",
       "      <td>0</td>\n",
       "      <td>0</td>\n",
       "      <td>0</td>\n",
       "      <td>0</td>\n",
       "      <td>0</td>\n",
       "      <td>0</td>\n",
       "      <td>...</td>\n",
       "      <td>0</td>\n",
       "      <td>0</td>\n",
       "      <td>0</td>\n",
       "      <td>0</td>\n",
       "      <td>0</td>\n",
       "      <td>0</td>\n",
       "      <td>0</td>\n",
       "      <td>0</td>\n",
       "      <td>0</td>\n",
       "      <td>0</td>\n",
       "    </tr>\n",
       "    <tr>\n",
       "      <th>1</th>\n",
       "      <td>https://www.freelancer.com/projects/machine-le...</td>\n",
       "      <td>freelancer</td>\n",
       "      <td>Twitter</td>\n",
       "      <td>2012-16</td>\n",
       "      <td>0</td>\n",
       "      <td>0</td>\n",
       "      <td>2</td>\n",
       "      <td>0</td>\n",
       "      <td>0</td>\n",
       "      <td>0</td>\n",
       "      <td>...</td>\n",
       "      <td>0</td>\n",
       "      <td>0</td>\n",
       "      <td>0</td>\n",
       "      <td>0</td>\n",
       "      <td>0</td>\n",
       "      <td>0</td>\n",
       "      <td>0</td>\n",
       "      <td>0</td>\n",
       "      <td>0</td>\n",
       "      <td>0</td>\n",
       "    </tr>\n",
       "    <tr>\n",
       "      <th>2</th>\n",
       "      <td>http://web.archive.org/web/20140729142411id_/h...</td>\n",
       "      <td>sciencedaily</td>\n",
       "      <td>Twitter</td>\n",
       "      <td>2014-31</td>\n",
       "      <td>0</td>\n",
       "      <td>0</td>\n",
       "      <td>0</td>\n",
       "      <td>0</td>\n",
       "      <td>0</td>\n",
       "      <td>0</td>\n",
       "      <td>...</td>\n",
       "      <td>0</td>\n",
       "      <td>3</td>\n",
       "      <td>0</td>\n",
       "      <td>0</td>\n",
       "      <td>0</td>\n",
       "      <td>0</td>\n",
       "      <td>0</td>\n",
       "      <td>0</td>\n",
       "      <td>0</td>\n",
       "      <td>0</td>\n",
       "    </tr>\n",
       "    <tr>\n",
       "      <th>3</th>\n",
       "      <td>http://web.archive.org/web/20120901133326id_/h...</td>\n",
       "      <td>twocircles</td>\n",
       "      <td>Twitter</td>\n",
       "      <td>2012-31</td>\n",
       "      <td>0</td>\n",
       "      <td>0</td>\n",
       "      <td>0</td>\n",
       "      <td>0</td>\n",
       "      <td>0</td>\n",
       "      <td>0</td>\n",
       "      <td>...</td>\n",
       "      <td>0</td>\n",
       "      <td>0</td>\n",
       "      <td>0</td>\n",
       "      <td>0</td>\n",
       "      <td>0</td>\n",
       "      <td>0</td>\n",
       "      <td>0</td>\n",
       "      <td>0</td>\n",
       "      <td>0</td>\n",
       "      <td>0</td>\n",
       "    </tr>\n",
       "    <tr>\n",
       "      <th>4</th>\n",
       "      <td>http://web.archive.org/web/20181219214355id_/h...</td>\n",
       "      <td>tumblr</td>\n",
       "      <td>Twitter</td>\n",
       "      <td>2012-36</td>\n",
       "      <td>0</td>\n",
       "      <td>0</td>\n",
       "      <td>0</td>\n",
       "      <td>0</td>\n",
       "      <td>0</td>\n",
       "      <td>0</td>\n",
       "      <td>...</td>\n",
       "      <td>0</td>\n",
       "      <td>0</td>\n",
       "      <td>0</td>\n",
       "      <td>0</td>\n",
       "      <td>0</td>\n",
       "      <td>0</td>\n",
       "      <td>0</td>\n",
       "      <td>0</td>\n",
       "      <td>0</td>\n",
       "      <td>0</td>\n",
       "    </tr>\n",
       "    <tr>\n",
       "      <th>...</th>\n",
       "      <td>...</td>\n",
       "      <td>...</td>\n",
       "      <td>...</td>\n",
       "      <td>...</td>\n",
       "      <td>...</td>\n",
       "      <td>...</td>\n",
       "      <td>...</td>\n",
       "      <td>...</td>\n",
       "      <td>...</td>\n",
       "      <td>...</td>\n",
       "      <td>...</td>\n",
       "      <td>...</td>\n",
       "      <td>...</td>\n",
       "      <td>...</td>\n",
       "      <td>...</td>\n",
       "      <td>...</td>\n",
       "      <td>...</td>\n",
       "      <td>...</td>\n",
       "      <td>...</td>\n",
       "      <td>...</td>\n",
       "      <td>...</td>\n",
       "    </tr>\n",
       "    <tr>\n",
       "      <th>30337</th>\n",
       "      <td>http://web.archive.org/web/20211211175114id_/h...</td>\n",
       "      <td>thehindu</td>\n",
       "      <td>Twitter</td>\n",
       "      <td>2021-49</td>\n",
       "      <td>0</td>\n",
       "      <td>0</td>\n",
       "      <td>0</td>\n",
       "      <td>0</td>\n",
       "      <td>0</td>\n",
       "      <td>0</td>\n",
       "      <td>...</td>\n",
       "      <td>0</td>\n",
       "      <td>0</td>\n",
       "      <td>0</td>\n",
       "      <td>0</td>\n",
       "      <td>0</td>\n",
       "      <td>0</td>\n",
       "      <td>0</td>\n",
       "      <td>0</td>\n",
       "      <td>0</td>\n",
       "      <td>0</td>\n",
       "    </tr>\n",
       "    <tr>\n",
       "      <th>30338</th>\n",
       "      <td>http://web.archive.org/web/20211124210731id_/h...</td>\n",
       "      <td>conservation-careers</td>\n",
       "      <td>Twitter</td>\n",
       "      <td>2021-47</td>\n",
       "      <td>0</td>\n",
       "      <td>0</td>\n",
       "      <td>0</td>\n",
       "      <td>0</td>\n",
       "      <td>2</td>\n",
       "      <td>0</td>\n",
       "      <td>...</td>\n",
       "      <td>0</td>\n",
       "      <td>2</td>\n",
       "      <td>0</td>\n",
       "      <td>0</td>\n",
       "      <td>0</td>\n",
       "      <td>0</td>\n",
       "      <td>0</td>\n",
       "      <td>0</td>\n",
       "      <td>0</td>\n",
       "      <td>0</td>\n",
       "    </tr>\n",
       "    <tr>\n",
       "      <th>30339</th>\n",
       "      <td>https://pubmed.ncbi.nlm.nih.gov/34943137/</td>\n",
       "      <td>nih</td>\n",
       "      <td>Twitter</td>\n",
       "      <td>2021-51</td>\n",
       "      <td>0</td>\n",
       "      <td>0</td>\n",
       "      <td>0</td>\n",
       "      <td>0</td>\n",
       "      <td>0</td>\n",
       "      <td>0</td>\n",
       "      <td>...</td>\n",
       "      <td>0</td>\n",
       "      <td>0</td>\n",
       "      <td>0</td>\n",
       "      <td>0</td>\n",
       "      <td>0</td>\n",
       "      <td>0</td>\n",
       "      <td>0</td>\n",
       "      <td>0</td>\n",
       "      <td>0</td>\n",
       "      <td>0</td>\n",
       "    </tr>\n",
       "    <tr>\n",
       "      <th>30340</th>\n",
       "      <td>https://dc.uwm.edu/ijger/vol5/iss2/2/</td>\n",
       "      <td>uwm</td>\n",
       "      <td>Google</td>\n",
       "      <td>None</td>\n",
       "      <td>0</td>\n",
       "      <td>0</td>\n",
       "      <td>0</td>\n",
       "      <td>0</td>\n",
       "      <td>0</td>\n",
       "      <td>0</td>\n",
       "      <td>...</td>\n",
       "      <td>0</td>\n",
       "      <td>2</td>\n",
       "      <td>0</td>\n",
       "      <td>0</td>\n",
       "      <td>0</td>\n",
       "      <td>0</td>\n",
       "      <td>0</td>\n",
       "      <td>0</td>\n",
       "      <td>0</td>\n",
       "      <td>0</td>\n",
       "    </tr>\n",
       "    <tr>\n",
       "      <th>30341</th>\n",
       "      <td>https://www.houstonzoo.org/blog/pen-pals-save-...</td>\n",
       "      <td>houstonzoo</td>\n",
       "      <td>Google</td>\n",
       "      <td>None</td>\n",
       "      <td>0</td>\n",
       "      <td>0</td>\n",
       "      <td>0</td>\n",
       "      <td>0</td>\n",
       "      <td>0</td>\n",
       "      <td>0</td>\n",
       "      <td>...</td>\n",
       "      <td>0</td>\n",
       "      <td>0</td>\n",
       "      <td>0</td>\n",
       "      <td>0</td>\n",
       "      <td>0</td>\n",
       "      <td>0</td>\n",
       "      <td>0</td>\n",
       "      <td>0</td>\n",
       "      <td>0</td>\n",
       "      <td>0</td>\n",
       "    </tr>\n",
       "  </tbody>\n",
       "</table>\n",
       "<p>30342 rows × 38 columns</p>\n",
       "</div>"
      ],
      "text/plain": [
       "                                                     url  \\\n",
       "0      http://web.archive.org/web/20190831171820id_/h...   \n",
       "1      https://www.freelancer.com/projects/machine-le...   \n",
       "2      http://web.archive.org/web/20140729142411id_/h...   \n",
       "3      http://web.archive.org/web/20120901133326id_/h...   \n",
       "4      http://web.archive.org/web/20181219214355id_/h...   \n",
       "...                                                  ...   \n",
       "30337  http://web.archive.org/web/20211211175114id_/h...   \n",
       "30338  http://web.archive.org/web/20211124210731id_/h...   \n",
       "30339          https://pubmed.ncbi.nlm.nih.gov/34943137/   \n",
       "30340              https://dc.uwm.edu/ijger/vol5/iss2/2/   \n",
       "30341  https://www.houstonzoo.org/blog/pen-pals-save-...   \n",
       "\n",
       "                     domain   source     date  artificial intelligence   ai   \\\n",
       "0                 sandcloud  Twitter  2019-33                        0     0   \n",
       "1                freelancer  Twitter  2012-16                        0     0   \n",
       "2              sciencedaily  Twitter  2014-31                        0     0   \n",
       "3                twocircles  Twitter  2012-31                        0     0   \n",
       "4                    tumblr  Twitter  2012-36                        0     0   \n",
       "...                     ...      ...      ...                      ...   ...   \n",
       "30337              thehindu  Twitter  2021-49                        0     0   \n",
       "30338  conservation-careers  Twitter  2021-47                        0     0   \n",
       "30339                   nih  Twitter  2021-51                        0     0   \n",
       "30340                   uwm   Google     None                        0     0   \n",
       "30341            houstonzoo   Google     None                        0     0   \n",
       "\n",
       "       machine learning  dashboard  platform  blockchain  ...  surveillance  \\\n",
       "0                     0          0         0           0  ...             0   \n",
       "1                     2          0         0           0  ...             0   \n",
       "2                     0          0         0           0  ...             0   \n",
       "3                     0          0         0           0  ...             0   \n",
       "4                     0          0         0           0  ...             0   \n",
       "...                 ...        ...       ...         ...  ...           ...   \n",
       "30337                 0          0         0           0  ...             0   \n",
       "30338                 0          0         2           0  ...             0   \n",
       "30339                 0          0         0           0  ...             0   \n",
       "30340                 0          0         0           0  ...             0   \n",
       "30341                 0          0         0           0  ...             0   \n",
       "\n",
       "       cost  ethics  market  decision making  working land  indigenous-led  \\\n",
       "0         0       0       0                0             0               0   \n",
       "1         0       0       0                0             0               0   \n",
       "2         3       0       0                0             0               0   \n",
       "3         0       0       0                0             0               0   \n",
       "4         0       0       0                0             0               0   \n",
       "...     ...     ...     ...              ...           ...             ...   \n",
       "30337     0       0       0                0             0               0   \n",
       "30338     2       0       0                0             0               0   \n",
       "30339     0       0       0                0             0               0   \n",
       "30340     2       0       0                0             0               0   \n",
       "30341     0       0       0                0             0               0   \n",
       "\n",
       "       easement  decision support  decision-support  \n",
       "0             0                 0                 0  \n",
       "1             0                 0                 0  \n",
       "2             0                 0                 0  \n",
       "3             0                 0                 0  \n",
       "4             0                 0                 0  \n",
       "...         ...               ...               ...  \n",
       "30337         0                 0                 0  \n",
       "30338         0                 0                 0  \n",
       "30339         0                 0                 0  \n",
       "30340         0                 0                 0  \n",
       "30341         0                 0                 0  \n",
       "\n",
       "[30342 rows x 38 columns]"
      ]
     },
     "execution_count": 14,
     "metadata": {},
     "output_type": "execute_result"
    }
   ],
   "source": [
    "## Get word counts\n",
    "from observatory import query\n",
    "tech_terms = [\"artificial intelligence\", \" ai \", \"machine learning\", \"dashboard\", \"platform\", \n",
    "              \"blockchain\", \"cloud\", \"big data\", \"internet of things\", \"sensors\", \"drones\",\n",
    "             \"environmental DNA\", \"citizen science\", \"camera trap\"] # Spaces in ai to capture its use as in AI rather than e.g. said\n",
    "cons_terms = [\"conservation\", \"nature\"]\n",
    "#grammar = [\"is\", \"will\"] # for phrases\n",
    "topics = [\"forest\", \"mountain\", \"wetland\", \"boreal\", \"ocean\", \"river\", \"arctic\"]\n",
    "ethics = [\"privacy\", \"surveillance\", \"cost\", \"ethics\"]\n",
    "tools = [\"market\", \"decision making\", \"working land\", \"indigenous-led\", \"easement\", \"decision support\", \"decision-support\"]\n",
    "combined_terms = tech_terms + cons_terms + topics + ethics + tools\n",
    "\n",
    "words = query(\"get_words\", combined_terms)\n",
    "words"
   ]
  },
  {
   "cell_type": "code",
   "execution_count": 15,
   "id": "5d97ea18-bd7d-498c-ae2c-b0b094a20e56",
   "metadata": {},
   "outputs": [
    {
     "name": "stderr",
     "output_type": "stream",
     "text": [
      "2022-06-30 11:50:55 [py.warnings] WARNING: /Users/enost/Downloads/observatory_dev_v02.py:1146: SettingWithCopyWarning: \n",
      "A value is trying to be set on a copy of a slice from a DataFrame\n",
      "\n",
      "See the caveats in the documentation: https://pandas.pydata.org/pandas-docs/stable/user_guide/indexing.html#returning-a-view-versus-a-copy\n",
      "  counts['date'].update(counts['date'].str.slice(0,4)) # Get the year\n",
      "\n",
      "2022-06-30 11:50:55 [py.warnings] WARNING: /Users/enost/Downloads/observatory_dev_v02.py:1147: SettingWithCopyWarning: \n",
      "A value is trying to be set on a copy of a slice from a DataFrame\n",
      "\n",
      "See the caveats in the documentation: https://pandas.pydata.org/pandas-docs/stable/user_guide/indexing.html#returning-a-view-versus-a-copy\n",
      "  counts['date'].update(pandas.to_datetime(counts[\"date\"], format=\"%Y\").dt.to_period(\"Y\")) # Convert specific year/weeks to years #counts['date'].dt.to_timestamp('Y').dt.strftime(\"%Y-%m-%dT%H:%M:%S.%fZ\") #\n",
      "\n"
     ]
    },
    {
     "data": {
      "text/plain": [
       "<AxesSubplot:xlabel='date'>"
      ]
     },
     "metadata": {},
     "output_type": "display_data"
    },
    {
     "data": {
      "text/plain": [
       "<AxesSubplot:xlabel='date'>"
      ]
     },
     "metadata": {},
     "output_type": "display_data"
    },
    {
     "data": {
      "text/plain": [
       "<AxesSubplot:xlabel='date'>"
      ]
     },
     "metadata": {},
     "output_type": "display_data"
    },
    {
     "data": {
      "text/plain": [
       "<AxesSubplot:xlabel='date'>"
      ]
     },
     "metadata": {},
     "output_type": "display_data"
    },
    {
     "data": {
      "text/plain": [
       "<AxesSubplot:xlabel='date'>"
      ]
     },
     "metadata": {},
     "output_type": "display_data"
    },
    {
     "data": {
      "image/png": "[encoded data removed]",
      "text/plain": [
       "<Figure size 432x288 with 1 Axes>"
      ]
     },
     "metadata": {
      "needs_background": "light"
     },
     "output_type": "display_data"
    },
    {
     "data": {
      "image/png": "[encoded data removed]",
      "text/plain": [
       "<Figure size 432x288 with 1 Axes>"
      ]
     },
     "metadata": {
      "needs_background": "light"
     },
     "output_type": "display_data"
    },
    {
     "data": {
      "image/png": "[encoded data removed]",
      "text/plain": [
       "<Figure size 432x288 with 1 Axes>"
      ]
     },
     "metadata": {
      "needs_background": "light"
     },
     "output_type": "display_data"
    },
    {
     "data": {
      "image/png": "[encoded data removed]",
      "text/plain": [
       "<Figure size 432x288 with 1 Axes>"
      ]
     },
     "metadata": {
      "needs_background": "light"
     },
     "output_type": "display_data"
    },
    {
     "data": {
      "image/png": "[encoded data removed]",
      "text/plain": [
       "<Figure size 432x288 with 1 Axes>"
      ]
     },
     "metadata": {
      "needs_background": "light"
     },
     "output_type": "display_data"
    }
   ],
   "source": [
    "# Analyze\n",
    "## How has the conversation about AI/ML changed over time? (Twitter frequency/average)\n",
    "from observatory import analyze_twitter\n",
    "avg, freq, total = analyze_twitter(words, terms = [\"environmental DNA\", \"citizen science\", \"camera trap\", \"sensors\", \"drones\"])\n",
    "## Where the term conservation is used\n",
    "#, freq, total = analyze_twitter(words.loc[words['nature']>0], [\"artificial intelligence\", \"machine learning\"])"
   ]
  },
  {
   "cell_type": "code",
   "execution_count": 19,
   "id": "ef17a617-10d9-498c-9680-7a9ce4a61745",
   "metadata": {},
   "outputs": [
    {
     "data": {
      "text/html": [
       "<div>\n",
       "<style scoped>\n",
       "    .dataframe tbody tr th:only-of-type {\n",
       "        vertical-align: middle;\n",
       "    }\n",
       "\n",
       "    .dataframe tbody tr th {\n",
       "        vertical-align: top;\n",
       "    }\n",
       "\n",
       "    .dataframe thead th {\n",
       "        text-align: right;\n",
       "    }\n",
       "</style>\n",
       "<table border=\"1\" class=\"dataframe\">\n",
       "  <thead>\n",
       "    <tr style=\"text-align: right;\">\n",
       "      <th></th>\n",
       "      <th>drones_avg</th>\n",
       "      <th>sensors_avg</th>\n",
       "      <th>citizen science_avg</th>\n",
       "      <th>environmental DNA_avg</th>\n",
       "      <th>camera trap_avg</th>\n",
       "    </tr>\n",
       "  </thead>\n",
       "  <tbody>\n",
       "    <tr>\n",
       "      <th>raresites</th>\n",
       "      <td>0.0</td>\n",
       "      <td>0.75</td>\n",
       "      <td>10.57</td>\n",
       "      <td>0.0</td>\n",
       "      <td>0.0</td>\n",
       "    </tr>\n",
       "    <tr>\n",
       "      <th>davidsuzuki</th>\n",
       "      <td>0.25</td>\n",
       "      <td>0.05</td>\n",
       "      <td>1.58</td>\n",
       "      <td>0.0</td>\n",
       "      <td>0.0</td>\n",
       "    </tr>\n",
       "    <tr>\n",
       "      <th>grandriver</th>\n",
       "      <td>0.0</td>\n",
       "      <td>0.0</td>\n",
       "      <td>0.27</td>\n",
       "      <td>0.0</td>\n",
       "      <td>0.0</td>\n",
       "    </tr>\n",
       "    <tr>\n",
       "      <th>wwf</th>\n",
       "      <td>0.36</td>\n",
       "      <td>0.08</td>\n",
       "      <td>0.47</td>\n",
       "      <td>0.0</td>\n",
       "      <td>0.61</td>\n",
       "    </tr>\n",
       "    <tr>\n",
       "      <th>ecotrust</th>\n",
       "      <td>0.0</td>\n",
       "      <td>0.82</td>\n",
       "      <td>0.0</td>\n",
       "      <td>0.0</td>\n",
       "      <td>0.0</td>\n",
       "    </tr>\n",
       "    <tr>\n",
       "      <th>natureconservancy</th>\n",
       "      <td>0.17</td>\n",
       "      <td>0.09</td>\n",
       "      <td>2.91</td>\n",
       "      <td>0.0</td>\n",
       "      <td>0.57</td>\n",
       "    </tr>\n",
       "  </tbody>\n",
       "</table>\n",
       "</div>"
      ],
      "text/plain": [
       "                  drones_avg sensors_avg citizen science_avg  \\\n",
       "raresites                0.0        0.75               10.57   \n",
       "davidsuzuki             0.25        0.05                1.58   \n",
       "grandriver               0.0         0.0                0.27   \n",
       "wwf                     0.36        0.08                0.47   \n",
       "ecotrust                 0.0        0.82                 0.0   \n",
       "natureconservancy       0.17        0.09                2.91   \n",
       "\n",
       "                  environmental DNA_avg camera trap_avg  \n",
       "raresites                           0.0             0.0  \n",
       "davidsuzuki                         0.0             0.0  \n",
       "grandriver                          0.0             0.0  \n",
       "wwf                                 0.0            0.61  \n",
       "ecotrust                            0.0             0.0  \n",
       "natureconservancy                   0.0            0.57  "
      ]
     },
     "execution_count": 19,
     "metadata": {},
     "output_type": "execute_result"
    }
   ],
   "source": [
    "## Are certain organizations (and organization sizes) more likely to mention AI/ML? (Crawl)\n",
    "from observatory import analyze_orgs\n",
    "avg, freq = analyze_orgs(words, orgs = [\"raresites\", \"davidsuzuki\", \"grandriver\", \"wwf\", \"ecotrust\", \"natureconservancy\"], terms = [\"drones\", \"sensors\", \"citizen science\", \"environmental DNA\", \"camera trap\"])\n",
    "## Are certain organizations more likely to mention ethics terms in conjunction with AI/ML? (Crawl)\n",
    "#avg, freq = analyze_orgs(words.loc[(words[\"sensors\"]>0) | (words[\"drones\"]>0) | (words[\"citizen science\"]>0) | (words[\"camera trap\"]>0)], orgs = [\"raresites\", \"davidsuzuki\", \"grandriver\", \"wwf\", \"ecotrust\", \"natureconservancy\"], terms = [\"privacy\", \"surveillance\"])\n",
    "avg"
   ]
  },
  {
   "cell_type": "code",
   "execution_count": 25,
   "id": "23e49ba2-c66f-43e5-bd17-4ae472281e78",
   "metadata": {},
   "outputs": [
    {
     "name": "stdout",
     "output_type": "stream",
     "text": [
      "sensors camera trap\n",
      "Zeros: 28387, 93%\n",
      "camera trap but not sensors: 698, 2%\n",
      "sensors but not camera trap: 991, 3%\n",
      "Together: 266, 0%\n",
      "\n",
      "\n"
     ]
    },
    {
     "data": {
      "text/html": [
       "<div>\n",
       "<style scoped>\n",
       "    .dataframe tbody tr th:only-of-type {\n",
       "        vertical-align: middle;\n",
       "    }\n",
       "\n",
       "    .dataframe tbody tr th {\n",
       "        vertical-align: top;\n",
       "    }\n",
       "\n",
       "    .dataframe thead th {\n",
       "        text-align: right;\n",
       "    }\n",
       "</style>\n",
       "<table border=\"1\" class=\"dataframe\">\n",
       "  <thead>\n",
       "    <tr style=\"text-align: right;\">\n",
       "      <th></th>\n",
       "      <th>sensors</th>\n",
       "      <th>camera trap</th>\n",
       "    </tr>\n",
       "  </thead>\n",
       "  <tbody>\n",
       "    <tr>\n",
       "      <th>sensors</th>\n",
       "      <td>1.000000</td>\n",
       "      <td>0.258025</td>\n",
       "    </tr>\n",
       "    <tr>\n",
       "      <th>camera trap</th>\n",
       "      <td>0.258025</td>\n",
       "      <td>1.000000</td>\n",
       "    </tr>\n",
       "  </tbody>\n",
       "</table>\n",
       "</div>"
      ],
      "text/plain": [
       "              sensors  camera trap\n",
       "sensors      1.000000     0.258025\n",
       "camera trap  0.258025     1.000000"
      ]
     },
     "metadata": {},
     "output_type": "display_data"
    },
    {
     "data": {
      "text/plain": [
       "<AxesSubplot:xlabel='sensors', ylabel='camera trap'>"
      ]
     },
     "metadata": {},
     "output_type": "display_data"
    },
    {
     "name": "stdout",
     "output_type": "stream",
     "text": [
      "camera trap sensors\n",
      "Zeros: 28387, 93%\n",
      "sensors but not camera trap: 991, 3%\n",
      "camera trap but not sensors: 698, 2%\n",
      "Together: 266, 0%\n",
      "\n",
      "\n"
     ]
    },
    {
     "data": {
      "text/html": [
       "<div>\n",
       "<style scoped>\n",
       "    .dataframe tbody tr th:only-of-type {\n",
       "        vertical-align: middle;\n",
       "    }\n",
       "\n",
       "    .dataframe tbody tr th {\n",
       "        vertical-align: top;\n",
       "    }\n",
       "\n",
       "    .dataframe thead th {\n",
       "        text-align: right;\n",
       "    }\n",
       "</style>\n",
       "<table border=\"1\" class=\"dataframe\">\n",
       "  <thead>\n",
       "    <tr style=\"text-align: right;\">\n",
       "      <th></th>\n",
       "      <th>camera trap</th>\n",
       "      <th>sensors</th>\n",
       "    </tr>\n",
       "  </thead>\n",
       "  <tbody>\n",
       "    <tr>\n",
       "      <th>camera trap</th>\n",
       "      <td>1.000000</td>\n",
       "      <td>0.258025</td>\n",
       "    </tr>\n",
       "    <tr>\n",
       "      <th>sensors</th>\n",
       "      <td>0.258025</td>\n",
       "      <td>1.000000</td>\n",
       "    </tr>\n",
       "  </tbody>\n",
       "</table>\n",
       "</div>"
      ],
      "text/plain": [
       "             camera trap   sensors\n",
       "camera trap     1.000000  0.258025\n",
       "sensors         0.258025  1.000000"
      ]
     },
     "metadata": {},
     "output_type": "display_data"
    },
    {
     "data": {
      "text/plain": [
       "<AxesSubplot:xlabel='camera trap', ylabel='sensors'>"
      ]
     },
     "metadata": {},
     "output_type": "display_data"
    },
    {
     "data": {
      "image/png": "[encoded data removed]",
      "text/plain": [
       "<Figure size 432x288 with 1 Axes>"
      ]
     },
     "metadata": {
      "needs_background": "light"
     },
     "output_type": "display_data"
    },
    {
     "data": {
      "image/png": "[encoded data removed]",
      "text/plain": [
       "<Figure size 432x288 with 1 Axes>"
      ]
     },
     "metadata": {
      "needs_background": "light"
     },
     "output_type": "display_data"
    }
   ],
   "source": [
    "## Are certain topics associated with other (e.g. forest and AI vs mountain and AI?) (Twitter, Google, and Crawl)\n",
    "from observatory import analyze_term_correlations\n",
    "#analyze_term_correlations(words, [\"artificial intelligence\", \"river\", \" ai \"])\n",
    "analyze_term_correlations(words, [\"sensors\", \"camera trap\"])"
   ]
  },
  {
   "cell_type": "code",
   "execution_count": null,
   "id": "91b4dbe0-5dd7-4089-9422-a049046ee26e",
   "metadata": {},
   "outputs": [],
   "source": []
  }
 ],
 "metadata": {
  "kernelspec": {
   "display_name": "Python 3 (ipykernel)",
   "language": "python",
   "name": "python3"
  },
  "language_info": {
   "codemirror_mode": {
    "name": "ipython",
    "version": 3
   },
   "file_extension": ".py",
   "mimetype": "text/x-python",
   "name": "python",
   "nbconvert_exporter": "python",
   "pygments_lexer": "ipython3",
   "version": "3.9.7"
  }
 },
 "nbformat": 4,
 "nbformat_minor": 5
}
